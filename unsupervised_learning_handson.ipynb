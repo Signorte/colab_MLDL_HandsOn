{
  "nbformat": 4,
  "nbformat_minor": 0,
  "metadata": {
    "colab": {
      "name": "第三回機械学習ハンズオン.ipynb のコピー",
      "provenance": [],
      "collapsed_sections": [
        "yw4D20rk6ouf",
        "5Id0G1P17sDh",
        "euu5gxQd702U",
        "nesjIsTV9Ww2",
        "gK5htUJl9PZM",
        "pUzA2vz996TU",
        "gQWmmTQW98mM",
        "04Lp68YS_BKt",
        "0IU9x_MK_BPc",
        "JDgrdXGJ_BTo",
        "EMxc02UQtOIE",
        "waOSbN0_txHz",
        "dVDWBNqLv-B7",
        "Wa3RZx5dwH45",
        "A6qGC8IiwckG",
        "9JSnrmPEw1J6",
        "sIyutrNVGVAa",
        "pFSf5kdgFjFH",
        "yKLm0JmbyYMx"
      ],
      "include_colab_link": true
    },
    "kernelspec": {
      "name": "python3",
      "display_name": "Python 3"
    }
  },
  "cells": [
    {
      "cell_type": "markdown",
      "metadata": {
        "id": "view-in-github",
        "colab_type": "text"
      },
      "source": [
        "<a href=\"https://colab.research.google.com/github/Signorte/colab_MLDL_HandsOn/blob/master/%E7%AC%AC%E4%B8%89%E5%9B%9E%E6%A9%9F%E6%A2%B0%E5%AD%A6%E7%BF%92%E3%83%8F%E3%83%B3%E3%82%BA%E3%82%AA%E3%83%B3.ipynb\" target=\"_parent\"><img src=\"https://colab.research.google.com/assets/colab-badge.svg\" alt=\"Open In Colab\"/></a>"
      ]
    },
    {
      "cell_type": "markdown",
      "metadata": {
        "id": "bPwLYy9xyDXR",
        "colab_type": "text"
      },
      "source": [
        "必要なライブラリの読み込み"
      ]
    },
    {
      "cell_type": "code",
      "metadata": {
        "id": "P6ipnCR9rlab",
        "colab_type": "code",
        "outputId": "5eb94f1b-94bc-4d9e-b769-e3fce825a94a",
        "colab": {
          "base_uri": "https://localhost:8080/",
          "height": 272
        }
      },
      "source": [
        "!pip install eli5"
      ],
      "execution_count": 0,
      "outputs": [
        {
          "output_type": "stream",
          "text": [
            "Collecting eli5\n",
            "\u001b[?25l  Downloading https://files.pythonhosted.org/packages/97/2f/c85c7d8f8548e460829971785347e14e45fa5c6617da374711dec8cb38cc/eli5-0.10.1-py2.py3-none-any.whl (105kB)\n",
            "\r\u001b[K     |███                             | 10kB 16.8MB/s eta 0:00:01\r\u001b[K     |██████▏                         | 20kB 3.3MB/s eta 0:00:01\r\u001b[K     |█████████▎                      | 30kB 4.7MB/s eta 0:00:01\r\u001b[K     |████████████▍                   | 40kB 3.1MB/s eta 0:00:01\r\u001b[K     |███████████████▌                | 51kB 3.8MB/s eta 0:00:01\r\u001b[K     |██████████████████▋             | 61kB 4.5MB/s eta 0:00:01\r\u001b[K     |█████████████████████▊          | 71kB 5.2MB/s eta 0:00:01\r\u001b[K     |████████████████████████▊       | 81kB 5.8MB/s eta 0:00:01\r\u001b[K     |███████████████████████████▉    | 92kB 6.5MB/s eta 0:00:01\r\u001b[K     |███████████████████████████████ | 102kB 5.1MB/s eta 0:00:01\r\u001b[K     |████████████████████████████████| 112kB 5.1MB/s \n",
            "\u001b[?25hRequirement already satisfied: scikit-learn>=0.18 in /usr/local/lib/python3.6/dist-packages (from eli5) (0.21.3)\n",
            "Requirement already satisfied: six in /usr/local/lib/python3.6/dist-packages (from eli5) (1.12.0)\n",
            "Requirement already satisfied: numpy>=1.9.0 in /usr/local/lib/python3.6/dist-packages (from eli5) (1.17.4)\n",
            "Requirement already satisfied: scipy in /usr/local/lib/python3.6/dist-packages (from eli5) (1.3.2)\n",
            "Requirement already satisfied: attrs>16.0.0 in /usr/local/lib/python3.6/dist-packages (from eli5) (19.3.0)\n",
            "Requirement already satisfied: tabulate>=0.7.7 in /usr/local/lib/python3.6/dist-packages (from eli5) (0.8.5)\n",
            "Requirement already satisfied: jinja2 in /usr/local/lib/python3.6/dist-packages (from eli5) (2.10.3)\n",
            "Requirement already satisfied: graphviz in /usr/local/lib/python3.6/dist-packages (from eli5) (0.10.1)\n",
            "Requirement already satisfied: joblib>=0.11 in /usr/local/lib/python3.6/dist-packages (from scikit-learn>=0.18->eli5) (0.14.0)\n",
            "Requirement already satisfied: MarkupSafe>=0.23 in /usr/local/lib/python3.6/dist-packages (from jinja2->eli5) (1.1.1)\n",
            "Installing collected packages: eli5\n",
            "Successfully installed eli5-0.10.1\n"
          ],
          "name": "stdout"
        }
      ]
    },
    {
      "cell_type": "code",
      "metadata": {
        "id": "WDDtUjH0mx_I",
        "colab_type": "code",
        "outputId": "89e9b1c4-1c1c-41e6-bacf-bc3b6fc43146",
        "colab": {
          "base_uri": "https://localhost:8080/",
          "height": 80
        }
      },
      "source": [
        "# コピー\n",
        "import copy\n",
        "\n",
        "# 数理計算\n",
        "import numpy as np\n",
        "from scipy.sparse import csr_matrix\n",
        "\n",
        "# csv読み込み\n",
        "import pandas as pd\n",
        "\n",
        "# 可視化系\n",
        "from matplotlib import pyplot as plt\n",
        "import seaborn as sns\n",
        "plt.style.use(\"fivethirtyeight\")\n",
        "sns.set()\n",
        "\n",
        "# 機械学習モデル\n",
        "from sklearn.linear_model import LogisticRegression\n",
        "from sklearn.tree import DecisionTreeClassifier\n",
        "from sklearn.cluster import KMeans\n",
        "from scipy.cluster.hierarchy import linkage, fcluster, dendrogram\n",
        "\n",
        "# 評価指標計算\n",
        "from sklearn.metrics import precision_recall_fscore_support, confusion_matrix, accuracy_score\n",
        "from sklearn.metrics.pairwise import cosine_similarity\n",
        "\n",
        "# データ分割\n",
        "from sklearn.model_selection import train_test_split\n",
        "\n",
        "# 特徴量の重要度を出す\n",
        "import eli5\n",
        "from eli5.sklearn import PermutationImportance\n",
        "\n",
        "# google driveとの接続\n",
        "from google.colab import drive"
      ],
      "execution_count": 0,
      "outputs": [
        {
          "output_type": "stream",
          "text": [
            "Using TensorFlow backend.\n"
          ],
          "name": "stderr"
        },
        {
          "output_type": "display_data",
          "data": {
            "text/html": [
              "<p style=\"color: red;\">\n",
              "The default version of TensorFlow in Colab will soon switch to TensorFlow 2.x.<br>\n",
              "We recommend you <a href=\"https://www.tensorflow.org/guide/migrate\" target=\"_blank\">upgrade</a> now \n",
              "or ensure your notebook will continue to use TensorFlow 1.x via the <code>%tensorflow_version 1.x</code> magic:\n",
              "<a href=\"https://colab.research.google.com/notebooks/tensorflow_version.ipynb\" target=\"_blank\">more info</a>.</p>\n"
            ],
            "text/plain": [
              "<IPython.core.display.HTML object>"
            ]
          },
          "metadata": {
            "tags": []
          }
        }
      ]
    },
    {
      "cell_type": "markdown",
      "metadata": {
        "id": "Uyoqwo8T7aQO",
        "colab_type": "text"
      },
      "source": [
        "##### 可視化を行う関数を定義"
      ]
    },
    {
      "cell_type": "code",
      "metadata": {
        "id": "pq3IKYFB7ga_",
        "colab_type": "code",
        "colab": {}
      },
      "source": [
        "def plot_decision_regions(model):\n",
        "  h = 0.02\n",
        "  \n",
        "  x_min = city_data[\"Medical\"].min() - 1\n",
        "  x_max = city_data[\"Medical\"].max() + 1\n",
        "  y_min=city_data[\"Culture\"].min() - 1\n",
        "  y_max =city_data[\"Culture\"].max() + 1\n",
        "\n",
        "  xx, yy = np.meshgrid(np.arange(x_min, x_max, h),np.arange(y_min, y_max, h))\n",
        "\n",
        "  Z = model.predict(np.c_[xx.ravel(), yy.ravel()])\n",
        "  Z = Z.reshape(xx.shape)\n",
        "    \n",
        "  plt.contourf(xx, yy, Z, cmap=plt.cm.terrain, alpha=0.5,linewidths=0)\n",
        "  plt.scatter(city_data[\"Medical\"], city_data[\"Culture\"], c=color_data, cmap=plt.cm.Dark2)\n",
        "    \n",
        "  plt.xlim(xx.min(), xx.max())\n",
        "  plt.ylim(yy.min(), yy.max())"
      ],
      "execution_count": 0,
      "outputs": []
    },
    {
      "cell_type": "markdown",
      "metadata": {
        "id": "n8aP-OSbxpQZ",
        "colab_type": "text"
      },
      "source": [
        "# 0. 前回の復習\n",
        "\n",
        "国勢調査のデータのダウンロード"
      ]
    },
    {
      "cell_type": "code",
      "metadata": {
        "id": "gCg8hooqx1zQ",
        "colab_type": "code",
        "outputId": "f11959d4-a753-42d0-ef66-e822f92bfd05",
        "colab": {
          "base_uri": "https://localhost:8080/",
          "height": 340
        }
      },
      "source": [
        "!wget http://news.mynavi.jp/series/Python_ML/005/resources/consumerPrices_tree.csv"
      ],
      "execution_count": 0,
      "outputs": [
        {
          "output_type": "stream",
          "text": [
            "--2019-11-19 06:45:14--  http://news.mynavi.jp/series/Python_ML/005/resources/consumerPrices_tree.csv\n",
            "Resolving news.mynavi.jp (news.mynavi.jp)... 13.224.2.30, 13.224.2.78, 13.224.2.100, ...\n",
            "Connecting to news.mynavi.jp (news.mynavi.jp)|13.224.2.30|:80... connected.\n",
            "HTTP request sent, awaiting response... 301 Moved Permanently\n",
            "Location: https://news.mynavi.jp/series/Python_ML/005/resources/consumerPrices_tree.csv [following]\n",
            "--2019-11-19 06:45:14--  https://news.mynavi.jp/series/Python_ML/005/resources/consumerPrices_tree.csv\n",
            "Connecting to news.mynavi.jp (news.mynavi.jp)|13.224.2.30|:443... connected.\n",
            "HTTP request sent, awaiting response... 301 Moved Permanently\n",
            "Location: https://news.mynavi.jp/article/Python_ML-5/resources/consumerPrices_tree.csv [following]\n",
            "--2019-11-19 06:45:14--  https://news.mynavi.jp/article/Python_ML-5/resources/consumerPrices_tree.csv\n",
            "Reusing existing connection to news.mynavi.jp:443.\n",
            "HTTP request sent, awaiting response... 200 OK\n",
            "Length: 3255 (3.2K) [text/csv]\n",
            "Saving to: ‘consumerPrices_tree.csv.1’\n",
            "\n",
            "\r          consumerP   0%[                    ]       0  --.-KB/s               \rconsumerPrices_tree 100%[===================>]   3.18K  --.-KB/s    in 0s      \n",
            "\n",
            "2019-11-19 06:45:14 (828 MB/s) - ‘consumerPrices_tree.csv.1’ saved [3255/3255]\n",
            "\n"
          ],
          "name": "stdout"
        }
      ]
    },
    {
      "cell_type": "code",
      "metadata": {
        "id": "jkq4FAkax55j",
        "colab_type": "code",
        "outputId": "c2999554-2ef0-4648-cdfe-2e41afdbab79",
        "colab": {
          "base_uri": "https://localhost:8080/",
          "height": 204
        }
      },
      "source": [
        "city_data = pd.read_csv(\"consumerPrices_tree.csv\")  # ダウンロードしたcsvデータを読み込み\n",
        "city_data = city_data[[\"都道府県\", \"保険医療\", \"教養娯楽\", \"大都市圏分類\"]]  # 使用する列だけ抽出\n",
        "city_data.columns = [\"Name\", \"Medical\", \"Culture\", \"BigCity\"]  # 列名を英語に\n",
        "city_data.head()"
      ],
      "execution_count": 0,
      "outputs": [
        {
          "output_type": "execute_result",
          "data": {
            "text/html": [
              "<div>\n",
              "<style scoped>\n",
              "    .dataframe tbody tr th:only-of-type {\n",
              "        vertical-align: middle;\n",
              "    }\n",
              "\n",
              "    .dataframe tbody tr th {\n",
              "        vertical-align: top;\n",
              "    }\n",
              "\n",
              "    .dataframe thead th {\n",
              "        text-align: right;\n",
              "    }\n",
              "</style>\n",
              "<table border=\"1\" class=\"dataframe\">\n",
              "  <thead>\n",
              "    <tr style=\"text-align: right;\">\n",
              "      <th></th>\n",
              "      <th>Name</th>\n",
              "      <th>Medical</th>\n",
              "      <th>Culture</th>\n",
              "      <th>BigCity</th>\n",
              "    </tr>\n",
              "  </thead>\n",
              "  <tbody>\n",
              "    <tr>\n",
              "      <th>0</th>\n",
              "      <td>北 海 道</td>\n",
              "      <td>100.2</td>\n",
              "      <td>97.1</td>\n",
              "      <td>1</td>\n",
              "    </tr>\n",
              "    <tr>\n",
              "      <th>1</th>\n",
              "      <td>青 森 県</td>\n",
              "      <td>101.0</td>\n",
              "      <td>96.4</td>\n",
              "      <td>0</td>\n",
              "    </tr>\n",
              "    <tr>\n",
              "      <th>2</th>\n",
              "      <td>岩 手 県</td>\n",
              "      <td>100.4</td>\n",
              "      <td>99.8</td>\n",
              "      <td>0</td>\n",
              "    </tr>\n",
              "    <tr>\n",
              "      <th>3</th>\n",
              "      <td>宮 城 県</td>\n",
              "      <td>100.9</td>\n",
              "      <td>99.3</td>\n",
              "      <td>1</td>\n",
              "    </tr>\n",
              "    <tr>\n",
              "      <th>4</th>\n",
              "      <td>秋 田 県</td>\n",
              "      <td>98.9</td>\n",
              "      <td>98.0</td>\n",
              "      <td>0</td>\n",
              "    </tr>\n",
              "  </tbody>\n",
              "</table>\n",
              "</div>"
            ],
            "text/plain": [
              "    Name  Medical  Culture  BigCity\n",
              "0  北 海 道    100.2     97.1        1\n",
              "1  青 森 県    101.0     96.4        0\n",
              "2  岩 手 県    100.4     99.8        0\n",
              "3  宮 城 県    100.9     99.3        1\n",
              "4  秋 田 県     98.9     98.0        0"
            ]
          },
          "metadata": {
            "tags": []
          },
          "execution_count": 20
        }
      ]
    },
    {
      "cell_type": "markdown",
      "metadata": {
        "id": "4zk76A-4yw8D",
        "colab_type": "text"
      },
      "source": [
        "##### 問題1\n",
        "\n",
        "ロジスティック回帰でモデルを学習してみましょう  \n",
        "モデルの名前は `lr_model` にして下さい"
      ]
    },
    {
      "cell_type": "code",
      "metadata": {
        "id": "kBoeQO-EzA9O",
        "colab_type": "code",
        "colab": {}
      },
      "source": [
        "X = city_data[[\"Medical\", \"Culture\"]]  # 特徴量\n",
        "y = city_data[\"BigCity\"]  # 正解ラベル(大都市なら1, そうじゃないなら0)"
      ],
      "execution_count": 0,
      "outputs": []
    },
    {
      "cell_type": "code",
      "metadata": {
        "id": "_ghMwVSax58u",
        "colab_type": "code",
        "outputId": "52487eeb-322d-43c2-c8a9-b5fd3e9e16ec",
        "colab": {
          "base_uri": "https://localhost:8080/",
          "height": 136
        }
      },
      "source": [
        "lr_model = LogisticRegression(random_state=0)\n",
        "lr_model.fit(X, y)"
      ],
      "execution_count": 0,
      "outputs": [
        {
          "output_type": "stream",
          "text": [
            "/usr/local/lib/python3.6/dist-packages/sklearn/linear_model/logistic.py:432: FutureWarning: Default solver will be changed to 'lbfgs' in 0.22. Specify a solver to silence this warning.\n",
            "  FutureWarning)\n"
          ],
          "name": "stderr"
        },
        {
          "output_type": "execute_result",
          "data": {
            "text/plain": [
              "LogisticRegression(C=1.0, class_weight=None, dual=False, fit_intercept=True,\n",
              "                   intercept_scaling=1, l1_ratio=None, max_iter=100,\n",
              "                   multi_class='warn', n_jobs=None, penalty='l2',\n",
              "                   random_state=0, solver='warn', tol=0.0001, verbose=0,\n",
              "                   warm_start=False)"
            ]
          },
          "metadata": {
            "tags": []
          },
          "execution_count": 24
        }
      ]
    },
    {
      "cell_type": "markdown",
      "metadata": {
        "id": "yw4D20rk6ouf",
        "colab_type": "text"
      },
      "source": [
        "##### 解答"
      ]
    },
    {
      "cell_type": "code",
      "metadata": {
        "id": "iJraqhi3y8nk",
        "colab_type": "code",
        "outputId": "781dd814-8c52-49cf-a432-c4a5d86ed215",
        "colab": {
          "base_uri": "https://localhost:8080/",
          "height": 136
        }
      },
      "source": [
        "lr_model = LogisticRegression(random_state=0)\n",
        "lr_model.fit(X, y)"
      ],
      "execution_count": 0,
      "outputs": [
        {
          "output_type": "stream",
          "text": [
            "/usr/local/lib/python3.6/dist-packages/sklearn/linear_model/logistic.py:432: FutureWarning: Default solver will be changed to 'lbfgs' in 0.22. Specify a solver to silence this warning.\n",
            "  FutureWarning)\n"
          ],
          "name": "stderr"
        },
        {
          "output_type": "execute_result",
          "data": {
            "text/plain": [
              "LogisticRegression(C=1.0, class_weight=None, dual=False, fit_intercept=True,\n",
              "                   intercept_scaling=1, l1_ratio=None, max_iter=100,\n",
              "                   multi_class='warn', n_jobs=None, penalty='l2',\n",
              "                   random_state=0, solver='warn', tol=0.0001, verbose=0,\n",
              "                   warm_start=False)"
            ]
          },
          "metadata": {
            "tags": []
          },
          "execution_count": 27
        }
      ]
    },
    {
      "cell_type": "markdown",
      "metadata": {
        "id": "T8jXako27NaV",
        "colab_type": "text"
      },
      "source": [
        "##### 問題2\n",
        "ロジステック回帰モデルの特徴境界面を可視化してみましょう"
      ]
    },
    {
      "cell_type": "code",
      "metadata": {
        "id": "XUD2OhEy8Rrv",
        "colab_type": "code",
        "colab": {}
      },
      "source": [
        "color_data = city_data[\"BigCity\"].map({0:\"b\",1:\"r\"})  #  可視化用の色の定義"
      ],
      "execution_count": 0,
      "outputs": []
    },
    {
      "cell_type": "code",
      "metadata": {
        "id": "h1WiNuKF9FXz",
        "colab_type": "code",
        "outputId": "08c7e238-6a7b-4357-eda9-0b2f07db299e",
        "colab": {
          "base_uri": "https://localhost:8080/",
          "height": 318
        }
      },
      "source": [
        "plot_decision_regions(lr_model)"
      ],
      "execution_count": 0,
      "outputs": [
        {
          "output_type": "stream",
          "text": [
            "/usr/local/lib/python3.6/dist-packages/ipykernel_launcher.py:14: UserWarning: linewidths is ignored by contourf\n",
            "  \n"
          ],
          "name": "stderr"
        },
        {
          "output_type": "display_data",
          "data": {
            "image/png": "[encoded data removed]",
            "text/plain": [
              "<Figure size 432x288 with 1 Axes>"
            ]
          },
          "metadata": {
            "tags": []
          }
        }
      ]
    },
    {
      "cell_type": "markdown",
      "metadata": {
        "id": "5Id0G1P17sDh",
        "colab_type": "text"
      },
      "source": [
        "##### ヒント"
      ]
    },
    {
      "cell_type": "code",
      "metadata": {
        "id": "xeMJqwcU7raf",
        "colab_type": "code",
        "colab": {}
      },
      "source": [
        "# 最初に定義した plot_decision_regions 関数が使えます"
      ],
      "execution_count": 0,
      "outputs": []
    },
    {
      "cell_type": "markdown",
      "metadata": {
        "id": "euu5gxQd702U",
        "colab_type": "text"
      },
      "source": [
        "##### 解答"
      ]
    },
    {
      "cell_type": "code",
      "metadata": {
        "id": "kPcvNA_17QxM",
        "colab_type": "code",
        "colab": {}
      },
      "source": [
        "plot_decision_regions(lr_model)"
      ],
      "execution_count": 0,
      "outputs": []
    },
    {
      "cell_type": "markdown",
      "metadata": {
        "id": "iyS06z6o7CLH",
        "colab_type": "text"
      },
      "source": [
        "##### 問題3\n",
        "決定木で同じデータの学習を行い、過学習を起こしてみて下さい  \n",
        "モデルの名前は `tree_model` にして下さい"
      ]
    },
    {
      "cell_type": "code",
      "metadata": {
        "id": "4StWMLvbx5_r",
        "colab_type": "code",
        "outputId": "3a990295-dcfa-4af2-b4a1-a3ee47fb6cb9",
        "colab": {
          "base_uri": "https://localhost:8080/",
          "height": 119
        }
      },
      "source": [
        "tree_model = DecisionTreeClassifier(random_state=0, max_depth=10)\n",
        "tree_model.fit(X, y)"
      ],
      "execution_count": 0,
      "outputs": [
        {
          "output_type": "execute_result",
          "data": {
            "text/plain": [
              "DecisionTreeClassifier(class_weight=None, criterion='gini', max_depth=10,\n",
              "                       max_features=None, max_leaf_nodes=None,\n",
              "                       min_impurity_decrease=0.0, min_impurity_split=None,\n",
              "                       min_samples_leaf=1, min_samples_split=2,\n",
              "                       min_weight_fraction_leaf=0.0, presort=False,\n",
              "                       random_state=0, splitter='best')"
            ]
          },
          "metadata": {
            "tags": []
          },
          "execution_count": 30
        }
      ]
    },
    {
      "cell_type": "markdown",
      "metadata": {
        "id": "nesjIsTV9Ww2",
        "colab_type": "text"
      },
      "source": [
        "##### ヒント"
      ]
    },
    {
      "cell_type": "code",
      "metadata": {
        "id": "_wKCfgQX9W7J",
        "colab_type": "code",
        "colab": {}
      },
      "source": [
        "# max_depth というパラメーターが関わります"
      ],
      "execution_count": 0,
      "outputs": []
    },
    {
      "cell_type": "markdown",
      "metadata": {
        "id": "gK5htUJl9PZM",
        "colab_type": "text"
      },
      "source": [
        "##### 解答"
      ]
    },
    {
      "cell_type": "code",
      "metadata": {
        "id": "kVRAbJoOx6B5",
        "colab_type": "code",
        "colab": {}
      },
      "source": [
        "tree_model = DecisionTreeClassifier(random_state=0, max_depth=10)\n",
        "tree_model.fit(X, y)"
      ],
      "execution_count": 0,
      "outputs": []
    },
    {
      "cell_type": "markdown",
      "metadata": {
        "id": "0Tlq7toR9s4C",
        "colab_type": "text"
      },
      "source": [
        "##### 問題4\n",
        "過学習した決定木モデルの特徴境界面を可視化してみましょう"
      ]
    },
    {
      "cell_type": "code",
      "metadata": {
        "id": "dEr-w1kqx6EO",
        "colab_type": "code",
        "outputId": "e15ba9c7-fe6f-42d5-9523-41d929ea2b40",
        "colab": {
          "base_uri": "https://localhost:8080/",
          "height": 318
        }
      },
      "source": [
        "plot_decision_regions(tree_model)"
      ],
      "execution_count": 0,
      "outputs": [
        {
          "output_type": "stream",
          "text": [
            "/usr/local/lib/python3.6/dist-packages/ipykernel_launcher.py:14: UserWarning: linewidths is ignored by contourf\n",
            "  \n"
          ],
          "name": "stderr"
        },
        {
          "output_type": "display_data",
          "data": {
            "image/png": "[encoded data removed]",
            "text/plain": [
              "<Figure size 432x288 with 1 Axes>"
            ]
          },
          "metadata": {
            "tags": []
          }
        }
      ]
    },
    {
      "cell_type": "markdown",
      "metadata": {
        "id": "pUzA2vz996TU",
        "colab_type": "text"
      },
      "source": [
        "##### ヒント"
      ]
    },
    {
      "cell_type": "code",
      "metadata": {
        "id": "Cqh4u85Vx6Gl",
        "colab_type": "code",
        "colab": {}
      },
      "source": [
        "# 最初に定義した plot_decision_regions 関数が使えます"
      ],
      "execution_count": 0,
      "outputs": []
    },
    {
      "cell_type": "markdown",
      "metadata": {
        "id": "gQWmmTQW98mM",
        "colab_type": "text"
      },
      "source": [
        "##### 解答"
      ]
    },
    {
      "cell_type": "code",
      "metadata": {
        "id": "vrYSvFC7x6I4",
        "colab_type": "code",
        "colab": {}
      },
      "source": [
        "plot_decision_regions(tree_model)"
      ],
      "execution_count": 0,
      "outputs": []
    },
    {
      "cell_type": "markdown",
      "metadata": {
        "id": "rm32KPht-UES",
        "colab_type": "text"
      },
      "source": [
        "##### 問題5\n",
        "\n",
        "過学習と未学習について"
      ]
    },
    {
      "cell_type": "markdown",
      "metadata": {
        "id": "04Lp68YS_BKt",
        "colab_type": "text"
      },
      "source": [
        "###### バイアスが高いときはどちらですか？"
      ]
    },
    {
      "cell_type": "code",
      "metadata": {
        "id": "vs_GH0Ry_fNX",
        "colab_type": "code",
        "colab": {}
      },
      "source": [
        "# 未学習"
      ],
      "execution_count": 0,
      "outputs": []
    },
    {
      "cell_type": "markdown",
      "metadata": {
        "id": "0IU9x_MK_BPc",
        "colab_type": "text"
      },
      "source": [
        "##### 問題の難しさ <<< モデルの複雑さ のときは？"
      ]
    },
    {
      "cell_type": "code",
      "metadata": {
        "id": "9ESCQdoi_ofJ",
        "colab_type": "code",
        "colab": {}
      },
      "source": [
        "# 過学習"
      ],
      "execution_count": 0,
      "outputs": []
    },
    {
      "cell_type": "markdown",
      "metadata": {
        "id": "JDgrdXGJ_BTo",
        "colab_type": "text"
      },
      "source": [
        "##### 学習した結果の境界が緑のときは？\n",
        "![代替テキスト](http://cad18c2657e819f4a2f4-c118f1ab3b113c2c8f3867f2c01792f2.r6.cf1.rackcdn.com/global/imagelib/machine_learning/overfitting.svg.png)"
      ]
    },
    {
      "cell_type": "code",
      "metadata": {
        "id": "8MI4YVA0A8wq",
        "colab_type": "code",
        "colab": {}
      },
      "source": [
        "# 過学習"
      ],
      "execution_count": 0,
      "outputs": []
    },
    {
      "cell_type": "markdown",
      "metadata": {
        "id": "kW5rWpKR5QIH",
        "colab_type": "text"
      },
      "source": [
        "##### ここからタイタニックのデータを使います"
      ]
    },
    {
      "cell_type": "code",
      "metadata": {
        "id": "gH-hRKr05WiY",
        "colab_type": "code",
        "outputId": "85fafc37-32dc-42d7-ef7b-d81bc3d0e04c",
        "colab": {
          "base_uri": "https://localhost:8080/",
          "height": 204
        }
      },
      "source": [
        "!wget https://web.stanford.edu/class/archive/cs/cs109/cs109.1166/stuff/titanic.csv  # データのダウンロード"
      ],
      "execution_count": 0,
      "outputs": [
        {
          "output_type": "stream",
          "text": [
            "--2019-11-19 06:46:41--  https://web.stanford.edu/class/archive/cs/cs109/cs109.1166/stuff/titanic.csv\n",
            "Resolving web.stanford.edu (web.stanford.edu)... 171.67.215.200\n",
            "Connecting to web.stanford.edu (web.stanford.edu)|171.67.215.200|:443... connected.\n",
            "HTTP request sent, awaiting response... 200 OK\n",
            "Length: 44225 (43K) [text/csv]\n",
            "Saving to: ‘titanic.csv’\n",
            "\n",
            "\rtitanic.csv           0%[                    ]       0  --.-KB/s               \rtitanic.csv         100%[===================>]  43.19K  --.-KB/s    in 0.02s   \n",
            "\n",
            "2019-11-19 06:46:41 (2.00 MB/s) - ‘titanic.csv’ saved [44225/44225]\n",
            "\n"
          ],
          "name": "stdout"
        }
      ]
    },
    {
      "cell_type": "code",
      "metadata": {
        "id": "8J0T312o5d-T",
        "colab_type": "code",
        "colab": {}
      },
      "source": [
        "titanic_data = pd.read_csv(\"titanic.csv\")  # データの読み込み\n",
        "titanic_data[\"SexCate\"] = titanic_data[\"Sex\"].map({\"male\": 0, \"female\":1})  # 性別カテゴリの作成\n",
        "\n",
        "train, test = train_test_split(titanic_data, test_size=0.3, random_state=0)  # データの分割\n",
        "\n",
        "use_feature = [\"Pclass\", \"Age\", \"Siblings/Spouses Aboard\", \"Parents/Children Aboard\", \"Fare\", \"SexCate\"]\n",
        "\n",
        "x_train = train[use_feature]\n",
        "x_test = test[use_feature]\n",
        "y_train = train[\"Survived\"]\n",
        "y_test = test[\"Survived\"]"
      ],
      "execution_count": 0,
      "outputs": []
    },
    {
      "cell_type": "markdown",
      "metadata": {
        "id": "e6XWcTiH_BXN",
        "colab_type": "text"
      },
      "source": [
        "##### 問題6\n",
        "\n",
        "学習データ、テストデータを引数に取るとロジスティック回帰の学習を行い精度を表示する関数 `train_and_test` を作って下さい"
      ]
    },
    {
      "cell_type": "code",
      "metadata": {
        "id": "oz0HyDRttMcm",
        "colab_type": "code",
        "colab": {}
      },
      "source": [
        "def train_and_test(x_train, y_train, x_test, y_test):\n",
        "  model = LogisticRegression(random_state=0)\n",
        "  model.fit(x_train, y_train)\n",
        "  pred_train = model.predict(x_train)\n",
        "  pred_test = model.predict(x_test)\n",
        "  acc_train = accuracy_score(y_train, pred_train)\n",
        "  acc_test = accuracy_score(y_test, pred_test)\n",
        "  print(f\"train: {acc_train} / test: {acc_test}\")"
      ],
      "execution_count": 0,
      "outputs": []
    },
    {
      "cell_type": "markdown",
      "metadata": {
        "id": "EMxc02UQtOIE",
        "colab_type": "text"
      },
      "source": [
        "##### 解答"
      ]
    },
    {
      "cell_type": "code",
      "metadata": {
        "id": "UoNgEbMAtP9a",
        "colab_type": "code",
        "colab": {}
      },
      "source": [
        "def train_and_test(x_train, y_train, x_test, y_test):\n",
        "    model = LogisticRegression(random_state=0)\n",
        "    model.fit(x_train, y_train)\n",
        "    pred_train = model.predict(x_train)\n",
        "    pred_test = model.predict(x_test)\n",
        "    acc_train = accuracy_score(y_train, pred_train)\n",
        "    acc_test = accuracy_score(y_test, pred_test)\n",
        "    print(f\"train: {acc_train} / test: {acc_test}\")"
      ],
      "execution_count": 0,
      "outputs": []
    },
    {
      "cell_type": "markdown",
      "metadata": {
        "id": "Git18Xtn_BhL",
        "colab_type": "text"
      },
      "source": [
        "##### 問題7\n",
        "特徴量を追加して、追加する前との精度の変化を見てみましょう"
      ]
    },
    {
      "cell_type": "code",
      "metadata": {
        "id": "yR5d7EtYtiBd",
        "colab_type": "code",
        "colab": {}
      },
      "source": [
        "x_train_2 = copy.deepcopy(x_train)\n",
        "x_test_2 = copy.deepcopy(x_test)"
      ],
      "execution_count": 0,
      "outputs": []
    },
    {
      "cell_type": "code",
      "metadata": {
        "id": "u1HMRJ8bttCw",
        "colab_type": "code",
        "outputId": "7fe256dc-a83c-434a-c6d8-6ad0d8c9cb9b",
        "colab": {
          "base_uri": "https://localhost:8080/",
          "height": 119
        }
      },
      "source": [
        "x_train_2[\"isChild\"] = (x_train['Age'] < 10).astype(int)\n",
        "x_test_2[\"isChild\"] = (x_test['Age'] < 10).astype(int)\n",
        "\n",
        "train_and_test(x_train, y_train, x_test, y_test)\n",
        "train_and_test(x_train_2, y_train, x_test_2, y_test)"
      ],
      "execution_count": 0,
      "outputs": [
        {
          "output_type": "stream",
          "text": [
            "train: 0.8032258064516129 / test: 0.797752808988764\n",
            "train: 0.8145161290322581 / test: 0.8127340823970037\n"
          ],
          "name": "stdout"
        },
        {
          "output_type": "stream",
          "text": [
            "/usr/local/lib/python3.6/dist-packages/sklearn/linear_model/logistic.py:432: FutureWarning: Default solver will be changed to 'lbfgs' in 0.22. Specify a solver to silence this warning.\n",
            "  FutureWarning)\n",
            "/usr/local/lib/python3.6/dist-packages/sklearn/linear_model/logistic.py:432: FutureWarning: Default solver will be changed to 'lbfgs' in 0.22. Specify a solver to silence this warning.\n",
            "  FutureWarning)\n"
          ],
          "name": "stderr"
        }
      ]
    },
    {
      "cell_type": "markdown",
      "metadata": {
        "id": "waOSbN0_txHz",
        "colab_type": "text"
      },
      "source": [
        "##### 解答"
      ]
    },
    {
      "cell_type": "markdown",
      "metadata": {
        "id": "QOtEfjF1Fb1_",
        "colab_type": "text"
      },
      "source": [
        "一例です  \n",
        "10歳未満か否かの`isChild`を追加"
      ]
    },
    {
      "cell_type": "code",
      "metadata": {
        "id": "21B2RNdsttF8",
        "colab_type": "code",
        "colab": {}
      },
      "source": [
        "x_train_2[\"isChild\"] = (x_train['Age'] < 10).astype(int)\n",
        "x_test_2[\"isChild\"] = (x_test['Age'] < 10).astype(int)\n",
        "\n",
        "train_and_test(x_train, y_train, x_test, y_test)\n",
        "train_and_test(x_train_2, y_train, x_test_2, y_test)"
      ],
      "execution_count": 0,
      "outputs": []
    },
    {
      "cell_type": "markdown",
      "metadata": {
        "id": "UetTvt1su9pE",
        "colab_type": "text"
      },
      "source": [
        "##### 問題8\n",
        "追加した特徴量の寄与度を可視化してみましょう"
      ]
    },
    {
      "cell_type": "code",
      "metadata": {
        "id": "wU4tbxx5u83v",
        "colab_type": "code",
        "outputId": "f263eccc-45ec-4d76-f38d-679f580234b8",
        "colab": {
          "base_uri": "https://localhost:8080/",
          "height": 136
        }
      },
      "source": [
        "# モデルの作成\n",
        "lr_model = LogisticRegression(random_state=0)\n",
        "lr_model.fit(x_train_2, y_train)"
      ],
      "execution_count": 0,
      "outputs": [
        {
          "output_type": "stream",
          "text": [
            "/usr/local/lib/python3.6/dist-packages/sklearn/linear_model/logistic.py:432: FutureWarning: Default solver will be changed to 'lbfgs' in 0.22. Specify a solver to silence this warning.\n",
            "  FutureWarning)\n"
          ],
          "name": "stderr"
        },
        {
          "output_type": "execute_result",
          "data": {
            "text/plain": [
              "LogisticRegression(C=1.0, class_weight=None, dual=False, fit_intercept=True,\n",
              "                   intercept_scaling=1, l1_ratio=None, max_iter=100,\n",
              "                   multi_class='warn', n_jobs=None, penalty='l2',\n",
              "                   random_state=0, solver='warn', tol=0.0001, verbose=0,\n",
              "                   warm_start=False)"
            ]
          },
          "metadata": {
            "tags": []
          },
          "execution_count": 41
        }
      ]
    },
    {
      "cell_type": "code",
      "metadata": {
        "id": "8hld5GHiu6tk",
        "colab_type": "code",
        "outputId": "fcc7db20-f484-46aa-f440-fa6a1b60da6d",
        "colab": {
          "base_uri": "https://localhost:8080/",
          "height": 153
        }
      },
      "source": [
        "perm = PermutationImportance(lr_model).fit(x_test_2, y_test)\n",
        "\n",
        "eli5.show_weights(perm, feature_names=x_test_2.columns.tolist())  # 可視化を行う関数"
      ],
      "execution_count": 0,
      "outputs": [
        {
          "output_type": "execute_result",
          "data": {
            "text/html": [
              "\n",
              "    <style>\n",
              "    table.eli5-weights tr:hover {\n",
              "        filter: brightness(85%);\n",
              "    }\n",
              "</style>\n",
              "\n",
              "\n",
              "\n",
              "    \n",
              "\n",
              "    \n",
              "\n",
              "    \n",
              "\n",
              "    \n",
              "\n",
              "    \n",
              "\n",
              "    \n",
              "\n",
              "\n",
              "    \n",
              "\n",
              "    \n",
              "\n",
              "    \n",
              "\n",
              "    \n",
              "\n",
              "    \n",
              "\n",
              "    \n",
              "\n",
              "\n",
              "    \n",
              "\n",
              "    \n",
              "\n",
              "    \n",
              "\n",
              "    \n",
              "\n",
              "    \n",
              "        <table class=\"eli5-weights eli5-feature-importances\" style=\"border-collapse: collapse; border: none; margin-top: 0em; table-layout: auto;\">\n",
              "    <thead>\n",
              "    <tr style=\"border: none;\">\n",
              "        <th style=\"padding: 0 1em 0 0.5em; text-align: right; border: none;\">Weight</th>\n",
              "        <th style=\"padding: 0 0.5em 0 0.5em; text-align: left; border: none;\">Feature</th>\n",
              "    </tr>\n",
              "    </thead>\n",
              "    <tbody>\n",
              "    \n",
              "        <tr style=\"background-color: hsl(120, 100.00%, 80.00%); border: none;\">\n",
              "            <td style=\"padding: 0 1em 0 0.5em; text-align: right; border: none;\">\n",
              "                0.2449\n",
              "                \n",
              "                    &plusmn; 0.0568\n",
              "                \n",
              "            </td>\n",
              "            <td style=\"padding: 0 0.5em 0 0.5em; text-align: left; border: none;\">\n",
              "                SexCate\n",
              "            </td>\n",
              "        </tr>\n",
              "    \n",
              "        <tr style=\"background-color: hsl(120, 100.00%, 93.68%); border: none;\">\n",
              "            <td style=\"padding: 0 1em 0 0.5em; text-align: right; border: none;\">\n",
              "                0.0472\n",
              "                \n",
              "                    &plusmn; 0.0122\n",
              "                \n",
              "            </td>\n",
              "            <td style=\"padding: 0 0.5em 0 0.5em; text-align: left; border: none;\">\n",
              "                Pclass\n",
              "            </td>\n",
              "        </tr>\n",
              "    \n",
              "        <tr style=\"background-color: hsl(120, 100.00%, 95.25%); border: none;\">\n",
              "            <td style=\"padding: 0 1em 0 0.5em; text-align: right; border: none;\">\n",
              "                0.0315\n",
              "                \n",
              "                    &plusmn; 0.0302\n",
              "                \n",
              "            </td>\n",
              "            <td style=\"padding: 0 0.5em 0 0.5em; text-align: left; border: none;\">\n",
              "                Age\n",
              "            </td>\n",
              "        </tr>\n",
              "    \n",
              "        <tr style=\"background-color: hsl(120, 100.00%, 96.51%); border: none;\">\n",
              "            <td style=\"padding: 0 1em 0 0.5em; text-align: right; border: none;\">\n",
              "                0.0202\n",
              "                \n",
              "                    &plusmn; 0.0168\n",
              "                \n",
              "            </td>\n",
              "            <td style=\"padding: 0 0.5em 0 0.5em; text-align: left; border: none;\">\n",
              "                Siblings/Spouses Aboard\n",
              "            </td>\n",
              "        </tr>\n",
              "    \n",
              "        <tr style=\"background-color: hsl(120, 100.00%, 97.69%); border: none;\">\n",
              "            <td style=\"padding: 0 1em 0 0.5em; text-align: right; border: none;\">\n",
              "                0.0112\n",
              "                \n",
              "                    &plusmn; 0.0095\n",
              "                \n",
              "            </td>\n",
              "            <td style=\"padding: 0 0.5em 0 0.5em; text-align: left; border: none;\">\n",
              "                Parents/Children Aboard\n",
              "            </td>\n",
              "        </tr>\n",
              "    \n",
              "        <tr style=\"background-color: hsl(120, 100.00%, 97.91%); border: none;\">\n",
              "            <td style=\"padding: 0 1em 0 0.5em; text-align: right; border: none;\">\n",
              "                0.0097\n",
              "                \n",
              "                    &plusmn; 0.0060\n",
              "                \n",
              "            </td>\n",
              "            <td style=\"padding: 0 0.5em 0 0.5em; text-align: left; border: none;\">\n",
              "                Fare\n",
              "            </td>\n",
              "        </tr>\n",
              "    \n",
              "        <tr style=\"background-color: hsl(120, 100.00%, 97.91%); border: none;\">\n",
              "            <td style=\"padding: 0 1em 0 0.5em; text-align: right; border: none;\">\n",
              "                0.0097\n",
              "                \n",
              "                    &plusmn; 0.0154\n",
              "                \n",
              "            </td>\n",
              "            <td style=\"padding: 0 0.5em 0 0.5em; text-align: left; border: none;\">\n",
              "                isChild\n",
              "            </td>\n",
              "        </tr>\n",
              "    \n",
              "    \n",
              "    </tbody>\n",
              "</table>\n",
              "    \n",
              "\n",
              "    \n",
              "\n",
              "\n",
              "    \n",
              "\n",
              "    \n",
              "\n",
              "    \n",
              "\n",
              "    \n",
              "\n",
              "    \n",
              "\n",
              "    \n",
              "\n",
              "\n",
              "\n"
            ],
            "text/plain": [
              "<IPython.core.display.HTML object>"
            ]
          },
          "metadata": {
            "tags": []
          },
          "execution_count": 42
        }
      ]
    },
    {
      "cell_type": "markdown",
      "metadata": {
        "id": "dVDWBNqLv-B7",
        "colab_type": "text"
      },
      "source": [
        "##### ヒント"
      ]
    },
    {
      "cell_type": "code",
      "metadata": {
        "id": "yFBkUkIAv_4Z",
        "colab_type": "code",
        "colab": {}
      },
      "source": [
        "# PermutationImportance を使います"
      ],
      "execution_count": 0,
      "outputs": []
    },
    {
      "cell_type": "markdown",
      "metadata": {
        "id": "Wa3RZx5dwH45",
        "colab_type": "text"
      },
      "source": [
        "##### 解答"
      ]
    },
    {
      "cell_type": "code",
      "metadata": {
        "id": "1GUOEEuoviKZ",
        "colab_type": "code",
        "colab": {}
      },
      "source": [
        "perm = PermutationImportance(lr_model).fit(x_test_2, y_test)\n",
        "\n",
        "eli5.show_weights(perm, feature_names=x_test_2.columns.tolist())"
      ],
      "execution_count": 0,
      "outputs": []
    },
    {
      "cell_type": "markdown",
      "metadata": {
        "id": "ATGrSuG_wrk5",
        "colab_type": "text"
      },
      "source": [
        "##### 下記のような混同行列があります\n",
        "\n",
        "||Negative(予測)|Positive(予測)|\n",
        "|:--|:--:|:--:|\n",
        "|Negative(正解)|12|7|\n",
        "|Positive(正解)|4|53|"
      ]
    },
    {
      "cell_type": "markdown",
      "metadata": {
        "id": "A6qGC8IiwckG",
        "colab_type": "text"
      },
      "source": [
        "##### 問題9\n",
        "PositiveのPrecisionはいくらですか？\n"
      ]
    },
    {
      "cell_type": "code",
      "metadata": {
        "id": "9zDoV7uzwxyq",
        "colab_type": "code",
        "colab": {}
      },
      "source": [
        "# Precisionは TP / (TP + FP)\n",
        "# ここのだと 53 / (53 + 7)\n",
        "# 約0.883"
      ],
      "execution_count": 0,
      "outputs": []
    },
    {
      "cell_type": "markdown",
      "metadata": {
        "id": "9JSnrmPEw1J6",
        "colab_type": "text"
      },
      "source": [
        "##### 問題10\n",
        "PositiveのRecallはいくらですか？"
      ]
    },
    {
      "cell_type": "code",
      "metadata": {
        "id": "so3kixF7w0Sn",
        "colab_type": "code",
        "colab": {}
      },
      "source": [
        "# Recallは TP / (TP + FN)\n",
        "# ここだと 53 / (53 + 4)\n",
        "# 約0.93"
      ],
      "execution_count": 0,
      "outputs": []
    },
    {
      "cell_type": "markdown",
      "metadata": {
        "id": "k40vCfufwyFB",
        "colab_type": "text"
      },
      "source": [
        "# 1. 教師なし学習"
      ]
    },
    {
      "cell_type": "markdown",
      "metadata": {
        "id": "rJfZIRYkWqdO",
        "colab_type": "text"
      },
      "source": [
        "今回使用するデータ  \n",
        "https://www.kaggle.com/CooperUnion/anime-recommendations-database\n",
        "\n",
        "Kaggleのアニメお勧めデータベース"
      ]
    },
    {
      "cell_type": "markdown",
      "metadata": {
        "id": "C7t0zXlGzHZJ",
        "colab_type": "text"
      },
      "source": [
        "Google Driveをマウントする"
      ]
    },
    {
      "cell_type": "code",
      "metadata": {
        "id": "tGNzQmaum06W",
        "colab_type": "code",
        "outputId": "92cf0ae3-8bb8-423d-86f3-54fb8f8c0a86",
        "colab": {
          "base_uri": "https://localhost:8080/",
          "height": 122
        }
      },
      "source": [
        "drive.mount('/content/drive')"
      ],
      "execution_count": 0,
      "outputs": [
        {
          "output_type": "stream",
          "text": [
            "Go to this URL in a browser: https://accounts.google.com/o/oauth2/auth?client_id=947318989803-6bn6qk8qdgf4n4g3pfee6491hc0brc4i.apps.googleusercontent.com&redirect_uri=urn%3aietf%3awg%3aoauth%3a2.0%3aoob&response_type=code&scope=email%20https%3a%2f%2fwww.googleapis.com%2fauth%2fdocs.test%20https%3a%2f%2fwww.googleapis.com%2fauth%2fdrive%20https%3a%2f%2fwww.googleapis.com%2fauth%2fdrive.photos.readonly%20https%3a%2f%2fwww.googleapis.com%2fauth%2fpeopleapi.readonly\n",
            "\n",
            "Enter your authorization code:\n",
            "··········\n",
            "Mounted at /content/drive\n"
          ],
          "name": "stdout"
        }
      ]
    },
    {
      "cell_type": "code",
      "metadata": {
        "id": "vEqWLYqum3bL",
        "colab_type": "code",
        "outputId": "1ff7f373-d73f-4b95-f802-06e3059603ab",
        "colab": {
          "base_uri": "https://localhost:8080/",
          "height": 34
        }
      },
      "source": [
        "# マウントしたドライブの確認\n",
        "!ls '/content/drive'"
      ],
      "execution_count": 0,
      "outputs": [
        {
          "output_type": "stream",
          "text": [
            "'My Drive'  'Shared drives'\n"
          ],
          "name": "stdout"
        }
      ]
    },
    {
      "cell_type": "code",
      "metadata": {
        "id": "GHgebALnnvib",
        "colab_type": "code",
        "outputId": "ca16b8a5-8352-431e-a6d3-d47ba984f61f",
        "colab": {
          "base_uri": "https://localhost:8080/",
          "height": 34
        }
      },
      "source": [
        "!ls '/content/drive/My Drive/ai_hans_on/hans_on_3'"
      ],
      "execution_count": 0,
      "outputs": [
        {
          "output_type": "stream",
          "text": [
            "anime.csv  rating.csv\n"
          ],
          "name": "stdout"
        }
      ]
    },
    {
      "cell_type": "markdown",
      "metadata": {
        "id": "k8JNVM9TDKTv",
        "colab_type": "text"
      },
      "source": [
        "読み込んでデータを眺めてみる"
      ]
    },
    {
      "cell_type": "code",
      "metadata": {
        "id": "pHqwd7fcn0h7",
        "colab_type": "code",
        "outputId": "1301d313-8ef9-4da7-cf07-6bd592183a63",
        "colab": {
          "base_uri": "https://localhost:8080/",
          "height": 221
        }
      },
      "source": [
        "anime = pd.read_csv(\"/content/drive/My Drive/ai_hans_on/hans_on_3/anime.csv\")\n",
        "print(anime.shape)\n",
        "anime.head()"
      ],
      "execution_count": 0,
      "outputs": [
        {
          "output_type": "stream",
          "text": [
            "(12294, 7)\n"
          ],
          "name": "stdout"
        },
        {
          "output_type": "execute_result",
          "data": {
            "text/html": [
              "<div>\n",
              "<style scoped>\n",
              "    .dataframe tbody tr th:only-of-type {\n",
              "        vertical-align: middle;\n",
              "    }\n",
              "\n",
              "    .dataframe tbody tr th {\n",
              "        vertical-align: top;\n",
              "    }\n",
              "\n",
              "    .dataframe thead th {\n",
              "        text-align: right;\n",
              "    }\n",
              "</style>\n",
              "<table border=\"1\" class=\"dataframe\">\n",
              "  <thead>\n",
              "    <tr style=\"text-align: right;\">\n",
              "      <th></th>\n",
              "      <th>anime_id</th>\n",
              "      <th>name</th>\n",
              "      <th>genre</th>\n",
              "      <th>type</th>\n",
              "      <th>episodes</th>\n",
              "      <th>rating</th>\n",
              "      <th>members</th>\n",
              "    </tr>\n",
              "  </thead>\n",
              "  <tbody>\n",
              "    <tr>\n",
              "      <th>0</th>\n",
              "      <td>32281</td>\n",
              "      <td>Kimi no Na wa.</td>\n",
              "      <td>Drama, Romance, School, Supernatural</td>\n",
              "      <td>Movie</td>\n",
              "      <td>1</td>\n",
              "      <td>9.37</td>\n",
              "      <td>200630</td>\n",
              "    </tr>\n",
              "    <tr>\n",
              "      <th>1</th>\n",
              "      <td>5114</td>\n",
              "      <td>Fullmetal Alchemist: Brotherhood</td>\n",
              "      <td>Action, Adventure, Drama, Fantasy, Magic, Mili...</td>\n",
              "      <td>TV</td>\n",
              "      <td>64</td>\n",
              "      <td>9.26</td>\n",
              "      <td>793665</td>\n",
              "    </tr>\n",
              "    <tr>\n",
              "      <th>2</th>\n",
              "      <td>28977</td>\n",
              "      <td>Gintama°</td>\n",
              "      <td>Action, Comedy, Historical, Parody, Samurai, S...</td>\n",
              "      <td>TV</td>\n",
              "      <td>51</td>\n",
              "      <td>9.25</td>\n",
              "      <td>114262</td>\n",
              "    </tr>\n",
              "    <tr>\n",
              "      <th>3</th>\n",
              "      <td>9253</td>\n",
              "      <td>Steins;Gate</td>\n",
              "      <td>Sci-Fi, Thriller</td>\n",
              "      <td>TV</td>\n",
              "      <td>24</td>\n",
              "      <td>9.17</td>\n",
              "      <td>673572</td>\n",
              "    </tr>\n",
              "    <tr>\n",
              "      <th>4</th>\n",
              "      <td>9969</td>\n",
              "      <td>Gintama&amp;#039;</td>\n",
              "      <td>Action, Comedy, Historical, Parody, Samurai, S...</td>\n",
              "      <td>TV</td>\n",
              "      <td>51</td>\n",
              "      <td>9.16</td>\n",
              "      <td>151266</td>\n",
              "    </tr>\n",
              "  </tbody>\n",
              "</table>\n",
              "</div>"
            ],
            "text/plain": [
              "   anime_id                              name  ... rating members\n",
              "0     32281                    Kimi no Na wa.  ...   9.37  200630\n",
              "1      5114  Fullmetal Alchemist: Brotherhood  ...   9.26  793665\n",
              "2     28977                          Gintama°  ...   9.25  114262\n",
              "3      9253                       Steins;Gate  ...   9.17  673572\n",
              "4      9969                     Gintama&#039;  ...   9.16  151266\n",
              "\n",
              "[5 rows x 7 columns]"
            ]
          },
          "metadata": {
            "tags": []
          },
          "execution_count": 47
        }
      ]
    },
    {
      "cell_type": "code",
      "metadata": {
        "id": "G_pgcA0woFKa",
        "colab_type": "code",
        "outputId": "26d22152-1f64-4899-af01-67919435b02e",
        "colab": {
          "base_uri": "https://localhost:8080/",
          "height": 376
        }
      },
      "source": [
        "rating = pd.read_csv(\"/content/drive/My Drive/ai_hans_on/hans_on_3/rating.csv\")\n",
        "print(rating.shape)\n",
        "rating.head(10)"
      ],
      "execution_count": 0,
      "outputs": [
        {
          "output_type": "stream",
          "text": [
            "(7813737, 3)\n"
          ],
          "name": "stdout"
        },
        {
          "output_type": "execute_result",
          "data": {
            "text/html": [
              "<div>\n",
              "<style scoped>\n",
              "    .dataframe tbody tr th:only-of-type {\n",
              "        vertical-align: middle;\n",
              "    }\n",
              "\n",
              "    .dataframe tbody tr th {\n",
              "        vertical-align: top;\n",
              "    }\n",
              "\n",
              "    .dataframe thead th {\n",
              "        text-align: right;\n",
              "    }\n",
              "</style>\n",
              "<table border=\"1\" class=\"dataframe\">\n",
              "  <thead>\n",
              "    <tr style=\"text-align: right;\">\n",
              "      <th></th>\n",
              "      <th>user_id</th>\n",
              "      <th>anime_id</th>\n",
              "      <th>rating</th>\n",
              "    </tr>\n",
              "  </thead>\n",
              "  <tbody>\n",
              "    <tr>\n",
              "      <th>0</th>\n",
              "      <td>1</td>\n",
              "      <td>20</td>\n",
              "      <td>-1</td>\n",
              "    </tr>\n",
              "    <tr>\n",
              "      <th>1</th>\n",
              "      <td>1</td>\n",
              "      <td>24</td>\n",
              "      <td>-1</td>\n",
              "    </tr>\n",
              "    <tr>\n",
              "      <th>2</th>\n",
              "      <td>1</td>\n",
              "      <td>79</td>\n",
              "      <td>-1</td>\n",
              "    </tr>\n",
              "    <tr>\n",
              "      <th>3</th>\n",
              "      <td>1</td>\n",
              "      <td>226</td>\n",
              "      <td>-1</td>\n",
              "    </tr>\n",
              "    <tr>\n",
              "      <th>4</th>\n",
              "      <td>1</td>\n",
              "      <td>241</td>\n",
              "      <td>-1</td>\n",
              "    </tr>\n",
              "    <tr>\n",
              "      <th>5</th>\n",
              "      <td>1</td>\n",
              "      <td>355</td>\n",
              "      <td>-1</td>\n",
              "    </tr>\n",
              "    <tr>\n",
              "      <th>6</th>\n",
              "      <td>1</td>\n",
              "      <td>356</td>\n",
              "      <td>-1</td>\n",
              "    </tr>\n",
              "    <tr>\n",
              "      <th>7</th>\n",
              "      <td>1</td>\n",
              "      <td>442</td>\n",
              "      <td>-1</td>\n",
              "    </tr>\n",
              "    <tr>\n",
              "      <th>8</th>\n",
              "      <td>1</td>\n",
              "      <td>487</td>\n",
              "      <td>-1</td>\n",
              "    </tr>\n",
              "    <tr>\n",
              "      <th>9</th>\n",
              "      <td>1</td>\n",
              "      <td>846</td>\n",
              "      <td>-1</td>\n",
              "    </tr>\n",
              "  </tbody>\n",
              "</table>\n",
              "</div>"
            ],
            "text/plain": [
              "   user_id  anime_id  rating\n",
              "0        1        20      -1\n",
              "1        1        24      -1\n",
              "2        1        79      -1\n",
              "3        1       226      -1\n",
              "4        1       241      -1\n",
              "5        1       355      -1\n",
              "6        1       356      -1\n",
              "7        1       442      -1\n",
              "8        1       487      -1\n",
              "9        1       846      -1"
            ]
          },
          "metadata": {
            "tags": []
          },
          "execution_count": 56
        }
      ]
    },
    {
      "cell_type": "markdown",
      "metadata": {
        "id": "TlgQgNlLDSpy",
        "colab_type": "text"
      },
      "source": [
        "欠損値の確認"
      ]
    },
    {
      "cell_type": "code",
      "metadata": {
        "id": "MgFaATx0oJ-l",
        "colab_type": "code",
        "outputId": "6f637ccf-61fe-4e69-cc51-3b56874335af",
        "colab": {
          "base_uri": "https://localhost:8080/",
          "height": 153
        }
      },
      "source": [
        "anime.isnull().sum(0)"
      ],
      "execution_count": 0,
      "outputs": [
        {
          "output_type": "execute_result",
          "data": {
            "text/plain": [
              "anime_id      0\n",
              "name          0\n",
              "genre        62\n",
              "type         25\n",
              "episodes      0\n",
              "rating      230\n",
              "members       0\n",
              "dtype: int64"
            ]
          },
          "metadata": {
            "tags": []
          },
          "execution_count": 49
        }
      ]
    },
    {
      "cell_type": "code",
      "metadata": {
        "id": "OKlshHe-Dbo9",
        "colab_type": "code",
        "outputId": "3a6aed4d-7864-4deb-b0fa-af4f6d84aaae",
        "colab": {
          "base_uri": "https://localhost:8080/",
          "height": 85
        }
      },
      "source": [
        "rating.isnull().sum(0)"
      ],
      "execution_count": 0,
      "outputs": [
        {
          "output_type": "execute_result",
          "data": {
            "text/plain": [
              "user_id     0\n",
              "anime_id    0\n",
              "rating      0\n",
              "dtype: int64"
            ]
          },
          "metadata": {
            "tags": []
          },
          "execution_count": 50
        }
      ]
    },
    {
      "cell_type": "markdown",
      "metadata": {
        "id": "VXKOIUiTDjUa",
        "colab_type": "text"
      },
      "source": [
        "欠損値の補完"
      ]
    },
    {
      "cell_type": "code",
      "metadata": {
        "id": "MBLjdef2sbBu",
        "colab_type": "code",
        "colab": {}
      },
      "source": [
        "anime2 = anime.dropna()"
      ],
      "execution_count": 0,
      "outputs": []
    },
    {
      "cell_type": "code",
      "metadata": {
        "id": "z4YtA7PGDmkr",
        "colab_type": "code",
        "outputId": "439729ea-d171-442b-e4ce-3f35819f7b85",
        "colab": {
          "base_uri": "https://localhost:8080/",
          "height": 153
        }
      },
      "source": [
        "anime2.isnull().sum(0)  # 再度確認"
      ],
      "execution_count": 0,
      "outputs": [
        {
          "output_type": "execute_result",
          "data": {
            "text/plain": [
              "anime_id    0\n",
              "name        0\n",
              "genre       0\n",
              "type        0\n",
              "episodes    0\n",
              "rating      0\n",
              "members     0\n",
              "dtype: int64"
            ]
          },
          "metadata": {
            "tags": []
          },
          "execution_count": 58
        }
      ]
    },
    {
      "cell_type": "markdown",
      "metadata": {
        "id": "yEHV0wAFDqZH",
        "colab_type": "text"
      },
      "source": [
        "データ数の確認"
      ]
    },
    {
      "cell_type": "code",
      "metadata": {
        "id": "goUG746rsmwf",
        "colab_type": "code",
        "outputId": "ffa5edf4-dac5-4a08-aaf7-b69b04cb9ed7",
        "colab": {
          "base_uri": "https://localhost:8080/",
          "height": 34
        }
      },
      "source": [
        "anime.shape, anime2.shape"
      ],
      "execution_count": 0,
      "outputs": [
        {
          "output_type": "execute_result",
          "data": {
            "text/plain": [
              "((12294, 7), (12017, 7))"
            ]
          },
          "metadata": {
            "tags": []
          },
          "execution_count": 59
        }
      ]
    },
    {
      "cell_type": "code",
      "metadata": {
        "id": "iz1aoMCJFKlN",
        "colab_type": "code",
        "outputId": "ee8f1aa1-4a86-476d-b648-815a3c163b7b",
        "colab": {
          "base_uri": "https://localhost:8080/",
          "height": 34
        }
      },
      "source": [
        "rating.shape"
      ],
      "execution_count": 0,
      "outputs": [
        {
          "output_type": "execute_result",
          "data": {
            "text/plain": [
              "(7813737, 3)"
            ]
          },
          "metadata": {
            "tags": []
          },
          "execution_count": 60
        }
      ]
    },
    {
      "cell_type": "markdown",
      "metadata": {
        "id": "EF3HId_EFXaN",
        "colab_type": "text"
      },
      "source": [
        "# 演習1\n",
        "\n",
        "anime2とratingのデータ分析をしてみましょう"
      ]
    },
    {
      "cell_type": "code",
      "metadata": {
        "id": "D6QzRBVAFeAv",
        "colab_type": "code",
        "outputId": "a9b6c968-8d69-43c0-fff6-021700e17609",
        "colab": {
          "base_uri": "https://localhost:8080/",
          "height": 301
        }
      },
      "source": [
        "anime2[anime2[\"type\"] == \"TV\"][\"rating\"].hist()\n",
        "# 評価6-7が多そう"
      ],
      "execution_count": 0,
      "outputs": [
        {
          "output_type": "execute_result",
          "data": {
            "text/plain": [
              "<matplotlib.axes._subplots.AxesSubplot at 0x7f78763c04e0>"
            ]
          },
          "metadata": {
            "tags": []
          },
          "execution_count": 61
        },
        {
          "output_type": "display_data",
          "data": {
            "image/png": "[encoded data removed]",
            "text/plain": [
              "<Figure size 432x288 with 1 Axes>"
            ]
          },
          "metadata": {
            "tags": []
          }
        }
      ]
    },
    {
      "cell_type": "markdown",
      "metadata": {
        "id": "sIyutrNVGVAa",
        "colab_type": "text"
      },
      "source": [
        "##### ヒント"
      ]
    },
    {
      "cell_type": "code",
      "metadata": {
        "id": "7-iP4pfAGW-Y",
        "colab_type": "code",
        "outputId": "71ac05fd-6c38-4fd4-e0e8-f2155b6f362c",
        "colab": {
          "base_uri": "https://localhost:8080/",
          "height": 301
        }
      },
      "source": [
        "# type = TV のrating(平均評価)を調べたいときは下記のように書きます\n",
        "anime2[anime2[\"type\"] == \"TV\"][\"rating\"].hist()"
      ],
      "execution_count": 0,
      "outputs": [
        {
          "output_type": "execute_result",
          "data": {
            "text/plain": [
              "<matplotlib.axes._subplots.AxesSubplot at 0x7f78763cbbe0>"
            ]
          },
          "metadata": {
            "tags": []
          },
          "execution_count": 62
        },
        {
          "output_type": "display_data",
          "data": {
            "image/png": "[encoded data removed]",
            "text/plain": [
              "<Figure size 432x288 with 1 Axes>"
            ]
          },
          "metadata": {
            "tags": []
          }
        }
      ]
    },
    {
      "cell_type": "markdown",
      "metadata": {
        "id": "pFSf5kdgFjFH",
        "colab_type": "text"
      },
      "source": [
        "##### 解答"
      ]
    },
    {
      "cell_type": "markdown",
      "metadata": {
        "id": "8hDv_kRjHcqT",
        "colab_type": "text"
      },
      "source": [
        "一例です"
      ]
    },
    {
      "cell_type": "code",
      "metadata": {
        "id": "TcaouejpFlEO",
        "colab_type": "code",
        "outputId": "35525f3e-c0a4-4611-dd2c-89b640ee230f",
        "colab": {
          "base_uri": "https://localhost:8080/",
          "height": 281
        }
      },
      "source": [
        "anime2[\"type\"].value_counts().plot.pie()"
      ],
      "execution_count": 0,
      "outputs": [
        {
          "output_type": "execute_result",
          "data": {
            "text/plain": [
              "<matplotlib.axes._subplots.AxesSubplot at 0x7f78763119e8>"
            ]
          },
          "metadata": {
            "tags": []
          },
          "execution_count": 63
        },
        {
          "output_type": "display_data",
          "data": {
            "image/png": "[encoded data removed]",
            "text/plain": [
              "<Figure size 432x288 with 1 Axes>"
            ]
          },
          "metadata": {
            "tags": []
          }
        }
      ]
    },
    {
      "cell_type": "code",
      "metadata": {
        "id": "PFShayiQF9yf",
        "colab_type": "code",
        "outputId": "681e189d-1b6e-4790-925a-9f8b6d4163f8",
        "colab": {
          "base_uri": "https://localhost:8080/",
          "height": 304
        }
      },
      "source": [
        "anime2[\"rating\"].hist()"
      ],
      "execution_count": 0,
      "outputs": [
        {
          "output_type": "execute_result",
          "data": {
            "text/plain": [
              "<matplotlib.axes._subplots.AxesSubplot at 0x7f787628aac8>"
            ]
          },
          "metadata": {
            "tags": []
          },
          "execution_count": 64
        },
        {
          "output_type": "display_data",
          "data": {
            "image/png": "[encoded data removed]",
            "text/plain": [
              "<Figure size 432x288 with 1 Axes>"
            ]
          },
          "metadata": {
            "tags": []
          }
        }
      ]
    },
    {
      "cell_type": "code",
      "metadata": {
        "id": "lUiyYvYEJ5Vq",
        "colab_type": "code",
        "outputId": "5c4c1c8f-2d1a-4d5e-e04d-679272304e43",
        "colab": {
          "base_uri": "https://localhost:8080/",
          "height": 281
        }
      },
      "source": [
        "def norm_member(x):\n",
        "  if x < 1000:\n",
        "    return \"-1000\"\n",
        "  elif 1000 < x < 10000:\n",
        "    return \"1000-10000\"\n",
        "  elif 10000 < x < 100000:\n",
        "    return \"10000-100000\"\n",
        "  else:\n",
        "    return \"100000-\"\n",
        "   \n",
        "\n",
        "anime2[\"members\"].map(norm_member).value_counts().plot.pie()"
      ],
      "execution_count": 0,
      "outputs": [
        {
          "output_type": "execute_result",
          "data": {
            "text/plain": [
              "<matplotlib.axes._subplots.AxesSubplot at 0x7f787619ef98>"
            ]
          },
          "metadata": {
            "tags": []
          },
          "execution_count": 65
        },
        {
          "output_type": "display_data",
          "data": {
            "image/png": "[encoded data removed]",
            "text/plain": [
              "<Figure size 432x288 with 1 Axes>"
            ]
          },
          "metadata": {
            "tags": []
          }
        }
      ]
    },
    {
      "cell_type": "code",
      "metadata": {
        "id": "elXFejyytGCz",
        "colab_type": "code",
        "outputId": "ee427620-5db4-4879-d2e3-823552af5a6f",
        "colab": {
          "base_uri": "https://localhost:8080/",
          "height": 301
        }
      },
      "source": [
        "rating[\"rating\"].hist()"
      ],
      "execution_count": 0,
      "outputs": [
        {
          "output_type": "execute_result",
          "data": {
            "text/plain": [
              "<matplotlib.axes._subplots.AxesSubplot at 0x7f78761bf390>"
            ]
          },
          "metadata": {
            "tags": []
          },
          "execution_count": 66
        },
        {
          "output_type": "display_data",
          "data": {
            "image/png": "[encoded data removed]",
            "text/plain": [
              "<Figure size 432x288 with 1 Axes>"
            ]
          },
          "metadata": {
            "tags": []
          }
        }
      ]
    },
    {
      "cell_type": "markdown",
      "metadata": {
        "id": "jVPxtJs7Kz7B",
        "colab_type": "text"
      },
      "source": [
        "##### データを絞る\n",
        "10,000人以上が見ているアニメに絞る"
      ]
    },
    {
      "cell_type": "code",
      "metadata": {
        "id": "0QLdVMsSswxk",
        "colab_type": "code",
        "colab": {}
      },
      "source": [
        "anime3 = anime2[anime2[\"members\"] > 10000]"
      ],
      "execution_count": 0,
      "outputs": []
    },
    {
      "cell_type": "code",
      "metadata": {
        "id": "GJbrDAmcs0OA",
        "colab_type": "code",
        "outputId": "8b4389a8-b00a-4d99-de77-2c4a3e025711",
        "colab": {
          "base_uri": "https://localhost:8080/",
          "height": 34
        }
      },
      "source": [
        "anime.shape, anime2.shape, anime3.shape"
      ],
      "execution_count": 0,
      "outputs": [
        {
          "output_type": "execute_result",
          "data": {
            "text/plain": [
              "((12294, 7), (12017, 7), (2946, 7))"
            ]
          },
          "metadata": {
            "tags": []
          },
          "execution_count": 68
        }
      ]
    },
    {
      "cell_type": "markdown",
      "metadata": {
        "id": "yvDqPuLQLFq0",
        "colab_type": "text"
      },
      "source": [
        "評価していない人は除く"
      ]
    },
    {
      "cell_type": "code",
      "metadata": {
        "id": "Wi2uLH35tNXc",
        "colab_type": "code",
        "colab": {}
      },
      "source": [
        "rating2 = rating[rating[\"rating\"] != -1]"
      ],
      "execution_count": 0,
      "outputs": []
    },
    {
      "cell_type": "code",
      "metadata": {
        "id": "hnW9xVhptdPR",
        "colab_type": "code",
        "outputId": "791c5467-c3dd-4b38-e5f2-9d535d05dd71",
        "colab": {
          "base_uri": "https://localhost:8080/",
          "height": 34
        }
      },
      "source": [
        "rating.shape, rating2.shape"
      ],
      "execution_count": 0,
      "outputs": [
        {
          "output_type": "execute_result",
          "data": {
            "text/plain": [
              "((7813737, 3), (6337241, 3))"
            ]
          },
          "metadata": {
            "tags": []
          },
          "execution_count": 71
        }
      ]
    },
    {
      "cell_type": "markdown",
      "metadata": {
        "id": "8Ur0FxccLKIy",
        "colab_type": "text"
      },
      "source": [
        "データを連結する"
      ]
    },
    {
      "cell_type": "code",
      "metadata": {
        "id": "MZEW1U8dtiTc",
        "colab_type": "code",
        "outputId": "b8a508da-4560-4e26-d8e1-36c9b66058c5",
        "colab": {
          "base_uri": "https://localhost:8080/",
          "height": 204
        }
      },
      "source": [
        "anime_data = rating2.merge(anime3, left_on='anime_id', right_on='anime_id', suffixes= ['_user', ''])\n",
        "anime_data.head()"
      ],
      "execution_count": 0,
      "outputs": [
        {
          "output_type": "execute_result",
          "data": {
            "text/html": [
              "<div>\n",
              "<style scoped>\n",
              "    .dataframe tbody tr th:only-of-type {\n",
              "        vertical-align: middle;\n",
              "    }\n",
              "\n",
              "    .dataframe tbody tr th {\n",
              "        vertical-align: top;\n",
              "    }\n",
              "\n",
              "    .dataframe thead th {\n",
              "        text-align: right;\n",
              "    }\n",
              "</style>\n",
              "<table border=\"1\" class=\"dataframe\">\n",
              "  <thead>\n",
              "    <tr style=\"text-align: right;\">\n",
              "      <th></th>\n",
              "      <th>user_id</th>\n",
              "      <th>anime_id</th>\n",
              "      <th>rating_user</th>\n",
              "      <th>name</th>\n",
              "      <th>genre</th>\n",
              "      <th>type</th>\n",
              "      <th>episodes</th>\n",
              "      <th>rating</th>\n",
              "      <th>members</th>\n",
              "    </tr>\n",
              "  </thead>\n",
              "  <tbody>\n",
              "    <tr>\n",
              "      <th>0</th>\n",
              "      <td>1</td>\n",
              "      <td>8074</td>\n",
              "      <td>10</td>\n",
              "      <td>Highschool of the Dead</td>\n",
              "      <td>Action, Ecchi, Horror, Supernatural</td>\n",
              "      <td>TV</td>\n",
              "      <td>12</td>\n",
              "      <td>7.46</td>\n",
              "      <td>535892</td>\n",
              "    </tr>\n",
              "    <tr>\n",
              "      <th>1</th>\n",
              "      <td>3</td>\n",
              "      <td>8074</td>\n",
              "      <td>6</td>\n",
              "      <td>Highschool of the Dead</td>\n",
              "      <td>Action, Ecchi, Horror, Supernatural</td>\n",
              "      <td>TV</td>\n",
              "      <td>12</td>\n",
              "      <td>7.46</td>\n",
              "      <td>535892</td>\n",
              "    </tr>\n",
              "    <tr>\n",
              "      <th>2</th>\n",
              "      <td>5</td>\n",
              "      <td>8074</td>\n",
              "      <td>2</td>\n",
              "      <td>Highschool of the Dead</td>\n",
              "      <td>Action, Ecchi, Horror, Supernatural</td>\n",
              "      <td>TV</td>\n",
              "      <td>12</td>\n",
              "      <td>7.46</td>\n",
              "      <td>535892</td>\n",
              "    </tr>\n",
              "    <tr>\n",
              "      <th>3</th>\n",
              "      <td>12</td>\n",
              "      <td>8074</td>\n",
              "      <td>6</td>\n",
              "      <td>Highschool of the Dead</td>\n",
              "      <td>Action, Ecchi, Horror, Supernatural</td>\n",
              "      <td>TV</td>\n",
              "      <td>12</td>\n",
              "      <td>7.46</td>\n",
              "      <td>535892</td>\n",
              "    </tr>\n",
              "    <tr>\n",
              "      <th>4</th>\n",
              "      <td>14</td>\n",
              "      <td>8074</td>\n",
              "      <td>6</td>\n",
              "      <td>Highschool of the Dead</td>\n",
              "      <td>Action, Ecchi, Horror, Supernatural</td>\n",
              "      <td>TV</td>\n",
              "      <td>12</td>\n",
              "      <td>7.46</td>\n",
              "      <td>535892</td>\n",
              "    </tr>\n",
              "  </tbody>\n",
              "</table>\n",
              "</div>"
            ],
            "text/plain": [
              "   user_id  anime_id  rating_user  ... episodes rating members\n",
              "0        1      8074           10  ...       12   7.46  535892\n",
              "1        3      8074            6  ...       12   7.46  535892\n",
              "2        5      8074            2  ...       12   7.46  535892\n",
              "3       12      8074            6  ...       12   7.46  535892\n",
              "4       14      8074            6  ...       12   7.46  535892\n",
              "\n",
              "[5 rows x 9 columns]"
            ]
          },
          "metadata": {
            "tags": []
          },
          "execution_count": 72
        }
      ]
    },
    {
      "cell_type": "markdown",
      "metadata": {
        "id": "hf2FIt66XQ1b",
        "colab_type": "text"
      },
      "source": [
        "使用する情報だけに絞る\n",
        "\n",
        "今回はユーザーとタイトルとそのユーザーの評価"
      ]
    },
    {
      "cell_type": "code",
      "metadata": {
        "id": "wOXRR9HRXWCZ",
        "colab_type": "code",
        "outputId": "6db7e666-247e-47df-f6a8-bfae1ccb9ba3",
        "colab": {
          "base_uri": "https://localhost:8080/",
          "height": 204
        }
      },
      "source": [
        "anime_data2 = anime_data[['user_id','name','rating_user']]\n",
        "anime_data2.head()"
      ],
      "execution_count": 0,
      "outputs": [
        {
          "output_type": "execute_result",
          "data": {
            "text/html": [
              "<div>\n",
              "<style scoped>\n",
              "    .dataframe tbody tr th:only-of-type {\n",
              "        vertical-align: middle;\n",
              "    }\n",
              "\n",
              "    .dataframe tbody tr th {\n",
              "        vertical-align: top;\n",
              "    }\n",
              "\n",
              "    .dataframe thead th {\n",
              "        text-align: right;\n",
              "    }\n",
              "</style>\n",
              "<table border=\"1\" class=\"dataframe\">\n",
              "  <thead>\n",
              "    <tr style=\"text-align: right;\">\n",
              "      <th></th>\n",
              "      <th>user_id</th>\n",
              "      <th>name</th>\n",
              "      <th>rating_user</th>\n",
              "    </tr>\n",
              "  </thead>\n",
              "  <tbody>\n",
              "    <tr>\n",
              "      <th>0</th>\n",
              "      <td>1</td>\n",
              "      <td>Highschool of the Dead</td>\n",
              "      <td>10</td>\n",
              "    </tr>\n",
              "    <tr>\n",
              "      <th>1</th>\n",
              "      <td>3</td>\n",
              "      <td>Highschool of the Dead</td>\n",
              "      <td>6</td>\n",
              "    </tr>\n",
              "    <tr>\n",
              "      <th>2</th>\n",
              "      <td>5</td>\n",
              "      <td>Highschool of the Dead</td>\n",
              "      <td>2</td>\n",
              "    </tr>\n",
              "    <tr>\n",
              "      <th>3</th>\n",
              "      <td>12</td>\n",
              "      <td>Highschool of the Dead</td>\n",
              "      <td>6</td>\n",
              "    </tr>\n",
              "    <tr>\n",
              "      <th>4</th>\n",
              "      <td>14</td>\n",
              "      <td>Highschool of the Dead</td>\n",
              "      <td>6</td>\n",
              "    </tr>\n",
              "  </tbody>\n",
              "</table>\n",
              "</div>"
            ],
            "text/plain": [
              "   user_id                    name  rating_user\n",
              "0        1  Highschool of the Dead           10\n",
              "1        3  Highschool of the Dead            6\n",
              "2        5  Highschool of the Dead            2\n",
              "3       12  Highschool of the Dead            6\n",
              "4       14  Highschool of the Dead            6"
            ]
          },
          "metadata": {
            "tags": []
          },
          "execution_count": 73
        }
      ]
    },
    {
      "cell_type": "markdown",
      "metadata": {
        "id": "ILNxVa0NY2in",
        "colab_type": "text"
      },
      "source": [
        "データの重複を確認"
      ]
    },
    {
      "cell_type": "code",
      "metadata": {
        "id": "MjXIJnz0YgrW",
        "colab_type": "code",
        "outputId": "750632c8-1b7c-4f5d-9ec1-3f2054ef1bb7",
        "colab": {
          "base_uri": "https://localhost:8080/",
          "height": 483
        }
      },
      "source": [
        "anime_data2[anime_data2.duplicated(keep=False, subset=['user_id','name'])]"
      ],
      "execution_count": 0,
      "outputs": [
        {
          "output_type": "execute_result",
          "data": {
            "text/html": [
              "<div>\n",
              "<style scoped>\n",
              "    .dataframe tbody tr th:only-of-type {\n",
              "        vertical-align: middle;\n",
              "    }\n",
              "\n",
              "    .dataframe tbody tr th {\n",
              "        vertical-align: top;\n",
              "    }\n",
              "\n",
              "    .dataframe thead th {\n",
              "        text-align: right;\n",
              "    }\n",
              "</style>\n",
              "<table border=\"1\" class=\"dataframe\">\n",
              "  <thead>\n",
              "    <tr style=\"text-align: right;\">\n",
              "      <th></th>\n",
              "      <th>user_id</th>\n",
              "      <th>name</th>\n",
              "      <th>rating_user</th>\n",
              "    </tr>\n",
              "  </thead>\n",
              "  <tbody>\n",
              "    <tr>\n",
              "      <th>48054</th>\n",
              "      <td>42653</td>\n",
              "      <td>Sword Art Online</td>\n",
              "      <td>8</td>\n",
              "    </tr>\n",
              "    <tr>\n",
              "      <th>48055</th>\n",
              "      <td>42653</td>\n",
              "      <td>Sword Art Online</td>\n",
              "      <td>5</td>\n",
              "    </tr>\n",
              "    <tr>\n",
              "      <th>444785</th>\n",
              "      <td>42653</td>\n",
              "      <td>Shingeki no Kyojin</td>\n",
              "      <td>8</td>\n",
              "    </tr>\n",
              "    <tr>\n",
              "      <th>444786</th>\n",
              "      <td>42653</td>\n",
              "      <td>Shingeki no Kyojin</td>\n",
              "      <td>8</td>\n",
              "    </tr>\n",
              "    <tr>\n",
              "      <th>523332</th>\n",
              "      <td>42653</td>\n",
              "      <td>Noragami</td>\n",
              "      <td>7</td>\n",
              "    </tr>\n",
              "    <tr>\n",
              "      <th>523333</th>\n",
              "      <td>42653</td>\n",
              "      <td>Noragami</td>\n",
              "      <td>9</td>\n",
              "    </tr>\n",
              "    <tr>\n",
              "      <th>574059</th>\n",
              "      <td>42653</td>\n",
              "      <td>Tokyo Ghoul</td>\n",
              "      <td>8</td>\n",
              "    </tr>\n",
              "    <tr>\n",
              "      <th>574060</th>\n",
              "      <td>42653</td>\n",
              "      <td>Tokyo Ghoul</td>\n",
              "      <td>6</td>\n",
              "    </tr>\n",
              "    <tr>\n",
              "      <th>2333281</th>\n",
              "      <td>42653</td>\n",
              "      <td>Code Geass: Hangyaku no Lelouch</td>\n",
              "      <td>8</td>\n",
              "    </tr>\n",
              "    <tr>\n",
              "      <th>2333282</th>\n",
              "      <td>42653</td>\n",
              "      <td>Code Geass: Hangyaku no Lelouch</td>\n",
              "      <td>6</td>\n",
              "    </tr>\n",
              "    <tr>\n",
              "      <th>3369715</th>\n",
              "      <td>42653</td>\n",
              "      <td>Tengen Toppa Gurren Lagann</td>\n",
              "      <td>8</td>\n",
              "    </tr>\n",
              "    <tr>\n",
              "      <th>3369716</th>\n",
              "      <td>42653</td>\n",
              "      <td>Tengen Toppa Gurren Lagann</td>\n",
              "      <td>10</td>\n",
              "    </tr>\n",
              "    <tr>\n",
              "      <th>3632133</th>\n",
              "      <td>42653</td>\n",
              "      <td>Zankyou no Terror</td>\n",
              "      <td>8</td>\n",
              "    </tr>\n",
              "    <tr>\n",
              "      <th>3632134</th>\n",
              "      <td>42653</td>\n",
              "      <td>Zankyou no Terror</td>\n",
              "      <td>9</td>\n",
              "    </tr>\n",
              "  </tbody>\n",
              "</table>\n",
              "</div>"
            ],
            "text/plain": [
              "         user_id                             name  rating_user\n",
              "48054      42653                 Sword Art Online            8\n",
              "48055      42653                 Sword Art Online            5\n",
              "444785     42653               Shingeki no Kyojin            8\n",
              "444786     42653               Shingeki no Kyojin            8\n",
              "523332     42653                         Noragami            7\n",
              "523333     42653                         Noragami            9\n",
              "574059     42653                      Tokyo Ghoul            8\n",
              "574060     42653                      Tokyo Ghoul            6\n",
              "2333281    42653  Code Geass: Hangyaku no Lelouch            8\n",
              "2333282    42653  Code Geass: Hangyaku no Lelouch            6\n",
              "3369715    42653       Tengen Toppa Gurren Lagann            8\n",
              "3369716    42653       Tengen Toppa Gurren Lagann           10\n",
              "3632133    42653                Zankyou no Terror            8\n",
              "3632134    42653                Zankyou no Terror            9"
            ]
          },
          "metadata": {
            "tags": []
          },
          "execution_count": 74
        }
      ]
    },
    {
      "cell_type": "markdown",
      "metadata": {
        "id": "5VQ8vevnZCW0",
        "colab_type": "text"
      },
      "source": [
        "重複を除去"
      ]
    },
    {
      "cell_type": "code",
      "metadata": {
        "id": "7SacXdl7tzEx",
        "colab_type": "code",
        "colab": {}
      },
      "source": [
        "anime_data3 = anime_data2.drop_duplicates(keep=\"last\", subset=['user_id','name'])"
      ],
      "execution_count": 0,
      "outputs": []
    },
    {
      "cell_type": "code",
      "metadata": {
        "id": "fYHbSoqnZSXz",
        "colab_type": "code",
        "outputId": "e526e153-a579-4030-819d-2ee252f8f690",
        "colab": {
          "base_uri": "https://localhost:8080/",
          "height": 49
        }
      },
      "source": [
        "anime_data3[anime_data3.duplicated(keep=False, subset=['user_id','name'])]"
      ],
      "execution_count": 0,
      "outputs": [
        {
          "output_type": "execute_result",
          "data": {
            "text/html": [
              "<div>\n",
              "<style scoped>\n",
              "    .dataframe tbody tr th:only-of-type {\n",
              "        vertical-align: middle;\n",
              "    }\n",
              "\n",
              "    .dataframe tbody tr th {\n",
              "        vertical-align: top;\n",
              "    }\n",
              "\n",
              "    .dataframe thead th {\n",
              "        text-align: right;\n",
              "    }\n",
              "</style>\n",
              "<table border=\"1\" class=\"dataframe\">\n",
              "  <thead>\n",
              "    <tr style=\"text-align: right;\">\n",
              "      <th></th>\n",
              "      <th>user_id</th>\n",
              "      <th>name</th>\n",
              "      <th>rating_user</th>\n",
              "    </tr>\n",
              "  </thead>\n",
              "  <tbody>\n",
              "  </tbody>\n",
              "</table>\n",
              "</div>"
            ],
            "text/plain": [
              "Empty DataFrame\n",
              "Columns: [user_id, name, rating_user]\n",
              "Index: []"
            ]
          },
          "metadata": {
            "tags": []
          },
          "execution_count": 76
        }
      ]
    },
    {
      "cell_type": "code",
      "metadata": {
        "id": "--67AmWgZJdv",
        "colab_type": "code",
        "outputId": "2721dd5c-a5a9-4ba8-d3a1-3ee98110ec7d",
        "colab": {
          "base_uri": "https://localhost:8080/",
          "height": 34
        }
      },
      "source": [
        "anime_data2.shape, anime_data3.shape"
      ],
      "execution_count": 0,
      "outputs": [
        {
          "output_type": "execute_result",
          "data": {
            "text/plain": [
              "((5957004, 3), (5956997, 3))"
            ]
          },
          "metadata": {
            "tags": []
          },
          "execution_count": 77
        }
      ]
    },
    {
      "cell_type": "markdown",
      "metadata": {
        "id": "VnCvMfFVa3O5",
        "colab_type": "text"
      },
      "source": [
        "タイトルごとのユーザー評価テーブルを作成する"
      ]
    },
    {
      "cell_type": "code",
      "metadata": {
        "id": "3swU3IzvuGCi",
        "colab_type": "code",
        "outputId": "4132e3e6-4189-4d3a-fad6-c7973bc8d585",
        "colab": {
          "base_uri": "https://localhost:8080/",
          "height": 454
        }
      },
      "source": [
        "anime_data_pivot = anime_data3.pivot(index='name', columns='user_id', values='rating_user').fillna(0)  # 縦にname 横にuser_id をとって値を rating_user とする（空欄は0で埋める）\n",
        "anime_data_pivot.head()"
      ],
      "execution_count": 0,
      "outputs": [
        {
          "output_type": "execute_result",
          "data": {
            "text/html": [
              "<div>\n",
              "<style scoped>\n",
              "    .dataframe tbody tr th:only-of-type {\n",
              "        vertical-align: middle;\n",
              "    }\n",
              "\n",
              "    .dataframe tbody tr th {\n",
              "        vertical-align: top;\n",
              "    }\n",
              "\n",
              "    .dataframe thead th {\n",
              "        text-align: right;\n",
              "    }\n",
              "</style>\n",
              "<table border=\"1\" class=\"dataframe\">\n",
              "  <thead>\n",
              "    <tr style=\"text-align: right;\">\n",
              "      <th>user_id</th>\n",
              "      <th>1</th>\n",
              "      <th>2</th>\n",
              "      <th>3</th>\n",
              "      <th>5</th>\n",
              "      <th>7</th>\n",
              "      <th>8</th>\n",
              "      <th>9</th>\n",
              "      <th>10</th>\n",
              "      <th>11</th>\n",
              "      <th>12</th>\n",
              "      <th>14</th>\n",
              "      <th>15</th>\n",
              "      <th>16</th>\n",
              "      <th>17</th>\n",
              "      <th>18</th>\n",
              "      <th>19</th>\n",
              "      <th>20</th>\n",
              "      <th>21</th>\n",
              "      <th>22</th>\n",
              "      <th>23</th>\n",
              "      <th>24</th>\n",
              "      <th>25</th>\n",
              "      <th>26</th>\n",
              "      <th>27</th>\n",
              "      <th>28</th>\n",
              "      <th>29</th>\n",
              "      <th>30</th>\n",
              "      <th>31</th>\n",
              "      <th>32</th>\n",
              "      <th>33</th>\n",
              "      <th>34</th>\n",
              "      <th>36</th>\n",
              "      <th>37</th>\n",
              "      <th>38</th>\n",
              "      <th>39</th>\n",
              "      <th>40</th>\n",
              "      <th>41</th>\n",
              "      <th>42</th>\n",
              "      <th>43</th>\n",
              "      <th>44</th>\n",
              "      <th>...</th>\n",
              "      <th>73476</th>\n",
              "      <th>73478</th>\n",
              "      <th>73479</th>\n",
              "      <th>73480</th>\n",
              "      <th>73481</th>\n",
              "      <th>73482</th>\n",
              "      <th>73483</th>\n",
              "      <th>73484</th>\n",
              "      <th>73485</th>\n",
              "      <th>73486</th>\n",
              "      <th>73487</th>\n",
              "      <th>73488</th>\n",
              "      <th>73489</th>\n",
              "      <th>73490</th>\n",
              "      <th>73491</th>\n",
              "      <th>73492</th>\n",
              "      <th>73493</th>\n",
              "      <th>73494</th>\n",
              "      <th>73495</th>\n",
              "      <th>73496</th>\n",
              "      <th>73497</th>\n",
              "      <th>73498</th>\n",
              "      <th>73499</th>\n",
              "      <th>73500</th>\n",
              "      <th>73501</th>\n",
              "      <th>73502</th>\n",
              "      <th>73503</th>\n",
              "      <th>73504</th>\n",
              "      <th>73505</th>\n",
              "      <th>73506</th>\n",
              "      <th>73507</th>\n",
              "      <th>73508</th>\n",
              "      <th>73509</th>\n",
              "      <th>73510</th>\n",
              "      <th>73511</th>\n",
              "      <th>73512</th>\n",
              "      <th>73513</th>\n",
              "      <th>73514</th>\n",
              "      <th>73515</th>\n",
              "      <th>73516</th>\n",
              "    </tr>\n",
              "    <tr>\n",
              "      <th>name</th>\n",
              "      <th></th>\n",
              "      <th></th>\n",
              "      <th></th>\n",
              "      <th></th>\n",
              "      <th></th>\n",
              "      <th></th>\n",
              "      <th></th>\n",
              "      <th></th>\n",
              "      <th></th>\n",
              "      <th></th>\n",
              "      <th></th>\n",
              "      <th></th>\n",
              "      <th></th>\n",
              "      <th></th>\n",
              "      <th></th>\n",
              "      <th></th>\n",
              "      <th></th>\n",
              "      <th></th>\n",
              "      <th></th>\n",
              "      <th></th>\n",
              "      <th></th>\n",
              "      <th></th>\n",
              "      <th></th>\n",
              "      <th></th>\n",
              "      <th></th>\n",
              "      <th></th>\n",
              "      <th></th>\n",
              "      <th></th>\n",
              "      <th></th>\n",
              "      <th></th>\n",
              "      <th></th>\n",
              "      <th></th>\n",
              "      <th></th>\n",
              "      <th></th>\n",
              "      <th></th>\n",
              "      <th></th>\n",
              "      <th></th>\n",
              "      <th></th>\n",
              "      <th></th>\n",
              "      <th></th>\n",
              "      <th></th>\n",
              "      <th></th>\n",
              "      <th></th>\n",
              "      <th></th>\n",
              "      <th></th>\n",
              "      <th></th>\n",
              "      <th></th>\n",
              "      <th></th>\n",
              "      <th></th>\n",
              "      <th></th>\n",
              "      <th></th>\n",
              "      <th></th>\n",
              "      <th></th>\n",
              "      <th></th>\n",
              "      <th></th>\n",
              "      <th></th>\n",
              "      <th></th>\n",
              "      <th></th>\n",
              "      <th></th>\n",
              "      <th></th>\n",
              "      <th></th>\n",
              "      <th></th>\n",
              "      <th></th>\n",
              "      <th></th>\n",
              "      <th></th>\n",
              "      <th></th>\n",
              "      <th></th>\n",
              "      <th></th>\n",
              "      <th></th>\n",
              "      <th></th>\n",
              "      <th></th>\n",
              "      <th></th>\n",
              "      <th></th>\n",
              "      <th></th>\n",
              "      <th></th>\n",
              "      <th></th>\n",
              "      <th></th>\n",
              "      <th></th>\n",
              "      <th></th>\n",
              "      <th></th>\n",
              "      <th></th>\n",
              "    </tr>\n",
              "  </thead>\n",
              "  <tbody>\n",
              "    <tr>\n",
              "      <th>&amp;quot;Bungaku Shoujo&amp;quot; Kyou no Oyatsu: Hatsukoi</th>\n",
              "      <td>0.0</td>\n",
              "      <td>0.0</td>\n",
              "      <td>0.0</td>\n",
              "      <td>0.0</td>\n",
              "      <td>0.0</td>\n",
              "      <td>0.0</td>\n",
              "      <td>0.0</td>\n",
              "      <td>0.0</td>\n",
              "      <td>0.0</td>\n",
              "      <td>0.0</td>\n",
              "      <td>0.0</td>\n",
              "      <td>0.0</td>\n",
              "      <td>0.0</td>\n",
              "      <td>0.0</td>\n",
              "      <td>0.0</td>\n",
              "      <td>0.0</td>\n",
              "      <td>0.0</td>\n",
              "      <td>0.0</td>\n",
              "      <td>0.0</td>\n",
              "      <td>0.0</td>\n",
              "      <td>0.0</td>\n",
              "      <td>0.0</td>\n",
              "      <td>0.0</td>\n",
              "      <td>0.0</td>\n",
              "      <td>0.0</td>\n",
              "      <td>0.0</td>\n",
              "      <td>0.0</td>\n",
              "      <td>0.0</td>\n",
              "      <td>0.0</td>\n",
              "      <td>0.0</td>\n",
              "      <td>0.0</td>\n",
              "      <td>0.0</td>\n",
              "      <td>0.0</td>\n",
              "      <td>0.0</td>\n",
              "      <td>0.0</td>\n",
              "      <td>0.0</td>\n",
              "      <td>0.0</td>\n",
              "      <td>0.0</td>\n",
              "      <td>0.0</td>\n",
              "      <td>0.0</td>\n",
              "      <td>...</td>\n",
              "      <td>0.0</td>\n",
              "      <td>0.0</td>\n",
              "      <td>0.0</td>\n",
              "      <td>0.0</td>\n",
              "      <td>0.0</td>\n",
              "      <td>0.0</td>\n",
              "      <td>0.0</td>\n",
              "      <td>0.0</td>\n",
              "      <td>0.0</td>\n",
              "      <td>0.0</td>\n",
              "      <td>0.0</td>\n",
              "      <td>0.0</td>\n",
              "      <td>0.0</td>\n",
              "      <td>0.0</td>\n",
              "      <td>0.0</td>\n",
              "      <td>0.0</td>\n",
              "      <td>0.0</td>\n",
              "      <td>0.0</td>\n",
              "      <td>0.0</td>\n",
              "      <td>0.0</td>\n",
              "      <td>0.0</td>\n",
              "      <td>0.0</td>\n",
              "      <td>0.0</td>\n",
              "      <td>0.0</td>\n",
              "      <td>0.0</td>\n",
              "      <td>10.0</td>\n",
              "      <td>0.0</td>\n",
              "      <td>0.0</td>\n",
              "      <td>0.0</td>\n",
              "      <td>0.0</td>\n",
              "      <td>0.0</td>\n",
              "      <td>0.0</td>\n",
              "      <td>0.0</td>\n",
              "      <td>0.0</td>\n",
              "      <td>0.0</td>\n",
              "      <td>0.0</td>\n",
              "      <td>0.0</td>\n",
              "      <td>0.0</td>\n",
              "      <td>0.0</td>\n",
              "      <td>0.0</td>\n",
              "    </tr>\n",
              "    <tr>\n",
              "      <th>&amp;quot;Bungaku Shoujo&amp;quot; Memoire</th>\n",
              "      <td>0.0</td>\n",
              "      <td>0.0</td>\n",
              "      <td>0.0</td>\n",
              "      <td>0.0</td>\n",
              "      <td>0.0</td>\n",
              "      <td>0.0</td>\n",
              "      <td>0.0</td>\n",
              "      <td>0.0</td>\n",
              "      <td>0.0</td>\n",
              "      <td>0.0</td>\n",
              "      <td>0.0</td>\n",
              "      <td>0.0</td>\n",
              "      <td>0.0</td>\n",
              "      <td>0.0</td>\n",
              "      <td>0.0</td>\n",
              "      <td>0.0</td>\n",
              "      <td>0.0</td>\n",
              "      <td>0.0</td>\n",
              "      <td>0.0</td>\n",
              "      <td>0.0</td>\n",
              "      <td>0.0</td>\n",
              "      <td>0.0</td>\n",
              "      <td>0.0</td>\n",
              "      <td>0.0</td>\n",
              "      <td>0.0</td>\n",
              "      <td>0.0</td>\n",
              "      <td>0.0</td>\n",
              "      <td>0.0</td>\n",
              "      <td>0.0</td>\n",
              "      <td>0.0</td>\n",
              "      <td>0.0</td>\n",
              "      <td>0.0</td>\n",
              "      <td>0.0</td>\n",
              "      <td>0.0</td>\n",
              "      <td>0.0</td>\n",
              "      <td>0.0</td>\n",
              "      <td>0.0</td>\n",
              "      <td>0.0</td>\n",
              "      <td>0.0</td>\n",
              "      <td>0.0</td>\n",
              "      <td>...</td>\n",
              "      <td>0.0</td>\n",
              "      <td>0.0</td>\n",
              "      <td>0.0</td>\n",
              "      <td>0.0</td>\n",
              "      <td>0.0</td>\n",
              "      <td>0.0</td>\n",
              "      <td>8.0</td>\n",
              "      <td>0.0</td>\n",
              "      <td>0.0</td>\n",
              "      <td>0.0</td>\n",
              "      <td>0.0</td>\n",
              "      <td>0.0</td>\n",
              "      <td>0.0</td>\n",
              "      <td>0.0</td>\n",
              "      <td>0.0</td>\n",
              "      <td>0.0</td>\n",
              "      <td>0.0</td>\n",
              "      <td>0.0</td>\n",
              "      <td>0.0</td>\n",
              "      <td>0.0</td>\n",
              "      <td>0.0</td>\n",
              "      <td>0.0</td>\n",
              "      <td>0.0</td>\n",
              "      <td>0.0</td>\n",
              "      <td>0.0</td>\n",
              "      <td>0.0</td>\n",
              "      <td>0.0</td>\n",
              "      <td>0.0</td>\n",
              "      <td>0.0</td>\n",
              "      <td>0.0</td>\n",
              "      <td>0.0</td>\n",
              "      <td>0.0</td>\n",
              "      <td>0.0</td>\n",
              "      <td>6.0</td>\n",
              "      <td>0.0</td>\n",
              "      <td>0.0</td>\n",
              "      <td>0.0</td>\n",
              "      <td>0.0</td>\n",
              "      <td>0.0</td>\n",
              "      <td>0.0</td>\n",
              "    </tr>\n",
              "    <tr>\n",
              "      <th>&amp;quot;Bungaku Shoujo&amp;quot; Movie</th>\n",
              "      <td>0.0</td>\n",
              "      <td>0.0</td>\n",
              "      <td>0.0</td>\n",
              "      <td>0.0</td>\n",
              "      <td>0.0</td>\n",
              "      <td>0.0</td>\n",
              "      <td>0.0</td>\n",
              "      <td>0.0</td>\n",
              "      <td>0.0</td>\n",
              "      <td>0.0</td>\n",
              "      <td>8.0</td>\n",
              "      <td>0.0</td>\n",
              "      <td>0.0</td>\n",
              "      <td>0.0</td>\n",
              "      <td>0.0</td>\n",
              "      <td>0.0</td>\n",
              "      <td>0.0</td>\n",
              "      <td>0.0</td>\n",
              "      <td>0.0</td>\n",
              "      <td>0.0</td>\n",
              "      <td>0.0</td>\n",
              "      <td>0.0</td>\n",
              "      <td>0.0</td>\n",
              "      <td>0.0</td>\n",
              "      <td>0.0</td>\n",
              "      <td>0.0</td>\n",
              "      <td>0.0</td>\n",
              "      <td>0.0</td>\n",
              "      <td>0.0</td>\n",
              "      <td>0.0</td>\n",
              "      <td>0.0</td>\n",
              "      <td>0.0</td>\n",
              "      <td>0.0</td>\n",
              "      <td>0.0</td>\n",
              "      <td>0.0</td>\n",
              "      <td>0.0</td>\n",
              "      <td>0.0</td>\n",
              "      <td>0.0</td>\n",
              "      <td>0.0</td>\n",
              "      <td>0.0</td>\n",
              "      <td>...</td>\n",
              "      <td>0.0</td>\n",
              "      <td>0.0</td>\n",
              "      <td>0.0</td>\n",
              "      <td>0.0</td>\n",
              "      <td>0.0</td>\n",
              "      <td>0.0</td>\n",
              "      <td>0.0</td>\n",
              "      <td>0.0</td>\n",
              "      <td>0.0</td>\n",
              "      <td>0.0</td>\n",
              "      <td>0.0</td>\n",
              "      <td>0.0</td>\n",
              "      <td>0.0</td>\n",
              "      <td>0.0</td>\n",
              "      <td>0.0</td>\n",
              "      <td>0.0</td>\n",
              "      <td>0.0</td>\n",
              "      <td>0.0</td>\n",
              "      <td>0.0</td>\n",
              "      <td>0.0</td>\n",
              "      <td>0.0</td>\n",
              "      <td>0.0</td>\n",
              "      <td>0.0</td>\n",
              "      <td>0.0</td>\n",
              "      <td>0.0</td>\n",
              "      <td>10.0</td>\n",
              "      <td>0.0</td>\n",
              "      <td>0.0</td>\n",
              "      <td>0.0</td>\n",
              "      <td>0.0</td>\n",
              "      <td>0.0</td>\n",
              "      <td>0.0</td>\n",
              "      <td>0.0</td>\n",
              "      <td>0.0</td>\n",
              "      <td>0.0</td>\n",
              "      <td>0.0</td>\n",
              "      <td>0.0</td>\n",
              "      <td>0.0</td>\n",
              "      <td>0.0</td>\n",
              "      <td>0.0</td>\n",
              "    </tr>\n",
              "    <tr>\n",
              "      <th>.hack//G.U. Returner</th>\n",
              "      <td>0.0</td>\n",
              "      <td>0.0</td>\n",
              "      <td>0.0</td>\n",
              "      <td>0.0</td>\n",
              "      <td>0.0</td>\n",
              "      <td>0.0</td>\n",
              "      <td>0.0</td>\n",
              "      <td>0.0</td>\n",
              "      <td>0.0</td>\n",
              "      <td>0.0</td>\n",
              "      <td>0.0</td>\n",
              "      <td>0.0</td>\n",
              "      <td>0.0</td>\n",
              "      <td>0.0</td>\n",
              "      <td>0.0</td>\n",
              "      <td>0.0</td>\n",
              "      <td>0.0</td>\n",
              "      <td>0.0</td>\n",
              "      <td>0.0</td>\n",
              "      <td>0.0</td>\n",
              "      <td>0.0</td>\n",
              "      <td>0.0</td>\n",
              "      <td>0.0</td>\n",
              "      <td>0.0</td>\n",
              "      <td>0.0</td>\n",
              "      <td>0.0</td>\n",
              "      <td>0.0</td>\n",
              "      <td>0.0</td>\n",
              "      <td>0.0</td>\n",
              "      <td>0.0</td>\n",
              "      <td>0.0</td>\n",
              "      <td>0.0</td>\n",
              "      <td>0.0</td>\n",
              "      <td>0.0</td>\n",
              "      <td>0.0</td>\n",
              "      <td>0.0</td>\n",
              "      <td>0.0</td>\n",
              "      <td>0.0</td>\n",
              "      <td>0.0</td>\n",
              "      <td>0.0</td>\n",
              "      <td>...</td>\n",
              "      <td>0.0</td>\n",
              "      <td>0.0</td>\n",
              "      <td>0.0</td>\n",
              "      <td>0.0</td>\n",
              "      <td>0.0</td>\n",
              "      <td>0.0</td>\n",
              "      <td>0.0</td>\n",
              "      <td>0.0</td>\n",
              "      <td>0.0</td>\n",
              "      <td>0.0</td>\n",
              "      <td>0.0</td>\n",
              "      <td>0.0</td>\n",
              "      <td>0.0</td>\n",
              "      <td>0.0</td>\n",
              "      <td>0.0</td>\n",
              "      <td>0.0</td>\n",
              "      <td>0.0</td>\n",
              "      <td>0.0</td>\n",
              "      <td>0.0</td>\n",
              "      <td>0.0</td>\n",
              "      <td>0.0</td>\n",
              "      <td>0.0</td>\n",
              "      <td>0.0</td>\n",
              "      <td>0.0</td>\n",
              "      <td>0.0</td>\n",
              "      <td>0.0</td>\n",
              "      <td>0.0</td>\n",
              "      <td>0.0</td>\n",
              "      <td>0.0</td>\n",
              "      <td>0.0</td>\n",
              "      <td>0.0</td>\n",
              "      <td>0.0</td>\n",
              "      <td>0.0</td>\n",
              "      <td>0.0</td>\n",
              "      <td>0.0</td>\n",
              "      <td>0.0</td>\n",
              "      <td>0.0</td>\n",
              "      <td>0.0</td>\n",
              "      <td>0.0</td>\n",
              "      <td>0.0</td>\n",
              "    </tr>\n",
              "    <tr>\n",
              "      <th>.hack//G.U. Trilogy</th>\n",
              "      <td>0.0</td>\n",
              "      <td>0.0</td>\n",
              "      <td>0.0</td>\n",
              "      <td>0.0</td>\n",
              "      <td>0.0</td>\n",
              "      <td>0.0</td>\n",
              "      <td>0.0</td>\n",
              "      <td>0.0</td>\n",
              "      <td>0.0</td>\n",
              "      <td>0.0</td>\n",
              "      <td>0.0</td>\n",
              "      <td>0.0</td>\n",
              "      <td>0.0</td>\n",
              "      <td>0.0</td>\n",
              "      <td>0.0</td>\n",
              "      <td>0.0</td>\n",
              "      <td>0.0</td>\n",
              "      <td>0.0</td>\n",
              "      <td>0.0</td>\n",
              "      <td>0.0</td>\n",
              "      <td>0.0</td>\n",
              "      <td>0.0</td>\n",
              "      <td>0.0</td>\n",
              "      <td>0.0</td>\n",
              "      <td>0.0</td>\n",
              "      <td>0.0</td>\n",
              "      <td>0.0</td>\n",
              "      <td>0.0</td>\n",
              "      <td>0.0</td>\n",
              "      <td>0.0</td>\n",
              "      <td>0.0</td>\n",
              "      <td>0.0</td>\n",
              "      <td>0.0</td>\n",
              "      <td>0.0</td>\n",
              "      <td>0.0</td>\n",
              "      <td>0.0</td>\n",
              "      <td>0.0</td>\n",
              "      <td>0.0</td>\n",
              "      <td>0.0</td>\n",
              "      <td>0.0</td>\n",
              "      <td>...</td>\n",
              "      <td>0.0</td>\n",
              "      <td>0.0</td>\n",
              "      <td>0.0</td>\n",
              "      <td>0.0</td>\n",
              "      <td>0.0</td>\n",
              "      <td>0.0</td>\n",
              "      <td>0.0</td>\n",
              "      <td>0.0</td>\n",
              "      <td>0.0</td>\n",
              "      <td>0.0</td>\n",
              "      <td>0.0</td>\n",
              "      <td>0.0</td>\n",
              "      <td>0.0</td>\n",
              "      <td>0.0</td>\n",
              "      <td>0.0</td>\n",
              "      <td>0.0</td>\n",
              "      <td>0.0</td>\n",
              "      <td>0.0</td>\n",
              "      <td>0.0</td>\n",
              "      <td>0.0</td>\n",
              "      <td>0.0</td>\n",
              "      <td>0.0</td>\n",
              "      <td>0.0</td>\n",
              "      <td>0.0</td>\n",
              "      <td>0.0</td>\n",
              "      <td>0.0</td>\n",
              "      <td>0.0</td>\n",
              "      <td>0.0</td>\n",
              "      <td>0.0</td>\n",
              "      <td>0.0</td>\n",
              "      <td>0.0</td>\n",
              "      <td>0.0</td>\n",
              "      <td>0.0</td>\n",
              "      <td>0.0</td>\n",
              "      <td>0.0</td>\n",
              "      <td>0.0</td>\n",
              "      <td>0.0</td>\n",
              "      <td>0.0</td>\n",
              "      <td>0.0</td>\n",
              "      <td>0.0</td>\n",
              "    </tr>\n",
              "  </tbody>\n",
              "</table>\n",
              "<p>5 rows × 69498 columns</p>\n",
              "</div>"
            ],
            "text/plain": [
              "user_id                                             1      2      ...  73515  73516\n",
              "name                                                              ...              \n",
              "&quot;Bungaku Shoujo&quot; Kyou no Oyatsu: Hats...    0.0    0.0  ...    0.0    0.0\n",
              "&quot;Bungaku Shoujo&quot; Memoire                    0.0    0.0  ...    0.0    0.0\n",
              "&quot;Bungaku Shoujo&quot; Movie                      0.0    0.0  ...    0.0    0.0\n",
              ".hack//G.U. Returner                                  0.0    0.0  ...    0.0    0.0\n",
              ".hack//G.U. Trilogy                                   0.0    0.0  ...    0.0    0.0\n",
              "\n",
              "[5 rows x 69498 columns]"
            ]
          },
          "metadata": {
            "tags": []
          },
          "execution_count": 78
        }
      ]
    },
    {
      "cell_type": "markdown",
      "metadata": {
        "id": "GFKxID-YfWyx",
        "colab_type": "text"
      },
      "source": [
        "一旦スライドに戻りましょう"
      ]
    },
    {
      "cell_type": "markdown",
      "metadata": {
        "id": "AKGagyg9faVj",
        "colab_type": "text"
      },
      "source": [
        "# 2. レコメンドを実装してみる"
      ]
    },
    {
      "cell_type": "code",
      "metadata": {
        "id": "ecnBwzCNfn9L",
        "colab_type": "code",
        "outputId": "c7c381e6-d75b-4acc-b54d-dd292832307e",
        "colab": {
          "base_uri": "https://localhost:8080/",
          "height": 34
        }
      },
      "source": [
        "anime_data_pivot.shape\n",
        "\n",
        "#(user, anime)"
      ],
      "execution_count": 0,
      "outputs": [
        {
          "output_type": "execute_result",
          "data": {
            "text/plain": [
              "(2885, 69498)"
            ]
          },
          "metadata": {
            "tags": []
          },
          "execution_count": 80
        }
      ]
    },
    {
      "cell_type": "markdown",
      "metadata": {
        "id": "HDM5PvEnogBz",
        "colab_type": "text"
      },
      "source": [
        "#### アニメのタイトルを検索する関数\n",
        "\n",
        "アニメのタイトルはサブタイトル含め英語で入っているため、文字列一致で検索する関数を作る"
      ]
    },
    {
      "cell_type": "code",
      "metadata": {
        "id": "Xit0PzRNgBE9",
        "colab_type": "code",
        "colab": {}
      },
      "source": [
        "def search_anime(string):\n",
        "    print(anime_data_pivot[anime_data_pivot.index.str.contains(string)].index[0:])"
      ],
      "execution_count": 0,
      "outputs": []
    },
    {
      "cell_type": "markdown",
      "metadata": {
        "id": "AfXPSZ1yo-aR",
        "colab_type": "text"
      },
      "source": [
        "中で何をしているのか"
      ]
    },
    {
      "cell_type": "code",
      "metadata": {
        "id": "FbQsrfAvpZjJ",
        "colab_type": "code",
        "colab": {}
      },
      "source": [
        "string = \"Dragon Ball\"  # ドラゴンボールで検索してみる"
      ],
      "execution_count": 0,
      "outputs": []
    },
    {
      "cell_type": "code",
      "metadata": {
        "id": "OrK06dVdpIZZ",
        "colab_type": "code",
        "outputId": "044c1728-f51a-4f16-ec17-94014ad49ddc",
        "colab": {
          "base_uri": "https://localhost:8080/",
          "height": 293
        }
      },
      "source": [
        "anime_data_pivot.head(2)"
      ],
      "execution_count": 0,
      "outputs": [
        {
          "output_type": "execute_result",
          "data": {
            "text/html": [
              "<div>\n",
              "<style scoped>\n",
              "    .dataframe tbody tr th:only-of-type {\n",
              "        vertical-align: middle;\n",
              "    }\n",
              "\n",
              "    .dataframe tbody tr th {\n",
              "        vertical-align: top;\n",
              "    }\n",
              "\n",
              "    .dataframe thead th {\n",
              "        text-align: right;\n",
              "    }\n",
              "</style>\n",
              "<table border=\"1\" class=\"dataframe\">\n",
              "  <thead>\n",
              "    <tr style=\"text-align: right;\">\n",
              "      <th>user_id</th>\n",
              "      <th>1</th>\n",
              "      <th>2</th>\n",
              "      <th>3</th>\n",
              "      <th>5</th>\n",
              "      <th>7</th>\n",
              "      <th>8</th>\n",
              "      <th>9</th>\n",
              "      <th>10</th>\n",
              "      <th>11</th>\n",
              "      <th>12</th>\n",
              "      <th>14</th>\n",
              "      <th>15</th>\n",
              "      <th>16</th>\n",
              "      <th>17</th>\n",
              "      <th>18</th>\n",
              "      <th>19</th>\n",
              "      <th>20</th>\n",
              "      <th>21</th>\n",
              "      <th>22</th>\n",
              "      <th>23</th>\n",
              "      <th>24</th>\n",
              "      <th>25</th>\n",
              "      <th>26</th>\n",
              "      <th>27</th>\n",
              "      <th>28</th>\n",
              "      <th>29</th>\n",
              "      <th>30</th>\n",
              "      <th>31</th>\n",
              "      <th>32</th>\n",
              "      <th>33</th>\n",
              "      <th>34</th>\n",
              "      <th>36</th>\n",
              "      <th>37</th>\n",
              "      <th>38</th>\n",
              "      <th>39</th>\n",
              "      <th>40</th>\n",
              "      <th>41</th>\n",
              "      <th>42</th>\n",
              "      <th>43</th>\n",
              "      <th>44</th>\n",
              "      <th>...</th>\n",
              "      <th>73476</th>\n",
              "      <th>73478</th>\n",
              "      <th>73479</th>\n",
              "      <th>73480</th>\n",
              "      <th>73481</th>\n",
              "      <th>73482</th>\n",
              "      <th>73483</th>\n",
              "      <th>73484</th>\n",
              "      <th>73485</th>\n",
              "      <th>73486</th>\n",
              "      <th>73487</th>\n",
              "      <th>73488</th>\n",
              "      <th>73489</th>\n",
              "      <th>73490</th>\n",
              "      <th>73491</th>\n",
              "      <th>73492</th>\n",
              "      <th>73493</th>\n",
              "      <th>73494</th>\n",
              "      <th>73495</th>\n",
              "      <th>73496</th>\n",
              "      <th>73497</th>\n",
              "      <th>73498</th>\n",
              "      <th>73499</th>\n",
              "      <th>73500</th>\n",
              "      <th>73501</th>\n",
              "      <th>73502</th>\n",
              "      <th>73503</th>\n",
              "      <th>73504</th>\n",
              "      <th>73505</th>\n",
              "      <th>73506</th>\n",
              "      <th>73507</th>\n",
              "      <th>73508</th>\n",
              "      <th>73509</th>\n",
              "      <th>73510</th>\n",
              "      <th>73511</th>\n",
              "      <th>73512</th>\n",
              "      <th>73513</th>\n",
              "      <th>73514</th>\n",
              "      <th>73515</th>\n",
              "      <th>73516</th>\n",
              "    </tr>\n",
              "    <tr>\n",
              "      <th>name</th>\n",
              "      <th></th>\n",
              "      <th></th>\n",
              "      <th></th>\n",
              "      <th></th>\n",
              "      <th></th>\n",
              "      <th></th>\n",
              "      <th></th>\n",
              "      <th></th>\n",
              "      <th></th>\n",
              "      <th></th>\n",
              "      <th></th>\n",
              "      <th></th>\n",
              "      <th></th>\n",
              "      <th></th>\n",
              "      <th></th>\n",
              "      <th></th>\n",
              "      <th></th>\n",
              "      <th></th>\n",
              "      <th></th>\n",
              "      <th></th>\n",
              "      <th></th>\n",
              "      <th></th>\n",
              "      <th></th>\n",
              "      <th></th>\n",
              "      <th></th>\n",
              "      <th></th>\n",
              "      <th></th>\n",
              "      <th></th>\n",
              "      <th></th>\n",
              "      <th></th>\n",
              "      <th></th>\n",
              "      <th></th>\n",
              "      <th></th>\n",
              "      <th></th>\n",
              "      <th></th>\n",
              "      <th></th>\n",
              "      <th></th>\n",
              "      <th></th>\n",
              "      <th></th>\n",
              "      <th></th>\n",
              "      <th></th>\n",
              "      <th></th>\n",
              "      <th></th>\n",
              "      <th></th>\n",
              "      <th></th>\n",
              "      <th></th>\n",
              "      <th></th>\n",
              "      <th></th>\n",
              "      <th></th>\n",
              "      <th></th>\n",
              "      <th></th>\n",
              "      <th></th>\n",
              "      <th></th>\n",
              "      <th></th>\n",
              "      <th></th>\n",
              "      <th></th>\n",
              "      <th></th>\n",
              "      <th></th>\n",
              "      <th></th>\n",
              "      <th></th>\n",
              "      <th></th>\n",
              "      <th></th>\n",
              "      <th></th>\n",
              "      <th></th>\n",
              "      <th></th>\n",
              "      <th></th>\n",
              "      <th></th>\n",
              "      <th></th>\n",
              "      <th></th>\n",
              "      <th></th>\n",
              "      <th></th>\n",
              "      <th></th>\n",
              "      <th></th>\n",
              "      <th></th>\n",
              "      <th></th>\n",
              "      <th></th>\n",
              "      <th></th>\n",
              "      <th></th>\n",
              "      <th></th>\n",
              "      <th></th>\n",
              "      <th></th>\n",
              "    </tr>\n",
              "  </thead>\n",
              "  <tbody>\n",
              "    <tr>\n",
              "      <th>&amp;quot;Bungaku Shoujo&amp;quot; Kyou no Oyatsu: Hatsukoi</th>\n",
              "      <td>0.0</td>\n",
              "      <td>0.0</td>\n",
              "      <td>0.0</td>\n",
              "      <td>0.0</td>\n",
              "      <td>0.0</td>\n",
              "      <td>0.0</td>\n",
              "      <td>0.0</td>\n",
              "      <td>0.0</td>\n",
              "      <td>0.0</td>\n",
              "      <td>0.0</td>\n",
              "      <td>0.0</td>\n",
              "      <td>0.0</td>\n",
              "      <td>0.0</td>\n",
              "      <td>0.0</td>\n",
              "      <td>0.0</td>\n",
              "      <td>0.0</td>\n",
              "      <td>0.0</td>\n",
              "      <td>0.0</td>\n",
              "      <td>0.0</td>\n",
              "      <td>0.0</td>\n",
              "      <td>0.0</td>\n",
              "      <td>0.0</td>\n",
              "      <td>0.0</td>\n",
              "      <td>0.0</td>\n",
              "      <td>0.0</td>\n",
              "      <td>0.0</td>\n",
              "      <td>0.0</td>\n",
              "      <td>0.0</td>\n",
              "      <td>0.0</td>\n",
              "      <td>0.0</td>\n",
              "      <td>0.0</td>\n",
              "      <td>0.0</td>\n",
              "      <td>0.0</td>\n",
              "      <td>0.0</td>\n",
              "      <td>0.0</td>\n",
              "      <td>0.0</td>\n",
              "      <td>0.0</td>\n",
              "      <td>0.0</td>\n",
              "      <td>0.0</td>\n",
              "      <td>0.0</td>\n",
              "      <td>...</td>\n",
              "      <td>0.0</td>\n",
              "      <td>0.0</td>\n",
              "      <td>0.0</td>\n",
              "      <td>0.0</td>\n",
              "      <td>0.0</td>\n",
              "      <td>0.0</td>\n",
              "      <td>0.0</td>\n",
              "      <td>0.0</td>\n",
              "      <td>0.0</td>\n",
              "      <td>0.0</td>\n",
              "      <td>0.0</td>\n",
              "      <td>0.0</td>\n",
              "      <td>0.0</td>\n",
              "      <td>0.0</td>\n",
              "      <td>0.0</td>\n",
              "      <td>0.0</td>\n",
              "      <td>0.0</td>\n",
              "      <td>0.0</td>\n",
              "      <td>0.0</td>\n",
              "      <td>0.0</td>\n",
              "      <td>0.0</td>\n",
              "      <td>0.0</td>\n",
              "      <td>0.0</td>\n",
              "      <td>0.0</td>\n",
              "      <td>0.0</td>\n",
              "      <td>10.0</td>\n",
              "      <td>0.0</td>\n",
              "      <td>0.0</td>\n",
              "      <td>0.0</td>\n",
              "      <td>0.0</td>\n",
              "      <td>0.0</td>\n",
              "      <td>0.0</td>\n",
              "      <td>0.0</td>\n",
              "      <td>0.0</td>\n",
              "      <td>0.0</td>\n",
              "      <td>0.0</td>\n",
              "      <td>0.0</td>\n",
              "      <td>0.0</td>\n",
              "      <td>0.0</td>\n",
              "      <td>0.0</td>\n",
              "    </tr>\n",
              "    <tr>\n",
              "      <th>&amp;quot;Bungaku Shoujo&amp;quot; Memoire</th>\n",
              "      <td>0.0</td>\n",
              "      <td>0.0</td>\n",
              "      <td>0.0</td>\n",
              "      <td>0.0</td>\n",
              "      <td>0.0</td>\n",
              "      <td>0.0</td>\n",
              "      <td>0.0</td>\n",
              "      <td>0.0</td>\n",
              "      <td>0.0</td>\n",
              "      <td>0.0</td>\n",
              "      <td>0.0</td>\n",
              "      <td>0.0</td>\n",
              "      <td>0.0</td>\n",
              "      <td>0.0</td>\n",
              "      <td>0.0</td>\n",
              "      <td>0.0</td>\n",
              "      <td>0.0</td>\n",
              "      <td>0.0</td>\n",
              "      <td>0.0</td>\n",
              "      <td>0.0</td>\n",
              "      <td>0.0</td>\n",
              "      <td>0.0</td>\n",
              "      <td>0.0</td>\n",
              "      <td>0.0</td>\n",
              "      <td>0.0</td>\n",
              "      <td>0.0</td>\n",
              "      <td>0.0</td>\n",
              "      <td>0.0</td>\n",
              "      <td>0.0</td>\n",
              "      <td>0.0</td>\n",
              "      <td>0.0</td>\n",
              "      <td>0.0</td>\n",
              "      <td>0.0</td>\n",
              "      <td>0.0</td>\n",
              "      <td>0.0</td>\n",
              "      <td>0.0</td>\n",
              "      <td>0.0</td>\n",
              "      <td>0.0</td>\n",
              "      <td>0.0</td>\n",
              "      <td>0.0</td>\n",
              "      <td>...</td>\n",
              "      <td>0.0</td>\n",
              "      <td>0.0</td>\n",
              "      <td>0.0</td>\n",
              "      <td>0.0</td>\n",
              "      <td>0.0</td>\n",
              "      <td>0.0</td>\n",
              "      <td>8.0</td>\n",
              "      <td>0.0</td>\n",
              "      <td>0.0</td>\n",
              "      <td>0.0</td>\n",
              "      <td>0.0</td>\n",
              "      <td>0.0</td>\n",
              "      <td>0.0</td>\n",
              "      <td>0.0</td>\n",
              "      <td>0.0</td>\n",
              "      <td>0.0</td>\n",
              "      <td>0.0</td>\n",
              "      <td>0.0</td>\n",
              "      <td>0.0</td>\n",
              "      <td>0.0</td>\n",
              "      <td>0.0</td>\n",
              "      <td>0.0</td>\n",
              "      <td>0.0</td>\n",
              "      <td>0.0</td>\n",
              "      <td>0.0</td>\n",
              "      <td>0.0</td>\n",
              "      <td>0.0</td>\n",
              "      <td>0.0</td>\n",
              "      <td>0.0</td>\n",
              "      <td>0.0</td>\n",
              "      <td>0.0</td>\n",
              "      <td>0.0</td>\n",
              "      <td>0.0</td>\n",
              "      <td>6.0</td>\n",
              "      <td>0.0</td>\n",
              "      <td>0.0</td>\n",
              "      <td>0.0</td>\n",
              "      <td>0.0</td>\n",
              "      <td>0.0</td>\n",
              "      <td>0.0</td>\n",
              "    </tr>\n",
              "  </tbody>\n",
              "</table>\n",
              "<p>2 rows × 69498 columns</p>\n",
              "</div>"
            ],
            "text/plain": [
              "user_id                                             1      2      ...  73515  73516\n",
              "name                                                              ...              \n",
              "&quot;Bungaku Shoujo&quot; Kyou no Oyatsu: Hats...    0.0    0.0  ...    0.0    0.0\n",
              "&quot;Bungaku Shoujo&quot; Memoire                    0.0    0.0  ...    0.0    0.0\n",
              "\n",
              "[2 rows x 69498 columns]"
            ]
          },
          "metadata": {
            "tags": []
          },
          "execution_count": 85
        }
      ]
    },
    {
      "cell_type": "code",
      "metadata": {
        "id": "PLwg-xBlpBIl",
        "colab_type": "code",
        "outputId": "2bf5b7bf-2202-44ff-a448-bff2444f4ca4",
        "colab": {
          "base_uri": "https://localhost:8080/",
          "height": 221
        }
      },
      "source": [
        "anime_titles = anime_data_pivot.index  # タイトルの列を抜き出す\n",
        "anime_titles"
      ],
      "execution_count": 0,
      "outputs": [
        {
          "output_type": "execute_result",
          "data": {
            "text/plain": [
              "Index(['&quot;Bungaku Shoujo&quot; Kyou no Oyatsu: Hatsukoi',\n",
              "       '&quot;Bungaku Shoujo&quot; Memoire',\n",
              "       '&quot;Bungaku Shoujo&quot; Movie', '.hack//G.U. Returner',\n",
              "       '.hack//G.U. Trilogy', '.hack//Gift', '.hack//Intermezzo',\n",
              "       '.hack//Liminality', '.hack//Quantum', '.hack//Roots',\n",
              "       ...\n",
              "       'ef: A Tale of Melodies. - Prologue', 'ef: A Tale of Memories.',\n",
              "       'ef: A Tale of Memories. - Prologue', 'iDOLM@STER Xenoglossia',\n",
              "       's.CRY.ed', 'xxxHOLiC', 'xxxHOLiC Kei',\n",
              "       'xxxHOLiC Movie: Manatsu no Yoru no Yume', 'xxxHOLiC Rou',\n",
              "       'xxxHOLiC Shunmuki'],\n",
              "      dtype='object', name='name', length=2885)"
            ]
          },
          "metadata": {
            "tags": []
          },
          "execution_count": 86
        }
      ]
    },
    {
      "cell_type": "code",
      "metadata": {
        "id": "W5DCWSL-pRUP",
        "colab_type": "code",
        "outputId": "de301436-8fe6-40a0-c19b-a267e097feeb",
        "colab": {
          "base_uri": "https://localhost:8080/",
          "height": 34
        }
      },
      "source": [
        "is_title = anime_titles.str.contains(string)  # 文字列 string(ここでは \"Dragon Ball\") が含まれるか否か\n",
        "is_title"
      ],
      "execution_count": 0,
      "outputs": [
        {
          "output_type": "execute_result",
          "data": {
            "text/plain": [
              "array([False, False, False, ..., False, False, False])"
            ]
          },
          "metadata": {
            "tags": []
          },
          "execution_count": 87
        }
      ]
    },
    {
      "cell_type": "code",
      "metadata": {
        "id": "ZlyLXaJiprfB",
        "colab_type": "code",
        "outputId": "62d90f21-acbd-4b08-e2e5-4943a56c2409",
        "colab": {
          "base_uri": "https://localhost:8080/",
          "height": 544
        }
      },
      "source": [
        "anime_titles[is_title]  # is_title == True のみ抽出"
      ],
      "execution_count": 0,
      "outputs": [
        {
          "output_type": "execute_result",
          "data": {
            "text/plain": [
              "Index(['Dragon Ball', 'Dragon Ball GT',\n",
              "       'Dragon Ball GT: Goku Gaiden! Yuuki no Akashi wa Suushinchuu',\n",
              "       'Dragon Ball Kai', 'Dragon Ball Kai (2014)',\n",
              "       'Dragon Ball Kai: Mirai ni Heiwa wo! Goku no Tamashii yo Eien ni',\n",
              "       'Dragon Ball Movie 1: Shen Long no Densetsu',\n",
              "       'Dragon Ball Movie 2: Majinjou no Nemuri Hime',\n",
              "       'Dragon Ball Movie 3: Makafushigi Daibouken',\n",
              "       'Dragon Ball Movie 4: Saikyou e no Michi', 'Dragon Ball Specials',\n",
              "       'Dragon Ball Z', 'Dragon Ball Z Movie 01: Ora no Gohan wo Kaese!!',\n",
              "       'Dragon Ball Z Movie 02: Kono Yo de Ichiban Tsuyoi Yatsu',\n",
              "       'Dragon Ball Z Movie 03: Chikyuu Marugoto Choukessen',\n",
              "       'Dragon Ball Z Movie 04: Super Saiyajin da Son Gokuu',\n",
              "       'Dragon Ball Z Movie 05: Tobikkiri no Saikyou tai Saikyou',\n",
              "       'Dragon Ball Z Movie 06: Gekitotsu!! 100-oku Power no Senshi-tachi',\n",
              "       'Dragon Ball Z Movie 07: Kyokugen Battle!! Sandai Super Saiyajin',\n",
              "       'Dragon Ball Z Movie 08: Moetsukiro!! Nessen, Ressen, Chougekisen',\n",
              "       'Dragon Ball Z Movie 09: Ginga Girigiri!! Bucchigiri no Sugoi Yatsu',\n",
              "       'Dragon Ball Z Movie 10: Kiken na Futari! Super Senshi wa Nemurenai',\n",
              "       'Dragon Ball Z Movie 11: Super Senshi Gekiha!! Katsu no wa Ore da',\n",
              "       'Dragon Ball Z Movie 12: Fukkatsu no Fusion!! Gokuu to Vegeta',\n",
              "       'Dragon Ball Z Movie 13: Ryuuken Bakuhatsu!! Goku ga Yaraneba Dare ga Yaru',\n",
              "       'Dragon Ball Z Movie 14: Kami to Kami',\n",
              "       'Dragon Ball Z Movie 15: Fukkatsu no F',\n",
              "       'Dragon Ball Z Special 1: Tatta Hitori no Saishuu Kessen',\n",
              "       'Dragon Ball Z Special 2: Zetsubou e no Hankou!! Nokosareta Chousenshi - Gohan to Trunks',\n",
              "       'Dragon Ball Z: Atsumare! Gokuu World',\n",
              "       'Dragon Ball Z: Saiya-jin Zetsumetsu Keikaku',\n",
              "       'Dragon Ball: Episode of Bardock',\n",
              "       'Dragon Ball: Ossu! Kaettekita Son Gokuu to Nakama-tachi!!',\n",
              "       'Dragon Ball: Super Saiya-jin Zetsumetsu Keikaku'],\n",
              "      dtype='object', name='name')"
            ]
          },
          "metadata": {
            "tags": []
          },
          "execution_count": 88
        }
      ]
    },
    {
      "cell_type": "markdown",
      "metadata": {
        "id": "7CUoquqSsZht",
        "colab_type": "text"
      },
      "source": [
        "## 強調フィルタリングを実装してみる\n",
        "\n",
        "cos類似度を使って各アニメ間の距離を計算する"
      ]
    },
    {
      "cell_type": "code",
      "metadata": {
        "id": "RtqsjlXMsh7t",
        "colab_type": "code",
        "outputId": "410b9962-5f0d-4c47-af28-5b241e866856",
        "colab": {
          "base_uri": "https://localhost:8080/",
          "height": 391
        }
      },
      "source": [
        "search_anime('Conan')"
      ],
      "execution_count": 0,
      "outputs": [
        {
          "output_type": "stream",
          "text": [
            "Index(['Detective Conan Movie 01: The Timed Skyscraper',\n",
            "       'Detective Conan Movie 02: The Fourteenth Target',\n",
            "       'Detective Conan Movie 03: The Last Wizard of the Century',\n",
            "       'Detective Conan Movie 04: Captured in Her Eyes',\n",
            "       'Detective Conan Movie 05: Countdown to Heaven',\n",
            "       'Detective Conan Movie 06: The Phantom of Baker Street',\n",
            "       'Detective Conan Movie 07: Crossroad in the Ancient Capital',\n",
            "       'Detective Conan Movie 08: Magician of the Silver Sky',\n",
            "       'Detective Conan Movie 09: Strategy Above the Depths',\n",
            "       'Detective Conan Movie 10: Requiem of the Detectives',\n",
            "       'Detective Conan Movie 11: Jolly Roger in the Deep Azure',\n",
            "       'Detective Conan Movie 12: Full Score of Fear',\n",
            "       'Detective Conan Movie 13: The Raven Chaser',\n",
            "       'Detective Conan Movie 14: The Lost Ship in the Sky',\n",
            "       'Detective Conan Movie 15: Quarter of Silence',\n",
            "       'Detective Conan Movie 16: The Eleventh Striker',\n",
            "       'Detective Conan Movie 17: Private Eye in the Distant Sea',\n",
            "       'Detective Conan Movie 18: The Sniper from Another Dimension',\n",
            "       'Detective Conan OVA 01: Conan vs. Kid vs. Yaiba',\n",
            "       'Lupin III vs. Detective Conan',\n",
            "       'Lupin III vs. Detective Conan: The Movie', 'Mirai Shounen Conan'],\n",
            "      dtype='object', name='name')\n"
          ],
          "name": "stdout"
        }
      ]
    },
    {
      "cell_type": "code",
      "metadata": {
        "id": "zYzqf2EhsdF6",
        "colab_type": "code",
        "outputId": "0bdffd32-2a13-438a-e931-0df6b7f22f49",
        "colab": {
          "base_uri": "https://localhost:8080/",
          "height": 177
        }
      },
      "source": [
        "# 対象アニメの行を取得\n",
        "title = \"Dragon Ball Z\"\n",
        "target_anime_1 = anime_data_pivot.iloc[anime_data_pivot.index == title]\n",
        "target_anime_1"
      ],
      "execution_count": 0,
      "outputs": [
        {
          "output_type": "execute_result",
          "data": {
            "text/html": [
              "<div>\n",
              "<style scoped>\n",
              "    .dataframe tbody tr th:only-of-type {\n",
              "        vertical-align: middle;\n",
              "    }\n",
              "\n",
              "    .dataframe tbody tr th {\n",
              "        vertical-align: top;\n",
              "    }\n",
              "\n",
              "    .dataframe thead th {\n",
              "        text-align: right;\n",
              "    }\n",
              "</style>\n",
              "<table border=\"1\" class=\"dataframe\">\n",
              "  <thead>\n",
              "    <tr style=\"text-align: right;\">\n",
              "      <th>user_id</th>\n",
              "      <th>1</th>\n",
              "      <th>2</th>\n",
              "      <th>3</th>\n",
              "      <th>5</th>\n",
              "      <th>7</th>\n",
              "      <th>8</th>\n",
              "      <th>9</th>\n",
              "      <th>10</th>\n",
              "      <th>11</th>\n",
              "      <th>12</th>\n",
              "      <th>14</th>\n",
              "      <th>15</th>\n",
              "      <th>16</th>\n",
              "      <th>17</th>\n",
              "      <th>18</th>\n",
              "      <th>19</th>\n",
              "      <th>20</th>\n",
              "      <th>21</th>\n",
              "      <th>22</th>\n",
              "      <th>23</th>\n",
              "      <th>24</th>\n",
              "      <th>25</th>\n",
              "      <th>26</th>\n",
              "      <th>27</th>\n",
              "      <th>28</th>\n",
              "      <th>29</th>\n",
              "      <th>30</th>\n",
              "      <th>31</th>\n",
              "      <th>32</th>\n",
              "      <th>33</th>\n",
              "      <th>34</th>\n",
              "      <th>36</th>\n",
              "      <th>37</th>\n",
              "      <th>38</th>\n",
              "      <th>39</th>\n",
              "      <th>40</th>\n",
              "      <th>41</th>\n",
              "      <th>42</th>\n",
              "      <th>43</th>\n",
              "      <th>44</th>\n",
              "      <th>...</th>\n",
              "      <th>73476</th>\n",
              "      <th>73478</th>\n",
              "      <th>73479</th>\n",
              "      <th>73480</th>\n",
              "      <th>73481</th>\n",
              "      <th>73482</th>\n",
              "      <th>73483</th>\n",
              "      <th>73484</th>\n",
              "      <th>73485</th>\n",
              "      <th>73486</th>\n",
              "      <th>73487</th>\n",
              "      <th>73488</th>\n",
              "      <th>73489</th>\n",
              "      <th>73490</th>\n",
              "      <th>73491</th>\n",
              "      <th>73492</th>\n",
              "      <th>73493</th>\n",
              "      <th>73494</th>\n",
              "      <th>73495</th>\n",
              "      <th>73496</th>\n",
              "      <th>73497</th>\n",
              "      <th>73498</th>\n",
              "      <th>73499</th>\n",
              "      <th>73500</th>\n",
              "      <th>73501</th>\n",
              "      <th>73502</th>\n",
              "      <th>73503</th>\n",
              "      <th>73504</th>\n",
              "      <th>73505</th>\n",
              "      <th>73506</th>\n",
              "      <th>73507</th>\n",
              "      <th>73508</th>\n",
              "      <th>73509</th>\n",
              "      <th>73510</th>\n",
              "      <th>73511</th>\n",
              "      <th>73512</th>\n",
              "      <th>73513</th>\n",
              "      <th>73514</th>\n",
              "      <th>73515</th>\n",
              "      <th>73516</th>\n",
              "    </tr>\n",
              "    <tr>\n",
              "      <th>name</th>\n",
              "      <th></th>\n",
              "      <th></th>\n",
              "      <th></th>\n",
              "      <th></th>\n",
              "      <th></th>\n",
              "      <th></th>\n",
              "      <th></th>\n",
              "      <th></th>\n",
              "      <th></th>\n",
              "      <th></th>\n",
              "      <th></th>\n",
              "      <th></th>\n",
              "      <th></th>\n",
              "      <th></th>\n",
              "      <th></th>\n",
              "      <th></th>\n",
              "      <th></th>\n",
              "      <th></th>\n",
              "      <th></th>\n",
              "      <th></th>\n",
              "      <th></th>\n",
              "      <th></th>\n",
              "      <th></th>\n",
              "      <th></th>\n",
              "      <th></th>\n",
              "      <th></th>\n",
              "      <th></th>\n",
              "      <th></th>\n",
              "      <th></th>\n",
              "      <th></th>\n",
              "      <th></th>\n",
              "      <th></th>\n",
              "      <th></th>\n",
              "      <th></th>\n",
              "      <th></th>\n",
              "      <th></th>\n",
              "      <th></th>\n",
              "      <th></th>\n",
              "      <th></th>\n",
              "      <th></th>\n",
              "      <th></th>\n",
              "      <th></th>\n",
              "      <th></th>\n",
              "      <th></th>\n",
              "      <th></th>\n",
              "      <th></th>\n",
              "      <th></th>\n",
              "      <th></th>\n",
              "      <th></th>\n",
              "      <th></th>\n",
              "      <th></th>\n",
              "      <th></th>\n",
              "      <th></th>\n",
              "      <th></th>\n",
              "      <th></th>\n",
              "      <th></th>\n",
              "      <th></th>\n",
              "      <th></th>\n",
              "      <th></th>\n",
              "      <th></th>\n",
              "      <th></th>\n",
              "      <th></th>\n",
              "      <th></th>\n",
              "      <th></th>\n",
              "      <th></th>\n",
              "      <th></th>\n",
              "      <th></th>\n",
              "      <th></th>\n",
              "      <th></th>\n",
              "      <th></th>\n",
              "      <th></th>\n",
              "      <th></th>\n",
              "      <th></th>\n",
              "      <th></th>\n",
              "      <th></th>\n",
              "      <th></th>\n",
              "      <th></th>\n",
              "      <th></th>\n",
              "      <th></th>\n",
              "      <th></th>\n",
              "      <th></th>\n",
              "    </tr>\n",
              "  </thead>\n",
              "  <tbody>\n",
              "    <tr>\n",
              "      <th>Dragon Ball Z</th>\n",
              "      <td>0.0</td>\n",
              "      <td>0.0</td>\n",
              "      <td>10.0</td>\n",
              "      <td>5.0</td>\n",
              "      <td>9.0</td>\n",
              "      <td>0.0</td>\n",
              "      <td>0.0</td>\n",
              "      <td>0.0</td>\n",
              "      <td>0.0</td>\n",
              "      <td>9.0</td>\n",
              "      <td>0.0</td>\n",
              "      <td>0.0</td>\n",
              "      <td>0.0</td>\n",
              "      <td>0.0</td>\n",
              "      <td>0.0</td>\n",
              "      <td>0.0</td>\n",
              "      <td>0.0</td>\n",
              "      <td>8.0</td>\n",
              "      <td>0.0</td>\n",
              "      <td>10.0</td>\n",
              "      <td>0.0</td>\n",
              "      <td>0.0</td>\n",
              "      <td>0.0</td>\n",
              "      <td>0.0</td>\n",
              "      <td>0.0</td>\n",
              "      <td>7.0</td>\n",
              "      <td>0.0</td>\n",
              "      <td>0.0</td>\n",
              "      <td>0.0</td>\n",
              "      <td>0.0</td>\n",
              "      <td>10.0</td>\n",
              "      <td>0.0</td>\n",
              "      <td>0.0</td>\n",
              "      <td>0.0</td>\n",
              "      <td>10.0</td>\n",
              "      <td>0.0</td>\n",
              "      <td>6.0</td>\n",
              "      <td>0.0</td>\n",
              "      <td>0.0</td>\n",
              "      <td>0.0</td>\n",
              "      <td>...</td>\n",
              "      <td>0.0</td>\n",
              "      <td>0.0</td>\n",
              "      <td>0.0</td>\n",
              "      <td>0.0</td>\n",
              "      <td>10.0</td>\n",
              "      <td>0.0</td>\n",
              "      <td>0.0</td>\n",
              "      <td>0.0</td>\n",
              "      <td>0.0</td>\n",
              "      <td>0.0</td>\n",
              "      <td>0.0</td>\n",
              "      <td>0.0</td>\n",
              "      <td>0.0</td>\n",
              "      <td>0.0</td>\n",
              "      <td>0.0</td>\n",
              "      <td>10.0</td>\n",
              "      <td>0.0</td>\n",
              "      <td>0.0</td>\n",
              "      <td>8.0</td>\n",
              "      <td>0.0</td>\n",
              "      <td>0.0</td>\n",
              "      <td>0.0</td>\n",
              "      <td>10.0</td>\n",
              "      <td>0.0</td>\n",
              "      <td>0.0</td>\n",
              "      <td>0.0</td>\n",
              "      <td>5.0</td>\n",
              "      <td>0.0</td>\n",
              "      <td>0.0</td>\n",
              "      <td>8.0</td>\n",
              "      <td>0.0</td>\n",
              "      <td>0.0</td>\n",
              "      <td>0.0</td>\n",
              "      <td>8.0</td>\n",
              "      <td>0.0</td>\n",
              "      <td>0.0</td>\n",
              "      <td>0.0</td>\n",
              "      <td>0.0</td>\n",
              "      <td>0.0</td>\n",
              "      <td>0.0</td>\n",
              "    </tr>\n",
              "  </tbody>\n",
              "</table>\n",
              "<p>1 rows × 69498 columns</p>\n",
              "</div>"
            ],
            "text/plain": [
              "user_id        1      2      3      5      ...  73513  73514  73515  73516\n",
              "name                                       ...                            \n",
              "Dragon Ball Z    0.0    0.0   10.0    5.0  ...    0.0    0.0    0.0    0.0\n",
              "\n",
              "[1 rows x 69498 columns]"
            ]
          },
          "metadata": {
            "tags": []
          },
          "execution_count": 90
        }
      ]
    },
    {
      "cell_type": "code",
      "metadata": {
        "id": "KFs9h4KZsUKV",
        "colab_type": "code",
        "outputId": "6b7a432b-7480-4ac3-8a2a-725eadb5f9e6",
        "colab": {
          "base_uri": "https://localhost:8080/",
          "height": 160
        }
      },
      "source": [
        "# 対象アニメの行を取得\n",
        "title = \"Naruto\"\n",
        "target_anime_2 = anime_data_pivot.iloc[anime_data_pivot.index == title]\n",
        "target_anime_2"
      ],
      "execution_count": 0,
      "outputs": [
        {
          "output_type": "execute_result",
          "data": {
            "text/html": [
              "<div>\n",
              "<style scoped>\n",
              "    .dataframe tbody tr th:only-of-type {\n",
              "        vertical-align: middle;\n",
              "    }\n",
              "\n",
              "    .dataframe tbody tr th {\n",
              "        vertical-align: top;\n",
              "    }\n",
              "\n",
              "    .dataframe thead th {\n",
              "        text-align: right;\n",
              "    }\n",
              "</style>\n",
              "<table border=\"1\" class=\"dataframe\">\n",
              "  <thead>\n",
              "    <tr style=\"text-align: right;\">\n",
              "      <th>user_id</th>\n",
              "      <th>1</th>\n",
              "      <th>2</th>\n",
              "      <th>3</th>\n",
              "      <th>5</th>\n",
              "      <th>7</th>\n",
              "      <th>8</th>\n",
              "      <th>9</th>\n",
              "      <th>10</th>\n",
              "      <th>11</th>\n",
              "      <th>12</th>\n",
              "      <th>14</th>\n",
              "      <th>15</th>\n",
              "      <th>16</th>\n",
              "      <th>17</th>\n",
              "      <th>18</th>\n",
              "      <th>19</th>\n",
              "      <th>20</th>\n",
              "      <th>21</th>\n",
              "      <th>22</th>\n",
              "      <th>23</th>\n",
              "      <th>24</th>\n",
              "      <th>25</th>\n",
              "      <th>26</th>\n",
              "      <th>27</th>\n",
              "      <th>28</th>\n",
              "      <th>29</th>\n",
              "      <th>30</th>\n",
              "      <th>31</th>\n",
              "      <th>32</th>\n",
              "      <th>33</th>\n",
              "      <th>34</th>\n",
              "      <th>36</th>\n",
              "      <th>37</th>\n",
              "      <th>38</th>\n",
              "      <th>39</th>\n",
              "      <th>40</th>\n",
              "      <th>41</th>\n",
              "      <th>42</th>\n",
              "      <th>43</th>\n",
              "      <th>44</th>\n",
              "      <th>...</th>\n",
              "      <th>73476</th>\n",
              "      <th>73478</th>\n",
              "      <th>73479</th>\n",
              "      <th>73480</th>\n",
              "      <th>73481</th>\n",
              "      <th>73482</th>\n",
              "      <th>73483</th>\n",
              "      <th>73484</th>\n",
              "      <th>73485</th>\n",
              "      <th>73486</th>\n",
              "      <th>73487</th>\n",
              "      <th>73488</th>\n",
              "      <th>73489</th>\n",
              "      <th>73490</th>\n",
              "      <th>73491</th>\n",
              "      <th>73492</th>\n",
              "      <th>73493</th>\n",
              "      <th>73494</th>\n",
              "      <th>73495</th>\n",
              "      <th>73496</th>\n",
              "      <th>73497</th>\n",
              "      <th>73498</th>\n",
              "      <th>73499</th>\n",
              "      <th>73500</th>\n",
              "      <th>73501</th>\n",
              "      <th>73502</th>\n",
              "      <th>73503</th>\n",
              "      <th>73504</th>\n",
              "      <th>73505</th>\n",
              "      <th>73506</th>\n",
              "      <th>73507</th>\n",
              "      <th>73508</th>\n",
              "      <th>73509</th>\n",
              "      <th>73510</th>\n",
              "      <th>73511</th>\n",
              "      <th>73512</th>\n",
              "      <th>73513</th>\n",
              "      <th>73514</th>\n",
              "      <th>73515</th>\n",
              "      <th>73516</th>\n",
              "    </tr>\n",
              "    <tr>\n",
              "      <th>name</th>\n",
              "      <th></th>\n",
              "      <th></th>\n",
              "      <th></th>\n",
              "      <th></th>\n",
              "      <th></th>\n",
              "      <th></th>\n",
              "      <th></th>\n",
              "      <th></th>\n",
              "      <th></th>\n",
              "      <th></th>\n",
              "      <th></th>\n",
              "      <th></th>\n",
              "      <th></th>\n",
              "      <th></th>\n",
              "      <th></th>\n",
              "      <th></th>\n",
              "      <th></th>\n",
              "      <th></th>\n",
              "      <th></th>\n",
              "      <th></th>\n",
              "      <th></th>\n",
              "      <th></th>\n",
              "      <th></th>\n",
              "      <th></th>\n",
              "      <th></th>\n",
              "      <th></th>\n",
              "      <th></th>\n",
              "      <th></th>\n",
              "      <th></th>\n",
              "      <th></th>\n",
              "      <th></th>\n",
              "      <th></th>\n",
              "      <th></th>\n",
              "      <th></th>\n",
              "      <th></th>\n",
              "      <th></th>\n",
              "      <th></th>\n",
              "      <th></th>\n",
              "      <th></th>\n",
              "      <th></th>\n",
              "      <th></th>\n",
              "      <th></th>\n",
              "      <th></th>\n",
              "      <th></th>\n",
              "      <th></th>\n",
              "      <th></th>\n",
              "      <th></th>\n",
              "      <th></th>\n",
              "      <th></th>\n",
              "      <th></th>\n",
              "      <th></th>\n",
              "      <th></th>\n",
              "      <th></th>\n",
              "      <th></th>\n",
              "      <th></th>\n",
              "      <th></th>\n",
              "      <th></th>\n",
              "      <th></th>\n",
              "      <th></th>\n",
              "      <th></th>\n",
              "      <th></th>\n",
              "      <th></th>\n",
              "      <th></th>\n",
              "      <th></th>\n",
              "      <th></th>\n",
              "      <th></th>\n",
              "      <th></th>\n",
              "      <th></th>\n",
              "      <th></th>\n",
              "      <th></th>\n",
              "      <th></th>\n",
              "      <th></th>\n",
              "      <th></th>\n",
              "      <th></th>\n",
              "      <th></th>\n",
              "      <th></th>\n",
              "      <th></th>\n",
              "      <th></th>\n",
              "      <th></th>\n",
              "      <th></th>\n",
              "      <th></th>\n",
              "    </tr>\n",
              "  </thead>\n",
              "  <tbody>\n",
              "    <tr>\n",
              "      <th>Naruto</th>\n",
              "      <td>0.0</td>\n",
              "      <td>0.0</td>\n",
              "      <td>8.0</td>\n",
              "      <td>6.0</td>\n",
              "      <td>0.0</td>\n",
              "      <td>0.0</td>\n",
              "      <td>0.0</td>\n",
              "      <td>0.0</td>\n",
              "      <td>0.0</td>\n",
              "      <td>0.0</td>\n",
              "      <td>0.0</td>\n",
              "      <td>0.0</td>\n",
              "      <td>0.0</td>\n",
              "      <td>0.0</td>\n",
              "      <td>0.0</td>\n",
              "      <td>0.0</td>\n",
              "      <td>0.0</td>\n",
              "      <td>8.0</td>\n",
              "      <td>0.0</td>\n",
              "      <td>0.0</td>\n",
              "      <td>0.0</td>\n",
              "      <td>0.0</td>\n",
              "      <td>0.0</td>\n",
              "      <td>0.0</td>\n",
              "      <td>9.0</td>\n",
              "      <td>0.0</td>\n",
              "      <td>0.0</td>\n",
              "      <td>0.0</td>\n",
              "      <td>0.0</td>\n",
              "      <td>0.0</td>\n",
              "      <td>9.0</td>\n",
              "      <td>0.0</td>\n",
              "      <td>0.0</td>\n",
              "      <td>6.0</td>\n",
              "      <td>10.0</td>\n",
              "      <td>0.0</td>\n",
              "      <td>10.0</td>\n",
              "      <td>0.0</td>\n",
              "      <td>8.0</td>\n",
              "      <td>0.0</td>\n",
              "      <td>...</td>\n",
              "      <td>0.0</td>\n",
              "      <td>0.0</td>\n",
              "      <td>0.0</td>\n",
              "      <td>7.0</td>\n",
              "      <td>9.0</td>\n",
              "      <td>0.0</td>\n",
              "      <td>0.0</td>\n",
              "      <td>0.0</td>\n",
              "      <td>0.0</td>\n",
              "      <td>7.0</td>\n",
              "      <td>0.0</td>\n",
              "      <td>0.0</td>\n",
              "      <td>0.0</td>\n",
              "      <td>0.0</td>\n",
              "      <td>0.0</td>\n",
              "      <td>8.0</td>\n",
              "      <td>8.0</td>\n",
              "      <td>10.0</td>\n",
              "      <td>7.0</td>\n",
              "      <td>10.0</td>\n",
              "      <td>8.0</td>\n",
              "      <td>0.0</td>\n",
              "      <td>8.0</td>\n",
              "      <td>8.0</td>\n",
              "      <td>0.0</td>\n",
              "      <td>0.0</td>\n",
              "      <td>0.0</td>\n",
              "      <td>0.0</td>\n",
              "      <td>0.0</td>\n",
              "      <td>0.0</td>\n",
              "      <td>0.0</td>\n",
              "      <td>0.0</td>\n",
              "      <td>0.0</td>\n",
              "      <td>0.0</td>\n",
              "      <td>0.0</td>\n",
              "      <td>0.0</td>\n",
              "      <td>0.0</td>\n",
              "      <td>0.0</td>\n",
              "      <td>0.0</td>\n",
              "      <td>0.0</td>\n",
              "    </tr>\n",
              "  </tbody>\n",
              "</table>\n",
              "<p>1 rows × 69498 columns</p>\n",
              "</div>"
            ],
            "text/plain": [
              "user_id  1      2      3      5      7      ...  73512  73513  73514  73515  73516\n",
              "name                                        ...                                   \n",
              "Naruto     0.0    0.0    8.0    6.0    0.0  ...    0.0    0.0    0.0    0.0    0.0\n",
              "\n",
              "[1 rows x 69498 columns]"
            ]
          },
          "metadata": {
            "tags": []
          },
          "execution_count": 91
        }
      ]
    },
    {
      "cell_type": "code",
      "metadata": {
        "id": "S5qFXc_As27k",
        "colab_type": "code",
        "outputId": "9e5b4939-5510-459c-f3f4-7441b52577a9",
        "colab": {
          "base_uri": "https://localhost:8080/",
          "height": 228
        }
      },
      "source": [
        "# 対象アニメの行を取得\n",
        "title = \"Detective Conan Movie 01: The Timed Skyscraper\"\n",
        "target_anime_3 = anime_data_pivot.iloc[anime_data_pivot.index == title]\n",
        "target_anime_3"
      ],
      "execution_count": 0,
      "outputs": [
        {
          "output_type": "execute_result",
          "data": {
            "text/html": [
              "<div>\n",
              "<style scoped>\n",
              "    .dataframe tbody tr th:only-of-type {\n",
              "        vertical-align: middle;\n",
              "    }\n",
              "\n",
              "    .dataframe tbody tr th {\n",
              "        vertical-align: top;\n",
              "    }\n",
              "\n",
              "    .dataframe thead th {\n",
              "        text-align: right;\n",
              "    }\n",
              "</style>\n",
              "<table border=\"1\" class=\"dataframe\">\n",
              "  <thead>\n",
              "    <tr style=\"text-align: right;\">\n",
              "      <th>user_id</th>\n",
              "      <th>1</th>\n",
              "      <th>2</th>\n",
              "      <th>3</th>\n",
              "      <th>5</th>\n",
              "      <th>7</th>\n",
              "      <th>8</th>\n",
              "      <th>9</th>\n",
              "      <th>10</th>\n",
              "      <th>11</th>\n",
              "      <th>12</th>\n",
              "      <th>14</th>\n",
              "      <th>15</th>\n",
              "      <th>16</th>\n",
              "      <th>17</th>\n",
              "      <th>18</th>\n",
              "      <th>19</th>\n",
              "      <th>20</th>\n",
              "      <th>21</th>\n",
              "      <th>22</th>\n",
              "      <th>23</th>\n",
              "      <th>24</th>\n",
              "      <th>25</th>\n",
              "      <th>26</th>\n",
              "      <th>27</th>\n",
              "      <th>28</th>\n",
              "      <th>29</th>\n",
              "      <th>30</th>\n",
              "      <th>31</th>\n",
              "      <th>32</th>\n",
              "      <th>33</th>\n",
              "      <th>34</th>\n",
              "      <th>36</th>\n",
              "      <th>37</th>\n",
              "      <th>38</th>\n",
              "      <th>39</th>\n",
              "      <th>40</th>\n",
              "      <th>41</th>\n",
              "      <th>42</th>\n",
              "      <th>43</th>\n",
              "      <th>44</th>\n",
              "      <th>...</th>\n",
              "      <th>73476</th>\n",
              "      <th>73478</th>\n",
              "      <th>73479</th>\n",
              "      <th>73480</th>\n",
              "      <th>73481</th>\n",
              "      <th>73482</th>\n",
              "      <th>73483</th>\n",
              "      <th>73484</th>\n",
              "      <th>73485</th>\n",
              "      <th>73486</th>\n",
              "      <th>73487</th>\n",
              "      <th>73488</th>\n",
              "      <th>73489</th>\n",
              "      <th>73490</th>\n",
              "      <th>73491</th>\n",
              "      <th>73492</th>\n",
              "      <th>73493</th>\n",
              "      <th>73494</th>\n",
              "      <th>73495</th>\n",
              "      <th>73496</th>\n",
              "      <th>73497</th>\n",
              "      <th>73498</th>\n",
              "      <th>73499</th>\n",
              "      <th>73500</th>\n",
              "      <th>73501</th>\n",
              "      <th>73502</th>\n",
              "      <th>73503</th>\n",
              "      <th>73504</th>\n",
              "      <th>73505</th>\n",
              "      <th>73506</th>\n",
              "      <th>73507</th>\n",
              "      <th>73508</th>\n",
              "      <th>73509</th>\n",
              "      <th>73510</th>\n",
              "      <th>73511</th>\n",
              "      <th>73512</th>\n",
              "      <th>73513</th>\n",
              "      <th>73514</th>\n",
              "      <th>73515</th>\n",
              "      <th>73516</th>\n",
              "    </tr>\n",
              "    <tr>\n",
              "      <th>name</th>\n",
              "      <th></th>\n",
              "      <th></th>\n",
              "      <th></th>\n",
              "      <th></th>\n",
              "      <th></th>\n",
              "      <th></th>\n",
              "      <th></th>\n",
              "      <th></th>\n",
              "      <th></th>\n",
              "      <th></th>\n",
              "      <th></th>\n",
              "      <th></th>\n",
              "      <th></th>\n",
              "      <th></th>\n",
              "      <th></th>\n",
              "      <th></th>\n",
              "      <th></th>\n",
              "      <th></th>\n",
              "      <th></th>\n",
              "      <th></th>\n",
              "      <th></th>\n",
              "      <th></th>\n",
              "      <th></th>\n",
              "      <th></th>\n",
              "      <th></th>\n",
              "      <th></th>\n",
              "      <th></th>\n",
              "      <th></th>\n",
              "      <th></th>\n",
              "      <th></th>\n",
              "      <th></th>\n",
              "      <th></th>\n",
              "      <th></th>\n",
              "      <th></th>\n",
              "      <th></th>\n",
              "      <th></th>\n",
              "      <th></th>\n",
              "      <th></th>\n",
              "      <th></th>\n",
              "      <th></th>\n",
              "      <th></th>\n",
              "      <th></th>\n",
              "      <th></th>\n",
              "      <th></th>\n",
              "      <th></th>\n",
              "      <th></th>\n",
              "      <th></th>\n",
              "      <th></th>\n",
              "      <th></th>\n",
              "      <th></th>\n",
              "      <th></th>\n",
              "      <th></th>\n",
              "      <th></th>\n",
              "      <th></th>\n",
              "      <th></th>\n",
              "      <th></th>\n",
              "      <th></th>\n",
              "      <th></th>\n",
              "      <th></th>\n",
              "      <th></th>\n",
              "      <th></th>\n",
              "      <th></th>\n",
              "      <th></th>\n",
              "      <th></th>\n",
              "      <th></th>\n",
              "      <th></th>\n",
              "      <th></th>\n",
              "      <th></th>\n",
              "      <th></th>\n",
              "      <th></th>\n",
              "      <th></th>\n",
              "      <th></th>\n",
              "      <th></th>\n",
              "      <th></th>\n",
              "      <th></th>\n",
              "      <th></th>\n",
              "      <th></th>\n",
              "      <th></th>\n",
              "      <th></th>\n",
              "      <th></th>\n",
              "      <th></th>\n",
              "    </tr>\n",
              "  </thead>\n",
              "  <tbody>\n",
              "    <tr>\n",
              "      <th>Detective Conan Movie 01: The Timed Skyscraper</th>\n",
              "      <td>0.0</td>\n",
              "      <td>0.0</td>\n",
              "      <td>0.0</td>\n",
              "      <td>0.0</td>\n",
              "      <td>0.0</td>\n",
              "      <td>0.0</td>\n",
              "      <td>0.0</td>\n",
              "      <td>0.0</td>\n",
              "      <td>0.0</td>\n",
              "      <td>0.0</td>\n",
              "      <td>0.0</td>\n",
              "      <td>0.0</td>\n",
              "      <td>0.0</td>\n",
              "      <td>0.0</td>\n",
              "      <td>0.0</td>\n",
              "      <td>0.0</td>\n",
              "      <td>0.0</td>\n",
              "      <td>0.0</td>\n",
              "      <td>0.0</td>\n",
              "      <td>0.0</td>\n",
              "      <td>0.0</td>\n",
              "      <td>0.0</td>\n",
              "      <td>0.0</td>\n",
              "      <td>0.0</td>\n",
              "      <td>0.0</td>\n",
              "      <td>0.0</td>\n",
              "      <td>0.0</td>\n",
              "      <td>0.0</td>\n",
              "      <td>0.0</td>\n",
              "      <td>0.0</td>\n",
              "      <td>0.0</td>\n",
              "      <td>0.0</td>\n",
              "      <td>0.0</td>\n",
              "      <td>0.0</td>\n",
              "      <td>0.0</td>\n",
              "      <td>0.0</td>\n",
              "      <td>0.0</td>\n",
              "      <td>0.0</td>\n",
              "      <td>0.0</td>\n",
              "      <td>0.0</td>\n",
              "      <td>...</td>\n",
              "      <td>0.0</td>\n",
              "      <td>0.0</td>\n",
              "      <td>0.0</td>\n",
              "      <td>0.0</td>\n",
              "      <td>0.0</td>\n",
              "      <td>0.0</td>\n",
              "      <td>0.0</td>\n",
              "      <td>0.0</td>\n",
              "      <td>0.0</td>\n",
              "      <td>0.0</td>\n",
              "      <td>0.0</td>\n",
              "      <td>0.0</td>\n",
              "      <td>0.0</td>\n",
              "      <td>0.0</td>\n",
              "      <td>0.0</td>\n",
              "      <td>0.0</td>\n",
              "      <td>0.0</td>\n",
              "      <td>0.0</td>\n",
              "      <td>0.0</td>\n",
              "      <td>0.0</td>\n",
              "      <td>0.0</td>\n",
              "      <td>0.0</td>\n",
              "      <td>0.0</td>\n",
              "      <td>0.0</td>\n",
              "      <td>0.0</td>\n",
              "      <td>0.0</td>\n",
              "      <td>0.0</td>\n",
              "      <td>0.0</td>\n",
              "      <td>0.0</td>\n",
              "      <td>0.0</td>\n",
              "      <td>0.0</td>\n",
              "      <td>0.0</td>\n",
              "      <td>0.0</td>\n",
              "      <td>0.0</td>\n",
              "      <td>0.0</td>\n",
              "      <td>0.0</td>\n",
              "      <td>0.0</td>\n",
              "      <td>0.0</td>\n",
              "      <td>0.0</td>\n",
              "      <td>0.0</td>\n",
              "    </tr>\n",
              "  </tbody>\n",
              "</table>\n",
              "<p>1 rows × 69498 columns</p>\n",
              "</div>"
            ],
            "text/plain": [
              "user_id                                         1      2      ...  73515  73516\n",
              "name                                                          ...              \n",
              "Detective Conan Movie 01: The Timed Skyscraper    0.0    0.0  ...    0.0    0.0\n",
              "\n",
              "[1 rows x 69498 columns]"
            ]
          },
          "metadata": {
            "tags": []
          },
          "execution_count": 92
        }
      ]
    },
    {
      "cell_type": "code",
      "metadata": {
        "id": "64agW-1nssYN",
        "colab_type": "code",
        "outputId": "eb432004-2615-4a6e-f1d9-a02d72fddd61",
        "colab": {
          "base_uri": "https://localhost:8080/",
          "height": 34
        }
      },
      "source": [
        "# ベクトル化\n",
        "target_vec_1 = target_anime_1.values \n",
        "target_vec_2 = target_anime_2.values \n",
        "target_vec_3 = target_anime_3.values \n",
        "target_vec_1"
      ],
      "execution_count": 0,
      "outputs": [
        {
          "output_type": "execute_result",
          "data": {
            "text/plain": [
              "array([[ 0.,  0., 10., ...,  0.,  0.,  0.]])"
            ]
          },
          "metadata": {
            "tags": []
          },
          "execution_count": 93
        }
      ]
    },
    {
      "cell_type": "code",
      "metadata": {
        "id": "W8GSUgUJsW3C",
        "colab_type": "code",
        "outputId": "3b753fff-953b-422f-ce83-c0c9c9552b41",
        "colab": {
          "base_uri": "https://localhost:8080/",
          "height": 34
        }
      },
      "source": [
        "# ドラゴンボール vs ナルト\n",
        "cosine_similarity(target_vec_1, target_vec_2)"
      ],
      "execution_count": 0,
      "outputs": [
        {
          "output_type": "execute_result",
          "data": {
            "text/plain": [
              "array([[0.45740815]])"
            ]
          },
          "metadata": {
            "tags": []
          },
          "execution_count": 94
        }
      ]
    },
    {
      "cell_type": "code",
      "metadata": {
        "id": "Ula0K3Fet7bu",
        "colab_type": "code",
        "outputId": "910e52a8-d839-4566-9357-91cfdefec4bb",
        "colab": {
          "base_uri": "https://localhost:8080/",
          "height": 34
        }
      },
      "source": [
        "# ドラゴンボール vs コナン\n",
        "cosine_similarity(target_vec_1, target_vec_3)"
      ],
      "execution_count": 0,
      "outputs": [
        {
          "output_type": "execute_result",
          "data": {
            "text/plain": [
              "array([[0.12150638]])"
            ]
          },
          "metadata": {
            "tags": []
          },
          "execution_count": 95
        }
      ]
    },
    {
      "cell_type": "code",
      "metadata": {
        "id": "ddNqOvvvt9wU",
        "colab_type": "code",
        "outputId": "0afaf2ff-f6ce-4dd5-e186-58cbd62371a3",
        "colab": {
          "base_uri": "https://localhost:8080/",
          "height": 34
        }
      },
      "source": [
        "# ナルト vs コナン\n",
        "cosine_similarity(target_vec_2, target_vec_3)"
      ],
      "execution_count": 0,
      "outputs": [
        {
          "output_type": "execute_result",
          "data": {
            "text/plain": [
              "array([[0.12011024]])"
            ]
          },
          "metadata": {
            "tags": []
          },
          "execution_count": 96
        }
      ]
    },
    {
      "cell_type": "markdown",
      "metadata": {
        "id": "UDViCMUzwWbS",
        "colab_type": "text"
      },
      "source": [
        "すべてのアニメと比較してみる"
      ]
    },
    {
      "cell_type": "code",
      "metadata": {
        "id": "kp1KFWptuJL0",
        "colab_type": "code",
        "outputId": "ae5f7a0b-1010-4b12-8c53-ad7ea9699422",
        "colab": {
          "base_uri": "https://localhost:8080/",
          "height": 136
        }
      },
      "source": [
        "all_vecs = anime_data_pivot.values\n",
        "all_vecs"
      ],
      "execution_count": 0,
      "outputs": [
        {
          "output_type": "execute_result",
          "data": {
            "text/plain": [
              "array([[0., 0., 0., ..., 0., 0., 0.],\n",
              "       [0., 0., 0., ..., 0., 0., 0.],\n",
              "       [0., 0., 0., ..., 0., 0., 0.],\n",
              "       ...,\n",
              "       [0., 0., 0., ..., 0., 0., 0.],\n",
              "       [0., 0., 0., ..., 0., 0., 0.],\n",
              "       [0., 0., 0., ..., 0., 0., 0.]])"
            ]
          },
          "metadata": {
            "tags": []
          },
          "execution_count": 97
        }
      ]
    },
    {
      "cell_type": "code",
      "metadata": {
        "id": "jARdJIxywZ9J",
        "colab_type": "code",
        "outputId": "c06c3020-dc57-4c84-9850-b25c08ffcc09",
        "colab": {
          "base_uri": "https://localhost:8080/",
          "height": 51
        }
      },
      "source": [
        "# ドラゴンボール vs 他すべて\n",
        "all_sim = cosine_similarity(target_vec_1, all_vecs)\n",
        "all_sim"
      ],
      "execution_count": 0,
      "outputs": [
        {
          "output_type": "execute_result",
          "data": {
            "text/plain": [
              "array([[0.06105978, 0.06263422, 0.08327553, ..., 0.10921153, 0.09079535,\n",
              "        0.10446003]])"
            ]
          },
          "metadata": {
            "tags": []
          },
          "execution_count": 98
        }
      ]
    },
    {
      "cell_type": "code",
      "metadata": {
        "id": "nhZJmU-vwho1",
        "colab_type": "code",
        "outputId": "41c5fe85-bebf-44f3-be21-35f90eb4b14d",
        "colab": {
          "base_uri": "https://localhost:8080/",
          "height": 34
        }
      },
      "source": [
        "sort_i = all_sim[0].argsort()[::-1]  # 降順にソートしたときのインデックスを持ってくる\n",
        "sort_i"
      ],
      "execution_count": 0,
      "outputs": [
        {
          "output_type": "execute_result",
          "data": {
            "text/plain": [
              "array([ 619,  608,  609, ..., 1402,  136, 2264])"
            ]
          },
          "metadata": {
            "tags": []
          },
          "execution_count": 99
        }
      ]
    },
    {
      "cell_type": "code",
      "metadata": {
        "id": "OJYrtBqnwvc_",
        "colab_type": "code",
        "outputId": "f03e2179-d8f2-4ba4-e6c2-365276a7992e",
        "colab": {
          "base_uri": "https://localhost:8080/",
          "height": 272
        }
      },
      "source": [
        "anime_data_pivot.index[sort_i]  # アニメの取得"
      ],
      "execution_count": 0,
      "outputs": [
        {
          "output_type": "execute_result",
          "data": {
            "text/plain": [
              "Index(['Dragon Ball Z', 'Dragon Ball', 'Dragon Ball GT', 'Naruto',\n",
              "       'Death Note',\n",
              "       'Dragon Ball Z Movie 08: Moetsukiro!! Nessen, Ressen, Chougekisen',\n",
              "       'Fullmetal Alchemist',\n",
              "       'Dragon Ball Z Movie 05: Tobikkiri no Saikyou tai Saikyou',\n",
              "       'Dragon Ball Z Movie 03: Chikyuu Marugoto Choukessen',\n",
              "       'Dragon Ball Z Movie 01: Ora no Gohan wo Kaese!!',\n",
              "       ...\n",
              "       'Kizumonogatari II: Nekketsu-hen', 'Koe no Katachi',\n",
              "       'Dungeon ni Deai wo Motomeru no wa Machigatteiru Darou ka OVA',\n",
              "       'Ajin Part 2: Shoutotsu', 'Aikatsu!',\n",
              "       'Yu☆Gi☆Oh!: The Dark Side of Dimensions', 'Orange: Mirai',\n",
              "       'Koro-sensei Q!', 'Ansatsu Kyoushitsu: 365-nichi no Jikan',\n",
              "       'Seitokai Yakuindomo* OVA'],\n",
              "      dtype='object', name='name', length=2885)"
            ]
          },
          "metadata": {
            "tags": []
          },
          "execution_count": 100
        }
      ]
    },
    {
      "cell_type": "code",
      "metadata": {
        "id": "oNM6KE_SxCDA",
        "colab_type": "code",
        "outputId": "348a9634-50c1-4dd4-910f-0601116fa827",
        "colab": {
          "base_uri": "https://localhost:8080/",
          "height": 323
        }
      },
      "source": [
        "n_show = 5 # 何件見せるか\n",
        "for rank, idx in enumerate(sort_i):\n",
        "  if rank == 0:  # 1番近いのは自分自身なのでスキップ\n",
        "    continue\n",
        "  print(\"類似度:\", all_sim[0][idx])\n",
        "  print(\"タイトル:\", anime_data_pivot.index[idx])\n",
        "  print()\n",
        "  if rank > n_show:\n",
        "    break"
      ],
      "execution_count": 0,
      "outputs": [
        {
          "output_type": "stream",
          "text": [
            "類似度: 0.7616705639109382\n",
            "タイトル: Dragon Ball\n",
            "\n",
            "類似度: 0.724290460078516\n",
            "タイトル: Dragon Ball GT\n",
            "\n",
            "類似度: 0.4574081466474529\n",
            "タイトル: Naruto\n",
            "\n",
            "類似度: 0.44788702775303846\n",
            "タイトル: Death Note\n",
            "\n",
            "類似度: 0.4314398328701657\n",
            "タイトル: Dragon Ball Z Movie 08: Moetsukiro!! Nessen, Ressen, Chougekisen\n",
            "\n",
            "類似度: 0.4137075322327213\n",
            "タイトル: Fullmetal Alchemist\n",
            "\n"
          ],
          "name": "stdout"
        }
      ]
    },
    {
      "cell_type": "markdown",
      "metadata": {
        "id": "Z3hFpbwCyHyi",
        "colab_type": "text"
      },
      "source": [
        "##### 演習\n",
        "これまでのコードをまとめて、タイトルを入れるとおすすめアニメを5件推薦してくれる関数を作りましょう"
      ]
    },
    {
      "cell_type": "code",
      "metadata": {
        "id": "2VBNTU_SyRE4",
        "colab_type": "code",
        "colab": {}
      },
      "source": [
        "def recomend_anime(title, n=5):\n",
        "  target_anime_vec = anime_data_pivot.iloc[anime_data_pivot.index == title].values\n",
        "  all_sim = cosine_similarity(target_anime_vec, all_vecs)\n",
        "  sort_i = all_sim[0].argsort()[::-1] \n",
        "\n",
        "  for rank, idx in enumerate(sort_i):\n",
        "    if rank == 0:  # 1番近いのは自分自身なのでスキップ\n",
        "      continue\n",
        "    print(\"類似度:\", all_sim[0][idx])\n",
        "    print(\"タイトル:\", anime_data_pivot.index[idx])\n",
        "    print()\n",
        "    if rank > n:\n",
        "      break"
      ],
      "execution_count": 0,
      "outputs": []
    },
    {
      "cell_type": "markdown",
      "metadata": {
        "id": "yKLm0JmbyYMx",
        "colab_type": "text"
      },
      "source": [
        "##### 解答"
      ]
    },
    {
      "cell_type": "code",
      "metadata": {
        "id": "WFkXgZJVyXgE",
        "colab_type": "code",
        "colab": {}
      },
      "source": [
        "def recomend_anime(title, n=5):\n",
        "  target_anime_vec = anime_data_pivot.iloc[anime_data_pivot.index == title].values\n",
        "  all_sim = cosine_similarity(target_anime_vec, all_vecs)\n",
        "  sort_i = all_sim[0].argsort()[::-1] \n",
        "\n",
        "  for rank, idx in enumerate(sort_i):\n",
        "    if rank == 0:  # 1番近いのは自分自身なのでスキップ\n",
        "      continue\n",
        "    print(\"類似度:\", all_sim[0][idx])\n",
        "    print(\"タイトル:\", anime_data_pivot.index[idx])\n",
        "    print()\n",
        "    if rank > n:\n",
        "      break"
      ],
      "execution_count": 0,
      "outputs": []
    },
    {
      "cell_type": "code",
      "metadata": {
        "id": "jez8Xb8uy9BX",
        "colab_type": "code",
        "outputId": "50603152-ea58-449b-acdd-9e5b02048239",
        "colab": {
          "base_uri": "https://localhost:8080/",
          "height": 102
        }
      },
      "source": [
        "search_anime('Lupin')"
      ],
      "execution_count": 0,
      "outputs": [
        {
          "output_type": "stream",
          "text": [
            "Index(['Lupin III', 'Lupin III (2015)', 'Lupin III vs. Detective Conan',\n",
            "       'Lupin III vs. Detective Conan: The Movie',\n",
            "       'Lupin III: Cagliostro no Shiro', 'Lupin III: Part II',\n",
            "       'Lupin the Third: Mine Fujiko to Iu Onna'],\n",
            "      dtype='object', name='name')\n"
          ],
          "name": "stdout"
        }
      ]
    },
    {
      "cell_type": "code",
      "metadata": {
        "id": "n8cCvdS0y4KD",
        "colab_type": "code",
        "outputId": "df599ce6-29aa-4197-8da9-bdcedabd6bca",
        "colab": {
          "base_uri": "https://localhost:8080/",
          "height": 323
        }
      },
      "source": [
        "recomend_anime(\"Lupin III\")"
      ],
      "execution_count": 0,
      "outputs": [
        {
          "output_type": "stream",
          "text": [
            "類似度: 0.4203772948266759\n",
            "タイトル: Lupin III: Part II\n",
            "\n",
            "類似度: 0.24333305929111115\n",
            "タイトル: Lupin III: Cagliostro no Shiro\n",
            "\n",
            "類似度: 0.2101488293657149\n",
            "タイトル: Lupin III vs. Detective Conan\n",
            "\n",
            "類似度: 0.20205791407232393\n",
            "タイトル: Lupin the Third: Mine Fujiko to Iu Onna\n",
            "\n",
            "類似度: 0.20033306101723725\n",
            "タイトル: The Big O\n",
            "\n",
            "類似度: 0.18747247292462377\n",
            "タイトル: Cowboy Bebop\n",
            "\n"
          ],
          "name": "stdout"
        }
      ]
    },
    {
      "cell_type": "markdown",
      "metadata": {
        "id": "6gYhCZURG6uX",
        "colab_type": "text"
      },
      "source": [
        "##### 一旦資料に戻ります"
      ]
    },
    {
      "cell_type": "markdown",
      "metadata": {
        "id": "jnwR0vR5hEEV",
        "colab_type": "text"
      },
      "source": [
        "## クラスタリング\n",
        "\n",
        "KNNというアルゴリズムを使って、好みが近いと思われるアニメを分類してみる"
      ]
    },
    {
      "cell_type": "markdown",
      "metadata": {
        "id": "lN8ZHCBk2DYI",
        "colab_type": "text"
      },
      "source": [
        "データ数が多いので、レビューが1000件サンプリング"
      ]
    },
    {
      "cell_type": "code",
      "metadata": {
        "id": "_RW7jh3Q3YHj",
        "colab_type": "code",
        "outputId": "31618f8b-33d6-42c9-ec51-c8899d4561a3",
        "colab": {
          "base_uri": "https://localhost:8080/",
          "height": 34
        }
      },
      "source": [
        "anime_data_sampled = anime_data_pivot.sample(1000, random_state=0)\n",
        "anime_data_sampled.shape\n"
      ],
      "execution_count": 0,
      "outputs": [
        {
          "output_type": "execute_result",
          "data": {
            "text/plain": [
              "(1000, 69498)"
            ]
          },
          "metadata": {
            "tags": []
          },
          "execution_count": 105
        }
      ]
    },
    {
      "cell_type": "markdown",
      "metadata": {
        "id": "62RQ-Tbe6wq_",
        "colab_type": "text"
      },
      "source": [
        "100件以上レビューしているユーザーに絞る"
      ]
    },
    {
      "cell_type": "code",
      "metadata": {
        "id": "dBUIw_pc4Dxn",
        "colab_type": "code",
        "outputId": "8ab55441-56f8-4de8-fad3-e80b10588dcd",
        "colab": {
          "base_uri": "https://localhost:8080/",
          "height": 34
        }
      },
      "source": [
        "review_users = anime_data_sampled.columns[anime_data_sampled.apply(lambda x: sum(x != 0), axis=0) > 100]\n",
        "anime_data_sampled = anime_data_sampled[review_users]\n",
        "anime_data_sampled.shape"
      ],
      "execution_count": 0,
      "outputs": [
        {
          "output_type": "execute_result",
          "data": {
            "text/plain": [
              "(1000, 4067)"
            ]
          },
          "metadata": {
            "tags": []
          },
          "execution_count": 106
        }
      ]
    },
    {
      "cell_type": "markdown",
      "metadata": {
        "id": "CLQCzTS0fei9",
        "colab_type": "text"
      },
      "source": [
        "↑で作成したテーブルを使用しますが、0が多くとても疎な行列(Sparse martrix)です\n",
        "\n",
        "計算を効率化するために少しデータを変換します"
      ]
    },
    {
      "cell_type": "code",
      "metadata": {
        "id": "od_hyiS600Sh",
        "colab_type": "code",
        "colab": {}
      },
      "source": [
        "sampled_vec = anime_data_sampled.values\n",
        "sampled_vec = csr_matrix(sampled_vec)  # 疎行列対応"
      ],
      "execution_count": 0,
      "outputs": []
    },
    {
      "cell_type": "markdown",
      "metadata": {
        "id": "9wqZf2zV8aG8",
        "colab_type": "text"
      },
      "source": [
        "クラスタリングを行う\n",
        "\n",
        "時間がかかるので、kmeansの学習過程を見てみる\n",
        "\n",
        "\n",
        "[Visualize KNN](http://bl.ocks.org/keisuke-osone/099f07d2b967b4e29aef)"
      ]
    },
    {
      "cell_type": "code",
      "metadata": {
        "id": "av7YqAB8vrBg",
        "colab_type": "code",
        "outputId": "318b9938-84c3-49e3-99cc-5197aa9f0b55",
        "colab": {
          "base_uri": "https://localhost:8080/",
          "height": 51
        }
      },
      "source": [
        "%%time\n",
        "cls = 10\n",
        "pred = KMeans(n_clusters=cls, random_state=0).fit_predict(sampled_vec)"
      ],
      "execution_count": 0,
      "outputs": [
        {
          "output_type": "stream",
          "text": [
            "CPU times: user 1min 34s, sys: 15.3 s, total: 1min 49s\n",
            "Wall time: 1min 31s\n"
          ],
          "name": "stdout"
        }
      ]
    },
    {
      "cell_type": "code",
      "metadata": {
        "id": "CMxR3e93jKC3",
        "colab_type": "code",
        "outputId": "ee114ef1-e4ed-40b3-c128-953eca7baae4",
        "colab": {
          "base_uri": "https://localhost:8080/",
          "height": 471
        }
      },
      "source": [
        "anime_data_sampled[\"pred_cls\"] = pred\n",
        "anime_data_sampled.head()"
      ],
      "execution_count": 0,
      "outputs": [
        {
          "output_type": "execute_result",
          "data": {
            "text/html": [
              "<div>\n",
              "<style scoped>\n",
              "    .dataframe tbody tr th:only-of-type {\n",
              "        vertical-align: middle;\n",
              "    }\n",
              "\n",
              "    .dataframe tbody tr th {\n",
              "        vertical-align: top;\n",
              "    }\n",
              "\n",
              "    .dataframe thead th {\n",
              "        text-align: right;\n",
              "    }\n",
              "</style>\n",
              "<table border=\"1\" class=\"dataframe\">\n",
              "  <thead>\n",
              "    <tr style=\"text-align: right;\">\n",
              "      <th>user_id</th>\n",
              "      <th>5</th>\n",
              "      <th>7</th>\n",
              "      <th>17</th>\n",
              "      <th>43</th>\n",
              "      <th>46</th>\n",
              "      <th>123</th>\n",
              "      <th>160</th>\n",
              "      <th>210</th>\n",
              "      <th>226</th>\n",
              "      <th>248</th>\n",
              "      <th>256</th>\n",
              "      <th>271</th>\n",
              "      <th>294</th>\n",
              "      <th>392</th>\n",
              "      <th>395</th>\n",
              "      <th>446</th>\n",
              "      <th>455</th>\n",
              "      <th>460</th>\n",
              "      <th>478</th>\n",
              "      <th>492</th>\n",
              "      <th>511</th>\n",
              "      <th>530</th>\n",
              "      <th>540</th>\n",
              "      <th>553</th>\n",
              "      <th>565</th>\n",
              "      <th>634</th>\n",
              "      <th>661</th>\n",
              "      <th>670</th>\n",
              "      <th>721</th>\n",
              "      <th>741</th>\n",
              "      <th>768</th>\n",
              "      <th>771</th>\n",
              "      <th>784</th>\n",
              "      <th>786</th>\n",
              "      <th>813</th>\n",
              "      <th>814</th>\n",
              "      <th>861</th>\n",
              "      <th>943</th>\n",
              "      <th>946</th>\n",
              "      <th>954</th>\n",
              "      <th>...</th>\n",
              "      <th>72947</th>\n",
              "      <th>72968</th>\n",
              "      <th>72997</th>\n",
              "      <th>73070</th>\n",
              "      <th>73075</th>\n",
              "      <th>73099</th>\n",
              "      <th>73111</th>\n",
              "      <th>73114</th>\n",
              "      <th>73132</th>\n",
              "      <th>73135</th>\n",
              "      <th>73153</th>\n",
              "      <th>73159</th>\n",
              "      <th>73160</th>\n",
              "      <th>73162</th>\n",
              "      <th>73177</th>\n",
              "      <th>73234</th>\n",
              "      <th>73262</th>\n",
              "      <th>73272</th>\n",
              "      <th>73276</th>\n",
              "      <th>73282</th>\n",
              "      <th>73286</th>\n",
              "      <th>73288</th>\n",
              "      <th>73301</th>\n",
              "      <th>73329</th>\n",
              "      <th>73340</th>\n",
              "      <th>73346</th>\n",
              "      <th>73356</th>\n",
              "      <th>73359</th>\n",
              "      <th>73362</th>\n",
              "      <th>73378</th>\n",
              "      <th>73379</th>\n",
              "      <th>73380</th>\n",
              "      <th>73389</th>\n",
              "      <th>73395</th>\n",
              "      <th>73406</th>\n",
              "      <th>73417</th>\n",
              "      <th>73457</th>\n",
              "      <th>73499</th>\n",
              "      <th>73502</th>\n",
              "      <th>pred_cls</th>\n",
              "    </tr>\n",
              "    <tr>\n",
              "      <th>name</th>\n",
              "      <th></th>\n",
              "      <th></th>\n",
              "      <th></th>\n",
              "      <th></th>\n",
              "      <th></th>\n",
              "      <th></th>\n",
              "      <th></th>\n",
              "      <th></th>\n",
              "      <th></th>\n",
              "      <th></th>\n",
              "      <th></th>\n",
              "      <th></th>\n",
              "      <th></th>\n",
              "      <th></th>\n",
              "      <th></th>\n",
              "      <th></th>\n",
              "      <th></th>\n",
              "      <th></th>\n",
              "      <th></th>\n",
              "      <th></th>\n",
              "      <th></th>\n",
              "      <th></th>\n",
              "      <th></th>\n",
              "      <th></th>\n",
              "      <th></th>\n",
              "      <th></th>\n",
              "      <th></th>\n",
              "      <th></th>\n",
              "      <th></th>\n",
              "      <th></th>\n",
              "      <th></th>\n",
              "      <th></th>\n",
              "      <th></th>\n",
              "      <th></th>\n",
              "      <th></th>\n",
              "      <th></th>\n",
              "      <th></th>\n",
              "      <th></th>\n",
              "      <th></th>\n",
              "      <th></th>\n",
              "      <th></th>\n",
              "      <th></th>\n",
              "      <th></th>\n",
              "      <th></th>\n",
              "      <th></th>\n",
              "      <th></th>\n",
              "      <th></th>\n",
              "      <th></th>\n",
              "      <th></th>\n",
              "      <th></th>\n",
              "      <th></th>\n",
              "      <th></th>\n",
              "      <th></th>\n",
              "      <th></th>\n",
              "      <th></th>\n",
              "      <th></th>\n",
              "      <th></th>\n",
              "      <th></th>\n",
              "      <th></th>\n",
              "      <th></th>\n",
              "      <th></th>\n",
              "      <th></th>\n",
              "      <th></th>\n",
              "      <th></th>\n",
              "      <th></th>\n",
              "      <th></th>\n",
              "      <th></th>\n",
              "      <th></th>\n",
              "      <th></th>\n",
              "      <th></th>\n",
              "      <th></th>\n",
              "      <th></th>\n",
              "      <th></th>\n",
              "      <th></th>\n",
              "      <th></th>\n",
              "      <th></th>\n",
              "      <th></th>\n",
              "      <th></th>\n",
              "      <th></th>\n",
              "      <th></th>\n",
              "      <th></th>\n",
              "    </tr>\n",
              "  </thead>\n",
              "  <tbody>\n",
              "    <tr>\n",
              "      <th>GA: Geijutsuka Art Design Class</th>\n",
              "      <td>0.0</td>\n",
              "      <td>0.0</td>\n",
              "      <td>0.0</td>\n",
              "      <td>0.0</td>\n",
              "      <td>0.0</td>\n",
              "      <td>0.0</td>\n",
              "      <td>0.0</td>\n",
              "      <td>0.0</td>\n",
              "      <td>0.0</td>\n",
              "      <td>0.0</td>\n",
              "      <td>0.0</td>\n",
              "      <td>0.0</td>\n",
              "      <td>0.0</td>\n",
              "      <td>0.0</td>\n",
              "      <td>0.0</td>\n",
              "      <td>0.0</td>\n",
              "      <td>0.0</td>\n",
              "      <td>0.0</td>\n",
              "      <td>0.0</td>\n",
              "      <td>0.0</td>\n",
              "      <td>0.0</td>\n",
              "      <td>0.0</td>\n",
              "      <td>0.0</td>\n",
              "      <td>0.0</td>\n",
              "      <td>0.0</td>\n",
              "      <td>0.0</td>\n",
              "      <td>0.0</td>\n",
              "      <td>0.0</td>\n",
              "      <td>0.0</td>\n",
              "      <td>0.0</td>\n",
              "      <td>0.0</td>\n",
              "      <td>0.0</td>\n",
              "      <td>0.0</td>\n",
              "      <td>0.0</td>\n",
              "      <td>0.0</td>\n",
              "      <td>0.0</td>\n",
              "      <td>0.0</td>\n",
              "      <td>0.0</td>\n",
              "      <td>0.0</td>\n",
              "      <td>0.0</td>\n",
              "      <td>...</td>\n",
              "      <td>0.0</td>\n",
              "      <td>0.0</td>\n",
              "      <td>0.0</td>\n",
              "      <td>0.0</td>\n",
              "      <td>0.0</td>\n",
              "      <td>0.0</td>\n",
              "      <td>0.0</td>\n",
              "      <td>0.0</td>\n",
              "      <td>0.0</td>\n",
              "      <td>0.0</td>\n",
              "      <td>0.0</td>\n",
              "      <td>0.0</td>\n",
              "      <td>0.0</td>\n",
              "      <td>0.0</td>\n",
              "      <td>0.0</td>\n",
              "      <td>0.0</td>\n",
              "      <td>0.0</td>\n",
              "      <td>0.0</td>\n",
              "      <td>0.0</td>\n",
              "      <td>0.0</td>\n",
              "      <td>0.0</td>\n",
              "      <td>0.0</td>\n",
              "      <td>0.0</td>\n",
              "      <td>0.0</td>\n",
              "      <td>0.0</td>\n",
              "      <td>0.0</td>\n",
              "      <td>0.0</td>\n",
              "      <td>0.0</td>\n",
              "      <td>0.0</td>\n",
              "      <td>0.0</td>\n",
              "      <td>0.0</td>\n",
              "      <td>0.0</td>\n",
              "      <td>0.0</td>\n",
              "      <td>0.0</td>\n",
              "      <td>0.0</td>\n",
              "      <td>0.0</td>\n",
              "      <td>0.0</td>\n",
              "      <td>0.0</td>\n",
              "      <td>0.0</td>\n",
              "      <td>8</td>\n",
              "    </tr>\n",
              "    <tr>\n",
              "      <th>Kuroko no Basket 2nd Season NG-shuu</th>\n",
              "      <td>0.0</td>\n",
              "      <td>0.0</td>\n",
              "      <td>0.0</td>\n",
              "      <td>0.0</td>\n",
              "      <td>0.0</td>\n",
              "      <td>9.0</td>\n",
              "      <td>0.0</td>\n",
              "      <td>0.0</td>\n",
              "      <td>0.0</td>\n",
              "      <td>0.0</td>\n",
              "      <td>0.0</td>\n",
              "      <td>0.0</td>\n",
              "      <td>0.0</td>\n",
              "      <td>0.0</td>\n",
              "      <td>9.0</td>\n",
              "      <td>0.0</td>\n",
              "      <td>0.0</td>\n",
              "      <td>0.0</td>\n",
              "      <td>0.0</td>\n",
              "      <td>0.0</td>\n",
              "      <td>0.0</td>\n",
              "      <td>0.0</td>\n",
              "      <td>0.0</td>\n",
              "      <td>0.0</td>\n",
              "      <td>7.0</td>\n",
              "      <td>0.0</td>\n",
              "      <td>0.0</td>\n",
              "      <td>0.0</td>\n",
              "      <td>10.0</td>\n",
              "      <td>0.0</td>\n",
              "      <td>0.0</td>\n",
              "      <td>0.0</td>\n",
              "      <td>0.0</td>\n",
              "      <td>0.0</td>\n",
              "      <td>0.0</td>\n",
              "      <td>0.0</td>\n",
              "      <td>0.0</td>\n",
              "      <td>0.0</td>\n",
              "      <td>0.0</td>\n",
              "      <td>0.0</td>\n",
              "      <td>...</td>\n",
              "      <td>0.0</td>\n",
              "      <td>0.0</td>\n",
              "      <td>0.0</td>\n",
              "      <td>0.0</td>\n",
              "      <td>0.0</td>\n",
              "      <td>0.0</td>\n",
              "      <td>0.0</td>\n",
              "      <td>0.0</td>\n",
              "      <td>0.0</td>\n",
              "      <td>0.0</td>\n",
              "      <td>0.0</td>\n",
              "      <td>0.0</td>\n",
              "      <td>0.0</td>\n",
              "      <td>0.0</td>\n",
              "      <td>0.0</td>\n",
              "      <td>0.0</td>\n",
              "      <td>0.0</td>\n",
              "      <td>0.0</td>\n",
              "      <td>0.0</td>\n",
              "      <td>0.0</td>\n",
              "      <td>0.0</td>\n",
              "      <td>0.0</td>\n",
              "      <td>0.0</td>\n",
              "      <td>0.0</td>\n",
              "      <td>0.0</td>\n",
              "      <td>0.0</td>\n",
              "      <td>0.0</td>\n",
              "      <td>0.0</td>\n",
              "      <td>0.0</td>\n",
              "      <td>0.0</td>\n",
              "      <td>0.0</td>\n",
              "      <td>0.0</td>\n",
              "      <td>0.0</td>\n",
              "      <td>0.0</td>\n",
              "      <td>0.0</td>\n",
              "      <td>0.0</td>\n",
              "      <td>0.0</td>\n",
              "      <td>0.0</td>\n",
              "      <td>0.0</td>\n",
              "      <td>8</td>\n",
              "    </tr>\n",
              "    <tr>\n",
              "      <th>Bakumatsu Kikansetsu Irohanihoheto</th>\n",
              "      <td>0.0</td>\n",
              "      <td>0.0</td>\n",
              "      <td>0.0</td>\n",
              "      <td>0.0</td>\n",
              "      <td>0.0</td>\n",
              "      <td>6.0</td>\n",
              "      <td>0.0</td>\n",
              "      <td>0.0</td>\n",
              "      <td>0.0</td>\n",
              "      <td>0.0</td>\n",
              "      <td>0.0</td>\n",
              "      <td>0.0</td>\n",
              "      <td>0.0</td>\n",
              "      <td>5.0</td>\n",
              "      <td>0.0</td>\n",
              "      <td>8.0</td>\n",
              "      <td>0.0</td>\n",
              "      <td>0.0</td>\n",
              "      <td>0.0</td>\n",
              "      <td>0.0</td>\n",
              "      <td>0.0</td>\n",
              "      <td>0.0</td>\n",
              "      <td>0.0</td>\n",
              "      <td>0.0</td>\n",
              "      <td>0.0</td>\n",
              "      <td>0.0</td>\n",
              "      <td>0.0</td>\n",
              "      <td>0.0</td>\n",
              "      <td>0.0</td>\n",
              "      <td>0.0</td>\n",
              "      <td>0.0</td>\n",
              "      <td>0.0</td>\n",
              "      <td>0.0</td>\n",
              "      <td>0.0</td>\n",
              "      <td>0.0</td>\n",
              "      <td>0.0</td>\n",
              "      <td>0.0</td>\n",
              "      <td>0.0</td>\n",
              "      <td>7.0</td>\n",
              "      <td>0.0</td>\n",
              "      <td>...</td>\n",
              "      <td>0.0</td>\n",
              "      <td>0.0</td>\n",
              "      <td>7.0</td>\n",
              "      <td>0.0</td>\n",
              "      <td>0.0</td>\n",
              "      <td>0.0</td>\n",
              "      <td>7.0</td>\n",
              "      <td>0.0</td>\n",
              "      <td>0.0</td>\n",
              "      <td>0.0</td>\n",
              "      <td>0.0</td>\n",
              "      <td>0.0</td>\n",
              "      <td>0.0</td>\n",
              "      <td>0.0</td>\n",
              "      <td>0.0</td>\n",
              "      <td>0.0</td>\n",
              "      <td>0.0</td>\n",
              "      <td>0.0</td>\n",
              "      <td>0.0</td>\n",
              "      <td>8.0</td>\n",
              "      <td>0.0</td>\n",
              "      <td>0.0</td>\n",
              "      <td>9.0</td>\n",
              "      <td>0.0</td>\n",
              "      <td>0.0</td>\n",
              "      <td>0.0</td>\n",
              "      <td>0.0</td>\n",
              "      <td>0.0</td>\n",
              "      <td>0.0</td>\n",
              "      <td>0.0</td>\n",
              "      <td>0.0</td>\n",
              "      <td>0.0</td>\n",
              "      <td>0.0</td>\n",
              "      <td>0.0</td>\n",
              "      <td>8.0</td>\n",
              "      <td>0.0</td>\n",
              "      <td>0.0</td>\n",
              "      <td>0.0</td>\n",
              "      <td>0.0</td>\n",
              "      <td>8</td>\n",
              "    </tr>\n",
              "    <tr>\n",
              "      <th>Shukufuku no Campanella</th>\n",
              "      <td>0.0</td>\n",
              "      <td>0.0</td>\n",
              "      <td>0.0</td>\n",
              "      <td>0.0</td>\n",
              "      <td>0.0</td>\n",
              "      <td>0.0</td>\n",
              "      <td>0.0</td>\n",
              "      <td>0.0</td>\n",
              "      <td>8.0</td>\n",
              "      <td>0.0</td>\n",
              "      <td>0.0</td>\n",
              "      <td>0.0</td>\n",
              "      <td>0.0</td>\n",
              "      <td>0.0</td>\n",
              "      <td>0.0</td>\n",
              "      <td>0.0</td>\n",
              "      <td>0.0</td>\n",
              "      <td>0.0</td>\n",
              "      <td>0.0</td>\n",
              "      <td>0.0</td>\n",
              "      <td>0.0</td>\n",
              "      <td>0.0</td>\n",
              "      <td>0.0</td>\n",
              "      <td>0.0</td>\n",
              "      <td>0.0</td>\n",
              "      <td>0.0</td>\n",
              "      <td>0.0</td>\n",
              "      <td>0.0</td>\n",
              "      <td>0.0</td>\n",
              "      <td>0.0</td>\n",
              "      <td>0.0</td>\n",
              "      <td>0.0</td>\n",
              "      <td>0.0</td>\n",
              "      <td>0.0</td>\n",
              "      <td>0.0</td>\n",
              "      <td>0.0</td>\n",
              "      <td>0.0</td>\n",
              "      <td>0.0</td>\n",
              "      <td>0.0</td>\n",
              "      <td>0.0</td>\n",
              "      <td>...</td>\n",
              "      <td>0.0</td>\n",
              "      <td>0.0</td>\n",
              "      <td>6.0</td>\n",
              "      <td>0.0</td>\n",
              "      <td>0.0</td>\n",
              "      <td>0.0</td>\n",
              "      <td>0.0</td>\n",
              "      <td>0.0</td>\n",
              "      <td>0.0</td>\n",
              "      <td>0.0</td>\n",
              "      <td>0.0</td>\n",
              "      <td>4.0</td>\n",
              "      <td>0.0</td>\n",
              "      <td>0.0</td>\n",
              "      <td>0.0</td>\n",
              "      <td>0.0</td>\n",
              "      <td>0.0</td>\n",
              "      <td>0.0</td>\n",
              "      <td>0.0</td>\n",
              "      <td>0.0</td>\n",
              "      <td>6.0</td>\n",
              "      <td>0.0</td>\n",
              "      <td>0.0</td>\n",
              "      <td>0.0</td>\n",
              "      <td>0.0</td>\n",
              "      <td>0.0</td>\n",
              "      <td>0.0</td>\n",
              "      <td>0.0</td>\n",
              "      <td>0.0</td>\n",
              "      <td>0.0</td>\n",
              "      <td>0.0</td>\n",
              "      <td>0.0</td>\n",
              "      <td>0.0</td>\n",
              "      <td>0.0</td>\n",
              "      <td>0.0</td>\n",
              "      <td>0.0</td>\n",
              "      <td>0.0</td>\n",
              "      <td>0.0</td>\n",
              "      <td>0.0</td>\n",
              "      <td>8</td>\n",
              "    </tr>\n",
              "    <tr>\n",
              "      <th>Amagami SS+ Plus</th>\n",
              "      <td>0.0</td>\n",
              "      <td>0.0</td>\n",
              "      <td>8.0</td>\n",
              "      <td>0.0</td>\n",
              "      <td>0.0</td>\n",
              "      <td>0.0</td>\n",
              "      <td>0.0</td>\n",
              "      <td>0.0</td>\n",
              "      <td>8.0</td>\n",
              "      <td>9.0</td>\n",
              "      <td>9.0</td>\n",
              "      <td>0.0</td>\n",
              "      <td>7.0</td>\n",
              "      <td>0.0</td>\n",
              "      <td>0.0</td>\n",
              "      <td>0.0</td>\n",
              "      <td>0.0</td>\n",
              "      <td>0.0</td>\n",
              "      <td>8.0</td>\n",
              "      <td>0.0</td>\n",
              "      <td>7.0</td>\n",
              "      <td>0.0</td>\n",
              "      <td>0.0</td>\n",
              "      <td>0.0</td>\n",
              "      <td>0.0</td>\n",
              "      <td>0.0</td>\n",
              "      <td>8.0</td>\n",
              "      <td>0.0</td>\n",
              "      <td>0.0</td>\n",
              "      <td>9.0</td>\n",
              "      <td>0.0</td>\n",
              "      <td>6.0</td>\n",
              "      <td>7.0</td>\n",
              "      <td>9.0</td>\n",
              "      <td>8.0</td>\n",
              "      <td>0.0</td>\n",
              "      <td>0.0</td>\n",
              "      <td>0.0</td>\n",
              "      <td>0.0</td>\n",
              "      <td>0.0</td>\n",
              "      <td>...</td>\n",
              "      <td>0.0</td>\n",
              "      <td>9.0</td>\n",
              "      <td>7.0</td>\n",
              "      <td>0.0</td>\n",
              "      <td>8.0</td>\n",
              "      <td>7.0</td>\n",
              "      <td>0.0</td>\n",
              "      <td>10.0</td>\n",
              "      <td>0.0</td>\n",
              "      <td>0.0</td>\n",
              "      <td>0.0</td>\n",
              "      <td>8.0</td>\n",
              "      <td>0.0</td>\n",
              "      <td>9.0</td>\n",
              "      <td>0.0</td>\n",
              "      <td>0.0</td>\n",
              "      <td>0.0</td>\n",
              "      <td>0.0</td>\n",
              "      <td>0.0</td>\n",
              "      <td>7.0</td>\n",
              "      <td>9.0</td>\n",
              "      <td>0.0</td>\n",
              "      <td>0.0</td>\n",
              "      <td>0.0</td>\n",
              "      <td>7.0</td>\n",
              "      <td>0.0</td>\n",
              "      <td>8.0</td>\n",
              "      <td>0.0</td>\n",
              "      <td>0.0</td>\n",
              "      <td>8.0</td>\n",
              "      <td>0.0</td>\n",
              "      <td>0.0</td>\n",
              "      <td>0.0</td>\n",
              "      <td>0.0</td>\n",
              "      <td>7.0</td>\n",
              "      <td>6.0</td>\n",
              "      <td>0.0</td>\n",
              "      <td>8.0</td>\n",
              "      <td>0.0</td>\n",
              "      <td>2</td>\n",
              "    </tr>\n",
              "  </tbody>\n",
              "</table>\n",
              "<p>5 rows × 4068 columns</p>\n",
              "</div>"
            ],
            "text/plain": [
              "user_id                                5    7   17  ...  73499  73502  pred_cls\n",
              "name                                                ...                        \n",
              "GA: Geijutsuka Art Design Class      0.0  0.0  0.0  ...    0.0    0.0         8\n",
              "Kuroko no Basket 2nd Season NG-shuu  0.0  0.0  0.0  ...    0.0    0.0         8\n",
              "Bakumatsu Kikansetsu Irohanihoheto   0.0  0.0  0.0  ...    0.0    0.0         8\n",
              "Shukufuku no Campanella              0.0  0.0  0.0  ...    0.0    0.0         8\n",
              "Amagami SS+ Plus                     0.0  0.0  8.0  ...    8.0    0.0         2\n",
              "\n",
              "[5 rows x 4068 columns]"
            ]
          },
          "metadata": {
            "tags": []
          },
          "execution_count": 110
        }
      ]
    },
    {
      "cell_type": "code",
      "metadata": {
        "id": "r9FPtPUA7qXV",
        "colab_type": "code",
        "outputId": "13cde95a-31a6-41c6-a371-db1b4f05963b",
        "colab": {
          "base_uri": "https://localhost:8080/",
          "height": 102
        }
      },
      "source": [
        "anime_data_sampled[anime_data_sampled[\"pred_cls\"] == 0].index"
      ],
      "execution_count": 0,
      "outputs": [
        {
          "output_type": "execute_result",
          "data": {
            "text/plain": [
              "Index(['Natsume Yuujinchou Shi', 'Vampire Knight', '07-Ghost', 'Bakuman.',\n",
              "       'D.Gray-man', 'Kamisama Hajimemashita', 'Natsume Yuujinchou',\n",
              "       'Ouran Koukou Host Club', 'Nurarihyon no Mago', 'Itazura na Kiss',\n",
              "       'Special A'],\n",
              "      dtype='object', name='name')"
            ]
          },
          "metadata": {
            "tags": []
          },
          "execution_count": 111
        }
      ]
    },
    {
      "cell_type": "markdown",
      "metadata": {
        "id": "UWsiDurDCR1J",
        "colab_type": "text"
      },
      "source": [
        "## 階層クラスタリング\n",
        "\n",
        "一旦資料へ"
      ]
    },
    {
      "cell_type": "markdown",
      "metadata": {
        "id": "znOC6A6JLXyZ",
        "colab_type": "text"
      },
      "source": [
        "先程サンプリングしたデータセットでクラスタリングをしてみる"
      ]
    },
    {
      "cell_type": "code",
      "metadata": {
        "id": "bU82UCmoLoJx",
        "colab_type": "code",
        "outputId": "1413b827-a084-4851-93aa-7d18f16f08ea",
        "colab": {
          "base_uri": "https://localhost:8080/",
          "height": 34
        }
      },
      "source": [
        "anime_data_sampled2 = anime_data_pivot.sample(20, random_state=0)\n",
        "anime_data_sampled2.shape"
      ],
      "execution_count": 0,
      "outputs": [
        {
          "output_type": "execute_result",
          "data": {
            "text/plain": [
              "(20, 69498)"
            ]
          },
          "metadata": {
            "tags": []
          },
          "execution_count": 112
        }
      ]
    },
    {
      "cell_type": "code",
      "metadata": {
        "id": "HQSTXOU4MPKw",
        "colab_type": "code",
        "outputId": "9a469a0b-29fd-4e7d-88d6-20d74ae7173d",
        "colab": {
          "base_uri": "https://localhost:8080/",
          "height": 471
        }
      },
      "source": [
        "anime_data_sampled2.head()"
      ],
      "execution_count": 0,
      "outputs": [
        {
          "output_type": "execute_result",
          "data": {
            "text/html": [
              "<div>\n",
              "<style scoped>\n",
              "    .dataframe tbody tr th:only-of-type {\n",
              "        vertical-align: middle;\n",
              "    }\n",
              "\n",
              "    .dataframe tbody tr th {\n",
              "        vertical-align: top;\n",
              "    }\n",
              "\n",
              "    .dataframe thead th {\n",
              "        text-align: right;\n",
              "    }\n",
              "</style>\n",
              "<table border=\"1\" class=\"dataframe\">\n",
              "  <thead>\n",
              "    <tr style=\"text-align: right;\">\n",
              "      <th>user_id</th>\n",
              "      <th>1</th>\n",
              "      <th>2</th>\n",
              "      <th>3</th>\n",
              "      <th>5</th>\n",
              "      <th>7</th>\n",
              "      <th>8</th>\n",
              "      <th>9</th>\n",
              "      <th>10</th>\n",
              "      <th>11</th>\n",
              "      <th>12</th>\n",
              "      <th>14</th>\n",
              "      <th>15</th>\n",
              "      <th>16</th>\n",
              "      <th>17</th>\n",
              "      <th>18</th>\n",
              "      <th>19</th>\n",
              "      <th>20</th>\n",
              "      <th>21</th>\n",
              "      <th>22</th>\n",
              "      <th>23</th>\n",
              "      <th>24</th>\n",
              "      <th>25</th>\n",
              "      <th>26</th>\n",
              "      <th>27</th>\n",
              "      <th>28</th>\n",
              "      <th>29</th>\n",
              "      <th>30</th>\n",
              "      <th>31</th>\n",
              "      <th>32</th>\n",
              "      <th>33</th>\n",
              "      <th>34</th>\n",
              "      <th>36</th>\n",
              "      <th>37</th>\n",
              "      <th>38</th>\n",
              "      <th>39</th>\n",
              "      <th>40</th>\n",
              "      <th>41</th>\n",
              "      <th>42</th>\n",
              "      <th>43</th>\n",
              "      <th>44</th>\n",
              "      <th>...</th>\n",
              "      <th>73476</th>\n",
              "      <th>73478</th>\n",
              "      <th>73479</th>\n",
              "      <th>73480</th>\n",
              "      <th>73481</th>\n",
              "      <th>73482</th>\n",
              "      <th>73483</th>\n",
              "      <th>73484</th>\n",
              "      <th>73485</th>\n",
              "      <th>73486</th>\n",
              "      <th>73487</th>\n",
              "      <th>73488</th>\n",
              "      <th>73489</th>\n",
              "      <th>73490</th>\n",
              "      <th>73491</th>\n",
              "      <th>73492</th>\n",
              "      <th>73493</th>\n",
              "      <th>73494</th>\n",
              "      <th>73495</th>\n",
              "      <th>73496</th>\n",
              "      <th>73497</th>\n",
              "      <th>73498</th>\n",
              "      <th>73499</th>\n",
              "      <th>73500</th>\n",
              "      <th>73501</th>\n",
              "      <th>73502</th>\n",
              "      <th>73503</th>\n",
              "      <th>73504</th>\n",
              "      <th>73505</th>\n",
              "      <th>73506</th>\n",
              "      <th>73507</th>\n",
              "      <th>73508</th>\n",
              "      <th>73509</th>\n",
              "      <th>73510</th>\n",
              "      <th>73511</th>\n",
              "      <th>73512</th>\n",
              "      <th>73513</th>\n",
              "      <th>73514</th>\n",
              "      <th>73515</th>\n",
              "      <th>73516</th>\n",
              "    </tr>\n",
              "    <tr>\n",
              "      <th>name</th>\n",
              "      <th></th>\n",
              "      <th></th>\n",
              "      <th></th>\n",
              "      <th></th>\n",
              "      <th></th>\n",
              "      <th></th>\n",
              "      <th></th>\n",
              "      <th></th>\n",
              "      <th></th>\n",
              "      <th></th>\n",
              "      <th></th>\n",
              "      <th></th>\n",
              "      <th></th>\n",
              "      <th></th>\n",
              "      <th></th>\n",
              "      <th></th>\n",
              "      <th></th>\n",
              "      <th></th>\n",
              "      <th></th>\n",
              "      <th></th>\n",
              "      <th></th>\n",
              "      <th></th>\n",
              "      <th></th>\n",
              "      <th></th>\n",
              "      <th></th>\n",
              "      <th></th>\n",
              "      <th></th>\n",
              "      <th></th>\n",
              "      <th></th>\n",
              "      <th></th>\n",
              "      <th></th>\n",
              "      <th></th>\n",
              "      <th></th>\n",
              "      <th></th>\n",
              "      <th></th>\n",
              "      <th></th>\n",
              "      <th></th>\n",
              "      <th></th>\n",
              "      <th></th>\n",
              "      <th></th>\n",
              "      <th></th>\n",
              "      <th></th>\n",
              "      <th></th>\n",
              "      <th></th>\n",
              "      <th></th>\n",
              "      <th></th>\n",
              "      <th></th>\n",
              "      <th></th>\n",
              "      <th></th>\n",
              "      <th></th>\n",
              "      <th></th>\n",
              "      <th></th>\n",
              "      <th></th>\n",
              "      <th></th>\n",
              "      <th></th>\n",
              "      <th></th>\n",
              "      <th></th>\n",
              "      <th></th>\n",
              "      <th></th>\n",
              "      <th></th>\n",
              "      <th></th>\n",
              "      <th></th>\n",
              "      <th></th>\n",
              "      <th></th>\n",
              "      <th></th>\n",
              "      <th></th>\n",
              "      <th></th>\n",
              "      <th></th>\n",
              "      <th></th>\n",
              "      <th></th>\n",
              "      <th></th>\n",
              "      <th></th>\n",
              "      <th></th>\n",
              "      <th></th>\n",
              "      <th></th>\n",
              "      <th></th>\n",
              "      <th></th>\n",
              "      <th></th>\n",
              "      <th></th>\n",
              "      <th></th>\n",
              "      <th></th>\n",
              "    </tr>\n",
              "  </thead>\n",
              "  <tbody>\n",
              "    <tr>\n",
              "      <th>GA: Geijutsuka Art Design Class</th>\n",
              "      <td>0.0</td>\n",
              "      <td>0.0</td>\n",
              "      <td>0.0</td>\n",
              "      <td>0.0</td>\n",
              "      <td>0.0</td>\n",
              "      <td>0.0</td>\n",
              "      <td>0.0</td>\n",
              "      <td>0.0</td>\n",
              "      <td>0.0</td>\n",
              "      <td>0.0</td>\n",
              "      <td>0.0</td>\n",
              "      <td>0.0</td>\n",
              "      <td>0.0</td>\n",
              "      <td>0.0</td>\n",
              "      <td>0.0</td>\n",
              "      <td>0.0</td>\n",
              "      <td>0.0</td>\n",
              "      <td>0.0</td>\n",
              "      <td>0.0</td>\n",
              "      <td>0.0</td>\n",
              "      <td>0.0</td>\n",
              "      <td>0.0</td>\n",
              "      <td>0.0</td>\n",
              "      <td>0.0</td>\n",
              "      <td>0.0</td>\n",
              "      <td>0.0</td>\n",
              "      <td>0.0</td>\n",
              "      <td>0.0</td>\n",
              "      <td>0.0</td>\n",
              "      <td>0.0</td>\n",
              "      <td>0.0</td>\n",
              "      <td>0.0</td>\n",
              "      <td>0.0</td>\n",
              "      <td>0.0</td>\n",
              "      <td>0.0</td>\n",
              "      <td>0.0</td>\n",
              "      <td>0.0</td>\n",
              "      <td>0.0</td>\n",
              "      <td>0.0</td>\n",
              "      <td>0.0</td>\n",
              "      <td>...</td>\n",
              "      <td>0.0</td>\n",
              "      <td>0.0</td>\n",
              "      <td>0.0</td>\n",
              "      <td>0.0</td>\n",
              "      <td>0.0</td>\n",
              "      <td>0.0</td>\n",
              "      <td>0.0</td>\n",
              "      <td>0.0</td>\n",
              "      <td>0.0</td>\n",
              "      <td>0.0</td>\n",
              "      <td>0.0</td>\n",
              "      <td>0.0</td>\n",
              "      <td>0.0</td>\n",
              "      <td>0.0</td>\n",
              "      <td>0.0</td>\n",
              "      <td>0.0</td>\n",
              "      <td>0.0</td>\n",
              "      <td>0.0</td>\n",
              "      <td>0.0</td>\n",
              "      <td>0.0</td>\n",
              "      <td>0.0</td>\n",
              "      <td>0.0</td>\n",
              "      <td>0.0</td>\n",
              "      <td>0.0</td>\n",
              "      <td>0.0</td>\n",
              "      <td>0.0</td>\n",
              "      <td>0.0</td>\n",
              "      <td>0.0</td>\n",
              "      <td>0.0</td>\n",
              "      <td>0.0</td>\n",
              "      <td>0.0</td>\n",
              "      <td>0.0</td>\n",
              "      <td>0.0</td>\n",
              "      <td>0.0</td>\n",
              "      <td>0.0</td>\n",
              "      <td>0.0</td>\n",
              "      <td>0.0</td>\n",
              "      <td>0.0</td>\n",
              "      <td>0.0</td>\n",
              "      <td>0.0</td>\n",
              "    </tr>\n",
              "    <tr>\n",
              "      <th>Kuroko no Basket 2nd Season NG-shuu</th>\n",
              "      <td>0.0</td>\n",
              "      <td>0.0</td>\n",
              "      <td>0.0</td>\n",
              "      <td>0.0</td>\n",
              "      <td>0.0</td>\n",
              "      <td>0.0</td>\n",
              "      <td>0.0</td>\n",
              "      <td>0.0</td>\n",
              "      <td>0.0</td>\n",
              "      <td>0.0</td>\n",
              "      <td>0.0</td>\n",
              "      <td>0.0</td>\n",
              "      <td>0.0</td>\n",
              "      <td>0.0</td>\n",
              "      <td>0.0</td>\n",
              "      <td>0.0</td>\n",
              "      <td>0.0</td>\n",
              "      <td>0.0</td>\n",
              "      <td>0.0</td>\n",
              "      <td>0.0</td>\n",
              "      <td>0.0</td>\n",
              "      <td>0.0</td>\n",
              "      <td>0.0</td>\n",
              "      <td>0.0</td>\n",
              "      <td>0.0</td>\n",
              "      <td>0.0</td>\n",
              "      <td>0.0</td>\n",
              "      <td>0.0</td>\n",
              "      <td>0.0</td>\n",
              "      <td>0.0</td>\n",
              "      <td>0.0</td>\n",
              "      <td>0.0</td>\n",
              "      <td>0.0</td>\n",
              "      <td>0.0</td>\n",
              "      <td>0.0</td>\n",
              "      <td>0.0</td>\n",
              "      <td>0.0</td>\n",
              "      <td>0.0</td>\n",
              "      <td>0.0</td>\n",
              "      <td>0.0</td>\n",
              "      <td>...</td>\n",
              "      <td>0.0</td>\n",
              "      <td>0.0</td>\n",
              "      <td>0.0</td>\n",
              "      <td>0.0</td>\n",
              "      <td>0.0</td>\n",
              "      <td>0.0</td>\n",
              "      <td>0.0</td>\n",
              "      <td>0.0</td>\n",
              "      <td>0.0</td>\n",
              "      <td>0.0</td>\n",
              "      <td>0.0</td>\n",
              "      <td>0.0</td>\n",
              "      <td>0.0</td>\n",
              "      <td>0.0</td>\n",
              "      <td>0.0</td>\n",
              "      <td>0.0</td>\n",
              "      <td>0.0</td>\n",
              "      <td>0.0</td>\n",
              "      <td>0.0</td>\n",
              "      <td>0.0</td>\n",
              "      <td>0.0</td>\n",
              "      <td>0.0</td>\n",
              "      <td>0.0</td>\n",
              "      <td>0.0</td>\n",
              "      <td>0.0</td>\n",
              "      <td>0.0</td>\n",
              "      <td>0.0</td>\n",
              "      <td>0.0</td>\n",
              "      <td>0.0</td>\n",
              "      <td>0.0</td>\n",
              "      <td>0.0</td>\n",
              "      <td>0.0</td>\n",
              "      <td>0.0</td>\n",
              "      <td>0.0</td>\n",
              "      <td>0.0</td>\n",
              "      <td>0.0</td>\n",
              "      <td>0.0</td>\n",
              "      <td>0.0</td>\n",
              "      <td>0.0</td>\n",
              "      <td>0.0</td>\n",
              "    </tr>\n",
              "    <tr>\n",
              "      <th>Bakumatsu Kikansetsu Irohanihoheto</th>\n",
              "      <td>0.0</td>\n",
              "      <td>0.0</td>\n",
              "      <td>0.0</td>\n",
              "      <td>0.0</td>\n",
              "      <td>0.0</td>\n",
              "      <td>0.0</td>\n",
              "      <td>0.0</td>\n",
              "      <td>0.0</td>\n",
              "      <td>0.0</td>\n",
              "      <td>0.0</td>\n",
              "      <td>0.0</td>\n",
              "      <td>0.0</td>\n",
              "      <td>0.0</td>\n",
              "      <td>0.0</td>\n",
              "      <td>0.0</td>\n",
              "      <td>0.0</td>\n",
              "      <td>0.0</td>\n",
              "      <td>0.0</td>\n",
              "      <td>0.0</td>\n",
              "      <td>0.0</td>\n",
              "      <td>0.0</td>\n",
              "      <td>0.0</td>\n",
              "      <td>0.0</td>\n",
              "      <td>0.0</td>\n",
              "      <td>0.0</td>\n",
              "      <td>0.0</td>\n",
              "      <td>0.0</td>\n",
              "      <td>0.0</td>\n",
              "      <td>0.0</td>\n",
              "      <td>0.0</td>\n",
              "      <td>0.0</td>\n",
              "      <td>0.0</td>\n",
              "      <td>0.0</td>\n",
              "      <td>0.0</td>\n",
              "      <td>0.0</td>\n",
              "      <td>0.0</td>\n",
              "      <td>0.0</td>\n",
              "      <td>0.0</td>\n",
              "      <td>0.0</td>\n",
              "      <td>0.0</td>\n",
              "      <td>...</td>\n",
              "      <td>0.0</td>\n",
              "      <td>0.0</td>\n",
              "      <td>0.0</td>\n",
              "      <td>0.0</td>\n",
              "      <td>0.0</td>\n",
              "      <td>0.0</td>\n",
              "      <td>0.0</td>\n",
              "      <td>0.0</td>\n",
              "      <td>0.0</td>\n",
              "      <td>0.0</td>\n",
              "      <td>0.0</td>\n",
              "      <td>0.0</td>\n",
              "      <td>0.0</td>\n",
              "      <td>0.0</td>\n",
              "      <td>0.0</td>\n",
              "      <td>0.0</td>\n",
              "      <td>0.0</td>\n",
              "      <td>0.0</td>\n",
              "      <td>0.0</td>\n",
              "      <td>0.0</td>\n",
              "      <td>0.0</td>\n",
              "      <td>0.0</td>\n",
              "      <td>0.0</td>\n",
              "      <td>0.0</td>\n",
              "      <td>0.0</td>\n",
              "      <td>0.0</td>\n",
              "      <td>0.0</td>\n",
              "      <td>0.0</td>\n",
              "      <td>0.0</td>\n",
              "      <td>0.0</td>\n",
              "      <td>7.0</td>\n",
              "      <td>0.0</td>\n",
              "      <td>0.0</td>\n",
              "      <td>0.0</td>\n",
              "      <td>0.0</td>\n",
              "      <td>0.0</td>\n",
              "      <td>0.0</td>\n",
              "      <td>0.0</td>\n",
              "      <td>8.0</td>\n",
              "      <td>0.0</td>\n",
              "    </tr>\n",
              "    <tr>\n",
              "      <th>Shukufuku no Campanella</th>\n",
              "      <td>0.0</td>\n",
              "      <td>0.0</td>\n",
              "      <td>0.0</td>\n",
              "      <td>0.0</td>\n",
              "      <td>0.0</td>\n",
              "      <td>0.0</td>\n",
              "      <td>0.0</td>\n",
              "      <td>0.0</td>\n",
              "      <td>0.0</td>\n",
              "      <td>0.0</td>\n",
              "      <td>0.0</td>\n",
              "      <td>0.0</td>\n",
              "      <td>0.0</td>\n",
              "      <td>0.0</td>\n",
              "      <td>0.0</td>\n",
              "      <td>0.0</td>\n",
              "      <td>0.0</td>\n",
              "      <td>0.0</td>\n",
              "      <td>0.0</td>\n",
              "      <td>0.0</td>\n",
              "      <td>0.0</td>\n",
              "      <td>0.0</td>\n",
              "      <td>0.0</td>\n",
              "      <td>0.0</td>\n",
              "      <td>0.0</td>\n",
              "      <td>0.0</td>\n",
              "      <td>0.0</td>\n",
              "      <td>0.0</td>\n",
              "      <td>0.0</td>\n",
              "      <td>0.0</td>\n",
              "      <td>0.0</td>\n",
              "      <td>0.0</td>\n",
              "      <td>0.0</td>\n",
              "      <td>0.0</td>\n",
              "      <td>0.0</td>\n",
              "      <td>0.0</td>\n",
              "      <td>0.0</td>\n",
              "      <td>0.0</td>\n",
              "      <td>0.0</td>\n",
              "      <td>0.0</td>\n",
              "      <td>...</td>\n",
              "      <td>1.0</td>\n",
              "      <td>0.0</td>\n",
              "      <td>0.0</td>\n",
              "      <td>0.0</td>\n",
              "      <td>0.0</td>\n",
              "      <td>0.0</td>\n",
              "      <td>0.0</td>\n",
              "      <td>0.0</td>\n",
              "      <td>0.0</td>\n",
              "      <td>0.0</td>\n",
              "      <td>0.0</td>\n",
              "      <td>0.0</td>\n",
              "      <td>0.0</td>\n",
              "      <td>0.0</td>\n",
              "      <td>0.0</td>\n",
              "      <td>0.0</td>\n",
              "      <td>0.0</td>\n",
              "      <td>0.0</td>\n",
              "      <td>0.0</td>\n",
              "      <td>0.0</td>\n",
              "      <td>0.0</td>\n",
              "      <td>0.0</td>\n",
              "      <td>0.0</td>\n",
              "      <td>0.0</td>\n",
              "      <td>0.0</td>\n",
              "      <td>0.0</td>\n",
              "      <td>0.0</td>\n",
              "      <td>0.0</td>\n",
              "      <td>0.0</td>\n",
              "      <td>0.0</td>\n",
              "      <td>0.0</td>\n",
              "      <td>0.0</td>\n",
              "      <td>0.0</td>\n",
              "      <td>0.0</td>\n",
              "      <td>0.0</td>\n",
              "      <td>0.0</td>\n",
              "      <td>0.0</td>\n",
              "      <td>0.0</td>\n",
              "      <td>0.0</td>\n",
              "      <td>0.0</td>\n",
              "    </tr>\n",
              "    <tr>\n",
              "      <th>Amagami SS+ Plus</th>\n",
              "      <td>0.0</td>\n",
              "      <td>0.0</td>\n",
              "      <td>0.0</td>\n",
              "      <td>0.0</td>\n",
              "      <td>0.0</td>\n",
              "      <td>0.0</td>\n",
              "      <td>0.0</td>\n",
              "      <td>0.0</td>\n",
              "      <td>0.0</td>\n",
              "      <td>0.0</td>\n",
              "      <td>0.0</td>\n",
              "      <td>0.0</td>\n",
              "      <td>0.0</td>\n",
              "      <td>8.0</td>\n",
              "      <td>0.0</td>\n",
              "      <td>0.0</td>\n",
              "      <td>0.0</td>\n",
              "      <td>0.0</td>\n",
              "      <td>0.0</td>\n",
              "      <td>0.0</td>\n",
              "      <td>0.0</td>\n",
              "      <td>0.0</td>\n",
              "      <td>0.0</td>\n",
              "      <td>0.0</td>\n",
              "      <td>0.0</td>\n",
              "      <td>0.0</td>\n",
              "      <td>0.0</td>\n",
              "      <td>0.0</td>\n",
              "      <td>0.0</td>\n",
              "      <td>0.0</td>\n",
              "      <td>0.0</td>\n",
              "      <td>0.0</td>\n",
              "      <td>0.0</td>\n",
              "      <td>0.0</td>\n",
              "      <td>0.0</td>\n",
              "      <td>0.0</td>\n",
              "      <td>0.0</td>\n",
              "      <td>0.0</td>\n",
              "      <td>0.0</td>\n",
              "      <td>0.0</td>\n",
              "      <td>...</td>\n",
              "      <td>0.0</td>\n",
              "      <td>0.0</td>\n",
              "      <td>0.0</td>\n",
              "      <td>0.0</td>\n",
              "      <td>0.0</td>\n",
              "      <td>0.0</td>\n",
              "      <td>0.0</td>\n",
              "      <td>0.0</td>\n",
              "      <td>0.0</td>\n",
              "      <td>0.0</td>\n",
              "      <td>0.0</td>\n",
              "      <td>0.0</td>\n",
              "      <td>0.0</td>\n",
              "      <td>0.0</td>\n",
              "      <td>0.0</td>\n",
              "      <td>0.0</td>\n",
              "      <td>0.0</td>\n",
              "      <td>0.0</td>\n",
              "      <td>0.0</td>\n",
              "      <td>0.0</td>\n",
              "      <td>0.0</td>\n",
              "      <td>0.0</td>\n",
              "      <td>8.0</td>\n",
              "      <td>0.0</td>\n",
              "      <td>0.0</td>\n",
              "      <td>0.0</td>\n",
              "      <td>0.0</td>\n",
              "      <td>0.0</td>\n",
              "      <td>0.0</td>\n",
              "      <td>0.0</td>\n",
              "      <td>0.0</td>\n",
              "      <td>0.0</td>\n",
              "      <td>0.0</td>\n",
              "      <td>0.0</td>\n",
              "      <td>0.0</td>\n",
              "      <td>0.0</td>\n",
              "      <td>0.0</td>\n",
              "      <td>0.0</td>\n",
              "      <td>0.0</td>\n",
              "      <td>0.0</td>\n",
              "    </tr>\n",
              "  </tbody>\n",
              "</table>\n",
              "<p>5 rows × 69498 columns</p>\n",
              "</div>"
            ],
            "text/plain": [
              "user_id                              1      2      3      ...  73514  73515  73516\n",
              "name                                                      ...                     \n",
              "GA: Geijutsuka Art Design Class        0.0    0.0    0.0  ...    0.0    0.0    0.0\n",
              "Kuroko no Basket 2nd Season NG-shuu    0.0    0.0    0.0  ...    0.0    0.0    0.0\n",
              "Bakumatsu Kikansetsu Irohanihoheto     0.0    0.0    0.0  ...    0.0    8.0    0.0\n",
              "Shukufuku no Campanella                0.0    0.0    0.0  ...    0.0    0.0    0.0\n",
              "Amagami SS+ Plus                       0.0    0.0    0.0  ...    0.0    0.0    0.0\n",
              "\n",
              "[5 rows x 69498 columns]"
            ]
          },
          "metadata": {
            "tags": []
          },
          "execution_count": 113
        }
      ]
    },
    {
      "cell_type": "code",
      "metadata": {
        "id": "ho2T1OYa9rW-",
        "colab_type": "code",
        "colab": {}
      },
      "source": [
        "hier = linkage(anime_data_sampled2)"
      ],
      "execution_count": 0,
      "outputs": []
    },
    {
      "cell_type": "code",
      "metadata": {
        "id": "ZlHAm41rMrw3",
        "colab_type": "code",
        "outputId": "3d43e7cb-9e6f-4ab7-bb03-0c54ce1a1fa4",
        "colab": {
          "base_uri": "https://localhost:8080/",
          "height": 340
        }
      },
      "source": [
        "hier"
      ],
      "execution_count": 0,
      "outputs": [
        {
          "output_type": "execute_result",
          "data": {
            "text/plain": [
              "array([[  0.        ,   6.        , 179.71922546,   2.        ],\n",
              "       [ 14.        ,  20.        , 185.79020426,   3.        ],\n",
              "       [ 15.        ,  21.        , 187.25116822,   4.        ],\n",
              "       [  3.        ,  22.        , 191.19884937,   5.        ],\n",
              "       [  1.        ,  23.        , 199.46678922,   6.        ],\n",
              "       [ 19.        ,  24.        , 209.78083802,   7.        ],\n",
              "       [  2.        ,  25.        , 219.66337883,   8.        ],\n",
              "       [ 16.        ,  26.        , 253.75184728,   9.        ],\n",
              "       [  8.        ,  27.        , 258.28279075,  10.        ],\n",
              "       [ 10.        ,  28.        , 259.17561614,  11.        ],\n",
              "       [  7.        ,  29.        , 294.03061065,  12.        ],\n",
              "       [ 12.        ,  30.        , 317.08673892,  13.        ],\n",
              "       [ 13.        ,  31.        , 367.96874867,  14.        ],\n",
              "       [  9.        ,  32.        , 379.22420809,  15.        ],\n",
              "       [  4.        ,  33.        , 410.61417413,  16.        ],\n",
              "       [ 18.        ,  34.        , 457.81437286,  17.        ],\n",
              "       [ 11.        ,  35.        , 465.14083889,  18.        ],\n",
              "       [  5.        ,  36.        , 477.34997643,  19.        ],\n",
              "       [ 17.        ,  37.        , 518.93930281,  20.        ]])"
            ]
          },
          "metadata": {
            "tags": []
          },
          "execution_count": 115
        }
      ]
    },
    {
      "cell_type": "code",
      "metadata": {
        "id": "4cTf2HK-Lrm6",
        "colab_type": "code",
        "outputId": "94542350-9482-40cd-eca8-a70d0c5f0cd7",
        "colab": {
          "base_uri": "https://localhost:8080/",
          "height": 287
        }
      },
      "source": [
        "dendrogram(hier)\n",
        "plt.show()"
      ],
      "execution_count": 0,
      "outputs": [
        {
          "output_type": "display_data",
          "data": {
            "image/png": "[encoded data removed]",
            "text/plain": [
              "<Figure size 432x288 with 1 Axes>"
            ]
          },
          "metadata": {
            "tags": []
          }
        }
      ]
    },
    {
      "cell_type": "code",
      "metadata": {
        "id": "KaoQSWL1_IYo",
        "colab_type": "code",
        "colab": {}
      },
      "source": [
        "threshold = 250"
      ],
      "execution_count": 0,
      "outputs": []
    },
    {
      "cell_type": "code",
      "metadata": {
        "id": "ffVGFAo4AK1W",
        "colab_type": "code",
        "outputId": "a1c62c6a-cc2a-460a-926f-1feadb948495",
        "colab": {
          "base_uri": "https://localhost:8080/",
          "height": 51
        }
      },
      "source": [
        "clustered = fcluster(hier, threshold, criterion='distance')\n",
        "clustered"
      ],
      "execution_count": 0,
      "outputs": [
        {
          "output_type": "execute_result",
          "data": {
            "text/plain": [
              "array([ 1,  1,  1,  1,  9, 12,  1,  5,  3,  8,  4, 11,  6,  7,  1,  1,  2,\n",
              "       13, 10,  1], dtype=int32)"
            ]
          },
          "metadata": {
            "tags": []
          },
          "execution_count": 118
        }
      ]
    },
    {
      "cell_type": "markdown",
      "metadata": {
        "id": "OvVlAFKYNRF7",
        "colab_type": "text"
      },
      "source": [
        "今回のデータでは複数のグループができなかったが、データによっては下図のような構成となり、しきい値で\n",
        "クラスタ数が変化する\n",
        "\n",
        "![代替テキスト](https://qiita-user-contents.imgix.net/https%3A%2F%2Fqiita-image-store.s3.amazonaws.com%2F0%2F195884%2F9042e8c6-4be4-f130-b7d5-218df15b434c.png?ixlib=rb-1.2.2&auto=compress%2Cformat&gif-q=60&s=168e0d361cc78ea6c2e418d27d701f63)"
      ]
    },
    {
      "cell_type": "code",
      "metadata": {
        "id": "oeX8dJuWGNFZ",
        "colab_type": "code",
        "colab": {}
      },
      "source": [
        ""
      ],
      "execution_count": 0,
      "outputs": []
    }
  ]
}