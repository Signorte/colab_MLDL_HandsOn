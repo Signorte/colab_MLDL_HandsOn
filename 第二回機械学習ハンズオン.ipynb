{
  "nbformat": 4,
  "nbformat_minor": 0,
  "metadata": {
    "colab": {
      "name": "第二回機械学習ハンズオン.ipynb のコピー",
      "provenance": [],
      "collapsed_sections": [
        "pkBVbT3gFpFp",
        "6Yql__g9HHrh",
        "QFcYbOmSTxyn",
        "4aZRmDT9ITNd",
        "4Tfvww9GIm5x",
        "6dfyquMAKQzs",
        "faYCrU7JKT4W",
        "5PXGnHfMLfOO",
        "1HKaN3BXL91S",
        "b23uKhg_MBcT",
        "wtaDQquwNlun",
        "IrPYXOK8OW8F",
        "euI2V2foPavY",
        "GrKS3vpjXcdr",
        "VNYfFj_gwkNY",
        "T_b4kqsgCA6D",
        "U0rq6BheDdEB",
        "0rWDmp9sEMLp",
        "YSa1NnpPJ-J9",
        "tNzvkC6325e_",
        "oUDKJwySjh4T",
        "xzm4w8NE9OO3",
        "Klhifi54GNIq",
        "xVqVDwgooApH",
        "jXFAVdkQoR8x",
        "3Rrm1Qjdoe7d",
        "RwxhlFePoykR"
      ],
      "include_colab_link": true
    },
    "kernelspec": {
      "name": "python3",
      "display_name": "Python 3"
    }
  },
  "cells": [
    {
      "cell_type": "markdown",
      "metadata": {
        "id": "view-in-github",
        "colab_type": "text"
      },
      "source": [
        "<a href=\"https://colab.research.google.com/github/Signorte/colab_MLDL_HandsOn/blob/master/%E7%AC%AC%E4%BA%8C%E5%9B%9E%E6%A9%9F%E6%A2%B0%E5%AD%A6%E7%BF%92%E3%83%8F%E3%83%B3%E3%82%BA%E3%82%AA%E3%83%B3.ipynb\" target=\"_parent\"><img src=\"https://colab.research.google.com/assets/colab-badge.svg\" alt=\"Open In Colab\"/></a>"
      ]
    },
    {
      "cell_type": "markdown",
      "metadata": {
        "colab_type": "text",
        "id": "ULrfLzOuE2_M"
      },
      "source": [
        "# 0. 準備\n",
        "\n",
        "Jupyterのショートカット\n",
        "```\n",
        "Ctrl + Enter: セルの実行\n",
        "Shift + Enter: セルの実行+下のセルに移動(無い場合は新しいセルを作成)\n",
        "```\n",
        "\n",
        "スタンフォード大学のData Science講座[CS109](https://web.stanford.edu/class/archive/cs/cs109/cs109.1166/problem12.html)で使うデータを使用します"
      ]
    },
    {
      "cell_type": "code",
      "metadata": {
        "id": "12OIlREtlxf2",
        "colab_type": "code",
        "colab": {}
      },
      "source": [
        ""
      ],
      "execution_count": 0,
      "outputs": []
    },
    {
      "cell_type": "code",
      "metadata": {
        "id": "P4An395k0wAM",
        "colab_type": "code",
        "outputId": "bdd0ad02-a25c-4ce1-f6fa-4d56ba80f9fc",
        "colab": {
          "base_uri": "https://localhost:8080/",
          "height": 204
        }
      },
      "source": [
        "!wget https://web.stanford.edu/class/archive/cs/cs109/cs109.1166/stuff/titanic.csv"
      ],
      "execution_count": 0,
      "outputs": [
        {
          "output_type": "stream",
          "text": [
            "--2019-11-12 03:10:23--  https://web.stanford.edu/class/archive/cs/cs109/cs109.1166/stuff/titanic.csv\n",
            "Resolving web.stanford.edu (web.stanford.edu)... 171.67.215.200\n",
            "Connecting to web.stanford.edu (web.stanford.edu)|171.67.215.200|:443... connected.\n",
            "HTTP request sent, awaiting response... 200 OK\n",
            "Length: 44225 (43K) [text/csv]\n",
            "Saving to: ‘titanic.csv’\n",
            "\n",
            "\rtitanic.csv           0%[                    ]       0  --.-KB/s               \rtitanic.csv         100%[===================>]  43.19K  --.-KB/s    in 0.08s   \n",
            "\n",
            "2019-11-12 03:10:23 (530 KB/s) - ‘titanic.csv’ saved [44225/44225]\n",
            "\n"
          ],
          "name": "stdout"
        }
      ]
    },
    {
      "cell_type": "markdown",
      "metadata": {
        "id": "czjhf1BrOLnl",
        "colab_type": "text"
      },
      "source": [
        "可視化用のライブラリをインストール"
      ]
    },
    {
      "cell_type": "code",
      "metadata": {
        "id": "rNew2g_0ONve",
        "colab_type": "code",
        "outputId": "c3a1b5bb-24e1-4335-d434-58aea4b07a48",
        "colab": {
          "base_uri": "https://localhost:8080/",
          "height": 697
        }
      },
      "source": [
        "!pip install dtreeviz\n",
        "!pip install eli5"
      ],
      "execution_count": 0,
      "outputs": [
        {
          "output_type": "stream",
          "text": [
            "Collecting dtreeviz\n",
            "  Downloading https://files.pythonhosted.org/packages/f1/a5/aff717e7de3801cc1596f3a1e89ac90cdd04c3f7e1e4a1c2fba5dcb79db4/dtreeviz-0.7.1.tar.gz\n",
            "Requirement already satisfied: graphviz>=0.9 in /usr/local/lib/python3.6/dist-packages (from dtreeviz) (0.10.1)\n",
            "Requirement already satisfied: pandas in /usr/local/lib/python3.6/dist-packages (from dtreeviz) (0.25.3)\n",
            "Requirement already satisfied: numpy in /usr/local/lib/python3.6/dist-packages (from dtreeviz) (1.17.3)\n",
            "Requirement already satisfied: scikit-learn in /usr/local/lib/python3.6/dist-packages (from dtreeviz) (0.21.3)\n",
            "Requirement already satisfied: matplotlib in /usr/local/lib/python3.6/dist-packages (from dtreeviz) (3.1.1)\n",
            "Collecting colour\n",
            "  Downloading https://files.pythonhosted.org/packages/74/46/e81907704ab203206769dee1385dc77e1407576ff8f50a0681d0a6b541be/colour-0.1.5-py2.py3-none-any.whl\n",
            "Requirement already satisfied: pytz>=2017.2 in /usr/local/lib/python3.6/dist-packages (from pandas->dtreeviz) (2018.9)\n",
            "Requirement already satisfied: python-dateutil>=2.6.1 in /usr/local/lib/python3.6/dist-packages (from pandas->dtreeviz) (2.6.1)\n",
            "Requirement already satisfied: joblib>=0.11 in /usr/local/lib/python3.6/dist-packages (from scikit-learn->dtreeviz) (0.14.0)\n",
            "Requirement already satisfied: scipy>=0.17.0 in /usr/local/lib/python3.6/dist-packages (from scikit-learn->dtreeviz) (1.3.1)\n",
            "Requirement already satisfied: kiwisolver>=1.0.1 in /usr/local/lib/python3.6/dist-packages (from matplotlib->dtreeviz) (1.1.0)\n",
            "Requirement already satisfied: pyparsing!=2.0.4,!=2.1.2,!=2.1.6,>=2.0.1 in /usr/local/lib/python3.6/dist-packages (from matplotlib->dtreeviz) (2.4.4)\n",
            "Requirement already satisfied: cycler>=0.10 in /usr/local/lib/python3.6/dist-packages (from matplotlib->dtreeviz) (0.10.0)\n",
            "Requirement already satisfied: six>=1.5 in /usr/local/lib/python3.6/dist-packages (from python-dateutil>=2.6.1->pandas->dtreeviz) (1.12.0)\n",
            "Requirement already satisfied: setuptools in /usr/local/lib/python3.6/dist-packages (from kiwisolver>=1.0.1->matplotlib->dtreeviz) (41.4.0)\n",
            "Building wheels for collected packages: dtreeviz\n",
            "  Building wheel for dtreeviz (setup.py) ... \u001b[?25l\u001b[?25hdone\n",
            "  Created wheel for dtreeviz: filename=dtreeviz-0.7.1-cp36-none-any.whl size=20264 sha256=d88417bae7e9fead81fb3e1a025babbb3a1be4b8b26ad1b0f7365fbcf7ea4e19\n",
            "  Stored in directory: /root/.cache/pip/wheels/1a/de/95/59b4de6e236db6acc37856d122cff2d3414ed09f99564ba9c1\n",
            "Successfully built dtreeviz\n",
            "Installing collected packages: colour, dtreeviz\n",
            "Successfully installed colour-0.1.5 dtreeviz-0.7.1\n",
            "Collecting eli5\n",
            "\u001b[?25l  Downloading https://files.pythonhosted.org/packages/97/2f/c85c7d8f8548e460829971785347e14e45fa5c6617da374711dec8cb38cc/eli5-0.10.1-py2.py3-none-any.whl (105kB)\n",
            "\u001b[K     |████████████████████████████████| 112kB 3.5MB/s \n",
            "\u001b[?25hRequirement already satisfied: tabulate>=0.7.7 in /usr/local/lib/python3.6/dist-packages (from eli5) (0.8.5)\n",
            "Requirement already satisfied: scikit-learn>=0.18 in /usr/local/lib/python3.6/dist-packages (from eli5) (0.21.3)\n",
            "Requirement already satisfied: six in /usr/local/lib/python3.6/dist-packages (from eli5) (1.12.0)\n",
            "Requirement already satisfied: scipy in /usr/local/lib/python3.6/dist-packages (from eli5) (1.3.1)\n",
            "Requirement already satisfied: attrs>16.0.0 in /usr/local/lib/python3.6/dist-packages (from eli5) (19.3.0)\n",
            "Requirement already satisfied: graphviz in /usr/local/lib/python3.6/dist-packages (from eli5) (0.10.1)\n",
            "Requirement already satisfied: numpy>=1.9.0 in /usr/local/lib/python3.6/dist-packages (from eli5) (1.17.3)\n",
            "Requirement already satisfied: jinja2 in /usr/local/lib/python3.6/dist-packages (from eli5) (2.10.3)\n",
            "Requirement already satisfied: joblib>=0.11 in /usr/local/lib/python3.6/dist-packages (from scikit-learn>=0.18->eli5) (0.14.0)\n",
            "Requirement already satisfied: MarkupSafe>=0.23 in /usr/local/lib/python3.6/dist-packages (from jinja2->eli5) (1.1.1)\n",
            "Installing collected packages: eli5\n",
            "Successfully installed eli5-0.10.1\n"
          ],
          "name": "stdout"
        }
      ]
    },
    {
      "cell_type": "markdown",
      "metadata": {
        "id": "M19RIgDhFBil",
        "colab_type": "text"
      },
      "source": [
        "使用するライブラリをまとめてimportします"
      ]
    },
    {
      "cell_type": "code",
      "metadata": {
        "id": "nkeXy7SsE_xz",
        "colab_type": "code",
        "outputId": "3ade6c54-2727-45d9-bf89-f67097ab586e",
        "colab": {
          "base_uri": "https://localhost:8080/",
          "height": 80
        }
      },
      "source": [
        "# 変数コピー\n",
        "import copy\n",
        "\n",
        "# 数理計算\n",
        "import numpy as np\n",
        "\n",
        "# csv読み込み\n",
        "import pandas as pd\n",
        "\n",
        "# 可視化系\n",
        "from matplotlib import pyplot as plt\n",
        "import seaborn as sns\n",
        "import pydotplus\n",
        "from IPython.display import Image\n",
        "from graphviz import Digraph\n",
        "from sklearn import tree\n",
        "from dtreeviz.trees import dtreeviz\n",
        "plt.style.use(\"fivethirtyeight\")\n",
        "sns.set()\n",
        "\n",
        "# データ分割\n",
        "from sklearn.model_selection import train_test_split\n",
        "\n",
        "# 評価指標計算\n",
        "from sklearn.metrics import precision_recall_fscore_support, confusion_matrix, accuracy_score\n",
        "\n",
        "# 機械学習モデル\n",
        "from sklearn.linear_model import LogisticRegression\n",
        "from sklearn import svm\n",
        "from sklearn.tree import DecisionTreeClassifier\n",
        "\n",
        "# 特徴量の重要度を出す\n",
        "import eli5\n",
        "from eli5.sklearn import PermutationImportance\n",
        "\n",
        "# 応用問題のデータ\n",
        "import statsmodels.api as sm"
      ],
      "execution_count": 0,
      "outputs": [
        {
          "output_type": "stream",
          "text": [
            "Using TensorFlow backend.\n"
          ],
          "name": "stderr"
        },
        {
          "output_type": "display_data",
          "data": {
            "text/html": [
              "<p style=\"color: red;\">\n",
              "The default version of TensorFlow in Colab will soon switch to TensorFlow 2.x.<br>\n",
              "We recommend you <a href=\"https://www.tensorflow.org/guide/migrate\" target=\"_blank\">upgrade</a> now \n",
              "or ensure your notebook will continue to use TensorFlow 1.x via the <code>%tensorflow_version 1.x</code> magic:\n",
              "<a href=\"https://colab.research.google.com/notebooks/tensorflow_version.ipynb\" target=\"_blank\">more info</a>.</p>\n"
            ],
            "text/plain": [
              "<IPython.core.display.HTML object>"
            ]
          },
          "metadata": {
            "tags": []
          }
        }
      ]
    },
    {
      "cell_type": "markdown",
      "metadata": {
        "id": "f0juPVbsTWrP",
        "colab_type": "text"
      },
      "source": [
        "## 1.第一回の復習\n",
        "\n",
        "##### 問題1\n",
        "\n",
        "pandasでtitanic.csvを読み込んでtitanic_dataに代入\n",
        "しましょう\n",
        "\n",
        "`.head(N)`は先頭N行を返すメソッドです\n",
        "ここでは先頭３行を表示します"
      ]
    },
    {
      "cell_type": "code",
      "metadata": {
        "id": "001NPpB7TfEz",
        "colab_type": "code",
        "outputId": "e9a10cb1-9bb8-406f-9524-54803874922d",
        "colab": {
          "base_uri": "https://localhost:8080/",
          "height": 142
        }
      },
      "source": [
        "titanic_data = pd.read_csv(\"titanic.csv\")\n",
        "titanic_data.head(3)"
      ],
      "execution_count": 0,
      "outputs": [
        {
          "output_type": "execute_result",
          "data": {
            "text/html": [
              "<div>\n",
              "<style scoped>\n",
              "    .dataframe tbody tr th:only-of-type {\n",
              "        vertical-align: middle;\n",
              "    }\n",
              "\n",
              "    .dataframe tbody tr th {\n",
              "        vertical-align: top;\n",
              "    }\n",
              "\n",
              "    .dataframe thead th {\n",
              "        text-align: right;\n",
              "    }\n",
              "</style>\n",
              "<table border=\"1\" class=\"dataframe\">\n",
              "  <thead>\n",
              "    <tr style=\"text-align: right;\">\n",
              "      <th></th>\n",
              "      <th>Survived</th>\n",
              "      <th>Pclass</th>\n",
              "      <th>Name</th>\n",
              "      <th>Sex</th>\n",
              "      <th>Age</th>\n",
              "      <th>Siblings/Spouses Aboard</th>\n",
              "      <th>Parents/Children Aboard</th>\n",
              "      <th>Fare</th>\n",
              "    </tr>\n",
              "  </thead>\n",
              "  <tbody>\n",
              "    <tr>\n",
              "      <th>0</th>\n",
              "      <td>0</td>\n",
              "      <td>3</td>\n",
              "      <td>Mr. Owen Harris Braund</td>\n",
              "      <td>male</td>\n",
              "      <td>22.0</td>\n",
              "      <td>1</td>\n",
              "      <td>0</td>\n",
              "      <td>7.2500</td>\n",
              "    </tr>\n",
              "    <tr>\n",
              "      <th>1</th>\n",
              "      <td>1</td>\n",
              "      <td>1</td>\n",
              "      <td>Mrs. John Bradley (Florence Briggs Thayer) Cum...</td>\n",
              "      <td>female</td>\n",
              "      <td>38.0</td>\n",
              "      <td>1</td>\n",
              "      <td>0</td>\n",
              "      <td>71.2833</td>\n",
              "    </tr>\n",
              "    <tr>\n",
              "      <th>2</th>\n",
              "      <td>1</td>\n",
              "      <td>3</td>\n",
              "      <td>Miss. Laina Heikkinen</td>\n",
              "      <td>female</td>\n",
              "      <td>26.0</td>\n",
              "      <td>0</td>\n",
              "      <td>0</td>\n",
              "      <td>7.9250</td>\n",
              "    </tr>\n",
              "  </tbody>\n",
              "</table>\n",
              "</div>"
            ],
            "text/plain": [
              "   Survived  Pclass  ... Parents/Children Aboard     Fare\n",
              "0         0       3  ...                       0   7.2500\n",
              "1         1       1  ...                       0  71.2833\n",
              "2         1       3  ...                       0   7.9250\n",
              "\n",
              "[3 rows x 8 columns]"
            ]
          },
          "metadata": {
            "tags": []
          },
          "execution_count": 4
        }
      ]
    },
    {
      "cell_type": "markdown",
      "metadata": {
        "id": "pkBVbT3gFpFp",
        "colab_type": "text"
      },
      "source": [
        "##### 解答"
      ]
    },
    {
      "cell_type": "code",
      "metadata": {
        "id": "L0hh_44GTg0p",
        "colab_type": "code",
        "colab": {}
      },
      "source": [
        "titanic_data = pd.read_csv(\"titanic.csv\")  # データの読み込み\n",
        "titanic_data.head(3)"
      ],
      "execution_count": 0,
      "outputs": []
    },
    {
      "cell_type": "markdown",
      "metadata": {
        "id": "C5KdDdjaGzus",
        "colab_type": "text"
      },
      "source": [
        "##### 問題2\n",
        "\n",
        "titanic_dataが何行何列のデータか確認してみましょう"
      ]
    },
    {
      "cell_type": "code",
      "metadata": {
        "id": "yvjmRiXO01V5",
        "colab_type": "code",
        "outputId": "31405ef2-0cc2-40fd-da2b-45577f84b4f9",
        "colab": {
          "base_uri": "https://localhost:8080/",
          "height": 34
        }
      },
      "source": [
        "print(titanic_data.shape)"
      ],
      "execution_count": 0,
      "outputs": [
        {
          "output_type": "stream",
          "text": [
            "(887, 8)\n"
          ],
          "name": "stdout"
        }
      ]
    },
    {
      "cell_type": "markdown",
      "metadata": {
        "id": "6Yql__g9HHrh",
        "colab_type": "text"
      },
      "source": [
        "##### 解答"
      ]
    },
    {
      "cell_type": "code",
      "metadata": {
        "id": "6uW-ZhhqTlqr",
        "colab_type": "code",
        "colab": {}
      },
      "source": [
        "titanic_data.shape"
      ],
      "execution_count": 0,
      "outputs": []
    },
    {
      "cell_type": "markdown",
      "metadata": {
        "id": "leQ5YoFdTq0q",
        "colab_type": "text"
      },
      "source": [
        "##### 問題3\n",
        "\n",
        "男性と女性の人数を知りたいです\n",
        "\n",
        "titanic_data内の男性と女性の人数を表示して下さい"
      ]
    },
    {
      "cell_type": "code",
      "metadata": {
        "id": "Votq58aJ06d8",
        "colab_type": "code",
        "outputId": "d1e73d6a-2eb2-4c12-f067-06c1629c6f99",
        "colab": {
          "base_uri": "https://localhost:8080/",
          "height": 68
        }
      },
      "source": [
        "titanic_data[\"Sex\"].value_counts()"
      ],
      "execution_count": 0,
      "outputs": [
        {
          "output_type": "execute_result",
          "data": {
            "text/plain": [
              "male      573\n",
              "female    314\n",
              "Name: Sex, dtype: int64"
            ]
          },
          "metadata": {
            "tags": []
          },
          "execution_count": 8
        }
      ]
    },
    {
      "cell_type": "markdown",
      "metadata": {
        "id": "QFcYbOmSTxyn",
        "colab_type": "text"
      },
      "source": [
        "##### 解答"
      ]
    },
    {
      "cell_type": "code",
      "metadata": {
        "id": "C4QOEPOqWd7H",
        "colab_type": "code",
        "colab": {}
      },
      "source": [
        "titanic_data[\"Sex\"].value_counts()"
      ],
      "execution_count": 0,
      "outputs": []
    },
    {
      "cell_type": "markdown",
      "metadata": {
        "id": "tdZZVFoBIAui",
        "colab_type": "text"
      },
      "source": [
        "##### 問題4\n",
        "\n",
        "問題3で出した男性と女声の割合を円グラフで表示してください\n"
      ]
    },
    {
      "cell_type": "code",
      "metadata": {
        "id": "DUVwAEwQIRvV",
        "colab_type": "code",
        "outputId": "0dc55ea5-423f-42a4-f014-520a666d2010",
        "colab": {
          "base_uri": "https://localhost:8080/",
          "height": 281
        }
      },
      "source": [
        "titanic_data[\"Sex\"].value_counts().plot.pie()"
      ],
      "execution_count": 0,
      "outputs": [
        {
          "output_type": "execute_result",
          "data": {
            "text/plain": [
              "<matplotlib.axes._subplots.AxesSubplot at 0x7fcdc39cf828>"
            ]
          },
          "metadata": {
            "tags": []
          },
          "execution_count": 9
        },
        {
          "output_type": "display_data",
          "data": {
            "image/png": "[encoded data removed]",
            "text/plain": [
              "<Figure size 432x288 with 1 Axes>"
            ]
          },
          "metadata": {
            "tags": []
          }
        }
      ]
    },
    {
      "cell_type": "markdown",
      "metadata": {
        "id": "4aZRmDT9ITNd",
        "colab_type": "text"
      },
      "source": [
        "##### 解答"
      ]
    },
    {
      "cell_type": "code",
      "metadata": {
        "id": "Trqt7bek0_Rs",
        "colab_type": "code",
        "colab": {}
      },
      "source": [
        "titanic_data[\"Sex\"].value_counts().plot.pie()"
      ],
      "execution_count": 0,
      "outputs": []
    },
    {
      "cell_type": "markdown",
      "metadata": {
        "id": "nuUxsVqMIWFV",
        "colab_type": "text"
      },
      "source": [
        "##### 問題5\n",
        "\n",
        "年齢の分布を知りたいです\n",
        "\n",
        "titanic_data内の年齢のヒストグラムを表示してください"
      ]
    },
    {
      "cell_type": "code",
      "metadata": {
        "id": "ApALEywqT6mj",
        "colab_type": "code",
        "outputId": "53198fca-046d-43be-d29e-236ddd1dda7f",
        "colab": {
          "base_uri": "https://localhost:8080/",
          "height": 301
        }
      },
      "source": [
        "# titanic_data[\"Age\"].value_counts().plot.hist() だめ\n",
        "titanic_data[\"Age\"].hist()"
      ],
      "execution_count": 0,
      "outputs": [
        {
          "output_type": "execute_result",
          "data": {
            "text/plain": [
              "<matplotlib.axes._subplots.AxesSubplot at 0x7fcdbfba1f98>"
            ]
          },
          "metadata": {
            "tags": []
          },
          "execution_count": 14
        },
        {
          "output_type": "display_data",
          "data": {
            "image/png": "[encoded data removed]",
            "text/plain": [
              "<Figure size 432x288 with 1 Axes>"
            ]
          },
          "metadata": {
            "tags": []
          }
        }
      ]
    },
    {
      "cell_type": "markdown",
      "metadata": {
        "id": "4Tfvww9GIm5x",
        "colab_type": "text"
      },
      "source": [
        "##### 解答"
      ]
    },
    {
      "cell_type": "code",
      "metadata": {
        "id": "XXgpL9s4T2yc",
        "colab_type": "code",
        "colab": {}
      },
      "source": [
        "titanic_data[\"Age\"].hist()"
      ],
      "execution_count": 0,
      "outputs": []
    },
    {
      "cell_type": "markdown",
      "metadata": {
        "id": "cD2IMlIYI4uV",
        "colab_type": "text"
      },
      "source": [
        "##### 問題6\n",
        "\n",
        "船室のクラス(Pclass)が生き残るかどうか(Survived)に影響するか可視化したいです\n",
        "\n",
        "生き残るかどうかと船室のクラスの関係を可視化して下さい"
      ]
    },
    {
      "cell_type": "code",
      "metadata": {
        "id": "MjQrg6DhLE6I",
        "colab_type": "code",
        "outputId": "7846ffc9-5402-4920-d65c-475da59fb855",
        "colab": {
          "base_uri": "https://localhost:8080/",
          "height": 318
        }
      },
      "source": [
        "sns.countplot(hue='Survived', x=\"Pclass\", data=titanic_data)"
      ],
      "execution_count": 0,
      "outputs": [
        {
          "output_type": "execute_result",
          "data": {
            "text/plain": [
              "<matplotlib.axes._subplots.AxesSubplot at 0x7fcdbfb3f470>"
            ]
          },
          "metadata": {
            "tags": []
          },
          "execution_count": 15
        },
        {
          "output_type": "display_data",
          "data": {
            "image/png": "[encoded data removed]",
            "text/plain": [
              "<Figure size 432x288 with 1 Axes>"
            ]
          },
          "metadata": {
            "tags": []
          }
        }
      ]
    },
    {
      "cell_type": "markdown",
      "metadata": {
        "id": "6dfyquMAKQzs",
        "colab_type": "text"
      },
      "source": [
        "##### ヒント"
      ]
    },
    {
      "cell_type": "code",
      "metadata": {
        "id": "KGkNvaVpKcJh",
        "colab_type": "code",
        "colab": {}
      },
      "source": [
        "# 可視化にはsns.countplotが使えます\n",
        "# hueに集計する列名、xに系列、dataにtitanic_dataを入れます"
      ],
      "execution_count": 0,
      "outputs": []
    },
    {
      "cell_type": "markdown",
      "metadata": {
        "id": "faYCrU7JKT4W",
        "colab_type": "text"
      },
      "source": [
        "##### 解答"
      ]
    },
    {
      "cell_type": "code",
      "metadata": {
        "id": "3KkmJR7-OiSm",
        "colab_type": "code",
        "colab": {}
      },
      "source": [
        "sns.countplot(hue='Survived', x=\"Pclass\", data=titanic_data)"
      ],
      "execution_count": 0,
      "outputs": []
    },
    {
      "cell_type": "markdown",
      "metadata": {
        "id": "CIrCP_L4KkYN",
        "colab_type": "text"
      },
      "source": [
        "##### 問題7\n",
        "\n",
        "学習をする前に性別を数字で表現したいです\n",
        "`Sex`列のmaleを0に、femaleを1にした`SexCate`列を追加して下さい"
      ]
    },
    {
      "cell_type": "code",
      "metadata": {
        "id": "r7JFdv_uR2RV",
        "colab_type": "code",
        "outputId": "bb1057a7-275e-4bae-909c-108387b4a29e",
        "colab": {
          "base_uri": "https://localhost:8080/",
          "height": 204
        }
      },
      "source": [
        "def to_cate(x):\n",
        "  if x == \"male\":\n",
        "    return 0\n",
        "  else:\n",
        "    return 1\n",
        "\n",
        "titanic_data['SexCate'] = titanic_data['Sex'].map(to_cate)\n",
        "titanic_data.head()"
      ],
      "execution_count": 0,
      "outputs": [
        {
          "output_type": "execute_result",
          "data": {
            "text/html": [
              "<div>\n",
              "<style scoped>\n",
              "    .dataframe tbody tr th:only-of-type {\n",
              "        vertical-align: middle;\n",
              "    }\n",
              "\n",
              "    .dataframe tbody tr th {\n",
              "        vertical-align: top;\n",
              "    }\n",
              "\n",
              "    .dataframe thead th {\n",
              "        text-align: right;\n",
              "    }\n",
              "</style>\n",
              "<table border=\"1\" class=\"dataframe\">\n",
              "  <thead>\n",
              "    <tr style=\"text-align: right;\">\n",
              "      <th></th>\n",
              "      <th>Survived</th>\n",
              "      <th>Pclass</th>\n",
              "      <th>Name</th>\n",
              "      <th>Sex</th>\n",
              "      <th>Age</th>\n",
              "      <th>Siblings/Spouses Aboard</th>\n",
              "      <th>Parents/Children Aboard</th>\n",
              "      <th>Fare</th>\n",
              "      <th>SexCate</th>\n",
              "    </tr>\n",
              "  </thead>\n",
              "  <tbody>\n",
              "    <tr>\n",
              "      <th>0</th>\n",
              "      <td>0</td>\n",
              "      <td>3</td>\n",
              "      <td>Mr. Owen Harris Braund</td>\n",
              "      <td>male</td>\n",
              "      <td>22.0</td>\n",
              "      <td>1</td>\n",
              "      <td>0</td>\n",
              "      <td>7.2500</td>\n",
              "      <td>0</td>\n",
              "    </tr>\n",
              "    <tr>\n",
              "      <th>1</th>\n",
              "      <td>1</td>\n",
              "      <td>1</td>\n",
              "      <td>Mrs. John Bradley (Florence Briggs Thayer) Cum...</td>\n",
              "      <td>female</td>\n",
              "      <td>38.0</td>\n",
              "      <td>1</td>\n",
              "      <td>0</td>\n",
              "      <td>71.2833</td>\n",
              "      <td>1</td>\n",
              "    </tr>\n",
              "    <tr>\n",
              "      <th>2</th>\n",
              "      <td>1</td>\n",
              "      <td>3</td>\n",
              "      <td>Miss. Laina Heikkinen</td>\n",
              "      <td>female</td>\n",
              "      <td>26.0</td>\n",
              "      <td>0</td>\n",
              "      <td>0</td>\n",
              "      <td>7.9250</td>\n",
              "      <td>1</td>\n",
              "    </tr>\n",
              "    <tr>\n",
              "      <th>3</th>\n",
              "      <td>1</td>\n",
              "      <td>1</td>\n",
              "      <td>Mrs. Jacques Heath (Lily May Peel) Futrelle</td>\n",
              "      <td>female</td>\n",
              "      <td>35.0</td>\n",
              "      <td>1</td>\n",
              "      <td>0</td>\n",
              "      <td>53.1000</td>\n",
              "      <td>1</td>\n",
              "    </tr>\n",
              "    <tr>\n",
              "      <th>4</th>\n",
              "      <td>0</td>\n",
              "      <td>3</td>\n",
              "      <td>Mr. William Henry Allen</td>\n",
              "      <td>male</td>\n",
              "      <td>35.0</td>\n",
              "      <td>0</td>\n",
              "      <td>0</td>\n",
              "      <td>8.0500</td>\n",
              "      <td>0</td>\n",
              "    </tr>\n",
              "  </tbody>\n",
              "</table>\n",
              "</div>"
            ],
            "text/plain": [
              "   Survived  Pclass  ...     Fare SexCate\n",
              "0         0       3  ...   7.2500       0\n",
              "1         1       1  ...  71.2833       1\n",
              "2         1       3  ...   7.9250       1\n",
              "3         1       1  ...  53.1000       1\n",
              "4         0       3  ...   8.0500       0\n",
              "\n",
              "[5 rows x 9 columns]"
            ]
          },
          "metadata": {
            "tags": []
          },
          "execution_count": 16
        }
      ]
    },
    {
      "cell_type": "markdown",
      "metadata": {
        "id": "5PXGnHfMLfOO",
        "colab_type": "text"
      },
      "source": [
        "##### ヒント"
      ]
    },
    {
      "cell_type": "code",
      "metadata": {
        "id": "Z922RllbLgkE",
        "colab_type": "code",
        "colab": {}
      },
      "source": [
        "# まずは入力がmaleなら0、それ以外なら1を返す to_cate 関数を作りましょう"
      ],
      "execution_count": 0,
      "outputs": []
    },
    {
      "cell_type": "markdown",
      "metadata": {
        "id": "1HKaN3BXL91S",
        "colab_type": "text"
      },
      "source": [
        "##### ヒント"
      ]
    },
    {
      "cell_type": "code",
      "metadata": {
        "id": "duzi45SQMAdo",
        "colab_type": "code",
        "colab": {}
      },
      "source": [
        "# .mapメソッドを使うことですべての要素に関数を適用することができます"
      ],
      "execution_count": 0,
      "outputs": []
    },
    {
      "cell_type": "markdown",
      "metadata": {
        "id": "b23uKhg_MBcT",
        "colab_type": "text"
      },
      "source": [
        "##### 解答"
      ]
    },
    {
      "cell_type": "code",
      "metadata": {
        "id": "cy0sLdSuaGSq",
        "colab_type": "code",
        "colab": {}
      },
      "source": [
        "def to_cate(x):\n",
        "  if x == \"male\":\n",
        "    return 0\n",
        "  else:\n",
        "    return 1\n",
        "\n",
        "titanic_data['SexCate'] = titanic_data['Sex'].map(to_cate)\n",
        "titanic_data.head()"
      ],
      "execution_count": 0,
      "outputs": []
    },
    {
      "cell_type": "markdown",
      "metadata": {
        "id": "7tFcZFtWMGI-",
        "colab_type": "text"
      },
      "source": [
        "##### 問題8\n",
        "\n",
        "ロジスティック回帰を使ってtitanic_dataを学習したいです\n",
        "\n",
        "なお、titanic_dataは以下のように分割されています\n",
        "- x_train: 学習用データの特徴量\n",
        "- x_test: テスト用データの特徴量\n",
        "- y_train: 学習用データの正解データ\n",
        "- y_test: テスト用データの正解データ"
      ]
    },
    {
      "cell_type": "code",
      "metadata": {
        "id": "PQ-AHEcvdZ0F",
        "colab_type": "code",
        "outputId": "60db63a6-25df-4515-f617-86c00a56d055",
        "colab": {
          "base_uri": "https://localhost:8080/",
          "height": 136
        }
      },
      "source": [
        "train, test = train_test_split(titanic_data, test_size=0.3, random_state=0)\n",
        "\n",
        "use_feature = [\"Pclass\", \"Age\", \"Siblings/Spouses Aboard\", \"Parents/Children Aboard\", \"Fare\", \"SexCate\"]  # 使用する特徴量\n",
        "\n",
        "x_train = train[use_feature]\n",
        "x_test = test[use_feature]\n",
        "y_train = train[\"Survived\"]\n",
        "y_test = test[\"Survived\"]\n",
        "\n",
        "model = LogisticRegression(random_state=0)\n",
        "model.fit(x_train, y_train)"
      ],
      "execution_count": 0,
      "outputs": [
        {
          "output_type": "stream",
          "text": [
            "/usr/local/lib/python3.6/dist-packages/sklearn/linear_model/logistic.py:432: FutureWarning: Default solver will be changed to 'lbfgs' in 0.22. Specify a solver to silence this warning.\n",
            "  FutureWarning)\n"
          ],
          "name": "stderr"
        },
        {
          "output_type": "execute_result",
          "data": {
            "text/plain": [
              "LogisticRegression(C=1.0, class_weight=None, dual=False, fit_intercept=True,\n",
              "                   intercept_scaling=1, l1_ratio=None, max_iter=100,\n",
              "                   multi_class='warn', n_jobs=None, penalty='l2',\n",
              "                   random_state=0, solver='warn', tol=0.0001, verbose=0,\n",
              "                   warm_start=False)"
            ]
          },
          "metadata": {
            "tags": []
          },
          "execution_count": 17
        }
      ]
    },
    {
      "cell_type": "markdown",
      "metadata": {
        "id": "wtaDQquwNlun",
        "colab_type": "text"
      },
      "source": [
        "##### 解答"
      ]
    },
    {
      "cell_type": "code",
      "metadata": {
        "id": "vtFdn0lbbV7t",
        "colab_type": "code",
        "colab": {}
      },
      "source": [
        "train, test = train_test_split(titanic_data, test_size=0.3, random_state=0)\n",
        "\n",
        "use_feature = [\"Pclass\", \"Age\", \"Siblings/Spouses Aboard\", \"Parents/Children Aboard\", \"Fare\", \"SexCate\"]  # 使用する特徴量\n",
        "\n",
        "x_train = train[use_feature]\n",
        "x_test = test[use_feature]\n",
        "y_train = train[\"Survived\"]\n",
        "y_test = test[\"Survived\"]\n",
        "\n",
        "model = LogisticRegression(random_state=0)\n",
        "model.fit(x_train, y_train)"
      ],
      "execution_count": 0,
      "outputs": []
    },
    {
      "cell_type": "markdown",
      "metadata": {
        "id": "dTCq3qavOKN9",
        "colab_type": "text"
      },
      "source": [
        "##### 問題9\n",
        "\n",
        "テスト用データを予測して、学習したモデルの精度がどのくらいか確認してみて下さい"
      ]
    },
    {
      "cell_type": "code",
      "metadata": {
        "id": "Bjs0KH0TOUXn",
        "colab_type": "code",
        "outputId": "356e7815-bd4a-4b87-9042-b03f9e9ba5a9",
        "colab": {
          "base_uri": "https://localhost:8080/",
          "height": 34
        }
      },
      "source": [
        "pred = model.predict(x_test)\n",
        "accuracy_score(y_test, pred)"
      ],
      "execution_count": 0,
      "outputs": [
        {
          "output_type": "execute_result",
          "data": {
            "text/plain": [
              "0.797752808988764"
            ]
          },
          "metadata": {
            "tags": []
          },
          "execution_count": 18
        }
      ]
    },
    {
      "cell_type": "markdown",
      "metadata": {
        "id": "IrPYXOK8OW8F",
        "colab_type": "text"
      },
      "source": [
        "##### ヒント"
      ]
    },
    {
      "cell_type": "code",
      "metadata": {
        "id": "eDwhQ_DVOZ9f",
        "colab_type": "code",
        "colab": {}
      },
      "source": [
        "# 精度を計算するにはaccuracy_score関数が使えます"
      ],
      "execution_count": 0,
      "outputs": []
    },
    {
      "cell_type": "markdown",
      "metadata": {
        "id": "euI2V2foPavY",
        "colab_type": "text"
      },
      "source": [
        "##### 解答"
      ]
    },
    {
      "cell_type": "code",
      "metadata": {
        "id": "vOjHuHhmPc6U",
        "colab_type": "code",
        "colab": {}
      },
      "source": [
        "pred = model.predict(x_test)\n",
        "accuracy_score(y_test, pred)"
      ],
      "execution_count": 0,
      "outputs": []
    },
    {
      "cell_type": "markdown",
      "metadata": {
        "id": "eVxg-engVNln",
        "colab_type": "text"
      },
      "source": [
        "##### 問題10\n",
        "\n",
        "自分の情報を入力して生存確率を予測してみましょう\n",
        "\n",
        "自分のデータは各変数に入力することでyour_dataに格納されます"
      ]
    },
    {
      "cell_type": "code",
      "metadata": {
        "id": "VyG-WXpOVWAJ",
        "colab_type": "code",
        "outputId": "6f901947-bfb3-4813-cb08-14cedfa0e29f",
        "colab": {
          "base_uri": "https://localhost:8080/",
          "height": 97
        }
      },
      "source": [
        "pclass = 3\n",
        "age = 33\n",
        "siblings = 0\n",
        "parents = 0\n",
        "fare = 10\n",
        "sex = 0\n",
        "\n",
        "your_data = pd.DataFrame({\n",
        "    \"Pclass\": [pclass],\n",
        "    \"Age\": [age],\n",
        "    \"Siblings/Spouses Aboard\": [siblings],\n",
        "    \"Parents/Children Aboard\": [parents],\n",
        "    \"Fare\": [fare],\n",
        "    \"SexCate\": [sex],\n",
        "})\n",
        "\n",
        "display(your_data)\n",
        "\n",
        "pred = model.predict_proba(your_data)\n",
        "pred"
      ],
      "execution_count": 0,
      "outputs": [
        {
          "output_type": "display_data",
          "data": {
            "text/html": [
              "<div>\n",
              "<style scoped>\n",
              "    .dataframe tbody tr th:only-of-type {\n",
              "        vertical-align: middle;\n",
              "    }\n",
              "\n",
              "    .dataframe tbody tr th {\n",
              "        vertical-align: top;\n",
              "    }\n",
              "\n",
              "    .dataframe thead th {\n",
              "        text-align: right;\n",
              "    }\n",
              "</style>\n",
              "<table border=\"1\" class=\"dataframe\">\n",
              "  <thead>\n",
              "    <tr style=\"text-align: right;\">\n",
              "      <th></th>\n",
              "      <th>Pclass</th>\n",
              "      <th>Age</th>\n",
              "      <th>Siblings/Spouses Aboard</th>\n",
              "      <th>Parents/Children Aboard</th>\n",
              "      <th>Fare</th>\n",
              "      <th>SexCate</th>\n",
              "    </tr>\n",
              "  </thead>\n",
              "  <tbody>\n",
              "    <tr>\n",
              "      <th>0</th>\n",
              "      <td>3</td>\n",
              "      <td>33</td>\n",
              "      <td>0</td>\n",
              "      <td>0</td>\n",
              "      <td>10</td>\n",
              "      <td>0</td>\n",
              "    </tr>\n",
              "  </tbody>\n",
              "</table>\n",
              "</div>"
            ],
            "text/plain": [
              "   Pclass  Age  Siblings/Spouses Aboard  Parents/Children Aboard  Fare  SexCate\n",
              "0       3   33                        0                        0    10        0"
            ]
          },
          "metadata": {
            "tags": []
          }
        },
        {
          "output_type": "execute_result",
          "data": {
            "text/plain": [
              "array([[0.90659683, 0.09340317]])"
            ]
          },
          "metadata": {
            "tags": []
          },
          "execution_count": 21
        }
      ]
    },
    {
      "cell_type": "markdown",
      "metadata": {
        "id": "GrKS3vpjXcdr",
        "colab_type": "text"
      },
      "source": [
        "##### 解答"
      ]
    },
    {
      "cell_type": "code",
      "metadata": {
        "id": "F-fno6jkW7xv",
        "colab_type": "code",
        "colab": {}
      },
      "source": [
        "pclass = 3\n",
        "age = 29\n",
        "siblings = 0\n",
        "parents = 0\n",
        "fare = 10\n",
        "sex = 0\n",
        "\n",
        "your_data = pd.DataFrame({\n",
        "    \"Pclass\": [pclass],\n",
        "    \"Age\": [age],\n",
        "    \"Siblings/Spouses Aboard\": [siblings],\n",
        "    \"Parents/Children Aboard\": [parents],\n",
        "    \"Fare\": [fare],\n",
        "    \"SexCate\": [sex],\n",
        "})\n",
        "\n",
        "display(your_data)\n",
        "\n",
        "pred = model.predict_proba(your_data)\n",
        "pred"
      ],
      "execution_count": 0,
      "outputs": []
    },
    {
      "cell_type": "markdown",
      "metadata": {
        "id": "iMBEsQqwUkub",
        "colab_type": "text"
      },
      "source": [
        "# 2. 学習しているものの可視化\n",
        "\n",
        "## 2.1 ロジスティック回帰を詳しく見てみる\n",
        "\n",
        "ちょっとtitanicは扱いにくいので別のデータを使います\n",
        "\n",
        "政府統計の総合窓口e-statで公開されている消費者物価地域差指数から必要なデータを抽出したもので、予測対象として平成27年の国勢調査時に定められた大都市圏を追加しています。\n",
        "\n",
        "こちらのサイトからいただきました\n",
        "[Pythonで学ぶ 基礎からの機械学習入門](https://news.mynavi.jp/series/Python_ML)"
      ]
    },
    {
      "cell_type": "code",
      "metadata": {
        "id": "PiubU3LuXl2t",
        "colab_type": "code",
        "outputId": "5fa140fb-bd30-43cb-ec93-2050606dd37b",
        "colab": {
          "base_uri": "https://localhost:8080/",
          "height": 340
        }
      },
      "source": [
        "!wget http://news.mynavi.jp/series/Python_ML/005/resources/consumerPrices_tree.csv"
      ],
      "execution_count": 0,
      "outputs": [
        {
          "output_type": "stream",
          "text": [
            "--2019-11-12 03:26:17--  http://news.mynavi.jp/series/Python_ML/005/resources/consumerPrices_tree.csv\n",
            "Resolving news.mynavi.jp (news.mynavi.jp)... 13.225.212.48, 13.225.212.98, 13.225.212.29, ...\n",
            "Connecting to news.mynavi.jp (news.mynavi.jp)|13.225.212.48|:80... connected.\n",
            "HTTP request sent, awaiting response... 301 Moved Permanently\n",
            "Location: https://news.mynavi.jp/series/Python_ML/005/resources/consumerPrices_tree.csv [following]\n",
            "--2019-11-12 03:26:17--  https://news.mynavi.jp/series/Python_ML/005/resources/consumerPrices_tree.csv\n",
            "Connecting to news.mynavi.jp (news.mynavi.jp)|13.225.212.48|:443... connected.\n",
            "HTTP request sent, awaiting response... 301 Moved Permanently\n",
            "Location: https://news.mynavi.jp/article/Python_ML-5/resources/consumerPrices_tree.csv [following]\n",
            "--2019-11-12 03:26:17--  https://news.mynavi.jp/article/Python_ML-5/resources/consumerPrices_tree.csv\n",
            "Reusing existing connection to news.mynavi.jp:443.\n",
            "HTTP request sent, awaiting response... 200 OK\n",
            "Length: 3255 (3.2K) [text/csv]\n",
            "Saving to: ‘consumerPrices_tree.csv’\n",
            "\n",
            "\rconsumerPrices_tree   0%[                    ]       0  --.-KB/s               \rconsumerPrices_tree 100%[===================>]   3.18K  --.-KB/s    in 0s      \n",
            "\n",
            "2019-11-12 03:26:17 (972 MB/s) - ‘consumerPrices_tree.csv’ saved [3255/3255]\n",
            "\n"
          ],
          "name": "stdout"
        }
      ]
    },
    {
      "cell_type": "code",
      "metadata": {
        "id": "U75QMnl0Y4am",
        "colab_type": "code",
        "outputId": "6aabac55-e2a6-470b-8d6d-943c44f2092f",
        "colab": {
          "base_uri": "https://localhost:8080/",
          "height": 34
        }
      },
      "source": [
        "!ls"
      ],
      "execution_count": 0,
      "outputs": [
        {
          "output_type": "stream",
          "text": [
            "consumerPrices_tree.csv  sample_data  titanic.csv\n"
          ],
          "name": "stdout"
        }
      ]
    },
    {
      "cell_type": "code",
      "metadata": {
        "id": "dvyn_05WY7JN",
        "colab_type": "code",
        "outputId": "852974a9-a588-4fef-822e-f50075a6cdea",
        "colab": {
          "base_uri": "https://localhost:8080/",
          "height": 204
        }
      },
      "source": [
        "city_data = pd.read_csv(\"consumerPrices_tree.csv\")  # ダウンロードしたcsvデータを読み込み\n",
        "city_data.head()"
      ],
      "execution_count": 0,
      "outputs": [
        {
          "output_type": "execute_result",
          "data": {
            "text/html": [
              "<div>\n",
              "<style scoped>\n",
              "    .dataframe tbody tr th:only-of-type {\n",
              "        vertical-align: middle;\n",
              "    }\n",
              "\n",
              "    .dataframe tbody tr th {\n",
              "        vertical-align: top;\n",
              "    }\n",
              "\n",
              "    .dataframe thead th {\n",
              "        text-align: right;\n",
              "    }\n",
              "</style>\n",
              "<table border=\"1\" class=\"dataframe\">\n",
              "  <thead>\n",
              "    <tr style=\"text-align: right;\">\n",
              "      <th></th>\n",
              "      <th>都道府県</th>\n",
              "      <th>食料</th>\n",
              "      <th>住居</th>\n",
              "      <th>水道光熱費</th>\n",
              "      <th>家具家事用品</th>\n",
              "      <th>衣類</th>\n",
              "      <th>保険医療</th>\n",
              "      <th>交通通信</th>\n",
              "      <th>教育</th>\n",
              "      <th>教養娯楽</th>\n",
              "      <th>諸雑費</th>\n",
              "      <th>大都市圏分類</th>\n",
              "    </tr>\n",
              "  </thead>\n",
              "  <tbody>\n",
              "    <tr>\n",
              "      <th>0</th>\n",
              "      <td>北 海 道</td>\n",
              "      <td>98.7</td>\n",
              "      <td>82.6</td>\n",
              "      <td>116.3</td>\n",
              "      <td>99.3</td>\n",
              "      <td>103.8</td>\n",
              "      <td>100.2</td>\n",
              "      <td>99.5</td>\n",
              "      <td>93.2</td>\n",
              "      <td>97.1</td>\n",
              "      <td>100.9</td>\n",
              "      <td>1</td>\n",
              "    </tr>\n",
              "    <tr>\n",
              "      <th>1</th>\n",
              "      <td>青 森 県</td>\n",
              "      <td>97.4</td>\n",
              "      <td>95.7</td>\n",
              "      <td>109.0</td>\n",
              "      <td>96.2</td>\n",
              "      <td>97.1</td>\n",
              "      <td>101.0</td>\n",
              "      <td>100.5</td>\n",
              "      <td>93.2</td>\n",
              "      <td>96.4</td>\n",
              "      <td>97.8</td>\n",
              "      <td>0</td>\n",
              "    </tr>\n",
              "    <tr>\n",
              "      <th>2</th>\n",
              "      <td>岩 手 県</td>\n",
              "      <td>96.6</td>\n",
              "      <td>89.4</td>\n",
              "      <td>111.0</td>\n",
              "      <td>102.2</td>\n",
              "      <td>97.8</td>\n",
              "      <td>100.4</td>\n",
              "      <td>99.7</td>\n",
              "      <td>90.1</td>\n",
              "      <td>99.8</td>\n",
              "      <td>97.0</td>\n",
              "      <td>0</td>\n",
              "    </tr>\n",
              "    <tr>\n",
              "      <th>3</th>\n",
              "      <td>宮 城 県</td>\n",
              "      <td>97.2</td>\n",
              "      <td>97.1</td>\n",
              "      <td>101.3</td>\n",
              "      <td>104.0</td>\n",
              "      <td>95.6</td>\n",
              "      <td>100.9</td>\n",
              "      <td>97.5</td>\n",
              "      <td>99.5</td>\n",
              "      <td>99.3</td>\n",
              "      <td>99.2</td>\n",
              "      <td>1</td>\n",
              "    </tr>\n",
              "    <tr>\n",
              "      <th>4</th>\n",
              "      <td>秋 田 県</td>\n",
              "      <td>97.3</td>\n",
              "      <td>86.1</td>\n",
              "      <td>107.2</td>\n",
              "      <td>103.1</td>\n",
              "      <td>102.4</td>\n",
              "      <td>98.9</td>\n",
              "      <td>98.0</td>\n",
              "      <td>87.1</td>\n",
              "      <td>98.0</td>\n",
              "      <td>100.2</td>\n",
              "      <td>0</td>\n",
              "    </tr>\n",
              "  </tbody>\n",
              "</table>\n",
              "</div>"
            ],
            "text/plain": [
              "    都道府県    食料    住居  水道光熱費  家具家事用品  ...   交通通信    教育  教養娯楽    諸雑費  大都市圏分類\n",
              "0  北 海 道  98.7  82.6  116.3    99.3  ...   99.5  93.2  97.1  100.9       1\n",
              "1  青 森 県  97.4  95.7  109.0    96.2  ...  100.5  93.2  96.4   97.8       0\n",
              "2  岩 手 県  96.6  89.4  111.0   102.2  ...   99.7  90.1  99.8   97.0       0\n",
              "3  宮 城 県  97.2  97.1  101.3   104.0  ...   97.5  99.5  99.3   99.2       1\n",
              "4  秋 田 県  97.3  86.1  107.2   103.1  ...   98.0  87.1  98.0  100.2       0\n",
              "\n",
              "[5 rows x 12 columns]"
            ]
          },
          "metadata": {
            "tags": []
          },
          "execution_count": 30
        }
      ]
    },
    {
      "cell_type": "markdown",
      "metadata": {
        "id": "zKFcUc6GvPWP",
        "colab_type": "text"
      },
      "source": [
        "##### 演習1\n",
        "\n",
        "データを`都道府県` `保険医療` `教養娯楽` `大都市圏分類`の4列に絞ってみましょう"
      ]
    },
    {
      "cell_type": "code",
      "metadata": {
        "id": "0DSXDT1UwfcD",
        "colab_type": "code",
        "outputId": "a9f2dd8b-c067-4d2e-9839-62cc22f1110f",
        "colab": {
          "base_uri": "https://localhost:8080/",
          "height": 204
        }
      },
      "source": [
        "city_data = city_data[[\"都道府県\", \"保険医療\", \"教養娯楽\", \"大都市圏分類\"]]\n",
        "city_data.head()"
      ],
      "execution_count": 0,
      "outputs": [
        {
          "output_type": "execute_result",
          "data": {
            "text/html": [
              "<div>\n",
              "<style scoped>\n",
              "    .dataframe tbody tr th:only-of-type {\n",
              "        vertical-align: middle;\n",
              "    }\n",
              "\n",
              "    .dataframe tbody tr th {\n",
              "        vertical-align: top;\n",
              "    }\n",
              "\n",
              "    .dataframe thead th {\n",
              "        text-align: right;\n",
              "    }\n",
              "</style>\n",
              "<table border=\"1\" class=\"dataframe\">\n",
              "  <thead>\n",
              "    <tr style=\"text-align: right;\">\n",
              "      <th></th>\n",
              "      <th>都道府県</th>\n",
              "      <th>保険医療</th>\n",
              "      <th>教養娯楽</th>\n",
              "      <th>大都市圏分類</th>\n",
              "    </tr>\n",
              "  </thead>\n",
              "  <tbody>\n",
              "    <tr>\n",
              "      <th>0</th>\n",
              "      <td>北 海 道</td>\n",
              "      <td>100.2</td>\n",
              "      <td>97.1</td>\n",
              "      <td>1</td>\n",
              "    </tr>\n",
              "    <tr>\n",
              "      <th>1</th>\n",
              "      <td>青 森 県</td>\n",
              "      <td>101.0</td>\n",
              "      <td>96.4</td>\n",
              "      <td>0</td>\n",
              "    </tr>\n",
              "    <tr>\n",
              "      <th>2</th>\n",
              "      <td>岩 手 県</td>\n",
              "      <td>100.4</td>\n",
              "      <td>99.8</td>\n",
              "      <td>0</td>\n",
              "    </tr>\n",
              "    <tr>\n",
              "      <th>3</th>\n",
              "      <td>宮 城 県</td>\n",
              "      <td>100.9</td>\n",
              "      <td>99.3</td>\n",
              "      <td>1</td>\n",
              "    </tr>\n",
              "    <tr>\n",
              "      <th>4</th>\n",
              "      <td>秋 田 県</td>\n",
              "      <td>98.9</td>\n",
              "      <td>98.0</td>\n",
              "      <td>0</td>\n",
              "    </tr>\n",
              "  </tbody>\n",
              "</table>\n",
              "</div>"
            ],
            "text/plain": [
              "    都道府県   保険医療  教養娯楽  大都市圏分類\n",
              "0  北 海 道  100.2  97.1       1\n",
              "1  青 森 県  101.0  96.4       0\n",
              "2  岩 手 県  100.4  99.8       0\n",
              "3  宮 城 県  100.9  99.3       1\n",
              "4  秋 田 県   98.9  98.0       0"
            ]
          },
          "metadata": {
            "tags": []
          },
          "execution_count": 31
        }
      ]
    },
    {
      "cell_type": "markdown",
      "metadata": {
        "id": "VNYfFj_gwkNY",
        "colab_type": "text"
      },
      "source": [
        "##### 解答"
      ]
    },
    {
      "cell_type": "code",
      "metadata": {
        "id": "_LNcZDWfaMHZ",
        "colab_type": "code",
        "colab": {}
      },
      "source": [
        "city_data = city_data[[\"都道府県\", \"保険医療\", \"教養娯楽\", \"大都市圏分類\"]]\n",
        "city_data.head()"
      ],
      "execution_count": 0,
      "outputs": []
    },
    {
      "cell_type": "markdown",
      "metadata": {
        "id": "VL5Dd0BDwpu1",
        "colab_type": "text"
      },
      "source": [
        "##### カラム名を修正(Colaboratoryの日本語表示設定が少し面倒なため)"
      ]
    },
    {
      "cell_type": "code",
      "metadata": {
        "id": "wcCfOLhgcq8a",
        "colab_type": "code",
        "outputId": "184bf0e0-f408-4511-82d1-3fca73744f49",
        "colab": {
          "base_uri": "https://localhost:8080/",
          "height": 204
        }
      },
      "source": [
        "city_data.columns = [\"Name\", \"Medical\", \"Culture\", \"BigCity\"]\n",
        "city_data.head()"
      ],
      "execution_count": 0,
      "outputs": [
        {
          "output_type": "execute_result",
          "data": {
            "text/html": [
              "<div>\n",
              "<style scoped>\n",
              "    .dataframe tbody tr th:only-of-type {\n",
              "        vertical-align: middle;\n",
              "    }\n",
              "\n",
              "    .dataframe tbody tr th {\n",
              "        vertical-align: top;\n",
              "    }\n",
              "\n",
              "    .dataframe thead th {\n",
              "        text-align: right;\n",
              "    }\n",
              "</style>\n",
              "<table border=\"1\" class=\"dataframe\">\n",
              "  <thead>\n",
              "    <tr style=\"text-align: right;\">\n",
              "      <th></th>\n",
              "      <th>Name</th>\n",
              "      <th>Medical</th>\n",
              "      <th>Culture</th>\n",
              "      <th>BigCity</th>\n",
              "    </tr>\n",
              "  </thead>\n",
              "  <tbody>\n",
              "    <tr>\n",
              "      <th>0</th>\n",
              "      <td>北 海 道</td>\n",
              "      <td>100.2</td>\n",
              "      <td>97.1</td>\n",
              "      <td>1</td>\n",
              "    </tr>\n",
              "    <tr>\n",
              "      <th>1</th>\n",
              "      <td>青 森 県</td>\n",
              "      <td>101.0</td>\n",
              "      <td>96.4</td>\n",
              "      <td>0</td>\n",
              "    </tr>\n",
              "    <tr>\n",
              "      <th>2</th>\n",
              "      <td>岩 手 県</td>\n",
              "      <td>100.4</td>\n",
              "      <td>99.8</td>\n",
              "      <td>0</td>\n",
              "    </tr>\n",
              "    <tr>\n",
              "      <th>3</th>\n",
              "      <td>宮 城 県</td>\n",
              "      <td>100.9</td>\n",
              "      <td>99.3</td>\n",
              "      <td>1</td>\n",
              "    </tr>\n",
              "    <tr>\n",
              "      <th>4</th>\n",
              "      <td>秋 田 県</td>\n",
              "      <td>98.9</td>\n",
              "      <td>98.0</td>\n",
              "      <td>0</td>\n",
              "    </tr>\n",
              "  </tbody>\n",
              "</table>\n",
              "</div>"
            ],
            "text/plain": [
              "    Name  Medical  Culture  BigCity\n",
              "0  北 海 道    100.2     97.1        1\n",
              "1  青 森 県    101.0     96.4        0\n",
              "2  岩 手 県    100.4     99.8        0\n",
              "3  宮 城 県    100.9     99.3        1\n",
              "4  秋 田 県     98.9     98.0        0"
            ]
          },
          "metadata": {
            "tags": []
          },
          "execution_count": 32
        }
      ]
    },
    {
      "cell_type": "markdown",
      "metadata": {
        "id": "WvNkDIK0MNVn",
        "colab_type": "text"
      },
      "source": [
        "データの色を定義する(BigCityなら赤、そうじゃないなら青)"
      ]
    },
    {
      "cell_type": "code",
      "metadata": {
        "id": "8hhh114jA0Ur",
        "colab_type": "code",
        "outputId": "605e6379-94f3-4ebd-ad5d-79d40e5e44d4",
        "colab": {
          "base_uri": "https://localhost:8080/",
          "height": 119
        }
      },
      "source": [
        "color_data = city_data[\"BigCity\"].map({0:\"b\",1:\"r\"})\n",
        "color_data.head()"
      ],
      "execution_count": 0,
      "outputs": [
        {
          "output_type": "execute_result",
          "data": {
            "text/plain": [
              "0    r\n",
              "1    b\n",
              "2    b\n",
              "3    r\n",
              "4    b\n",
              "Name: BigCity, dtype: object"
            ]
          },
          "metadata": {
            "tags": []
          },
          "execution_count": 33
        }
      ]
    },
    {
      "cell_type": "markdown",
      "metadata": {
        "id": "mo6X1FYtxeIY",
        "colab_type": "text"
      },
      "source": [
        "どんなデータか見てみる"
      ]
    },
    {
      "cell_type": "code",
      "metadata": {
        "id": "0ICPAnn9aCwO",
        "colab_type": "code",
        "outputId": "2bbba5e8-3156-4908-8e8a-dd66275393f0",
        "colab": {
          "base_uri": "https://localhost:8080/",
          "height": 318
        }
      },
      "source": [
        "city_data.plot.scatter(x='Medical', y='Culture', c=color_data)"
      ],
      "execution_count": 0,
      "outputs": [
        {
          "output_type": "execute_result",
          "data": {
            "text/plain": [
              "<matplotlib.axes._subplots.AxesSubplot at 0x7fcdbfa525f8>"
            ]
          },
          "metadata": {
            "tags": []
          },
          "execution_count": 34
        },
        {
          "output_type": "display_data",
          "data": {
            "image/png": "[encoded data removed]",
            "text/plain": [
              "<Figure size 432x288 with 1 Axes>"
            ]
          },
          "metadata": {
            "tags": []
          }
        }
      ]
    },
    {
      "cell_type": "markdown",
      "metadata": {
        "id": "GwtCLndYB5wI",
        "colab_type": "text"
      },
      "source": [
        "##### 演習2\n",
        "ロジスティック回帰で学習をしてみましょう"
      ]
    },
    {
      "cell_type": "code",
      "metadata": {
        "id": "FS2xLrM8CDB7",
        "colab_type": "code",
        "outputId": "a38aacbb-c0d2-47d5-e878-37a0d7303a87",
        "colab": {
          "base_uri": "https://localhost:8080/",
          "height": 136
        }
      },
      "source": [
        "X = city_data[[\"Medical\", \"Culture\"]]\n",
        "y = city_data[\"BigCity\"]\n",
        "lr_model = LogisticRegression(random_state=0)\n",
        "lr_model.fit(X, y)"
      ],
      "execution_count": 0,
      "outputs": [
        {
          "output_type": "stream",
          "text": [
            "/usr/local/lib/python3.6/dist-packages/sklearn/linear_model/logistic.py:432: FutureWarning: Default solver will be changed to 'lbfgs' in 0.22. Specify a solver to silence this warning.\n",
            "  FutureWarning)\n"
          ],
          "name": "stderr"
        },
        {
          "output_type": "execute_result",
          "data": {
            "text/plain": [
              "LogisticRegression(C=1.0, class_weight=None, dual=False, fit_intercept=True,\n",
              "                   intercept_scaling=1, l1_ratio=None, max_iter=100,\n",
              "                   multi_class='warn', n_jobs=None, penalty='l2',\n",
              "                   random_state=0, solver='warn', tol=0.0001, verbose=0,\n",
              "                   warm_start=False)"
            ]
          },
          "metadata": {
            "tags": []
          },
          "execution_count": 35
        }
      ]
    },
    {
      "cell_type": "markdown",
      "metadata": {
        "id": "T_b4kqsgCA6D",
        "colab_type": "text"
      },
      "source": [
        "##### 解答"
      ]
    },
    {
      "cell_type": "code",
      "metadata": {
        "id": "QKb1_sCWeNUy",
        "colab_type": "code",
        "colab": {}
      },
      "source": [
        "X = city_data[[\"Medical\", \"Culture\"]]\n",
        "y = city_data[\"BigCity\"]\n",
        "\n",
        "lr_model = LogisticRegression(random_state=0)\n",
        "lr_model.fit(X, y)"
      ],
      "execution_count": 0,
      "outputs": []
    },
    {
      "cell_type": "markdown",
      "metadata": {
        "id": "_P0C6NsmCxXc",
        "colab_type": "text"
      },
      "source": [
        "##### 演習3\n",
        "学習した重みと切片を表示して下さい\n",
        "\n",
        "重みは`W`、切片は`b`に代入して下さい"
      ]
    },
    {
      "cell_type": "code",
      "metadata": {
        "id": "UQG12-rsDbKU",
        "colab_type": "code",
        "outputId": "8c665c24-69d2-4236-e559-62b6b404341e",
        "colab": {
          "base_uri": "https://localhost:8080/",
          "height": 51
        }
      },
      "source": [
        "# 重み\n",
        "W = lr_model.coef_\n",
        "\n",
        "# 切片\n",
        "b = lr_model.intercept_\n",
        "\n",
        "print(f\" 重み: {W}\")\n",
        "print(f\" 切片: {b}\")"
      ],
      "execution_count": 0,
      "outputs": [
        {
          "output_type": "stream",
          "text": [
            " 重み: [[-0.39738028  0.39870658]]\n",
            " 切片: [-0.08503612]\n"
          ],
          "name": "stdout"
        }
      ]
    },
    {
      "cell_type": "markdown",
      "metadata": {
        "id": "U0rq6BheDdEB",
        "colab_type": "text"
      },
      "source": [
        "##### ヒント"
      ]
    },
    {
      "cell_type": "code",
      "metadata": {
        "id": "Lhyeqn5IDfZ8",
        "colab_type": "code",
        "colab": {}
      },
      "source": [
        "# coef_とintercept_をつかいます"
      ],
      "execution_count": 0,
      "outputs": []
    },
    {
      "cell_type": "markdown",
      "metadata": {
        "id": "0rWDmp9sEMLp",
        "colab_type": "text"
      },
      "source": [
        "##### 解答"
      ]
    },
    {
      "cell_type": "code",
      "metadata": {
        "id": "FztC4_wTkZcH",
        "colab_type": "code",
        "colab": {}
      },
      "source": [
        "# 重み\n",
        "W = lr_model.coef_\n",
        "\n",
        "# 切片\n",
        "b = lr_model.intercept_\n",
        "\n",
        "print(f\" 重み: {W}\")\n",
        "print(f\" 切片: {b}\")"
      ],
      "execution_count": 0,
      "outputs": []
    },
    {
      "cell_type": "markdown",
      "metadata": {
        "id": "60YmWgcS0DP5",
        "colab_type": "text"
      },
      "source": [
        "##### 分類の境界線を可視化する関数"
      ]
    },
    {
      "cell_type": "code",
      "metadata": {
        "id": "Ag2Wf_FZqUXn",
        "colab_type": "code",
        "colab": {}
      },
      "source": [
        "def plot_decision_regions(model):\n",
        "  h = 0.02\n",
        "  \n",
        "  x_min = city_data[\"Medical\"].min() - 1\n",
        "  x_max = city_data[\"Medical\"].max() + 1\n",
        "  y_min=city_data[\"Culture\"].min() - 1\n",
        "  y_max =city_data[\"Culture\"].max() + 1\n",
        "\n",
        "  xx, yy = np.meshgrid(np.arange(x_min, x_max, h),np.arange(y_min, y_max, h))\n",
        "\n",
        "  Z = model.predict(np.c_[xx.ravel(), yy.ravel()])\n",
        "  Z = Z.reshape(xx.shape)\n",
        "    \n",
        "  plt.contourf(xx, yy, Z, cmap=plt.cm.terrain, alpha=0.5,linewidths=0)\n",
        "  plt.scatter(city_data[\"Medical\"], city_data[\"Culture\"], c=color_data, cmap=plt.cm.Dark2)\n",
        "    \n",
        "  plt.xlim(xx.min(), xx.max())\n",
        "  plt.ylim(yy.min(), yy.max())"
      ],
      "execution_count": 0,
      "outputs": []
    },
    {
      "cell_type": "markdown",
      "metadata": {
        "id": "E83mEV_6Cfcc",
        "colab_type": "text"
      },
      "source": [
        "分類境界面を可視化してみる"
      ]
    },
    {
      "cell_type": "code",
      "metadata": {
        "id": "mH06MaW30FEp",
        "colab_type": "code",
        "outputId": "72bf6941-fd2e-46e3-f885-45eac5cea5a7",
        "colab": {
          "base_uri": "https://localhost:8080/",
          "height": 318
        }
      },
      "source": [
        "plot_decision_regions(lr_model)"
      ],
      "execution_count": 0,
      "outputs": [
        {
          "output_type": "stream",
          "text": [
            "/usr/local/lib/python3.6/dist-packages/ipykernel_launcher.py:14: UserWarning: linewidths is ignored by contourf\n",
            "  \n"
          ],
          "name": "stderr"
        },
        {
          "output_type": "display_data",
          "data": {
            "image/png": "[encoded data removed]",
            "text/plain": [
              "<Figure size 432x288 with 1 Axes>"
            ]
          },
          "metadata": {
            "tags": []
          }
        }
      ]
    },
    {
      "cell_type": "markdown",
      "metadata": {
        "id": "fQ34U8SJG_WB",
        "colab_type": "text"
      },
      "source": [
        "ロジスティック回帰は\n",
        "\n",
        "$y = Medical * w_1+ Culture *  w_2 + b$\n",
        "\n",
        "$f = sigmoid$ (値を0~1に均す関数だと思ってもらえれば良い)\n",
        "\n",
        "のとき$f(y)$が0.5以上なら$BigCity=1$、以下なら$BigCity=0$となるように学習する"
      ]
    },
    {
      "cell_type": "markdown",
      "metadata": {
        "id": "sTkHvf8Z0cau",
        "colab_type": "text"
      },
      "source": [
        "学習を回す最大回数をmax_iterで調整できる"
      ]
    },
    {
      "cell_type": "code",
      "metadata": {
        "id": "mJOd7FYd0bGP",
        "colab_type": "code",
        "outputId": "e06374b0-d3c3-4c17-f558-3ca6c9dad2da",
        "colab": {
          "base_uri": "https://localhost:8080/",
          "height": 403
        }
      },
      "source": [
        "lr_model = LogisticRegression(random_state=0, max_iter=1)\n",
        "lr_model.fit(X, y)\n",
        "print(1, lr_model.coef_, lr_model.intercept_)\n",
        "plot_decision_regions(lr_model)"
      ],
      "execution_count": 0,
      "outputs": [
        {
          "output_type": "stream",
          "text": [
            "/usr/local/lib/python3.6/dist-packages/sklearn/linear_model/logistic.py:432: FutureWarning: Default solver will be changed to 'lbfgs' in 0.22. Specify a solver to silence this warning.\n",
            "  FutureWarning)\n",
            "/usr/local/lib/python3.6/dist-packages/sklearn/svm/base.py:929: ConvergenceWarning: Liblinear failed to converge, increase the number of iterations.\n",
            "  \"the number of iterations.\", ConvergenceWarning)\n",
            "/usr/local/lib/python3.6/dist-packages/ipykernel_launcher.py:14: UserWarning: linewidths is ignored by contourf\n",
            "  \n"
          ],
          "name": "stderr"
        },
        {
          "output_type": "stream",
          "text": [
            "1 [[-0.00325977 -0.0030199 ]] [-3.27395797e-05]\n"
          ],
          "name": "stdout"
        },
        {
          "output_type": "display_data",
          "data": {
            "image/png": "[encoded data removed]",
            "text/plain": [
              "<Figure size 432x288 with 1 Axes>"
            ]
          },
          "metadata": {
            "tags": []
          }
        }
      ]
    },
    {
      "cell_type": "markdown",
      "metadata": {
        "id": "695nZ8480qWA",
        "colab_type": "text"
      },
      "source": [
        "1周しか回さないと学習が足りない\n",
        "\n",
        "4周くらい回してみる"
      ]
    },
    {
      "cell_type": "code",
      "metadata": {
        "id": "tTyflG7o0yJg",
        "colab_type": "code",
        "outputId": "be882cbb-6198-4fb3-9534-0d571b6b88ab",
        "colab": {
          "base_uri": "https://localhost:8080/",
          "height": 403
        }
      },
      "source": [
        "lr_model = LogisticRegression(random_state=0, max_iter=4)\n",
        "lr_model.fit(X, y)\n",
        "print(4, lr_model.coef_, lr_model.intercept_)\n",
        "plot_decision_regions(lr_model)"
      ],
      "execution_count": 0,
      "outputs": [
        {
          "output_type": "stream",
          "text": [
            "/usr/local/lib/python3.6/dist-packages/sklearn/linear_model/logistic.py:432: FutureWarning: Default solver will be changed to 'lbfgs' in 0.22. Specify a solver to silence this warning.\n",
            "  FutureWarning)\n",
            "/usr/local/lib/python3.6/dist-packages/sklearn/svm/base.py:929: ConvergenceWarning: Liblinear failed to converge, increase the number of iterations.\n",
            "  \"the number of iterations.\", ConvergenceWarning)\n",
            "/usr/local/lib/python3.6/dist-packages/ipykernel_launcher.py:14: UserWarning: linewidths is ignored by contourf\n",
            "  \n"
          ],
          "name": "stderr"
        },
        {
          "output_type": "stream",
          "text": [
            "4 [[-0.06971748  0.06457161]] [-0.00078858]\n"
          ],
          "name": "stdout"
        },
        {
          "output_type": "display_data",
          "data": {
            "image/png": "[encoded data removed]",
            "text/plain": [
              "<Figure size 432x288 with 1 Axes>"
            ]
          },
          "metadata": {
            "tags": []
          }
        }
      ]
    },
    {
      "cell_type": "markdown",
      "metadata": {
        "id": "fveglt4705SL",
        "colab_type": "text"
      },
      "source": [
        "境界線っぽいものが見えてくる\n",
        "\n",
        "さらに10周回してみる"
      ]
    },
    {
      "cell_type": "code",
      "metadata": {
        "id": "0cZNUWao1B33",
        "colab_type": "code",
        "outputId": "0035f5ff-7fb8-4541-9d01-3d6219140210",
        "colab": {
          "base_uri": "https://localhost:8080/",
          "height": 369
        }
      },
      "source": [
        "lr_model = LogisticRegression(random_state=0, max_iter=10)\n",
        "lr_model.fit(X, y)\n",
        "print(10, lr_model.coef_, lr_model.intercept_)\n",
        "plot_decision_regions(lr_model)"
      ],
      "execution_count": 0,
      "outputs": [
        {
          "output_type": "stream",
          "text": [
            "/usr/local/lib/python3.6/dist-packages/sklearn/linear_model/logistic.py:432: FutureWarning: Default solver will be changed to 'lbfgs' in 0.22. Specify a solver to silence this warning.\n",
            "  FutureWarning)\n",
            "/usr/local/lib/python3.6/dist-packages/ipykernel_launcher.py:14: UserWarning: linewidths is ignored by contourf\n",
            "  \n"
          ],
          "name": "stderr"
        },
        {
          "output_type": "stream",
          "text": [
            "10 [[-0.39738028  0.39870658]] [-0.08503612]\n"
          ],
          "name": "stdout"
        },
        {
          "output_type": "display_data",
          "data": {
            "image/png": "[encoded data removed]",
            "text/plain": [
              "<Figure size 432x288 with 1 Axes>"
            ]
          },
          "metadata": {
            "tags": []
          }
        }
      ]
    },
    {
      "cell_type": "markdown",
      "metadata": {
        "id": "K2PYvk7j1XmM",
        "colab_type": "text"
      },
      "source": [
        "10周以降の重みと切片の変化を見てみる"
      ]
    },
    {
      "cell_type": "code",
      "metadata": {
        "id": "TAiFGrJatjvP",
        "colab_type": "code",
        "outputId": "6bbc14a3-50c2-49fd-ee9d-3024a878fb6e",
        "colab": {
          "base_uri": "https://localhost:8080/",
          "height": 527
        }
      },
      "source": [
        "for i in range(10):\n",
        "  lr_model = LogisticRegression(random_state=0, max_iter=10+i)\n",
        "  lr_model.fit(X, y)\n",
        "  print(10+i, lr_model.coef_, lr_model.intercept_)"
      ],
      "execution_count": 0,
      "outputs": [
        {
          "output_type": "stream",
          "text": [
            "10 [[-0.39738028  0.39870658]] [-0.08503612]\n",
            "11 [[-0.39738028  0.39870658]] [-0.08503612]\n",
            "12 [[-0.39738028  0.39870658]] [-0.08503612]\n",
            "13 [[-0.39738028  0.39870658]] [-0.08503612]\n",
            "14 [[-0.39738028  0.39870658]] [-0.08503612]\n",
            "15 [[-0.39738028  0.39870658]] [-0.08503612]\n",
            "16 [[-0.39738028  0.39870658]] [-0.08503612]\n",
            "17 [[-0.39738028  0.39870658]] [-0.08503612]\n",
            "18 [[-0.39738028  0.39870658]] [-0.08503612]\n",
            "19 [[-0.39738028  0.39870658]] [-0.08503612]\n"
          ],
          "name": "stdout"
        },
        {
          "output_type": "stream",
          "text": [
            "/usr/local/lib/python3.6/dist-packages/sklearn/linear_model/logistic.py:432: FutureWarning: Default solver will be changed to 'lbfgs' in 0.22. Specify a solver to silence this warning.\n",
            "  FutureWarning)\n",
            "/usr/local/lib/python3.6/dist-packages/sklearn/linear_model/logistic.py:432: FutureWarning: Default solver will be changed to 'lbfgs' in 0.22. Specify a solver to silence this warning.\n",
            "  FutureWarning)\n",
            "/usr/local/lib/python3.6/dist-packages/sklearn/linear_model/logistic.py:432: FutureWarning: Default solver will be changed to 'lbfgs' in 0.22. Specify a solver to silence this warning.\n",
            "  FutureWarning)\n",
            "/usr/local/lib/python3.6/dist-packages/sklearn/linear_model/logistic.py:432: FutureWarning: Default solver will be changed to 'lbfgs' in 0.22. Specify a solver to silence this warning.\n",
            "  FutureWarning)\n",
            "/usr/local/lib/python3.6/dist-packages/sklearn/linear_model/logistic.py:432: FutureWarning: Default solver will be changed to 'lbfgs' in 0.22. Specify a solver to silence this warning.\n",
            "  FutureWarning)\n",
            "/usr/local/lib/python3.6/dist-packages/sklearn/linear_model/logistic.py:432: FutureWarning: Default solver will be changed to 'lbfgs' in 0.22. Specify a solver to silence this warning.\n",
            "  FutureWarning)\n",
            "/usr/local/lib/python3.6/dist-packages/sklearn/linear_model/logistic.py:432: FutureWarning: Default solver will be changed to 'lbfgs' in 0.22. Specify a solver to silence this warning.\n",
            "  FutureWarning)\n",
            "/usr/local/lib/python3.6/dist-packages/sklearn/linear_model/logistic.py:432: FutureWarning: Default solver will be changed to 'lbfgs' in 0.22. Specify a solver to silence this warning.\n",
            "  FutureWarning)\n",
            "/usr/local/lib/python3.6/dist-packages/sklearn/linear_model/logistic.py:432: FutureWarning: Default solver will be changed to 'lbfgs' in 0.22. Specify a solver to silence this warning.\n",
            "  FutureWarning)\n",
            "/usr/local/lib/python3.6/dist-packages/sklearn/linear_model/logistic.py:432: FutureWarning: Default solver will be changed to 'lbfgs' in 0.22. Specify a solver to silence this warning.\n",
            "  FutureWarning)\n"
          ],
          "name": "stderr"
        }
      ]
    },
    {
      "cell_type": "markdown",
      "metadata": {
        "id": "okSmX0Os1cfR",
        "colab_type": "text"
      },
      "source": [
        "あまり変わらない\n",
        "\n",
        "sklearnのライブラリだとデフォルト100に設定されているので通常は気にしなくてよい"
      ]
    },
    {
      "cell_type": "markdown",
      "metadata": {
        "id": "eQZamvxKHtZr",
        "colab_type": "text"
      },
      "source": [
        "## 2.2 決定木の境界面の確認を通して過学習について確認する\n",
        "\n",
        "決定木の学習"
      ]
    },
    {
      "cell_type": "code",
      "metadata": {
        "id": "5hff0eKzoNgq",
        "colab_type": "code",
        "outputId": "32bdf6b1-e822-4f2d-a027-8f724534afe1",
        "colab": {
          "base_uri": "https://localhost:8080/",
          "height": 318
        }
      },
      "source": [
        "tree_model = DecisionTreeClassifier(random_state=0, max_depth=1)\n",
        "tree_model.fit(X, y)\n",
        "plot_decision_regions(tree_model)"
      ],
      "execution_count": 0,
      "outputs": [
        {
          "output_type": "stream",
          "text": [
            "/usr/local/lib/python3.6/dist-packages/ipykernel_launcher.py:14: UserWarning: linewidths is ignored by contourf\n",
            "  \n"
          ],
          "name": "stderr"
        },
        {
          "output_type": "display_data",
          "data": {
            "image/png": "[encoded data removed]",
            "text/plain": [
              "<Figure size 432x288 with 1 Axes>"
            ]
          },
          "metadata": {
            "tags": []
          }
        }
      ]
    },
    {
      "cell_type": "markdown",
      "metadata": {
        "id": "ZhqL0jg3JUZz",
        "colab_type": "text"
      },
      "source": [
        "木構造を可視化する関数"
      ]
    },
    {
      "cell_type": "code",
      "metadata": {
        "id": "0aAVePDVIR5R",
        "colab_type": "code",
        "colab": {}
      },
      "source": [
        "def plot_tree_graph1(tree_model):\n",
        "  dot_data = tree.export_graphviz(\n",
        "    tree_model,\n",
        "    out_file=None,\n",
        "    feature_names=[\"Medical\", \"Culture\"],\n",
        "    class_names=[\"Not BigCity\", \"BigCity\"],\n",
        "    filled=True,\n",
        "    proportion=True)\n",
        "  graph = pydotplus.graph_from_dot_data(dot_data)\n",
        "  return Image(graph.create_png())\n",
        "  \n",
        "def plot_tree_graph2(tree_model):\n",
        "  viz = dtreeviz(\n",
        "    tree_model,\n",
        "    X, \n",
        "    y,\n",
        "    target_name='BigCity',\n",
        "    feature_names=[\"Medical\", \"Culture\"],\n",
        "    class_names=[\"Medical\", \"Culture\"],\n",
        "  ) \n",
        "  display(viz)"
      ],
      "execution_count": 0,
      "outputs": []
    },
    {
      "cell_type": "markdown",
      "metadata": {
        "id": "-FZdcu3GJaIB",
        "colab_type": "text"
      },
      "source": [
        "木構造を可視化してみる"
      ]
    },
    {
      "cell_type": "code",
      "metadata": {
        "id": "0DmDxifHJR_u",
        "colab_type": "code",
        "outputId": "61c1d39c-cc3a-4149-d300-bf3249d04615",
        "colab": {
          "base_uri": "https://localhost:8080/",
          "height": 277
        }
      },
      "source": [
        "plot_tree_graph1(tree_model)"
      ],
      "execution_count": 0,
      "outputs": [
        {
          "output_type": "execute_result",
          "data": {
            "image/png": "[encoded data removed]",
            "text/plain": [
              "<IPython.core.display.Image object>"
            ]
          },
          "metadata": {
            "tags": []
          },
          "execution_count": 47
        }
      ]
    },
    {
      "cell_type": "code",
      "metadata": {
        "id": "HB38Z_MXOGHx",
        "colab_type": "code",
        "outputId": "2cdbae14-2631-43fe-c23f-161d8e492174",
        "colab": {
          "base_uri": "https://localhost:8080/",
          "height": 285
        }
      },
      "source": [
        "plot_tree_graph2(tree_model)"
      ],
      "execution_count": 0,
      "outputs": [
        {
          "output_type": "stream",
          "text": [
            "findfont: Font family ['Arial'] not found. Falling back to DejaVu Sans.\n",
            "findfont: Font family ['Arial'] not found. Falling back to DejaVu Sans.\n",
            "findfont: Font family ['Arial'] not found. Falling back to DejaVu Sans.\n"
          ],
          "name": "stderr"
        },
        {
          "output_type": "display_data",
          "data": {
            "text/plain": [
              "<dtreeviz.trees.DTreeViz at 0x7fcdbd42e2b0>"
            ],
            "image/svg+xml": "<svg xmlns=\"http://www.w3.org/2000/svg\" xmlns:xlink=\"http://www.w3.org/1999/xlink\" height=\"160pt\" viewBox=\"0.00 0.00 263.00 160.00\" width=\"263pt\">\n<g class=\"graph\" id=\"graph0\" transform=\"scale(1 1) rotate(0) translate(4 156)\">\n<title>G</title>\n<polygon fill=\"#ffffff\" points=\"-4,4 -4,-156 259,-156 259,4 -4,4\" stroke=\"transparent\" />\n<g class=\"cluster\" id=\"clust2\">\n<title>cluster_legend</title>\n</g>\n\n<g class=\"node\" id=\"node1\">\n<title>node0</title>\n<svg height=\"48px\" preserveAspectRatio=\"xMinYMin meet\" version=\"1.1\" viewBox=\"0 0 221.302 63.667054\" width=\"166px\" x=\"4\" y=\"-144\">\n <defs>\n  <style type=\"text/css\">\n*{stroke-linecap:butt;stroke-linejoin:round;}\n  </style>\n </defs>\n <g id=\"figure_1\">\n  <g id=\"patch_1\">\n   <path d=\"M 0 63.667054  L 221.302 63.667054  L 221.302 0  L 0 0  z \" style=\"fill:#f0f0f0;\" />\n  </g>\n  <g id=\"axes_1\">\n   <g id=\"patch_2\">\n    <path d=\"M 14.59 30.810804  L 221.302 30.810804  L 221.302 1.650804  L 14.59 1.650804  z \" style=\"fill:#eaeaf2;\" />\n   </g>\n   <g id=\"matplotlib.axis_1\">\n    <g id=\"xtick_1\">\n     <g id=\"line2d_1\">\n      <path clip-path=\"url(#p9790e238c9)\" d=\"M 72.029266 30.810804  L 72.029266 1.650804  \" style=\"fill:none;stroke:#ffffff;stroke-linecap:round;\" />\n     </g>\n     <g id=\"text_1\">\n      \n      <defs>\n       <path d=\"M 10.984375 1.515625  L 10.984375 10.5  Q 14.703125 8.734375 18.5 7.8125  Q 22.3125 6.890625 25.984375 6.890625  Q 35.75 6.890625 40.890625 13.453125  Q 46.046875 20.015625 46.78125 33.40625  Q 43.953125 29.203125 39.59375 26.953125  Q 35.25 24.703125 29.984375 24.703125  Q 19.046875 24.703125 12.671875 31.3125  Q 6.296875 37.9375 6.296875 49.421875  Q 6.296875 60.640625 12.9375 67.421875  Q 19.578125 74.21875 30.609375 74.21875  Q 43.265625 74.21875 49.921875 64.515625  Q 56.59375 54.828125 56.59375 36.375  Q 56.59375 19.140625 48.40625 8.859375  Q 40.234375 -1.421875 26.421875 -1.421875  Q 22.703125 -1.421875 18.890625 -0.6875  Q 15.09375 0.046875 10.984375 1.515625  z M 30.609375 32.421875  Q 37.25 32.421875 41.125 36.953125  Q 45.015625 41.5 45.015625 49.421875  Q 45.015625 57.28125 41.125 61.84375  Q 37.25 66.40625 30.609375 66.40625  Q 23.96875 66.40625 20.09375 61.84375  Q 16.21875 57.28125 16.21875 49.421875  Q 16.21875 41.5 20.09375 36.953125  Q 23.96875 32.421875 30.609375 32.421875  z \" id=\"DejaVuSans-57\" />\n       <path d=\"M 12.40625 8.296875  L 28.515625 8.296875  L 28.515625 63.921875  L 10.984375 60.40625  L 10.984375 69.390625  L 28.421875 72.90625  L 38.28125 72.90625  L 38.28125 8.296875  L 54.390625 8.296875  L 54.390625 0  L 12.40625 0  z \" id=\"DejaVuSans-49\" />\n       <path d=\"M 10.6875 12.40625  L 21 12.40625  L 21 0  L 10.6875 0  z \" id=\"DejaVuSans-46\" />\n      </defs>\n      <g style=\"fill:#444443;\" transform=\"translate(63.123016 46.389554)scale(0.08 -0.08)\">\n       <use xlink:href=\"#DejaVuSans-57\" />\n       <use x=\"63.623047\" xlink:href=\"#DejaVuSans-49\" />\n       <use x=\"127.246094\" xlink:href=\"#DejaVuSans-46\" />\n       <use x=\"159.033203\" xlink:href=\"#DejaVuSans-49\" />\n      </g>\n     </g>\n    </g>\n    <g id=\"xtick_2\">\n     <g id=\"line2d_2\">\n      <path clip-path=\"url(#p9790e238c9)\" d=\"M 180.003736 30.810804  L 180.003736 1.650804  \" style=\"fill:none;stroke:#ffffff;stroke-linecap:round;\" />\n     </g>\n     <g id=\"text_2\">\n      \n      <defs>\n       <path d=\"M 31.78125 66.40625  Q 24.171875 66.40625 20.328125 58.90625  Q 16.5 51.421875 16.5 36.375  Q 16.5 21.390625 20.328125 13.890625  Q 24.171875 6.390625 31.78125 6.390625  Q 39.453125 6.390625 43.28125 13.890625  Q 47.125 21.390625 47.125 36.375  Q 47.125 51.421875 43.28125 58.90625  Q 39.453125 66.40625 31.78125 66.40625  z M 31.78125 74.21875  Q 44.046875 74.21875 50.515625 64.515625  Q 56.984375 54.828125 56.984375 36.375  Q 56.984375 17.96875 50.515625 8.265625  Q 44.046875 -1.421875 31.78125 -1.421875  Q 19.53125 -1.421875 13.0625 8.265625  Q 6.59375 17.96875 6.59375 36.375  Q 6.59375 54.828125 13.0625 64.515625  Q 19.53125 74.21875 31.78125 74.21875  z \" id=\"DejaVuSans-48\" />\n       <path d=\"M 37.796875 64.3125  L 12.890625 25.390625  L 37.796875 25.390625  z M 35.203125 72.90625  L 47.609375 72.90625  L 47.609375 25.390625  L 58.015625 25.390625  L 58.015625 17.1875  L 47.609375 17.1875  L 47.609375 0  L 37.796875 0  L 37.796875 17.1875  L 4.890625 17.1875  L 4.890625 26.703125  z \" id=\"DejaVuSans-52\" />\n       <path d=\"M 31.78125 34.625  Q 24.75 34.625 20.71875 30.859375  Q 16.703125 27.09375 16.703125 20.515625  Q 16.703125 13.921875 20.71875 10.15625  Q 24.75 6.390625 31.78125 6.390625  Q 38.8125 6.390625 42.859375 10.171875  Q 46.921875 13.96875 46.921875 20.515625  Q 46.921875 27.09375 42.890625 30.859375  Q 38.875 34.625 31.78125 34.625  z M 21.921875 38.8125  Q 15.578125 40.375 12.03125 44.71875  Q 8.5 49.078125 8.5 55.328125  Q 8.5 64.0625 14.71875 69.140625  Q 20.953125 74.21875 31.78125 74.21875  Q 42.671875 74.21875 48.875 69.140625  Q 55.078125 64.0625 55.078125 55.328125  Q 55.078125 49.078125 51.53125 44.71875  Q 48 40.375 41.703125 38.8125  Q 48.828125 37.15625 52.796875 32.3125  Q 56.78125 27.484375 56.78125 20.515625  Q 56.78125 9.90625 50.3125 4.234375  Q 43.84375 -1.421875 31.78125 -1.421875  Q 19.734375 -1.421875 13.25 4.234375  Q 6.78125 9.90625 6.78125 20.515625  Q 6.78125 27.484375 10.78125 32.3125  Q 14.796875 37.15625 21.921875 38.8125  z M 18.3125 54.390625  Q 18.3125 48.734375 21.84375 45.5625  Q 25.390625 42.390625 31.78125 42.390625  Q 38.140625 42.390625 41.71875 45.5625  Q 45.3125 48.734375 45.3125 54.390625  Q 45.3125 60.0625 41.71875 63.234375  Q 38.140625 66.40625 31.78125 66.40625  Q 25.390625 66.40625 21.84375 63.234375  Q 18.3125 60.0625 18.3125 54.390625  z \" id=\"DejaVuSans-56\" />\n      </defs>\n      <g style=\"fill:#444443;\" transform=\"translate(168.552486 46.389554)scale(0.08 -0.08)\">\n       <use xlink:href=\"#DejaVuSans-49\" />\n       <use x=\"63.623047\" xlink:href=\"#DejaVuSans-48\" />\n       <use x=\"127.246094\" xlink:href=\"#DejaVuSans-52\" />\n       <use x=\"190.869141\" xlink:href=\"#DejaVuSans-46\" />\n       <use x=\"222.65625\" xlink:href=\"#DejaVuSans-56\" />\n      </g>\n     </g>\n    </g>\n    <g id=\"text_3\">\n     \n     <defs>\n      <path d=\"M 64.40625 67.28125  L 64.40625 56.890625  Q 59.421875 61.53125 53.78125 63.8125  Q 48.140625 66.109375 41.796875 66.109375  Q 29.296875 66.109375 22.65625 58.46875  Q 16.015625 50.828125 16.015625 36.375  Q 16.015625 21.96875 22.65625 14.328125  Q 29.296875 6.6875 41.796875 6.6875  Q 48.140625 6.6875 53.78125 8.984375  Q 59.421875 11.28125 64.40625 15.921875  L 64.40625 5.609375  Q 59.234375 2.09375 53.4375 0.328125  Q 47.65625 -1.421875 41.21875 -1.421875  Q 24.65625 -1.421875 15.125 8.703125  Q 5.609375 18.84375 5.609375 36.375  Q 5.609375 53.953125 15.125 64.078125  Q 24.65625 74.21875 41.21875 74.21875  Q 47.75 74.21875 53.53125 72.484375  Q 59.328125 70.75 64.40625 67.28125  z \" id=\"DejaVuSans-67\" />\n      <path d=\"M 8.5 21.578125  L 8.5 54.6875  L 17.484375 54.6875  L 17.484375 21.921875  Q 17.484375 14.15625 20.5 10.265625  Q 23.53125 6.390625 29.59375 6.390625  Q 36.859375 6.390625 41.078125 11.03125  Q 45.3125 15.671875 45.3125 23.6875  L 45.3125 54.6875  L 54.296875 54.6875  L 54.296875 0  L 45.3125 0  L 45.3125 8.40625  Q 42.046875 3.421875 37.71875 1  Q 33.40625 -1.421875 27.6875 -1.421875  Q 18.265625 -1.421875 13.375 4.4375  Q 8.5 10.296875 8.5 21.578125  z M 31.109375 56  z \" id=\"DejaVuSans-117\" />\n      <path d=\"M 9.421875 75.984375  L 18.40625 75.984375  L 18.40625 0  L 9.421875 0  z \" id=\"DejaVuSans-108\" />\n      <path d=\"M 18.3125 70.21875  L 18.3125 54.6875  L 36.8125 54.6875  L 36.8125 47.703125  L 18.3125 47.703125  L 18.3125 18.015625  Q 18.3125 11.328125 20.140625 9.421875  Q 21.96875 7.515625 27.59375 7.515625  L 36.8125 7.515625  L 36.8125 0  L 27.59375 0  Q 17.1875 0 13.234375 3.875  Q 9.28125 7.765625 9.28125 18.015625  L 9.28125 47.703125  L 2.6875 47.703125  L 2.6875 54.6875  L 9.28125 54.6875  L 9.28125 70.21875  z \" id=\"DejaVuSans-116\" />\n      <path d=\"M 41.109375 46.296875  Q 39.59375 47.171875 37.8125 47.578125  Q 36.03125 48 33.890625 48  Q 26.265625 48 22.1875 43.046875  Q 18.109375 38.09375 18.109375 28.8125  L 18.109375 0  L 9.078125 0  L 9.078125 54.6875  L 18.109375 54.6875  L 18.109375 46.1875  Q 20.953125 51.171875 25.484375 53.578125  Q 30.03125 56 36.53125 56  Q 37.453125 56 38.578125 55.875  Q 39.703125 55.765625 41.0625 55.515625  z \" id=\"DejaVuSans-114\" />\n      <path d=\"M 56.203125 29.59375  L 56.203125 25.203125  L 14.890625 25.203125  Q 15.484375 15.921875 20.484375 11.0625  Q 25.484375 6.203125 34.421875 6.203125  Q 39.59375 6.203125 44.453125 7.46875  Q 49.3125 8.734375 54.109375 11.28125  L 54.109375 2.78125  Q 49.265625 0.734375 44.1875 -0.34375  Q 39.109375 -1.421875 33.890625 -1.421875  Q 20.796875 -1.421875 13.15625 6.1875  Q 5.515625 13.8125 5.515625 26.8125  Q 5.515625 40.234375 12.765625 48.109375  Q 20.015625 56 32.328125 56  Q 43.359375 56 49.78125 48.890625  Q 56.203125 41.796875 56.203125 29.59375  z M 47.21875 32.234375  Q 47.125 39.59375 43.09375 43.984375  Q 39.0625 48.390625 32.421875 48.390625  Q 24.90625 48.390625 20.390625 44.140625  Q 15.875 39.890625 15.1875 32.171875  z \" id=\"DejaVuSans-101\" />\n     </defs>\n     <g style=\"fill:#444443;\" transform=\"translate(95.975687 61.171429)scale(0.12 -0.12)\">\n      <use xlink:href=\"#DejaVuSans-67\" />\n      <use x=\"69.824219\" xlink:href=\"#DejaVuSans-117\" />\n      <use x=\"133.203125\" xlink:href=\"#DejaVuSans-108\" />\n      <use x=\"160.986328\" xlink:href=\"#DejaVuSans-116\" />\n      <use x=\"200.195312\" xlink:href=\"#DejaVuSans-117\" />\n      <use x=\"263.574219\" xlink:href=\"#DejaVuSans-114\" />\n      <use x=\"304.65625\" xlink:href=\"#DejaVuSans-101\" />\n     </g>\n    </g>\n   </g>\n   <g id=\"matplotlib.axis_2\">\n    <g id=\"ytick_1\">\n     <g id=\"line2d_3\">\n      <path clip-path=\"url(#p9790e238c9)\" d=\"M 14.59 30.810804  L 221.302 30.810804  \" style=\"fill:none;stroke:#ffffff;stroke-linecap:round;\" />\n     </g>\n     <g id=\"text_4\">\n      \n      <g style=\"fill:#444443;\" transform=\"translate(0 33.850179)scale(0.08 -0.08)\">\n       <use xlink:href=\"#DejaVuSans-48\" />\n      </g>\n     </g>\n    </g>\n    <g id=\"ytick_2\">\n     <g id=\"line2d_4\">\n      <path clip-path=\"url(#p9790e238c9)\" d=\"M 14.59 3.039375  L 221.302 3.039375  \" style=\"fill:none;stroke:#ffffff;stroke-linecap:round;\" />\n     </g>\n     <g id=\"text_5\">\n      \n      <g style=\"fill:#444443;\" transform=\"translate(0 6.07875)scale(0.08 -0.08)\">\n       <use xlink:href=\"#DejaVuSans-56\" />\n      </g>\n     </g>\n    </g>\n   </g>\n   <g id=\"patch_3\">\n    <path clip-path=\"url(#p9790e238c9)\" d=\"M 72.029266 30.810804  L 77.712132 30.810804  L 77.712132 27.339375  L 72.029266 27.339375  z \" style=\"fill:#fefebb;stroke:#444443;stroke-linejoin:miter;stroke-width:0.5;\" />\n   </g>\n   <g id=\"patch_4\">\n    <path clip-path=\"url(#p9790e238c9)\" d=\"M 77.712132 30.810804  L 83.394999 30.810804  L 83.394999 23.867946  L 77.712132 23.867946  z \" style=\"fill:#fefebb;stroke:#444443;stroke-linejoin:miter;stroke-width:0.5;\" />\n   </g>\n   <g id=\"patch_5\">\n    <path clip-path=\"url(#p9790e238c9)\" d=\"M 83.394999 30.810804  L 89.077866 30.810804  L 89.077866 27.339375  L 83.394999 27.339375  z \" style=\"fill:#fefebb;stroke:#444443;stroke-linejoin:miter;stroke-width:0.5;\" />\n   </g>\n   <g id=\"patch_6\">\n    <path clip-path=\"url(#p9790e238c9)\" d=\"M 89.077866 30.810804  L 94.760733 30.810804  L 94.760733 30.810804  L 89.077866 30.810804  z \" style=\"fill:#fefebb;stroke:#444443;stroke-linejoin:miter;stroke-width:0.5;\" />\n   </g>\n   <g id=\"patch_7\">\n    <path clip-path=\"url(#p9790e238c9)\" d=\"M 94.760733 30.810804  L 100.4436 30.810804  L 100.4436 27.339375  L 94.760733 27.339375  z \" style=\"fill:#fefebb;stroke:#444443;stroke-linejoin:miter;stroke-width:0.5;\" />\n   </g>\n   <g id=\"patch_8\">\n    <path clip-path=\"url(#p9790e238c9)\" d=\"M 100.4436 30.810804  L 106.126467 30.810804  L 106.126467 20.396518  L 100.4436 20.396518  z \" style=\"fill:#fefebb;stroke:#444443;stroke-linejoin:miter;stroke-width:0.5;\" />\n   </g>\n   <g id=\"patch_9\">\n    <path clip-path=\"url(#p9790e238c9)\" d=\"M 106.126467 30.810804  L 111.809333 30.810804  L 111.809333 16.925089  L 106.126467 16.925089  z \" style=\"fill:#fefebb;stroke:#444443;stroke-linejoin:miter;stroke-width:0.5;\" />\n   </g>\n   <g id=\"patch_10\">\n    <path clip-path=\"url(#p9790e238c9)\" d=\"M 111.809333 30.810804  L 117.4922 30.810804  L 117.4922 6.510804  L 111.809333 6.510804  z \" style=\"fill:#fefebb;stroke:#444443;stroke-linejoin:miter;stroke-width:0.5;\" />\n   </g>\n   <g id=\"patch_11\">\n    <path clip-path=\"url(#p9790e238c9)\" d=\"M 117.4922 30.810804  L 123.175067 30.810804  L 123.175067 20.396518  L 117.4922 20.396518  z \" style=\"fill:#fefebb;stroke:#444443;stroke-linejoin:miter;stroke-width:0.5;\" />\n   </g>\n   <g id=\"patch_12\">\n    <path clip-path=\"url(#p9790e238c9)\" d=\"M 123.175067 30.810804  L 128.857934 30.810804  L 128.857934 13.453661  L 123.175067 13.453661  z \" style=\"fill:#fefebb;stroke:#444443;stroke-linejoin:miter;stroke-width:0.5;\" />\n   </g>\n   <g id=\"patch_13\">\n    <path clip-path=\"url(#p9790e238c9)\" d=\"M 128.857934 30.810804  L 134.540801 30.810804  L 134.540801 27.339375  L 128.857934 27.339375  z \" style=\"fill:#fefebb;stroke:#444443;stroke-linejoin:miter;stroke-width:0.5;\" />\n   </g>\n   <g id=\"patch_14\">\n    <path clip-path=\"url(#p9790e238c9)\" d=\"M 134.540801 30.810804  L 140.223668 30.810804  L 140.223668 23.867946  L 134.540801 23.867946  z \" style=\"fill:#fefebb;stroke:#444443;stroke-linejoin:miter;stroke-width:0.5;\" />\n   </g>\n   <g id=\"patch_15\">\n    <path clip-path=\"url(#p9790e238c9)\" d=\"M 140.223668 30.810804  L 145.906534 30.810804  L 145.906534 27.339375  L 140.223668 27.339375  z \" style=\"fill:#fefebb;stroke:#444443;stroke-linejoin:miter;stroke-width:0.5;\" />\n   </g>\n   <g id=\"patch_16\">\n    <path clip-path=\"url(#p9790e238c9)\" d=\"M 145.906534 30.810804  L 151.589401 30.810804  L 151.589401 30.810804  L 145.906534 30.810804  z \" style=\"fill:#fefebb;stroke:#444443;stroke-linejoin:miter;stroke-width:0.5;\" />\n   </g>\n   <g id=\"patch_17\">\n    <path clip-path=\"url(#p9790e238c9)\" d=\"M 151.589401 30.810804  L 157.272268 30.810804  L 157.272268 30.810804  L 151.589401 30.810804  z \" style=\"fill:#fefebb;stroke:#444443;stroke-linejoin:miter;stroke-width:0.5;\" />\n   </g>\n   <g id=\"patch_18\">\n    <path clip-path=\"url(#p9790e238c9)\" d=\"M 157.272268 30.810804  L 162.955135 30.810804  L 162.955135 30.810804  L 157.272268 30.810804  z \" style=\"fill:#fefebb;stroke:#444443;stroke-linejoin:miter;stroke-width:0.5;\" />\n   </g>\n   <g id=\"patch_19\">\n    <path clip-path=\"url(#p9790e238c9)\" d=\"M 162.955135 30.810804  L 168.638002 30.810804  L 168.638002 30.810804  L 162.955135 30.810804  z \" style=\"fill:#fefebb;stroke:#444443;stroke-linejoin:miter;stroke-width:0.5;\" />\n   </g>\n   <g id=\"patch_20\">\n    <path clip-path=\"url(#p9790e238c9)\" d=\"M 168.638002 30.810804  L 174.320869 30.810804  L 174.320869 30.810804  L 168.638002 30.810804  z \" style=\"fill:#fefebb;stroke:#444443;stroke-linejoin:miter;stroke-width:0.5;\" />\n   </g>\n   <g id=\"patch_21\">\n    <path clip-path=\"url(#p9790e238c9)\" d=\"M 174.320869 30.810804  L 180.003736 30.810804  L 180.003736 30.810804  L 174.320869 30.810804  z \" style=\"fill:#fefebb;stroke:#444443;stroke-linejoin:miter;stroke-width:0.5;\" />\n   </g>\n   <g id=\"patch_22\">\n    <path clip-path=\"url(#p9790e238c9)\" d=\"M 72.029266 27.339375  L 77.712132 27.339375  L 77.712132 27.339375  L 72.029266 27.339375  z \" style=\"fill:#a1dab4;stroke:#444443;stroke-linejoin:miter;stroke-width:0.5;\" />\n   </g>\n   <g id=\"patch_23\">\n    <path clip-path=\"url(#p9790e238c9)\" d=\"M 77.712132 23.867946  L 83.394999 23.867946  L 83.394999 23.867946  L 77.712132 23.867946  z \" style=\"fill:#a1dab4;stroke:#444443;stroke-linejoin:miter;stroke-width:0.5;\" />\n   </g>\n   <g id=\"patch_24\">\n    <path clip-path=\"url(#p9790e238c9)\" d=\"M 83.394999 27.339375  L 89.077866 27.339375  L 89.077866 27.339375  L 83.394999 27.339375  z \" style=\"fill:#a1dab4;stroke:#444443;stroke-linejoin:miter;stroke-width:0.5;\" />\n   </g>\n   <g id=\"patch_25\">\n    <path clip-path=\"url(#p9790e238c9)\" d=\"M 89.077866 30.810804  L 94.760733 30.810804  L 94.760733 30.810804  L 89.077866 30.810804  z \" style=\"fill:#a1dab4;stroke:#444443;stroke-linejoin:miter;stroke-width:0.5;\" />\n   </g>\n   <g id=\"patch_26\">\n    <path clip-path=\"url(#p9790e238c9)\" d=\"M 94.760733 27.339375  L 100.4436 27.339375  L 100.4436 27.339375  L 94.760733 27.339375  z \" style=\"fill:#a1dab4;stroke:#444443;stroke-linejoin:miter;stroke-width:0.5;\" />\n   </g>\n   <g id=\"patch_27\">\n    <path clip-path=\"url(#p9790e238c9)\" d=\"M 100.4436 20.396518  L 106.126467 20.396518  L 106.126467 16.925089  L 100.4436 16.925089  z \" style=\"fill:#a1dab4;stroke:#444443;stroke-linejoin:miter;stroke-width:0.5;\" />\n   </g>\n   <g id=\"patch_28\">\n    <path clip-path=\"url(#p9790e238c9)\" d=\"M 106.126467 16.925089  L 111.809333 16.925089  L 111.809333 13.453661  L 106.126467 13.453661  z \" style=\"fill:#a1dab4;stroke:#444443;stroke-linejoin:miter;stroke-width:0.5;\" />\n   </g>\n   <g id=\"patch_29\">\n    <path clip-path=\"url(#p9790e238c9)\" d=\"M 111.809333 6.510804  L 117.4922 6.510804  L 117.4922 3.039375  L 111.809333 3.039375  z \" style=\"fill:#a1dab4;stroke:#444443;stroke-linejoin:miter;stroke-width:0.5;\" />\n   </g>\n   <g id=\"patch_30\">\n    <path clip-path=\"url(#p9790e238c9)\" d=\"M 117.4922 20.396518  L 123.175067 20.396518  L 123.175067 13.453661  L 117.4922 13.453661  z \" style=\"fill:#a1dab4;stroke:#444443;stroke-linejoin:miter;stroke-width:0.5;\" />\n   </g>\n   <g id=\"patch_31\">\n    <path clip-path=\"url(#p9790e238c9)\" d=\"M 123.175067 13.453661  L 128.857934 13.453661  L 128.857934 13.453661  L 123.175067 13.453661  z \" style=\"fill:#a1dab4;stroke:#444443;stroke-linejoin:miter;stroke-width:0.5;\" />\n   </g>\n   <g id=\"patch_32\">\n    <path clip-path=\"url(#p9790e238c9)\" d=\"M 128.857934 27.339375  L 134.540801 27.339375  L 134.540801 27.339375  L 128.857934 27.339375  z \" style=\"fill:#a1dab4;stroke:#444443;stroke-linejoin:miter;stroke-width:0.5;\" />\n   </g>\n   <g id=\"patch_33\">\n    <path clip-path=\"url(#p9790e238c9)\" d=\"M 134.540801 23.867946  L 140.223668 23.867946  L 140.223668 16.925089  L 134.540801 16.925089  z \" style=\"fill:#a1dab4;stroke:#444443;stroke-linejoin:miter;stroke-width:0.5;\" />\n   </g>\n   <g id=\"patch_34\">\n    <path clip-path=\"url(#p9790e238c9)\" d=\"M 140.223668 27.339375  L 145.906534 27.339375  L 145.906534 23.867946  L 140.223668 23.867946  z \" style=\"fill:#a1dab4;stroke:#444443;stroke-linejoin:miter;stroke-width:0.5;\" />\n   </g>\n   <g id=\"patch_35\">\n    <path clip-path=\"url(#p9790e238c9)\" d=\"M 145.906534 30.810804  L 151.589401 30.810804  L 151.589401 27.339375  L 145.906534 27.339375  z \" style=\"fill:#a1dab4;stroke:#444443;stroke-linejoin:miter;stroke-width:0.5;\" />\n   </g>\n   <g id=\"patch_36\">\n    <path clip-path=\"url(#p9790e238c9)\" d=\"M 151.589401 30.810804  L 157.272268 30.810804  L 157.272268 23.867946  L 151.589401 23.867946  z \" style=\"fill:#a1dab4;stroke:#444443;stroke-linejoin:miter;stroke-width:0.5;\" />\n   </g>\n   <g id=\"patch_37\">\n    <path clip-path=\"url(#p9790e238c9)\" d=\"M 157.272268 30.810804  L 162.955135 30.810804  L 162.955135 23.867946  L 157.272268 23.867946  z \" style=\"fill:#a1dab4;stroke:#444443;stroke-linejoin:miter;stroke-width:0.5;\" />\n   </g>\n   <g id=\"patch_38\">\n    <path clip-path=\"url(#p9790e238c9)\" d=\"M 162.955135 30.810804  L 168.638002 30.810804  L 168.638002 30.810804  L 162.955135 30.810804  z \" style=\"fill:#a1dab4;stroke:#444443;stroke-linejoin:miter;stroke-width:0.5;\" />\n   </g>\n   <g id=\"patch_39\">\n    <path clip-path=\"url(#p9790e238c9)\" d=\"M 168.638002 30.810804  L 174.320869 30.810804  L 174.320869 27.339375  L 168.638002 27.339375  z \" style=\"fill:#a1dab4;stroke:#444443;stroke-linejoin:miter;stroke-width:0.5;\" />\n   </g>\n   <g id=\"patch_40\">\n    <path clip-path=\"url(#p9790e238c9)\" d=\"M 174.320869 30.810804  L 180.003736 30.810804  L 180.003736 23.867946  L 174.320869 23.867946  z \" style=\"fill:#a1dab4;stroke:#444443;stroke-linejoin:miter;stroke-width:0.5;\" />\n   </g>\n   <g id=\"patch_41\">\n    <path d=\"M 140.99108 31.685604  L 137.270264 39.558804  L 144.711896 39.558804  z \" style=\"fill:#444443;stroke:#ffffff;stroke-linejoin:miter;\" />\n   </g>\n   <g id=\"patch_42\">\n    <path d=\"M 14.59 30.810804  L 14.59 1.650804  \" style=\"fill:none;stroke:#ffffff;stroke-linecap:square;stroke-linejoin:miter;stroke-width:0.3;\" />\n   </g>\n   <g id=\"patch_43\">\n    <path d=\"M 14.59 30.810804  L 221.302 30.810804  \" style=\"fill:none;stroke:#ffffff;stroke-linecap:square;stroke-linejoin:miter;stroke-width:0.3;\" />\n   </g>\n   <g id=\"text_6\">\n    \n    <defs>\n     <path d=\"M 10.796875 72.90625  L 49.515625 72.90625  L 49.515625 64.59375  L 19.828125 64.59375  L 19.828125 46.734375  Q 21.96875 47.46875 24.109375 47.828125  Q 26.265625 48.1875 28.421875 48.1875  Q 40.625 48.1875 47.75 41.5  Q 54.890625 34.8125 54.890625 23.390625  Q 54.890625 11.625 47.5625 5.09375  Q 40.234375 -1.421875 26.90625 -1.421875  Q 22.3125 -1.421875 17.546875 -0.640625  Q 12.796875 0.140625 7.71875 1.703125  L 7.71875 11.625  Q 12.109375 9.234375 16.796875 8.0625  Q 21.484375 6.890625 26.703125 6.890625  Q 35.15625 6.890625 40.078125 11.328125  Q 45.015625 15.765625 45.015625 23.390625  Q 45.015625 31 40.078125 35.4375  Q 35.15625 39.890625 26.703125 39.890625  Q 22.75 39.890625 18.8125 39.015625  Q 14.890625 38.140625 10.796875 36.28125  z \" id=\"DejaVuSans-53\" />\n    </defs>\n    <g style=\"fill:#444443;\" transform=\"translate(129.53983 48.306804)scale(0.08 -0.08)\">\n     <use xlink:href=\"#DejaVuSans-57\" />\n     <use x=\"63.623047\" xlink:href=\"#DejaVuSans-57\" />\n     <use x=\"127.246094\" xlink:href=\"#DejaVuSans-46\" />\n     <use x=\"159.033203\" xlink:href=\"#DejaVuSans-56\" />\n     <use x=\"222.65625\" xlink:href=\"#DejaVuSans-53\" />\n    </g>\n   </g>\n  </g>\n </g>\n <defs>\n  <clipPath id=\"p9790e238c9\">\n   <rect height=\"29.16\" width=\"206.712\" x=\"14.59\" y=\"1.650804\" />\n  </clipPath>\n </defs>\n</svg></g>\n\n<g class=\"node\" id=\"node2\">\n<title>leaf1</title>\n<polygon fill=\"none\" points=\"88.5,-61 35.5,-61 35.5,0 88.5,0 88.5,-61\" stroke=\"#444443\" stroke-width=\"0\" />\n<svg height=\"53px\" preserveAspectRatio=\"xMinYMin meet\" version=\"1.1\" viewBox=\"0 0 59.106854 70.120668\" width=\"45px\" x=\"40\" y=\"-56.5\">\n <defs>\n  <style type=\"text/css\">\n*{stroke-linecap:butt;stroke-linejoin:round;}\n  </style>\n </defs>\n <g id=\"figure_1\">\n  <g id=\"patch_1\">\n   <path d=\"M 0 70.120668  L 59.106854 70.120668  L 59.106854 0  L 0 0  z \" style=\"fill:#f0f0f0;\" />\n  </g>\n  <g id=\"axes_1\">\n   <g id=\"patch_2\">\n    <path d=\"M 59.106854 29.567636  C 59.106854 26.412423 58.600375 23.277569 57.606773 20.282887  C 56.613171 17.288205 55.145269 14.472339 53.25917 11.942913  C 51.373071 9.413487 49.093114 7.203141 46.506439 5.396355  C 43.919764 3.589568 41.059751 2.209656 38.035708 1.30936  C 35.011666 0.409063 31.862618 -0 28.708922 0.097804  C 25.555226 0.195608 22.437578 0.799017 19.475134 1.884969  C 16.51269 2.970921 13.743679 4.525403 11.273933 6.489002  C 8.804187 8.4526 6.665576 10.799977 4.939839 13.441415  C 3.214101 16.082853 1.923506 18.984266 1.11738 22.034762  C 0.311254 25.085259 0 28.245473 0.195514 31.394622  C 0.391028 34.543771 1.090786 37.641217 2.268045 40.568575  C 3.445304 43.495934 5.084871 46.215429 7.124083 48.623121  C 9.163294 51.030814 11.575834 53.095634 14.269497 54.738664  C 16.963159 56.381694 19.903183 57.581732 22.977201 58.292913  C 26.05122 59.004093 29.219563 59.217239 32.361139 58.924203  C 35.502714 58.631167 38.576981 57.835732 41.46644 56.568297  L 29.622854 29.567636  L 59.106854 29.567636  z \" style=\"fill:#fefebb;stroke:#444443;stroke-linejoin:miter;stroke-width:0.5;\" />\n   </g>\n   <g id=\"patch_3\">\n    <path d=\"M 41.46644 56.568297  C 46.711062 54.267794 51.173504 50.488298 54.30587 45.693857  C 57.438235 40.899417 59.106854 35.294625 59.106854 29.567638  L 29.622854 29.567636  L 41.46644 56.568297  z \" style=\"fill:#a1dab4;stroke:#444443;stroke-linejoin:miter;stroke-width:0.5;\" />\n   </g>\n   <g id=\"text_1\">\n    \n    <defs>\n     <path d=\"M 54.890625 33.015625  L 54.890625 0  L 45.90625 0  L 45.90625 32.71875  Q 45.90625 40.484375 42.875 44.328125  Q 39.84375 48.1875 33.796875 48.1875  Q 26.515625 48.1875 22.3125 43.546875  Q 18.109375 38.921875 18.109375 30.90625  L 18.109375 0  L 9.078125 0  L 9.078125 54.6875  L 18.109375 54.6875  L 18.109375 46.1875  Q 21.34375 51.125 25.703125 53.5625  Q 30.078125 56 35.796875 56  Q 45.21875 56 50.046875 50.171875  Q 54.890625 44.34375 54.890625 33.015625  z \" id=\"DejaVuSans-110\" />\n     <path d=\"M 10.59375 45.40625  L 73.1875 45.40625  L 73.1875 37.203125  L 10.59375 37.203125  z M 10.59375 25.484375  L 73.1875 25.484375  L 73.1875 17.1875  L 10.59375 17.1875  z \" id=\"DejaVuSans-61\" />\n     <path d=\"M 40.578125 39.3125  Q 47.65625 37.796875 51.625 33  Q 55.609375 28.21875 55.609375 21.1875  Q 55.609375 10.40625 48.1875 4.484375  Q 40.765625 -1.421875 27.09375 -1.421875  Q 22.515625 -1.421875 17.65625 -0.515625  Q 12.796875 0.390625 7.625 2.203125  L 7.625 11.71875  Q 11.71875 9.328125 16.59375 8.109375  Q 21.484375 6.890625 26.8125 6.890625  Q 36.078125 6.890625 40.9375 10.546875  Q 45.796875 14.203125 45.796875 21.1875  Q 45.796875 27.640625 41.28125 31.265625  Q 36.765625 34.90625 28.71875 34.90625  L 20.21875 34.90625  L 20.21875 43.015625  L 29.109375 43.015625  Q 36.375 43.015625 40.234375 45.921875  Q 44.09375 48.828125 44.09375 54.296875  Q 44.09375 59.90625 40.109375 62.90625  Q 36.140625 65.921875 28.71875 65.921875  Q 24.65625 65.921875 20.015625 65.03125  Q 15.375 64.15625 9.8125 62.3125  L 9.8125 71.09375  Q 15.4375 72.65625 20.34375 73.4375  Q 25.25 74.21875 29.59375 74.21875  Q 40.828125 74.21875 47.359375 69.109375  Q 53.90625 64.015625 53.90625 55.328125  Q 53.90625 49.265625 50.4375 45.09375  Q 46.96875 40.921875 40.578125 39.3125  z \" id=\"DejaVuSans-51\" />\n     <path d=\"M 31.78125 34.625  Q 24.75 34.625 20.71875 30.859375  Q 16.703125 27.09375 16.703125 20.515625  Q 16.703125 13.921875 20.71875 10.15625  Q 24.75 6.390625 31.78125 6.390625  Q 38.8125 6.390625 42.859375 10.171875  Q 46.921875 13.96875 46.921875 20.515625  Q 46.921875 27.09375 42.890625 30.859375  Q 38.875 34.625 31.78125 34.625  z M 21.921875 38.8125  Q 15.578125 40.375 12.03125 44.71875  Q 8.5 49.078125 8.5 55.328125  Q 8.5 64.0625 14.71875 69.140625  Q 20.953125 74.21875 31.78125 74.21875  Q 42.671875 74.21875 48.875 69.140625  Q 55.078125 64.0625 55.078125 55.328125  Q 55.078125 49.078125 51.53125 44.71875  Q 48 40.375 41.703125 38.8125  Q 48.828125 37.15625 52.796875 32.3125  Q 56.78125 27.484375 56.78125 20.515625  Q 56.78125 9.90625 50.3125 4.234375  Q 43.84375 -1.421875 31.78125 -1.421875  Q 19.734375 -1.421875 13.25 4.234375  Q 6.78125 9.90625 6.78125 20.515625  Q 6.78125 27.484375 10.78125 32.3125  Q 14.796875 37.15625 21.921875 38.8125  z M 18.3125 54.390625  Q 18.3125 48.734375 21.84375 45.5625  Q 25.390625 42.390625 31.78125 42.390625  Q 38.140625 42.390625 41.71875 45.5625  Q 45.3125 48.734375 45.3125 54.390625  Q 45.3125 60.0625 41.71875 63.234375  Q 38.140625 66.40625 31.78125 66.40625  Q 25.390625 66.40625 21.84375 63.234375  Q 18.3125 60.0625 18.3125 54.390625  z \" id=\"DejaVuSans-56\" />\n    </defs>\n    <g style=\"fill:#444443;\" transform=\"translate(17.27387 68.248949)scale(0.09 -0.09)\">\n     <use xlink:href=\"#DejaVuSans-110\" />\n     <use x=\"63.378906\" xlink:href=\"#DejaVuSans-61\" />\n     <use x=\"147.167969\" xlink:href=\"#DejaVuSans-51\" />\n     <use x=\"210.791016\" xlink:href=\"#DejaVuSans-56\" />\n    </g>\n   </g>\n  </g>\n </g>\n</svg></g>\n\n<g class=\"edge\" id=\"edge1\">\n<title>node0-&gt;leaf1</title>\n<path d=\"M79.0898,-91.6816C76.7541,-83.3196 74.17,-74.0687 71.7336,-65.3463\" fill=\"none\" stroke=\"#444443\" stroke-width=\".3\" />\n<polygon fill=\"#444443\" points=\"72.9757,-64.5889 70.5511,-61.113 70.2789,-65.3422 72.9757,-64.5889\" stroke=\"#444443\" stroke-width=\".3\" />\n<text fill=\"#000000\" font-family=\"Times,serif\" font-size=\"14.00\" text-anchor=\"start\" x=\"77\" y=\"-72.8\">&lt;</text>\n</g>\n\n<g class=\"node\" id=\"node3\">\n<title>leaf2</title>\n<polygon fill=\"none\" points=\"126,-46 102,-46 102,-15 126,-15 126,-46\" stroke=\"#444443\" stroke-width=\"0\" />\n<svg height=\"23px\" preserveAspectRatio=\"xMinYMin meet\" version=\"1.1\" viewBox=\"0 0 21.384 30.949672\" width=\"16px\" x=\"106\" y=\"-41.5\">\n <defs>\n  <style type=\"text/css\">\n*{stroke-linecap:butt;stroke-linejoin:round;}\n  </style>\n </defs>\n <g id=\"figure_1\">\n  <g id=\"patch_1\">\n   <path d=\"M 0 30.949672  L 21.384 30.949672  L 21.384 0  L 0 0  z \" style=\"fill:#f0f0f0;\" />\n  </g>\n  <g id=\"axes_1\">\n   <g id=\"patch_2\">\n    <path d=\"M 21.384 10.692  C 21.384 9.287939 21.107431 7.897532 20.57012 6.600349  C 20.032809 5.303166 19.245206 4.124435 18.252386 3.131614  C 17.259565 2.138794 16.080834 1.351191 14.783651 0.81388  C 13.486468 0.276569 12.096061 -0 10.692 -0  C 9.287939 -0 7.897532 0.276569 6.600349 0.81388  C 5.303166 1.351191 4.124435 2.138794 3.131614 3.131614  C 2.138794 4.124435 1.351191 5.303166 0.81388 6.600349  C 0.276569 7.897532 0 9.287939 0 10.692  C 0 12.096061 0.276569 13.486468 0.81388 14.783651  C 1.351191 16.080834 2.138794 17.259565 3.131614 18.252386  C 4.124435 19.245206 5.303166 20.032809 6.600349 20.57012  C 7.897532 21.107431 9.287939 21.384 10.692 21.384  C 12.096061 21.384 13.486468 21.107431 14.783651 20.57012  C 16.080834 20.032809 17.259565 19.245206 18.252386 18.252386  C 19.245206 17.259565 20.032809 16.080834 20.57012 14.783651  C 21.107431 13.486468 21.384 12.096061 21.384 10.692  M 10.692 10.692  M 21.384 10.692  z \" style=\"fill:#a1dab4;stroke:#444443;stroke-linejoin:miter;stroke-width:0.5;\" />\n   </g>\n   <g id=\"text_1\">\n    \n    <defs>\n     <path d=\"M 54.890625 33.015625  L 54.890625 0  L 45.90625 0  L 45.90625 32.71875  Q 45.90625 40.484375 42.875 44.328125  Q 39.84375 48.1875 33.796875 48.1875  Q 26.515625 48.1875 22.3125 43.546875  Q 18.109375 38.921875 18.109375 30.90625  L 18.109375 0  L 9.078125 0  L 9.078125 54.6875  L 18.109375 54.6875  L 18.109375 46.1875  Q 21.34375 51.125 25.703125 53.5625  Q 30.078125 56 35.796875 56  Q 45.21875 56 50.046875 50.171875  Q 54.890625 44.34375 54.890625 33.015625  z \" id=\"DejaVuSans-110\" />\n     <path d=\"M 10.59375 45.40625  L 73.1875 45.40625  L 73.1875 37.203125  L 10.59375 37.203125  z M 10.59375 25.484375  L 73.1875 25.484375  L 73.1875 17.1875  L 10.59375 17.1875  z \" id=\"DejaVuSans-61\" />\n     <path d=\"M 10.984375 1.515625  L 10.984375 10.5  Q 14.703125 8.734375 18.5 7.8125  Q 22.3125 6.890625 25.984375 6.890625  Q 35.75 6.890625 40.890625 13.453125  Q 46.046875 20.015625 46.78125 33.40625  Q 43.953125 29.203125 39.59375 26.953125  Q 35.25 24.703125 29.984375 24.703125  Q 19.046875 24.703125 12.671875 31.3125  Q 6.296875 37.9375 6.296875 49.421875  Q 6.296875 60.640625 12.9375 67.421875  Q 19.578125 74.21875 30.609375 74.21875  Q 43.265625 74.21875 49.921875 64.515625  Q 56.59375 54.828125 56.59375 36.375  Q 56.59375 19.140625 48.40625 8.859375  Q 40.234375 -1.421875 26.421875 -1.421875  Q 22.703125 -1.421875 18.890625 -0.6875  Q 15.09375 0.046875 10.984375 1.515625  z M 30.609375 32.421875  Q 37.25 32.421875 41.125 36.953125  Q 45.015625 41.5 45.015625 49.421875  Q 45.015625 57.28125 41.125 61.84375  Q 37.25 66.40625 30.609375 66.40625  Q 23.96875 66.40625 20.09375 61.84375  Q 16.21875 57.28125 16.21875 49.421875  Q 16.21875 41.5 20.09375 36.953125  Q 23.96875 32.421875 30.609375 32.421875  z \" id=\"DejaVuSans-57\" />\n    </defs>\n    <g style=\"fill:#444443;\" transform=\"translate(1.206141 29.077954)scale(0.09 -0.09)\">\n     <use xlink:href=\"#DejaVuSans-110\" />\n     <use x=\"63.378906\" xlink:href=\"#DejaVuSans-61\" />\n     <use x=\"147.167969\" xlink:href=\"#DejaVuSans-57\" />\n    </g>\n   </g>\n  </g>\n </g>\n</svg></g>\n\n<g class=\"edge\" id=\"edge2\">\n<title>node0-&gt;leaf2</title>\n<path d=\"M95.543,-91.6816C99.6238,-78.1544 104.4064,-62.3009 108.0806,-50.1217\" fill=\"none\" stroke=\"#444443\" stroke-width=\".3\" />\n<polygon fill=\"#444443\" points=\"109.4665,-50.3748 109.2815,-46.1409 106.7858,-49.5661 109.4665,-50.3748\" stroke=\"#444443\" stroke-width=\".3\" />\n<text fill=\"#000000\" font-family=\"Times,serif\" font-size=\"14.00\" text-anchor=\"start\" x=\"103\" y=\"-72.8\">&#8805;</text>\n</g>\n\n\n<g class=\"node\" id=\"node4\">\n<title>legend</title>\n<polygon fill=\"none\" points=\"246.5,-144 181.5,-144 181.5,-96 246.5,-96 246.5,-144\" stroke=\"#000000\" stroke-width=\"0\" />\n<svg height=\"44px\" preserveAspectRatio=\"xMinYMin meet\" version=\"1.1\" viewBox=\"0 0 81.7625 58.32\" width=\"61px\" x=\"184\" y=\"-142\">\n <defs>\n  <style type=\"text/css\">\n*{stroke-linecap:butt;stroke-linejoin:round;}\n  </style>\n </defs>\n <g id=\"figure_1\">\n  <g id=\"patch_1\">\n   <path d=\"M 0 58.32  L 81.7625 58.32  L 81.7625 0  L 0 0  z \" style=\"fill:#f0f0f0;\" />\n  </g>\n  <g id=\"axes_1\">\n   <g id=\"legend_1\">\n    <g id=\"patch_2\">\n     <path d=\"M 2.2 58.117812  L 79.5625 58.117812  Q 81.7625 58.117812 81.7625 55.917812  L 81.7625 2.402187  Q 81.7625 0.202187 79.5625 0.202187  L 2.2 0.202187  Q -0 0.202187 -0 2.402187  L -0 55.917812  Q -0 58.117812 2.2 58.117812  z \" style=\"fill:#eaeaf2;opacity:0.8;stroke:#444443;stroke-linejoin:miter;stroke-width:0.5;\" />\n    </g>\n    <g id=\"text_1\">\n     \n     <defs>\n      <path d=\"M 38.375 44.671875  Q 42.828125 44.671875 45.109375 46.625  Q 47.40625 48.578125 47.40625 52.390625  Q 47.40625 56.15625 45.109375 58.125  Q 42.828125 60.109375 38.375 60.109375  L 27.984375 60.109375  L 27.984375 44.671875  z M 39.015625 12.796875  Q 44.671875 12.796875 47.53125 15.1875  Q 50.390625 17.578125 50.390625 22.40625  Q 50.390625 27.15625 47.5625 29.515625  Q 44.734375 31.890625 39.015625 31.890625  L 27.984375 31.890625  L 27.984375 12.796875  z M 56.5 39.015625  Q 62.546875 37.25 65.859375 32.515625  Q 69.1875 27.78125 69.1875 20.90625  Q 69.1875 10.359375 62.0625 5.171875  Q 54.9375 0 40.375 0  L 9.1875 0  L 9.1875 72.90625  L 37.40625 72.90625  Q 52.59375 72.90625 59.40625 68.3125  Q 66.21875 63.71875 66.21875 53.609375  Q 66.21875 48.296875 63.71875 44.5625  Q 61.234375 40.828125 56.5 39.015625  z \" id=\"DejaVuSans-Bold-66\" />\n      <path d=\"M 8.40625 54.6875  L 25.875 54.6875  L 25.875 0  L 8.40625 0  z M 8.40625 75.984375  L 25.875 75.984375  L 25.875 61.71875  L 8.40625 61.71875  z \" id=\"DejaVuSans-Bold-105\" />\n      <path d=\"M 45.609375 9.28125  Q 42 4.5 37.640625 2.25  Q 33.296875 0 27.59375 0  Q 17.578125 0 11.03125 7.875  Q 4.5 15.765625 4.5 27.984375  Q 4.5 40.234375 11.03125 48.0625  Q 17.578125 55.90625 27.59375 55.90625  Q 33.296875 55.90625 37.640625 53.65625  Q 42 51.421875 45.609375 46.578125  L 45.609375 54.6875  L 63.1875 54.6875  L 63.1875 5.515625  Q 63.1875 -7.671875 54.859375 -14.625  Q 46.53125 -21.578125 30.71875 -21.578125  Q 25.59375 -21.578125 20.796875 -20.796875  Q 16.015625 -20.015625 11.1875 -18.40625  L 11.1875 -4.78125  Q 15.765625 -7.421875 20.15625 -8.71875  Q 24.5625 -10.015625 29 -10.015625  Q 37.59375 -10.015625 41.59375 -6.25  Q 45.609375 -2.484375 45.609375 5.515625  z M 34.078125 43.3125  Q 28.65625 43.3125 25.625 39.296875  Q 22.609375 35.296875 22.609375 27.984375  Q 22.609375 20.453125 25.53125 16.578125  Q 28.46875 12.703125 34.078125 12.703125  Q 39.546875 12.703125 42.578125 16.703125  Q 45.609375 20.703125 45.609375 27.984375  Q 45.609375 35.296875 42.578125 39.296875  Q 39.546875 43.3125 34.078125 43.3125  z \" id=\"DejaVuSans-Bold-103\" />\n      <path d=\"M 67 4  Q 61.8125 1.3125 56.203125 -0.046875  Q 50.59375 -1.421875 44.484375 -1.421875  Q 26.265625 -1.421875 15.625 8.765625  Q 4.984375 18.953125 4.984375 36.375  Q 4.984375 53.859375 15.625 64.03125  Q 26.265625 74.21875 44.484375 74.21875  Q 50.59375 74.21875 56.203125 72.84375  Q 61.8125 71.484375 67 68.796875  L 67 53.71875  Q 61.765625 57.28125 56.6875 58.9375  Q 51.609375 60.59375 46 60.59375  Q 35.9375 60.59375 30.171875 54.140625  Q 24.421875 47.703125 24.421875 36.375  Q 24.421875 25.09375 30.171875 18.640625  Q 35.9375 12.203125 46 12.203125  Q 51.609375 12.203125 56.6875 13.859375  Q 61.765625 15.53125 67 19.09375  z \" id=\"DejaVuSans-Bold-67\" />\n      <path d=\"M 27.484375 70.21875  L 27.484375 54.6875  L 45.515625 54.6875  L 45.515625 42.1875  L 27.484375 42.1875  L 27.484375 19  Q 27.484375 15.1875 29 13.84375  Q 30.515625 12.5 35.015625 12.5  L 44 12.5  L 44 0  L 29 0  Q 18.65625 0 14.328125 4.3125  Q 10.015625 8.640625 10.015625 19  L 10.015625 42.1875  L 1.3125 42.1875  L 1.3125 54.6875  L 10.015625 54.6875  L 10.015625 70.21875  z \" id=\"DejaVuSans-Bold-116\" />\n      <path d=\"M 1.21875 54.6875  L 18.703125 54.6875  L 33.40625 17.578125  L 45.90625 54.6875  L 63.375 54.6875  L 40.375 -5.171875  Q 36.921875 -14.3125 32.296875 -17.9375  Q 27.6875 -21.578125 20.125 -21.578125  L 10.015625 -21.578125  L 10.015625 -10.109375  L 15.484375 -10.109375  Q 19.921875 -10.109375 21.9375 -8.6875  Q 23.96875 -7.28125 25.09375 -3.609375  L 25.59375 -2.09375  z \" id=\"DejaVuSans-Bold-121\" />\n     </defs>\n     <g style=\"fill:#444443;\" transform=\"translate(20.744531 16.600625)scale(0.1 -0.1)\">\n      <use xlink:href=\"#DejaVuSans-Bold-66\" />\n      <use x=\"76.220703\" xlink:href=\"#DejaVuSans-Bold-105\" />\n      <use x=\"110.498047\" xlink:href=\"#DejaVuSans-Bold-103\" />\n      <use x=\"182.080078\" xlink:href=\"#DejaVuSans-Bold-67\" />\n      <use x=\"255.46875\" xlink:href=\"#DejaVuSans-Bold-105\" />\n      <use x=\"289.746094\" xlink:href=\"#DejaVuSans-Bold-116\" />\n      <use x=\"337.548828\" xlink:href=\"#DejaVuSans-Bold-121\" />\n     </g>\n    </g>\n    <g id=\"patch_3\">\n     <path d=\"M 8.8 31.958437  L 30.8 31.958437  L 30.8 24.258437  L 8.8 24.258437  z \" style=\"fill:#fefebb;stroke:#444443;stroke-linejoin:miter;stroke-width:0.4;\" />\n    </g>\n    <g id=\"text_2\">\n     \n     <defs>\n      <path d=\"M 9.8125 72.90625  L 24.515625 72.90625  L 43.109375 23.296875  L 61.8125 72.90625  L 76.515625 72.90625  L 76.515625 0  L 66.890625 0  L 66.890625 64.015625  L 48.09375 14.015625  L 38.1875 14.015625  L 19.390625 64.015625  L 19.390625 0  L 9.8125 0  z \" id=\"DejaVuSans-77\" />\n      <path d=\"M 56.203125 29.59375  L 56.203125 25.203125  L 14.890625 25.203125  Q 15.484375 15.921875 20.484375 11.0625  Q 25.484375 6.203125 34.421875 6.203125  Q 39.59375 6.203125 44.453125 7.46875  Q 49.3125 8.734375 54.109375 11.28125  L 54.109375 2.78125  Q 49.265625 0.734375 44.1875 -0.34375  Q 39.109375 -1.421875 33.890625 -1.421875  Q 20.796875 -1.421875 13.15625 6.1875  Q 5.515625 13.8125 5.515625 26.8125  Q 5.515625 40.234375 12.765625 48.109375  Q 20.015625 56 32.328125 56  Q 43.359375 56 49.78125 48.890625  Q 56.203125 41.796875 56.203125 29.59375  z M 47.21875 32.234375  Q 47.125 39.59375 43.09375 43.984375  Q 39.0625 48.390625 32.421875 48.390625  Q 24.90625 48.390625 20.390625 44.140625  Q 15.875 39.890625 15.1875 32.171875  z \" id=\"DejaVuSans-101\" />\n      <path d=\"M 45.40625 46.390625  L 45.40625 75.984375  L 54.390625 75.984375  L 54.390625 0  L 45.40625 0  L 45.40625 8.203125  Q 42.578125 3.328125 38.25 0.953125  Q 33.9375 -1.421875 27.875 -1.421875  Q 17.96875 -1.421875 11.734375 6.484375  Q 5.515625 14.40625 5.515625 27.296875  Q 5.515625 40.1875 11.734375 48.09375  Q 17.96875 56 27.875 56  Q 33.9375 56 38.25 53.625  Q 42.578125 51.265625 45.40625 46.390625  z M 14.796875 27.296875  Q 14.796875 17.390625 18.875 11.75  Q 22.953125 6.109375 30.078125 6.109375  Q 37.203125 6.109375 41.296875 11.75  Q 45.40625 17.390625 45.40625 27.296875  Q 45.40625 37.203125 41.296875 42.84375  Q 37.203125 48.484375 30.078125 48.484375  Q 22.953125 48.484375 18.875 42.84375  Q 14.796875 37.203125 14.796875 27.296875  z \" id=\"DejaVuSans-100\" />\n      <path d=\"M 9.421875 54.6875  L 18.40625 54.6875  L 18.40625 0  L 9.421875 0  z M 9.421875 75.984375  L 18.40625 75.984375  L 18.40625 64.59375  L 9.421875 64.59375  z \" id=\"DejaVuSans-105\" />\n      <path d=\"M 48.78125 52.59375  L 48.78125 44.1875  Q 44.96875 46.296875 41.140625 47.34375  Q 37.3125 48.390625 33.40625 48.390625  Q 24.65625 48.390625 19.8125 42.84375  Q 14.984375 37.3125 14.984375 27.296875  Q 14.984375 17.28125 19.8125 11.734375  Q 24.65625 6.203125 33.40625 6.203125  Q 37.3125 6.203125 41.140625 7.25  Q 44.96875 8.296875 48.78125 10.40625  L 48.78125 2.09375  Q 45.015625 0.34375 40.984375 -0.53125  Q 36.96875 -1.421875 32.421875 -1.421875  Q 20.0625 -1.421875 12.78125 6.34375  Q 5.515625 14.109375 5.515625 27.296875  Q 5.515625 40.671875 12.859375 48.328125  Q 20.21875 56 33.015625 56  Q 37.15625 56 41.109375 55.140625  Q 45.0625 54.296875 48.78125 52.59375  z \" id=\"DejaVuSans-99\" />\n      <path d=\"M 34.28125 27.484375  Q 23.390625 27.484375 19.1875 25  Q 14.984375 22.515625 14.984375 16.5  Q 14.984375 11.71875 18.140625 8.90625  Q 21.296875 6.109375 26.703125 6.109375  Q 34.1875 6.109375 38.703125 11.40625  Q 43.21875 16.703125 43.21875 25.484375  L 43.21875 27.484375  z M 52.203125 31.203125  L 52.203125 0  L 43.21875 0  L 43.21875 8.296875  Q 40.140625 3.328125 35.546875 0.953125  Q 30.953125 -1.421875 24.3125 -1.421875  Q 15.921875 -1.421875 10.953125 3.296875  Q 6 8.015625 6 15.921875  Q 6 25.140625 12.171875 29.828125  Q 18.359375 34.515625 30.609375 34.515625  L 43.21875 34.515625  L 43.21875 35.40625  Q 43.21875 41.609375 39.140625 45  Q 35.0625 48.390625 27.6875 48.390625  Q 23 48.390625 18.546875 47.265625  Q 14.109375 46.140625 10.015625 43.890625  L 10.015625 52.203125  Q 14.9375 54.109375 19.578125 55.046875  Q 24.21875 56 28.609375 56  Q 40.484375 56 46.34375 49.84375  Q 52.203125 43.703125 52.203125 31.203125  z \" id=\"DejaVuSans-97\" />\n      <path d=\"M 9.421875 75.984375  L 18.40625 75.984375  L 18.40625 0  L 9.421875 0  z \" id=\"DejaVuSans-108\" />\n     </defs>\n     <g style=\"fill:#444443;\" transform=\"translate(34.65 31.958437)scale(0.1 -0.1)\">\n      <use xlink:href=\"#DejaVuSans-77\" />\n      <use x=\"86.279297\" xlink:href=\"#DejaVuSans-101\" />\n      <use x=\"147.802734\" xlink:href=\"#DejaVuSans-100\" />\n      <use x=\"211.279297\" xlink:href=\"#DejaVuSans-105\" />\n      <use x=\"239.0625\" xlink:href=\"#DejaVuSans-99\" />\n      <use x=\"294.042969\" xlink:href=\"#DejaVuSans-97\" />\n      <use x=\"355.322266\" xlink:href=\"#DejaVuSans-108\" />\n     </g>\n    </g>\n    <g id=\"patch_4\">\n     <path d=\"M 8.8 47.238125  L 30.8 47.238125  L 30.8 39.538125  L 8.8 39.538125  z \" style=\"fill:#a1dab4;stroke:#444443;stroke-linejoin:miter;stroke-width:0.4;\" />\n    </g>\n    <g id=\"text_3\">\n     \n     <defs>\n      <path d=\"M 64.40625 67.28125  L 64.40625 56.890625  Q 59.421875 61.53125 53.78125 63.8125  Q 48.140625 66.109375 41.796875 66.109375  Q 29.296875 66.109375 22.65625 58.46875  Q 16.015625 50.828125 16.015625 36.375  Q 16.015625 21.96875 22.65625 14.328125  Q 29.296875 6.6875 41.796875 6.6875  Q 48.140625 6.6875 53.78125 8.984375  Q 59.421875 11.28125 64.40625 15.921875  L 64.40625 5.609375  Q 59.234375 2.09375 53.4375 0.328125  Q 47.65625 -1.421875 41.21875 -1.421875  Q 24.65625 -1.421875 15.125 8.703125  Q 5.609375 18.84375 5.609375 36.375  Q 5.609375 53.953125 15.125 64.078125  Q 24.65625 74.21875 41.21875 74.21875  Q 47.75 74.21875 53.53125 72.484375  Q 59.328125 70.75 64.40625 67.28125  z \" id=\"DejaVuSans-67\" />\n      <path d=\"M 8.5 21.578125  L 8.5 54.6875  L 17.484375 54.6875  L 17.484375 21.921875  Q 17.484375 14.15625 20.5 10.265625  Q 23.53125 6.390625 29.59375 6.390625  Q 36.859375 6.390625 41.078125 11.03125  Q 45.3125 15.671875 45.3125 23.6875  L 45.3125 54.6875  L 54.296875 54.6875  L 54.296875 0  L 45.3125 0  L 45.3125 8.40625  Q 42.046875 3.421875 37.71875 1  Q 33.40625 -1.421875 27.6875 -1.421875  Q 18.265625 -1.421875 13.375 4.4375  Q 8.5 10.296875 8.5 21.578125  z M 31.109375 56  z \" id=\"DejaVuSans-117\" />\n      <path d=\"M 18.3125 70.21875  L 18.3125 54.6875  L 36.8125 54.6875  L 36.8125 47.703125  L 18.3125 47.703125  L 18.3125 18.015625  Q 18.3125 11.328125 20.140625 9.421875  Q 21.96875 7.515625 27.59375 7.515625  L 36.8125 7.515625  L 36.8125 0  L 27.59375 0  Q 17.1875 0 13.234375 3.875  Q 9.28125 7.765625 9.28125 18.015625  L 9.28125 47.703125  L 2.6875 47.703125  L 2.6875 54.6875  L 9.28125 54.6875  L 9.28125 70.21875  z \" id=\"DejaVuSans-116\" />\n      <path d=\"M 41.109375 46.296875  Q 39.59375 47.171875 37.8125 47.578125  Q 36.03125 48 33.890625 48  Q 26.265625 48 22.1875 43.046875  Q 18.109375 38.09375 18.109375 28.8125  L 18.109375 0  L 9.078125 0  L 9.078125 54.6875  L 18.109375 54.6875  L 18.109375 46.1875  Q 20.953125 51.171875 25.484375 53.578125  Q 30.03125 56 36.53125 56  Q 37.453125 56 38.578125 55.875  Q 39.703125 55.765625 41.0625 55.515625  z \" id=\"DejaVuSans-114\" />\n     </defs>\n     <g style=\"fill:#444443;\" transform=\"translate(34.65 47.238125)scale(0.1 -0.1)\">\n      <use xlink:href=\"#DejaVuSans-67\" />\n      <use x=\"69.824219\" xlink:href=\"#DejaVuSans-117\" />\n      <use x=\"133.203125\" xlink:href=\"#DejaVuSans-108\" />\n      <use x=\"160.986328\" xlink:href=\"#DejaVuSans-116\" />\n      <use x=\"200.195312\" xlink:href=\"#DejaVuSans-117\" />\n      <use x=\"263.574219\" xlink:href=\"#DejaVuSans-114\" />\n      <use x=\"304.65625\" xlink:href=\"#DejaVuSans-101\" />\n     </g>\n    </g>\n   </g>\n  </g>\n </g>\n</svg></g>\n</g>\n</svg>"
          },
          "metadata": {
            "tags": []
          }
        }
      ]
    },
    {
      "cell_type": "markdown",
      "metadata": {
        "id": "1Rem08LZJe9-",
        "colab_type": "text"
      },
      "source": [
        "##### 演習3\n",
        "\n",
        "決定木の`max_depth`を操作して木を深くすると、分類境界がどのように変化するか見てみましょう"
      ]
    },
    {
      "cell_type": "code",
      "metadata": {
        "id": "83Pr0_K9JyOB",
        "colab_type": "code",
        "outputId": "3e5e0fef-5660-4a81-cfc3-45ad220ad393",
        "colab": {
          "base_uri": "https://localhost:8080/",
          "height": 898
        }
      },
      "source": [
        "max_depth = 4\n",
        "\n",
        "tree_model = DecisionTreeClassifier(random_state=0, max_depth=max_depth)\n",
        "tree_model.fit(X, y)\n",
        "\n",
        "plot_decision_regions(tree_model)\n",
        "plot_tree_graph2(tree_model)"
      ],
      "execution_count": 0,
      "outputs": [
        {
          "output_type": "stream",
          "text": [
            "/usr/local/lib/python3.6/dist-packages/ipykernel_launcher.py:14: UserWarning: linewidths is ignored by contourf\n",
            "  \n"
          ],
          "name": "stderr"
        },
        {
          "output_type": "display_data",
          "data": {
            "text/plain": [
              "<dtreeviz.trees.DTreeViz at 0x7fcdbcbf7f60>"
            ],
            "image/svg+xml": "<svg xmlns=\"http://www.w3.org/2000/svg\" xmlns:xlink=\"http://www.w3.org/1999/xlink\" height=\"432pt\" viewBox=\"0.00 0.00 377.00 432.00\" width=\"377pt\">\n<g class=\"graph\" id=\"graph0\" transform=\"scale(1 1) rotate(0) translate(4 428)\">\n<title>G</title>\n<polygon fill=\"#ffffff\" points=\"-4,4 -4,-428 373,-428 373,4 -4,4\" stroke=\"transparent\" />\n<g class=\"cluster\" id=\"clust6\">\n<title>cluster_legend</title>\n</g>\n\n<g class=\"node\" id=\"node1\">\n<title>node4</title>\n<svg height=\"48px\" preserveAspectRatio=\"xMinYMin meet\" version=\"1.1\" viewBox=\"0 0 221.302 63.667054\" width=\"166px\" x=\"4\" y=\"-108.5\">\n <defs>\n  <style type=\"text/css\">\n*{stroke-linecap:butt;stroke-linejoin:round;}\n  </style>\n </defs>\n <g id=\"figure_1\">\n  <g id=\"patch_1\">\n   <path d=\"M 0 63.667054  L 221.302 63.667054  L 221.302 0  L 0 0  z \" style=\"fill:#f0f0f0;\" />\n  </g>\n  <g id=\"axes_1\">\n   <g id=\"patch_2\">\n    <path d=\"M 14.59 30.810804  L 221.302 30.810804  L 221.302 1.650804  L 14.59 1.650804  z \" style=\"fill:#eaeaf2;\" />\n   </g>\n   <g id=\"matplotlib.axis_1\">\n    <g id=\"xtick_1\">\n     <g id=\"line2d_1\">\n      <path clip-path=\"url(#p1b15a1bbe3)\" d=\"M 72.029266 30.810804  L 72.029266 1.650804  \" style=\"fill:none;stroke:#ffffff;stroke-linecap:round;\" />\n     </g>\n     <g id=\"text_1\">\n      \n      <defs>\n       <path d=\"M 10.984375 1.515625  L 10.984375 10.5  Q 14.703125 8.734375 18.5 7.8125  Q 22.3125 6.890625 25.984375 6.890625  Q 35.75 6.890625 40.890625 13.453125  Q 46.046875 20.015625 46.78125 33.40625  Q 43.953125 29.203125 39.59375 26.953125  Q 35.25 24.703125 29.984375 24.703125  Q 19.046875 24.703125 12.671875 31.3125  Q 6.296875 37.9375 6.296875 49.421875  Q 6.296875 60.640625 12.9375 67.421875  Q 19.578125 74.21875 30.609375 74.21875  Q 43.265625 74.21875 49.921875 64.515625  Q 56.59375 54.828125 56.59375 36.375  Q 56.59375 19.140625 48.40625 8.859375  Q 40.234375 -1.421875 26.421875 -1.421875  Q 22.703125 -1.421875 18.890625 -0.6875  Q 15.09375 0.046875 10.984375 1.515625  z M 30.609375 32.421875  Q 37.25 32.421875 41.125 36.953125  Q 45.015625 41.5 45.015625 49.421875  Q 45.015625 57.28125 41.125 61.84375  Q 37.25 66.40625 30.609375 66.40625  Q 23.96875 66.40625 20.09375 61.84375  Q 16.21875 57.28125 16.21875 49.421875  Q 16.21875 41.5 20.09375 36.953125  Q 23.96875 32.421875 30.609375 32.421875  z \" id=\"DejaVuSans-57\" />\n       <path d=\"M 12.40625 8.296875  L 28.515625 8.296875  L 28.515625 63.921875  L 10.984375 60.40625  L 10.984375 69.390625  L 28.421875 72.90625  L 38.28125 72.90625  L 38.28125 8.296875  L 54.390625 8.296875  L 54.390625 0  L 12.40625 0  z \" id=\"DejaVuSans-49\" />\n       <path d=\"M 10.6875 12.40625  L 21 12.40625  L 21 0  L 10.6875 0  z \" id=\"DejaVuSans-46\" />\n      </defs>\n      <g style=\"fill:#444443;\" transform=\"translate(63.123016 46.389554)scale(0.08 -0.08)\">\n       <use xlink:href=\"#DejaVuSans-57\" />\n       <use x=\"63.623047\" xlink:href=\"#DejaVuSans-49\" />\n       <use x=\"127.246094\" xlink:href=\"#DejaVuSans-46\" />\n       <use x=\"159.033203\" xlink:href=\"#DejaVuSans-49\" />\n      </g>\n     </g>\n    </g>\n    <g id=\"xtick_2\">\n     <g id=\"line2d_2\">\n      <path clip-path=\"url(#p1b15a1bbe3)\" d=\"M 180.003736 30.810804  L 180.003736 1.650804  \" style=\"fill:none;stroke:#ffffff;stroke-linecap:round;\" />\n     </g>\n     <g id=\"text_2\">\n      \n      <defs>\n       <path d=\"M 31.78125 66.40625  Q 24.171875 66.40625 20.328125 58.90625  Q 16.5 51.421875 16.5 36.375  Q 16.5 21.390625 20.328125 13.890625  Q 24.171875 6.390625 31.78125 6.390625  Q 39.453125 6.390625 43.28125 13.890625  Q 47.125 21.390625 47.125 36.375  Q 47.125 51.421875 43.28125 58.90625  Q 39.453125 66.40625 31.78125 66.40625  z M 31.78125 74.21875  Q 44.046875 74.21875 50.515625 64.515625  Q 56.984375 54.828125 56.984375 36.375  Q 56.984375 17.96875 50.515625 8.265625  Q 44.046875 -1.421875 31.78125 -1.421875  Q 19.53125 -1.421875 13.0625 8.265625  Q 6.59375 17.96875 6.59375 36.375  Q 6.59375 54.828125 13.0625 64.515625  Q 19.53125 74.21875 31.78125 74.21875  z \" id=\"DejaVuSans-48\" />\n       <path d=\"M 37.796875 64.3125  L 12.890625 25.390625  L 37.796875 25.390625  z M 35.203125 72.90625  L 47.609375 72.90625  L 47.609375 25.390625  L 58.015625 25.390625  L 58.015625 17.1875  L 47.609375 17.1875  L 47.609375 0  L 37.796875 0  L 37.796875 17.1875  L 4.890625 17.1875  L 4.890625 26.703125  z \" id=\"DejaVuSans-52\" />\n       <path d=\"M 31.78125 34.625  Q 24.75 34.625 20.71875 30.859375  Q 16.703125 27.09375 16.703125 20.515625  Q 16.703125 13.921875 20.71875 10.15625  Q 24.75 6.390625 31.78125 6.390625  Q 38.8125 6.390625 42.859375 10.171875  Q 46.921875 13.96875 46.921875 20.515625  Q 46.921875 27.09375 42.890625 30.859375  Q 38.875 34.625 31.78125 34.625  z M 21.921875 38.8125  Q 15.578125 40.375 12.03125 44.71875  Q 8.5 49.078125 8.5 55.328125  Q 8.5 64.0625 14.71875 69.140625  Q 20.953125 74.21875 31.78125 74.21875  Q 42.671875 74.21875 48.875 69.140625  Q 55.078125 64.0625 55.078125 55.328125  Q 55.078125 49.078125 51.53125 44.71875  Q 48 40.375 41.703125 38.8125  Q 48.828125 37.15625 52.796875 32.3125  Q 56.78125 27.484375 56.78125 20.515625  Q 56.78125 9.90625 50.3125 4.234375  Q 43.84375 -1.421875 31.78125 -1.421875  Q 19.734375 -1.421875 13.25 4.234375  Q 6.78125 9.90625 6.78125 20.515625  Q 6.78125 27.484375 10.78125 32.3125  Q 14.796875 37.15625 21.921875 38.8125  z M 18.3125 54.390625  Q 18.3125 48.734375 21.84375 45.5625  Q 25.390625 42.390625 31.78125 42.390625  Q 38.140625 42.390625 41.71875 45.5625  Q 45.3125 48.734375 45.3125 54.390625  Q 45.3125 60.0625 41.71875 63.234375  Q 38.140625 66.40625 31.78125 66.40625  Q 25.390625 66.40625 21.84375 63.234375  Q 18.3125 60.0625 18.3125 54.390625  z \" id=\"DejaVuSans-56\" />\n      </defs>\n      <g style=\"fill:#444443;\" transform=\"translate(168.552486 46.389554)scale(0.08 -0.08)\">\n       <use xlink:href=\"#DejaVuSans-49\" />\n       <use x=\"63.623047\" xlink:href=\"#DejaVuSans-48\" />\n       <use x=\"127.246094\" xlink:href=\"#DejaVuSans-52\" />\n       <use x=\"190.869141\" xlink:href=\"#DejaVuSans-46\" />\n       <use x=\"222.65625\" xlink:href=\"#DejaVuSans-56\" />\n      </g>\n     </g>\n    </g>\n    <g id=\"text_3\">\n     \n     <defs>\n      <path d=\"M 64.40625 67.28125  L 64.40625 56.890625  Q 59.421875 61.53125 53.78125 63.8125  Q 48.140625 66.109375 41.796875 66.109375  Q 29.296875 66.109375 22.65625 58.46875  Q 16.015625 50.828125 16.015625 36.375  Q 16.015625 21.96875 22.65625 14.328125  Q 29.296875 6.6875 41.796875 6.6875  Q 48.140625 6.6875 53.78125 8.984375  Q 59.421875 11.28125 64.40625 15.921875  L 64.40625 5.609375  Q 59.234375 2.09375 53.4375 0.328125  Q 47.65625 -1.421875 41.21875 -1.421875  Q 24.65625 -1.421875 15.125 8.703125  Q 5.609375 18.84375 5.609375 36.375  Q 5.609375 53.953125 15.125 64.078125  Q 24.65625 74.21875 41.21875 74.21875  Q 47.75 74.21875 53.53125 72.484375  Q 59.328125 70.75 64.40625 67.28125  z \" id=\"DejaVuSans-67\" />\n      <path d=\"M 8.5 21.578125  L 8.5 54.6875  L 17.484375 54.6875  L 17.484375 21.921875  Q 17.484375 14.15625 20.5 10.265625  Q 23.53125 6.390625 29.59375 6.390625  Q 36.859375 6.390625 41.078125 11.03125  Q 45.3125 15.671875 45.3125 23.6875  L 45.3125 54.6875  L 54.296875 54.6875  L 54.296875 0  L 45.3125 0  L 45.3125 8.40625  Q 42.046875 3.421875 37.71875 1  Q 33.40625 -1.421875 27.6875 -1.421875  Q 18.265625 -1.421875 13.375 4.4375  Q 8.5 10.296875 8.5 21.578125  z M 31.109375 56  z \" id=\"DejaVuSans-117\" />\n      <path d=\"M 9.421875 75.984375  L 18.40625 75.984375  L 18.40625 0  L 9.421875 0  z \" id=\"DejaVuSans-108\" />\n      <path d=\"M 18.3125 70.21875  L 18.3125 54.6875  L 36.8125 54.6875  L 36.8125 47.703125  L 18.3125 47.703125  L 18.3125 18.015625  Q 18.3125 11.328125 20.140625 9.421875  Q 21.96875 7.515625 27.59375 7.515625  L 36.8125 7.515625  L 36.8125 0  L 27.59375 0  Q 17.1875 0 13.234375 3.875  Q 9.28125 7.765625 9.28125 18.015625  L 9.28125 47.703125  L 2.6875 47.703125  L 2.6875 54.6875  L 9.28125 54.6875  L 9.28125 70.21875  z \" id=\"DejaVuSans-116\" />\n      <path d=\"M 41.109375 46.296875  Q 39.59375 47.171875 37.8125 47.578125  Q 36.03125 48 33.890625 48  Q 26.265625 48 22.1875 43.046875  Q 18.109375 38.09375 18.109375 28.8125  L 18.109375 0  L 9.078125 0  L 9.078125 54.6875  L 18.109375 54.6875  L 18.109375 46.1875  Q 20.953125 51.171875 25.484375 53.578125  Q 30.03125 56 36.53125 56  Q 37.453125 56 38.578125 55.875  Q 39.703125 55.765625 41.0625 55.515625  z \" id=\"DejaVuSans-114\" />\n      <path d=\"M 56.203125 29.59375  L 56.203125 25.203125  L 14.890625 25.203125  Q 15.484375 15.921875 20.484375 11.0625  Q 25.484375 6.203125 34.421875 6.203125  Q 39.59375 6.203125 44.453125 7.46875  Q 49.3125 8.734375 54.109375 11.28125  L 54.109375 2.78125  Q 49.265625 0.734375 44.1875 -0.34375  Q 39.109375 -1.421875 33.890625 -1.421875  Q 20.796875 -1.421875 13.15625 6.1875  Q 5.515625 13.8125 5.515625 26.8125  Q 5.515625 40.234375 12.765625 48.109375  Q 20.015625 56 32.328125 56  Q 43.359375 56 49.78125 48.890625  Q 56.203125 41.796875 56.203125 29.59375  z M 47.21875 32.234375  Q 47.125 39.59375 43.09375 43.984375  Q 39.0625 48.390625 32.421875 48.390625  Q 24.90625 48.390625 20.390625 44.140625  Q 15.875 39.890625 15.1875 32.171875  z \" id=\"DejaVuSans-101\" />\n     </defs>\n     <g style=\"fill:#444443;\" transform=\"translate(95.975687 61.171429)scale(0.12 -0.12)\">\n      <use xlink:href=\"#DejaVuSans-67\" />\n      <use x=\"69.824219\" xlink:href=\"#DejaVuSans-117\" />\n      <use x=\"133.203125\" xlink:href=\"#DejaVuSans-108\" />\n      <use x=\"160.986328\" xlink:href=\"#DejaVuSans-116\" />\n      <use x=\"200.195312\" xlink:href=\"#DejaVuSans-117\" />\n      <use x=\"263.574219\" xlink:href=\"#DejaVuSans-114\" />\n      <use x=\"304.65625\" xlink:href=\"#DejaVuSans-101\" />\n     </g>\n    </g>\n   </g>\n   <g id=\"matplotlib.axis_2\">\n    <g id=\"ytick_1\">\n     <g id=\"line2d_3\">\n      <path clip-path=\"url(#p1b15a1bbe3)\" d=\"M 14.59 30.810804  L 221.302 30.810804  \" style=\"fill:none;stroke:#ffffff;stroke-linecap:round;\" />\n     </g>\n     <g id=\"text_4\">\n      \n      <g style=\"fill:#444443;\" transform=\"translate(0 33.850179)scale(0.08 -0.08)\">\n       <use xlink:href=\"#DejaVuSans-48\" />\n      </g>\n     </g>\n    </g>\n    <g id=\"ytick_2\">\n     <g id=\"line2d_4\">\n      <path clip-path=\"url(#p1b15a1bbe3)\" d=\"M 14.59 3.039375  L 221.302 3.039375  \" style=\"fill:none;stroke:#ffffff;stroke-linecap:round;\" />\n     </g>\n     <g id=\"text_5\">\n      \n      <defs>\n       <path d=\"M 40.578125 39.3125  Q 47.65625 37.796875 51.625 33  Q 55.609375 28.21875 55.609375 21.1875  Q 55.609375 10.40625 48.1875 4.484375  Q 40.765625 -1.421875 27.09375 -1.421875  Q 22.515625 -1.421875 17.65625 -0.515625  Q 12.796875 0.390625 7.625 2.203125  L 7.625 11.71875  Q 11.71875 9.328125 16.59375 8.109375  Q 21.484375 6.890625 26.8125 6.890625  Q 36.078125 6.890625 40.9375 10.546875  Q 45.796875 14.203125 45.796875 21.1875  Q 45.796875 27.640625 41.28125 31.265625  Q 36.765625 34.90625 28.71875 34.90625  L 20.21875 34.90625  L 20.21875 43.015625  L 29.109375 43.015625  Q 36.375 43.015625 40.234375 45.921875  Q 44.09375 48.828125 44.09375 54.296875  Q 44.09375 59.90625 40.109375 62.90625  Q 36.140625 65.921875 28.71875 65.921875  Q 24.65625 65.921875 20.015625 65.03125  Q 15.375 64.15625 9.8125 62.3125  L 9.8125 71.09375  Q 15.4375 72.65625 20.34375 73.4375  Q 25.25 74.21875 29.59375 74.21875  Q 40.828125 74.21875 47.359375 69.109375  Q 53.90625 64.015625 53.90625 55.328125  Q 53.90625 49.265625 50.4375 45.09375  Q 46.96875 40.921875 40.578125 39.3125  z \" id=\"DejaVuSans-51\" />\n      </defs>\n      <g style=\"fill:#444443;\" transform=\"translate(0 6.07875)scale(0.08 -0.08)\">\n       <use xlink:href=\"#DejaVuSans-51\" />\n      </g>\n     </g>\n    </g>\n   </g>\n   <g id=\"patch_3\">\n    <path clip-path=\"url(#p1b15a1bbe3)\" d=\"M 72.029266 30.810804  L 77.712132 30.810804  L 77.712132 30.810804  L 72.029266 30.810804  z \" style=\"fill:#fefebb;stroke:#444443;stroke-linejoin:miter;stroke-width:0.5;\" />\n   </g>\n   <g id=\"patch_4\">\n    <path clip-path=\"url(#p1b15a1bbe3)\" d=\"M 77.712132 30.810804  L 83.394999 30.810804  L 83.394999 30.810804  L 77.712132 30.810804  z \" style=\"fill:#fefebb;stroke:#444443;stroke-linejoin:miter;stroke-width:0.5;\" />\n   </g>\n   <g id=\"patch_5\">\n    <path clip-path=\"url(#p1b15a1bbe3)\" d=\"M 83.394999 30.810804  L 89.077866 30.810804  L 89.077866 30.810804  L 83.394999 30.810804  z \" style=\"fill:#fefebb;stroke:#444443;stroke-linejoin:miter;stroke-width:0.5;\" />\n   </g>\n   <g id=\"patch_6\">\n    <path clip-path=\"url(#p1b15a1bbe3)\" d=\"M 89.077866 30.810804  L 94.760733 30.810804  L 94.760733 30.810804  L 89.077866 30.810804  z \" style=\"fill:#fefebb;stroke:#444443;stroke-linejoin:miter;stroke-width:0.5;\" />\n   </g>\n   <g id=\"patch_7\">\n    <path clip-path=\"url(#p1b15a1bbe3)\" d=\"M 94.760733 30.810804  L 100.4436 30.810804  L 100.4436 30.810804  L 94.760733 30.810804  z \" style=\"fill:#fefebb;stroke:#444443;stroke-linejoin:miter;stroke-width:0.5;\" />\n   </g>\n   <g id=\"patch_8\">\n    <path clip-path=\"url(#p1b15a1bbe3)\" d=\"M 100.4436 30.810804  L 106.126467 30.810804  L 106.126467 30.810804  L 100.4436 30.810804  z \" style=\"fill:#fefebb;stroke:#444443;stroke-linejoin:miter;stroke-width:0.5;\" />\n   </g>\n   <g id=\"patch_9\">\n    <path clip-path=\"url(#p1b15a1bbe3)\" d=\"M 106.126467 30.810804  L 111.809333 30.810804  L 111.809333 21.553661  L 106.126467 21.553661  z \" style=\"fill:#fefebb;stroke:#444443;stroke-linejoin:miter;stroke-width:0.5;\" />\n   </g>\n   <g id=\"patch_10\">\n    <path clip-path=\"url(#p1b15a1bbe3)\" d=\"M 111.809333 30.810804  L 117.4922 30.810804  L 117.4922 12.296518  L 111.809333 12.296518  z \" style=\"fill:#fefebb;stroke:#444443;stroke-linejoin:miter;stroke-width:0.5;\" />\n   </g>\n   <g id=\"patch_11\">\n    <path clip-path=\"url(#p1b15a1bbe3)\" d=\"M 117.4922 30.810804  L 123.175067 30.810804  L 123.175067 30.810804  L 117.4922 30.810804  z \" style=\"fill:#fefebb;stroke:#444443;stroke-linejoin:miter;stroke-width:0.5;\" />\n   </g>\n   <g id=\"patch_12\">\n    <path clip-path=\"url(#p1b15a1bbe3)\" d=\"M 123.175067 30.810804  L 128.857934 30.810804  L 128.857934 30.810804  L 123.175067 30.810804  z \" style=\"fill:#fefebb;stroke:#444443;stroke-linejoin:miter;stroke-width:0.5;\" />\n   </g>\n   <g id=\"patch_13\">\n    <path clip-path=\"url(#p1b15a1bbe3)\" d=\"M 128.857934 30.810804  L 134.540801 30.810804  L 134.540801 21.553661  L 128.857934 21.553661  z \" style=\"fill:#fefebb;stroke:#444443;stroke-linejoin:miter;stroke-width:0.5;\" />\n   </g>\n   <g id=\"patch_14\">\n    <path clip-path=\"url(#p1b15a1bbe3)\" d=\"M 134.540801 30.810804  L 140.223668 30.810804  L 140.223668 30.810804  L 134.540801 30.810804  z \" style=\"fill:#fefebb;stroke:#444443;stroke-linejoin:miter;stroke-width:0.5;\" />\n   </g>\n   <g id=\"patch_15\">\n    <path clip-path=\"url(#p1b15a1bbe3)\" d=\"M 140.223668 30.810804  L 145.906534 30.810804  L 145.906534 30.810804  L 140.223668 30.810804  z \" style=\"fill:#fefebb;stroke:#444443;stroke-linejoin:miter;stroke-width:0.5;\" />\n   </g>\n   <g id=\"patch_16\">\n    <path clip-path=\"url(#p1b15a1bbe3)\" d=\"M 145.906534 30.810804  L 151.589401 30.810804  L 151.589401 30.810804  L 145.906534 30.810804  z \" style=\"fill:#fefebb;stroke:#444443;stroke-linejoin:miter;stroke-width:0.5;\" />\n   </g>\n   <g id=\"patch_17\">\n    <path clip-path=\"url(#p1b15a1bbe3)\" d=\"M 151.589401 30.810804  L 157.272268 30.810804  L 157.272268 30.810804  L 151.589401 30.810804  z \" style=\"fill:#fefebb;stroke:#444443;stroke-linejoin:miter;stroke-width:0.5;\" />\n   </g>\n   <g id=\"patch_18\">\n    <path clip-path=\"url(#p1b15a1bbe3)\" d=\"M 157.272268 30.810804  L 162.955135 30.810804  L 162.955135 30.810804  L 157.272268 30.810804  z \" style=\"fill:#fefebb;stroke:#444443;stroke-linejoin:miter;stroke-width:0.5;\" />\n   </g>\n   <g id=\"patch_19\">\n    <path clip-path=\"url(#p1b15a1bbe3)\" d=\"M 162.955135 30.810804  L 168.638002 30.810804  L 168.638002 30.810804  L 162.955135 30.810804  z \" style=\"fill:#fefebb;stroke:#444443;stroke-linejoin:miter;stroke-width:0.5;\" />\n   </g>\n   <g id=\"patch_20\">\n    <path clip-path=\"url(#p1b15a1bbe3)\" d=\"M 168.638002 30.810804  L 174.320869 30.810804  L 174.320869 30.810804  L 168.638002 30.810804  z \" style=\"fill:#fefebb;stroke:#444443;stroke-linejoin:miter;stroke-width:0.5;\" />\n   </g>\n   <g id=\"patch_21\">\n    <path clip-path=\"url(#p1b15a1bbe3)\" d=\"M 174.320869 30.810804  L 180.003736 30.810804  L 180.003736 30.810804  L 174.320869 30.810804  z \" style=\"fill:#fefebb;stroke:#444443;stroke-linejoin:miter;stroke-width:0.5;\" />\n   </g>\n   <g id=\"patch_22\">\n    <path clip-path=\"url(#p1b15a1bbe3)\" d=\"M 72.029266 30.810804  L 77.712132 30.810804  L 77.712132 30.810804  L 72.029266 30.810804  z \" style=\"fill:#a1dab4;stroke:#444443;stroke-linejoin:miter;stroke-width:0.5;\" />\n   </g>\n   <g id=\"patch_23\">\n    <path clip-path=\"url(#p1b15a1bbe3)\" d=\"M 77.712132 30.810804  L 83.394999 30.810804  L 83.394999 30.810804  L 77.712132 30.810804  z \" style=\"fill:#a1dab4;stroke:#444443;stroke-linejoin:miter;stroke-width:0.5;\" />\n   </g>\n   <g id=\"patch_24\">\n    <path clip-path=\"url(#p1b15a1bbe3)\" d=\"M 83.394999 30.810804  L 89.077866 30.810804  L 89.077866 30.810804  L 83.394999 30.810804  z \" style=\"fill:#a1dab4;stroke:#444443;stroke-linejoin:miter;stroke-width:0.5;\" />\n   </g>\n   <g id=\"patch_25\">\n    <path clip-path=\"url(#p1b15a1bbe3)\" d=\"M 89.077866 30.810804  L 94.760733 30.810804  L 94.760733 30.810804  L 89.077866 30.810804  z \" style=\"fill:#a1dab4;stroke:#444443;stroke-linejoin:miter;stroke-width:0.5;\" />\n   </g>\n   <g id=\"patch_26\">\n    <path clip-path=\"url(#p1b15a1bbe3)\" d=\"M 94.760733 30.810804  L 100.4436 30.810804  L 100.4436 30.810804  L 94.760733 30.810804  z \" style=\"fill:#a1dab4;stroke:#444443;stroke-linejoin:miter;stroke-width:0.5;\" />\n   </g>\n   <g id=\"patch_27\">\n    <path clip-path=\"url(#p1b15a1bbe3)\" d=\"M 100.4436 30.810804  L 106.126467 30.810804  L 106.126467 21.553661  L 100.4436 21.553661  z \" style=\"fill:#a1dab4;stroke:#444443;stroke-linejoin:miter;stroke-width:0.5;\" />\n   </g>\n   <g id=\"patch_28\">\n    <path clip-path=\"url(#p1b15a1bbe3)\" d=\"M 106.126467 21.553661  L 111.809333 21.553661  L 111.809333 21.553661  L 106.126467 21.553661  z \" style=\"fill:#a1dab4;stroke:#444443;stroke-linejoin:miter;stroke-width:0.5;\" />\n   </g>\n   <g id=\"patch_29\">\n    <path clip-path=\"url(#p1b15a1bbe3)\" d=\"M 111.809333 12.296518  L 117.4922 12.296518  L 117.4922 3.039375  L 111.809333 3.039375  z \" style=\"fill:#a1dab4;stroke:#444443;stroke-linejoin:miter;stroke-width:0.5;\" />\n   </g>\n   <g id=\"patch_30\">\n    <path clip-path=\"url(#p1b15a1bbe3)\" d=\"M 117.4922 30.810804  L 123.175067 30.810804  L 123.175067 12.296518  L 117.4922 12.296518  z \" style=\"fill:#a1dab4;stroke:#444443;stroke-linejoin:miter;stroke-width:0.5;\" />\n   </g>\n   <g id=\"patch_31\">\n    <path clip-path=\"url(#p1b15a1bbe3)\" d=\"M 123.175067 30.810804  L 128.857934 30.810804  L 128.857934 30.810804  L 123.175067 30.810804  z \" style=\"fill:#a1dab4;stroke:#444443;stroke-linejoin:miter;stroke-width:0.5;\" />\n   </g>\n   <g id=\"patch_32\">\n    <path clip-path=\"url(#p1b15a1bbe3)\" d=\"M 128.857934 21.553661  L 134.540801 21.553661  L 134.540801 21.553661  L 128.857934 21.553661  z \" style=\"fill:#a1dab4;stroke:#444443;stroke-linejoin:miter;stroke-width:0.5;\" />\n   </g>\n   <g id=\"patch_33\">\n    <path clip-path=\"url(#p1b15a1bbe3)\" d=\"M 134.540801 30.810804  L 140.223668 30.810804  L 140.223668 21.553661  L 134.540801 21.553661  z \" style=\"fill:#a1dab4;stroke:#444443;stroke-linejoin:miter;stroke-width:0.5;\" />\n   </g>\n   <g id=\"patch_34\">\n    <path clip-path=\"url(#p1b15a1bbe3)\" d=\"M 140.223668 30.810804  L 145.906534 30.810804  L 145.906534 30.810804  L 140.223668 30.810804  z \" style=\"fill:#a1dab4;stroke:#444443;stroke-linejoin:miter;stroke-width:0.5;\" />\n   </g>\n   <g id=\"patch_35\">\n    <path clip-path=\"url(#p1b15a1bbe3)\" d=\"M 145.906534 30.810804  L 151.589401 30.810804  L 151.589401 30.810804  L 145.906534 30.810804  z \" style=\"fill:#a1dab4;stroke:#444443;stroke-linejoin:miter;stroke-width:0.5;\" />\n   </g>\n   <g id=\"patch_36\">\n    <path clip-path=\"url(#p1b15a1bbe3)\" d=\"M 151.589401 30.810804  L 157.272268 30.810804  L 157.272268 30.810804  L 151.589401 30.810804  z \" style=\"fill:#a1dab4;stroke:#444443;stroke-linejoin:miter;stroke-width:0.5;\" />\n   </g>\n   <g id=\"patch_37\">\n    <path clip-path=\"url(#p1b15a1bbe3)\" d=\"M 157.272268 30.810804  L 162.955135 30.810804  L 162.955135 30.810804  L 157.272268 30.810804  z \" style=\"fill:#a1dab4;stroke:#444443;stroke-linejoin:miter;stroke-width:0.5;\" />\n   </g>\n   <g id=\"patch_38\">\n    <path clip-path=\"url(#p1b15a1bbe3)\" d=\"M 162.955135 30.810804  L 168.638002 30.810804  L 168.638002 30.810804  L 162.955135 30.810804  z \" style=\"fill:#a1dab4;stroke:#444443;stroke-linejoin:miter;stroke-width:0.5;\" />\n   </g>\n   <g id=\"patch_39\">\n    <path clip-path=\"url(#p1b15a1bbe3)\" d=\"M 168.638002 30.810804  L 174.320869 30.810804  L 174.320869 30.810804  L 168.638002 30.810804  z \" style=\"fill:#a1dab4;stroke:#444443;stroke-linejoin:miter;stroke-width:0.5;\" />\n   </g>\n   <g id=\"patch_40\">\n    <path clip-path=\"url(#p1b15a1bbe3)\" d=\"M 174.320869 30.810804  L 180.003736 30.810804  L 180.003736 30.810804  L 174.320869 30.810804  z \" style=\"fill:#a1dab4;stroke:#444443;stroke-linejoin:miter;stroke-width:0.5;\" />\n   </g>\n   <g id=\"patch_41\">\n    <path d=\"M 117.347006 31.685604  L 113.62619 39.558804  L 121.067822 39.558804  z \" style=\"fill:#444443;stroke:#ffffff;stroke-linejoin:miter;\" />\n   </g>\n   <g id=\"patch_42\">\n    <path d=\"M 14.59 30.810804  L 14.59 1.650804  \" style=\"fill:none;stroke:#ffffff;stroke-linecap:square;stroke-linejoin:miter;stroke-width:0.3;\" />\n   </g>\n   <g id=\"patch_43\">\n    <path d=\"M 14.59 30.810804  L 221.302 30.810804  \" style=\"fill:none;stroke:#ffffff;stroke-linecap:square;stroke-linejoin:miter;stroke-width:0.3;\" />\n   </g>\n   <g id=\"text_6\">\n    \n    <defs>\n     <path d=\"M 33.015625 40.375  Q 26.375 40.375 22.484375 35.828125  Q 18.609375 31.296875 18.609375 23.390625  Q 18.609375 15.53125 22.484375 10.953125  Q 26.375 6.390625 33.015625 6.390625  Q 39.65625 6.390625 43.53125 10.953125  Q 47.40625 15.53125 47.40625 23.390625  Q 47.40625 31.296875 43.53125 35.828125  Q 39.65625 40.375 33.015625 40.375  z M 52.59375 71.296875  L 52.59375 62.3125  Q 48.875 64.0625 45.09375 64.984375  Q 41.3125 65.921875 37.59375 65.921875  Q 27.828125 65.921875 22.671875 59.328125  Q 17.53125 52.734375 16.796875 39.40625  Q 19.671875 43.65625 24.015625 45.921875  Q 28.375 48.1875 33.59375 48.1875  Q 44.578125 48.1875 50.953125 41.515625  Q 57.328125 34.859375 57.328125 23.390625  Q 57.328125 12.15625 50.6875 5.359375  Q 44.046875 -1.421875 33.015625 -1.421875  Q 20.359375 -1.421875 13.671875 8.265625  Q 6.984375 17.96875 6.984375 36.375  Q 6.984375 53.65625 15.1875 63.9375  Q 23.390625 74.21875 37.203125 74.21875  Q 40.921875 74.21875 44.703125 73.484375  Q 48.484375 72.75 52.59375 71.296875  z \" id=\"DejaVuSans-54\" />\n     <path d=\"M 10.796875 72.90625  L 49.515625 72.90625  L 49.515625 64.59375  L 19.828125 64.59375  L 19.828125 46.734375  Q 21.96875 47.46875 24.109375 47.828125  Q 26.265625 48.1875 28.421875 48.1875  Q 40.625 48.1875 47.75 41.5  Q 54.890625 34.8125 54.890625 23.390625  Q 54.890625 11.625 47.5625 5.09375  Q 40.234375 -1.421875 26.90625 -1.421875  Q 22.3125 -1.421875 17.546875 -0.640625  Q 12.796875 0.140625 7.71875 1.703125  L 7.71875 11.625  Q 12.109375 9.234375 16.796875 8.0625  Q 21.484375 6.890625 26.703125 6.890625  Q 35.15625 6.890625 40.078125 11.328125  Q 45.015625 15.765625 45.015625 23.390625  Q 45.015625 31 40.078125 35.4375  Q 35.15625 39.890625 26.703125 39.890625  Q 22.75 39.890625 18.8125 39.015625  Q 14.890625 38.140625 10.796875 36.28125  z \" id=\"DejaVuSans-53\" />\n    </defs>\n    <g style=\"fill:#444443;\" transform=\"translate(105.895756 48.306804)scale(0.08 -0.08)\">\n     <use xlink:href=\"#DejaVuSans-57\" />\n     <use x=\"63.623047\" xlink:href=\"#DejaVuSans-54\" />\n     <use x=\"127.246094\" xlink:href=\"#DejaVuSans-46\" />\n     <use x=\"159.033203\" xlink:href=\"#DejaVuSans-56\" />\n     <use x=\"222.65625\" xlink:href=\"#DejaVuSans-53\" />\n    </g>\n   </g>\n  </g>\n </g>\n <defs>\n  <clipPath id=\"p1b15a1bbe3\">\n   <rect height=\"29.16\" width=\"206.712\" x=\"14.59\" y=\"1.650804\" />\n  </clipPath>\n </defs>\n</svg></g>\n\n<g class=\"node\" id=\"node2\">\n<title>node7</title>\n<svg height=\"57px\" preserveAspectRatio=\"xMinYMin meet\" version=\"1.1\" viewBox=\"0 0 221.302 76.719625\" width=\"166px\" x=\"192\" y=\"-112.5\">\n <defs>\n  <style type=\"text/css\">\n*{stroke-linecap:butt;stroke-linejoin:round;}\n  </style>\n </defs>\n <g id=\"figure_1\">\n  <g id=\"patch_1\">\n   <path d=\"M 0 76.719625  L 221.302 76.719625  L 221.302 -0  L 0 -0  z \" style=\"fill:#f0f0f0;\" />\n  </g>\n  <g id=\"axes_1\">\n   <g id=\"patch_2\">\n    <path d=\"M 14.59 43.863375  L 221.302 43.863375  L 221.302 3.039375  L 14.59 3.039375  z \" style=\"fill:#eaeaf2;\" />\n   </g>\n   <g id=\"matplotlib.axis_1\">\n    <g id=\"xtick_1\">\n     <g id=\"line2d_1\">\n      <path clip-path=\"url(#p8211a7c547)\" d=\"M 72.029266 43.863375  L 72.029266 3.039375  \" style=\"fill:none;stroke:#ffffff;stroke-linecap:round;\" />\n     </g>\n     <g id=\"text_1\">\n      \n      <defs>\n       <path d=\"M 10.984375 1.515625  L 10.984375 10.5  Q 14.703125 8.734375 18.5 7.8125  Q 22.3125 6.890625 25.984375 6.890625  Q 35.75 6.890625 40.890625 13.453125  Q 46.046875 20.015625 46.78125 33.40625  Q 43.953125 29.203125 39.59375 26.953125  Q 35.25 24.703125 29.984375 24.703125  Q 19.046875 24.703125 12.671875 31.3125  Q 6.296875 37.9375 6.296875 49.421875  Q 6.296875 60.640625 12.9375 67.421875  Q 19.578125 74.21875 30.609375 74.21875  Q 43.265625 74.21875 49.921875 64.515625  Q 56.59375 54.828125 56.59375 36.375  Q 56.59375 19.140625 48.40625 8.859375  Q 40.234375 -1.421875 26.421875 -1.421875  Q 22.703125 -1.421875 18.890625 -0.6875  Q 15.09375 0.046875 10.984375 1.515625  z M 30.609375 32.421875  Q 37.25 32.421875 41.125 36.953125  Q 45.015625 41.5 45.015625 49.421875  Q 45.015625 57.28125 41.125 61.84375  Q 37.25 66.40625 30.609375 66.40625  Q 23.96875 66.40625 20.09375 61.84375  Q 16.21875 57.28125 16.21875 49.421875  Q 16.21875 41.5 20.09375 36.953125  Q 23.96875 32.421875 30.609375 32.421875  z \" id=\"DejaVuSans-57\" />\n       <path d=\"M 12.40625 8.296875  L 28.515625 8.296875  L 28.515625 63.921875  L 10.984375 60.40625  L 10.984375 69.390625  L 28.421875 72.90625  L 38.28125 72.90625  L 38.28125 8.296875  L 54.390625 8.296875  L 54.390625 0  L 12.40625 0  z \" id=\"DejaVuSans-49\" />\n       <path d=\"M 10.6875 12.40625  L 21 12.40625  L 21 0  L 10.6875 0  z \" id=\"DejaVuSans-46\" />\n      </defs>\n      <g style=\"fill:#444443;\" transform=\"translate(63.123016 59.442125)scale(0.08 -0.08)\">\n       <use xlink:href=\"#DejaVuSans-57\" />\n       <use x=\"63.623047\" xlink:href=\"#DejaVuSans-49\" />\n       <use x=\"127.246094\" xlink:href=\"#DejaVuSans-46\" />\n       <use x=\"159.033203\" xlink:href=\"#DejaVuSans-49\" />\n      </g>\n     </g>\n    </g>\n    <g id=\"xtick_2\">\n     <g id=\"line2d_2\">\n      <path clip-path=\"url(#p8211a7c547)\" d=\"M 180.003736 43.863375  L 180.003736 3.039375  \" style=\"fill:none;stroke:#ffffff;stroke-linecap:round;\" />\n     </g>\n     <g id=\"text_2\">\n      \n      <defs>\n       <path d=\"M 31.78125 66.40625  Q 24.171875 66.40625 20.328125 58.90625  Q 16.5 51.421875 16.5 36.375  Q 16.5 21.390625 20.328125 13.890625  Q 24.171875 6.390625 31.78125 6.390625  Q 39.453125 6.390625 43.28125 13.890625  Q 47.125 21.390625 47.125 36.375  Q 47.125 51.421875 43.28125 58.90625  Q 39.453125 66.40625 31.78125 66.40625  z M 31.78125 74.21875  Q 44.046875 74.21875 50.515625 64.515625  Q 56.984375 54.828125 56.984375 36.375  Q 56.984375 17.96875 50.515625 8.265625  Q 44.046875 -1.421875 31.78125 -1.421875  Q 19.53125 -1.421875 13.0625 8.265625  Q 6.59375 17.96875 6.59375 36.375  Q 6.59375 54.828125 13.0625 64.515625  Q 19.53125 74.21875 31.78125 74.21875  z \" id=\"DejaVuSans-48\" />\n       <path d=\"M 37.796875 64.3125  L 12.890625 25.390625  L 37.796875 25.390625  z M 35.203125 72.90625  L 47.609375 72.90625  L 47.609375 25.390625  L 58.015625 25.390625  L 58.015625 17.1875  L 47.609375 17.1875  L 47.609375 0  L 37.796875 0  L 37.796875 17.1875  L 4.890625 17.1875  L 4.890625 26.703125  z \" id=\"DejaVuSans-52\" />\n       <path d=\"M 31.78125 34.625  Q 24.75 34.625 20.71875 30.859375  Q 16.703125 27.09375 16.703125 20.515625  Q 16.703125 13.921875 20.71875 10.15625  Q 24.75 6.390625 31.78125 6.390625  Q 38.8125 6.390625 42.859375 10.171875  Q 46.921875 13.96875 46.921875 20.515625  Q 46.921875 27.09375 42.890625 30.859375  Q 38.875 34.625 31.78125 34.625  z M 21.921875 38.8125  Q 15.578125 40.375 12.03125 44.71875  Q 8.5 49.078125 8.5 55.328125  Q 8.5 64.0625 14.71875 69.140625  Q 20.953125 74.21875 31.78125 74.21875  Q 42.671875 74.21875 48.875 69.140625  Q 55.078125 64.0625 55.078125 55.328125  Q 55.078125 49.078125 51.53125 44.71875  Q 48 40.375 41.703125 38.8125  Q 48.828125 37.15625 52.796875 32.3125  Q 56.78125 27.484375 56.78125 20.515625  Q 56.78125 9.90625 50.3125 4.234375  Q 43.84375 -1.421875 31.78125 -1.421875  Q 19.734375 -1.421875 13.25 4.234375  Q 6.78125 9.90625 6.78125 20.515625  Q 6.78125 27.484375 10.78125 32.3125  Q 14.796875 37.15625 21.921875 38.8125  z M 18.3125 54.390625  Q 18.3125 48.734375 21.84375 45.5625  Q 25.390625 42.390625 31.78125 42.390625  Q 38.140625 42.390625 41.71875 45.5625  Q 45.3125 48.734375 45.3125 54.390625  Q 45.3125 60.0625 41.71875 63.234375  Q 38.140625 66.40625 31.78125 66.40625  Q 25.390625 66.40625 21.84375 63.234375  Q 18.3125 60.0625 18.3125 54.390625  z \" id=\"DejaVuSans-56\" />\n      </defs>\n      <g style=\"fill:#444443;\" transform=\"translate(168.552486 59.442125)scale(0.08 -0.08)\">\n       <use xlink:href=\"#DejaVuSans-49\" />\n       <use x=\"63.623047\" xlink:href=\"#DejaVuSans-48\" />\n       <use x=\"127.246094\" xlink:href=\"#DejaVuSans-52\" />\n       <use x=\"190.869141\" xlink:href=\"#DejaVuSans-46\" />\n       <use x=\"222.65625\" xlink:href=\"#DejaVuSans-56\" />\n      </g>\n     </g>\n    </g>\n    <g id=\"text_3\">\n     \n     <defs>\n      <path d=\"M 64.40625 67.28125  L 64.40625 56.890625  Q 59.421875 61.53125 53.78125 63.8125  Q 48.140625 66.109375 41.796875 66.109375  Q 29.296875 66.109375 22.65625 58.46875  Q 16.015625 50.828125 16.015625 36.375  Q 16.015625 21.96875 22.65625 14.328125  Q 29.296875 6.6875 41.796875 6.6875  Q 48.140625 6.6875 53.78125 8.984375  Q 59.421875 11.28125 64.40625 15.921875  L 64.40625 5.609375  Q 59.234375 2.09375 53.4375 0.328125  Q 47.65625 -1.421875 41.21875 -1.421875  Q 24.65625 -1.421875 15.125 8.703125  Q 5.609375 18.84375 5.609375 36.375  Q 5.609375 53.953125 15.125 64.078125  Q 24.65625 74.21875 41.21875 74.21875  Q 47.75 74.21875 53.53125 72.484375  Q 59.328125 70.75 64.40625 67.28125  z \" id=\"DejaVuSans-67\" />\n      <path d=\"M 8.5 21.578125  L 8.5 54.6875  L 17.484375 54.6875  L 17.484375 21.921875  Q 17.484375 14.15625 20.5 10.265625  Q 23.53125 6.390625 29.59375 6.390625  Q 36.859375 6.390625 41.078125 11.03125  Q 45.3125 15.671875 45.3125 23.6875  L 45.3125 54.6875  L 54.296875 54.6875  L 54.296875 0  L 45.3125 0  L 45.3125 8.40625  Q 42.046875 3.421875 37.71875 1  Q 33.40625 -1.421875 27.6875 -1.421875  Q 18.265625 -1.421875 13.375 4.4375  Q 8.5 10.296875 8.5 21.578125  z M 31.109375 56  z \" id=\"DejaVuSans-117\" />\n      <path d=\"M 9.421875 75.984375  L 18.40625 75.984375  L 18.40625 0  L 9.421875 0  z \" id=\"DejaVuSans-108\" />\n      <path d=\"M 18.3125 70.21875  L 18.3125 54.6875  L 36.8125 54.6875  L 36.8125 47.703125  L 18.3125 47.703125  L 18.3125 18.015625  Q 18.3125 11.328125 20.140625 9.421875  Q 21.96875 7.515625 27.59375 7.515625  L 36.8125 7.515625  L 36.8125 0  L 27.59375 0  Q 17.1875 0 13.234375 3.875  Q 9.28125 7.765625 9.28125 18.015625  L 9.28125 47.703125  L 2.6875 47.703125  L 2.6875 54.6875  L 9.28125 54.6875  L 9.28125 70.21875  z \" id=\"DejaVuSans-116\" />\n      <path d=\"M 41.109375 46.296875  Q 39.59375 47.171875 37.8125 47.578125  Q 36.03125 48 33.890625 48  Q 26.265625 48 22.1875 43.046875  Q 18.109375 38.09375 18.109375 28.8125  L 18.109375 0  L 9.078125 0  L 9.078125 54.6875  L 18.109375 54.6875  L 18.109375 46.1875  Q 20.953125 51.171875 25.484375 53.578125  Q 30.03125 56 36.53125 56  Q 37.453125 56 38.578125 55.875  Q 39.703125 55.765625 41.0625 55.515625  z \" id=\"DejaVuSans-114\" />\n      <path d=\"M 56.203125 29.59375  L 56.203125 25.203125  L 14.890625 25.203125  Q 15.484375 15.921875 20.484375 11.0625  Q 25.484375 6.203125 34.421875 6.203125  Q 39.59375 6.203125 44.453125 7.46875  Q 49.3125 8.734375 54.109375 11.28125  L 54.109375 2.78125  Q 49.265625 0.734375 44.1875 -0.34375  Q 39.109375 -1.421875 33.890625 -1.421875  Q 20.796875 -1.421875 13.15625 6.1875  Q 5.515625 13.8125 5.515625 26.8125  Q 5.515625 40.234375 12.765625 48.109375  Q 20.015625 56 32.328125 56  Q 43.359375 56 49.78125 48.890625  Q 56.203125 41.796875 56.203125 29.59375  z M 47.21875 32.234375  Q 47.125 39.59375 43.09375 43.984375  Q 39.0625 48.390625 32.421875 48.390625  Q 24.90625 48.390625 20.390625 44.140625  Q 15.875 39.890625 15.1875 32.171875  z \" id=\"DejaVuSans-101\" />\n     </defs>\n     <g style=\"fill:#444443;\" transform=\"translate(95.975687 74.224)scale(0.12 -0.12)\">\n      <use xlink:href=\"#DejaVuSans-67\" />\n      <use x=\"69.824219\" xlink:href=\"#DejaVuSans-117\" />\n      <use x=\"133.203125\" xlink:href=\"#DejaVuSans-108\" />\n      <use x=\"160.986328\" xlink:href=\"#DejaVuSans-116\" />\n      <use x=\"200.195312\" xlink:href=\"#DejaVuSans-117\" />\n      <use x=\"263.574219\" xlink:href=\"#DejaVuSans-114\" />\n      <use x=\"304.65625\" xlink:href=\"#DejaVuSans-101\" />\n     </g>\n    </g>\n   </g>\n   <g id=\"matplotlib.axis_2\">\n    <g id=\"ytick_1\">\n     <g id=\"line2d_3\">\n      <path clip-path=\"url(#p8211a7c547)\" d=\"M 14.59 43.863375  L 221.302 43.863375  \" style=\"fill:none;stroke:#ffffff;stroke-linecap:round;\" />\n     </g>\n     <g id=\"text_4\">\n      \n      <g style=\"fill:#444443;\" transform=\"translate(0 46.90275)scale(0.08 -0.08)\">\n       <use xlink:href=\"#DejaVuSans-48\" />\n      </g>\n     </g>\n    </g>\n    <g id=\"ytick_2\">\n     <g id=\"line2d_4\">\n      <path clip-path=\"url(#p8211a7c547)\" d=\"M 14.59 3.039375  L 221.302 3.039375  \" style=\"fill:none;stroke:#ffffff;stroke-linecap:round;\" />\n     </g>\n     <g id=\"text_5\">\n      \n      <defs>\n       <path d=\"M 10.796875 72.90625  L 49.515625 72.90625  L 49.515625 64.59375  L 19.828125 64.59375  L 19.828125 46.734375  Q 21.96875 47.46875 24.109375 47.828125  Q 26.265625 48.1875 28.421875 48.1875  Q 40.625 48.1875 47.75 41.5  Q 54.890625 34.8125 54.890625 23.390625  Q 54.890625 11.625 47.5625 5.09375  Q 40.234375 -1.421875 26.90625 -1.421875  Q 22.3125 -1.421875 17.546875 -0.640625  Q 12.796875 0.140625 7.71875 1.703125  L 7.71875 11.625  Q 12.109375 9.234375 16.796875 8.0625  Q 21.484375 6.890625 26.703125 6.890625  Q 35.15625 6.890625 40.078125 11.328125  Q 45.015625 15.765625 45.015625 23.390625  Q 45.015625 31 40.078125 35.4375  Q 35.15625 39.890625 26.703125 39.890625  Q 22.75 39.890625 18.8125 39.015625  Q 14.890625 38.140625 10.796875 36.28125  z \" id=\"DejaVuSans-53\" />\n      </defs>\n      <g style=\"fill:#444443;\" transform=\"translate(0 6.07875)scale(0.08 -0.08)\">\n       <use xlink:href=\"#DejaVuSans-53\" />\n      </g>\n     </g>\n    </g>\n   </g>\n   <g id=\"patch_3\">\n    <path clip-path=\"url(#p8211a7c547)\" d=\"M 72.029266 43.863375  L 77.712132 43.863375  L 77.712132 43.863375  L 72.029266 43.863375  z \" style=\"fill:#fefebb;stroke:#444443;stroke-linejoin:miter;stroke-width:0.5;\" />\n   </g>\n   <g id=\"patch_4\">\n    <path clip-path=\"url(#p8211a7c547)\" d=\"M 77.712132 43.863375  L 83.394999 43.863375  L 83.394999 35.698575  L 77.712132 35.698575  z \" style=\"fill:#fefebb;stroke:#444443;stroke-linejoin:miter;stroke-width:0.5;\" />\n   </g>\n   <g id=\"patch_5\">\n    <path clip-path=\"url(#p8211a7c547)\" d=\"M 83.394999 43.863375  L 89.077866 43.863375  L 89.077866 43.863375  L 83.394999 43.863375  z \" style=\"fill:#fefebb;stroke:#444443;stroke-linejoin:miter;stroke-width:0.5;\" />\n   </g>\n   <g id=\"patch_6\">\n    <path clip-path=\"url(#p8211a7c547)\" d=\"M 89.077866 43.863375  L 94.760733 43.863375  L 94.760733 43.863375  L 89.077866 43.863375  z \" style=\"fill:#fefebb;stroke:#444443;stroke-linejoin:miter;stroke-width:0.5;\" />\n   </g>\n   <g id=\"patch_7\">\n    <path clip-path=\"url(#p8211a7c547)\" d=\"M 94.760733 43.863375  L 100.4436 43.863375  L 100.4436 35.698575  L 94.760733 35.698575  z \" style=\"fill:#fefebb;stroke:#444443;stroke-linejoin:miter;stroke-width:0.5;\" />\n   </g>\n   <g id=\"patch_8\">\n    <path clip-path=\"url(#p8211a7c547)\" d=\"M 100.4436 43.863375  L 106.126467 43.863375  L 106.126467 35.698575  L 100.4436 35.698575  z \" style=\"fill:#fefebb;stroke:#444443;stroke-linejoin:miter;stroke-width:0.5;\" />\n   </g>\n   <g id=\"patch_9\">\n    <path clip-path=\"url(#p8211a7c547)\" d=\"M 106.126467 43.863375  L 111.809333 43.863375  L 111.809333 27.533775  L 106.126467 27.533775  z \" style=\"fill:#fefebb;stroke:#444443;stroke-linejoin:miter;stroke-width:0.5;\" />\n   </g>\n   <g id=\"patch_10\">\n    <path clip-path=\"url(#p8211a7c547)\" d=\"M 111.809333 43.863375  L 117.4922 43.863375  L 117.4922 3.039375  L 111.809333 3.039375  z \" style=\"fill:#fefebb;stroke:#444443;stroke-linejoin:miter;stroke-width:0.5;\" />\n   </g>\n   <g id=\"patch_11\">\n    <path clip-path=\"url(#p8211a7c547)\" d=\"M 117.4922 43.863375  L 123.175067 43.863375  L 123.175067 35.698575  L 117.4922 35.698575  z \" style=\"fill:#fefebb;stroke:#444443;stroke-linejoin:miter;stroke-width:0.5;\" />\n   </g>\n   <g id=\"patch_12\">\n    <path clip-path=\"url(#p8211a7c547)\" d=\"M 123.175067 43.863375  L 128.857934 43.863375  L 128.857934 35.698575  L 123.175067 35.698575  z \" style=\"fill:#fefebb;stroke:#444443;stroke-linejoin:miter;stroke-width:0.5;\" />\n   </g>\n   <g id=\"patch_13\">\n    <path clip-path=\"url(#p8211a7c547)\" d=\"M 128.857934 43.863375  L 134.540801 43.863375  L 134.540801 43.863375  L 128.857934 43.863375  z \" style=\"fill:#fefebb;stroke:#444443;stroke-linejoin:miter;stroke-width:0.5;\" />\n   </g>\n   <g id=\"patch_14\">\n    <path clip-path=\"url(#p8211a7c547)\" d=\"M 134.540801 43.863375  L 140.223668 43.863375  L 140.223668 43.863375  L 134.540801 43.863375  z \" style=\"fill:#fefebb;stroke:#444443;stroke-linejoin:miter;stroke-width:0.5;\" />\n   </g>\n   <g id=\"patch_15\">\n    <path clip-path=\"url(#p8211a7c547)\" d=\"M 140.223668 43.863375  L 145.906534 43.863375  L 145.906534 35.698575  L 140.223668 35.698575  z \" style=\"fill:#fefebb;stroke:#444443;stroke-linejoin:miter;stroke-width:0.5;\" />\n   </g>\n   <g id=\"patch_16\">\n    <path clip-path=\"url(#p8211a7c547)\" d=\"M 145.906534 43.863375  L 151.589401 43.863375  L 151.589401 43.863375  L 145.906534 43.863375  z \" style=\"fill:#fefebb;stroke:#444443;stroke-linejoin:miter;stroke-width:0.5;\" />\n   </g>\n   <g id=\"patch_17\">\n    <path clip-path=\"url(#p8211a7c547)\" d=\"M 151.589401 43.863375  L 157.272268 43.863375  L 157.272268 43.863375  L 151.589401 43.863375  z \" style=\"fill:#fefebb;stroke:#444443;stroke-linejoin:miter;stroke-width:0.5;\" />\n   </g>\n   <g id=\"patch_18\">\n    <path clip-path=\"url(#p8211a7c547)\" d=\"M 157.272268 43.863375  L 162.955135 43.863375  L 162.955135 43.863375  L 157.272268 43.863375  z \" style=\"fill:#fefebb;stroke:#444443;stroke-linejoin:miter;stroke-width:0.5;\" />\n   </g>\n   <g id=\"patch_19\">\n    <path clip-path=\"url(#p8211a7c547)\" d=\"M 162.955135 43.863375  L 168.638002 43.863375  L 168.638002 43.863375  L 162.955135 43.863375  z \" style=\"fill:#fefebb;stroke:#444443;stroke-linejoin:miter;stroke-width:0.5;\" />\n   </g>\n   <g id=\"patch_20\">\n    <path clip-path=\"url(#p8211a7c547)\" d=\"M 168.638002 43.863375  L 174.320869 43.863375  L 174.320869 43.863375  L 168.638002 43.863375  z \" style=\"fill:#fefebb;stroke:#444443;stroke-linejoin:miter;stroke-width:0.5;\" />\n   </g>\n   <g id=\"patch_21\">\n    <path clip-path=\"url(#p8211a7c547)\" d=\"M 174.320869 43.863375  L 180.003736 43.863375  L 180.003736 43.863375  L 174.320869 43.863375  z \" style=\"fill:#fefebb;stroke:#444443;stroke-linejoin:miter;stroke-width:0.5;\" />\n   </g>\n   <g id=\"patch_22\">\n    <path clip-path=\"url(#p8211a7c547)\" d=\"M 72.029266 43.863375  L 77.712132 43.863375  L 77.712132 43.863375  L 72.029266 43.863375  z \" style=\"fill:#a1dab4;stroke:#444443;stroke-linejoin:miter;stroke-width:0.5;\" />\n   </g>\n   <g id=\"patch_23\">\n    <path clip-path=\"url(#p8211a7c547)\" d=\"M 77.712132 35.698575  L 83.394999 35.698575  L 83.394999 35.698575  L 77.712132 35.698575  z \" style=\"fill:#a1dab4;stroke:#444443;stroke-linejoin:miter;stroke-width:0.5;\" />\n   </g>\n   <g id=\"patch_24\">\n    <path clip-path=\"url(#p8211a7c547)\" d=\"M 83.394999 43.863375  L 89.077866 43.863375  L 89.077866 43.863375  L 83.394999 43.863375  z \" style=\"fill:#a1dab4;stroke:#444443;stroke-linejoin:miter;stroke-width:0.5;\" />\n   </g>\n   <g id=\"patch_25\">\n    <path clip-path=\"url(#p8211a7c547)\" d=\"M 89.077866 43.863375  L 94.760733 43.863375  L 94.760733 43.863375  L 89.077866 43.863375  z \" style=\"fill:#a1dab4;stroke:#444443;stroke-linejoin:miter;stroke-width:0.5;\" />\n   </g>\n   <g id=\"patch_26\">\n    <path clip-path=\"url(#p8211a7c547)\" d=\"M 94.760733 35.698575  L 100.4436 35.698575  L 100.4436 35.698575  L 94.760733 35.698575  z \" style=\"fill:#a1dab4;stroke:#444443;stroke-linejoin:miter;stroke-width:0.5;\" />\n   </g>\n   <g id=\"patch_27\">\n    <path clip-path=\"url(#p8211a7c547)\" d=\"M 100.4436 35.698575  L 106.126467 35.698575  L 106.126467 35.698575  L 100.4436 35.698575  z \" style=\"fill:#a1dab4;stroke:#444443;stroke-linejoin:miter;stroke-width:0.5;\" />\n   </g>\n   <g id=\"patch_28\">\n    <path clip-path=\"url(#p8211a7c547)\" d=\"M 106.126467 27.533775  L 111.809333 27.533775  L 111.809333 19.368975  L 106.126467 19.368975  z \" style=\"fill:#a1dab4;stroke:#444443;stroke-linejoin:miter;stroke-width:0.5;\" />\n   </g>\n   <g id=\"patch_29\">\n    <path clip-path=\"url(#p8211a7c547)\" d=\"M 111.809333 3.039375  L 117.4922 3.039375  L 117.4922 3.039375  L 111.809333 3.039375  z \" style=\"fill:#a1dab4;stroke:#444443;stroke-linejoin:miter;stroke-width:0.5;\" />\n   </g>\n   <g id=\"patch_30\">\n    <path clip-path=\"url(#p8211a7c547)\" d=\"M 117.4922 35.698575  L 123.175067 35.698575  L 123.175067 35.698575  L 117.4922 35.698575  z \" style=\"fill:#a1dab4;stroke:#444443;stroke-linejoin:miter;stroke-width:0.5;\" />\n   </g>\n   <g id=\"patch_31\">\n    <path clip-path=\"url(#p8211a7c547)\" d=\"M 123.175067 35.698575  L 128.857934 35.698575  L 128.857934 35.698575  L 123.175067 35.698575  z \" style=\"fill:#a1dab4;stroke:#444443;stroke-linejoin:miter;stroke-width:0.5;\" />\n   </g>\n   <g id=\"patch_32\">\n    <path clip-path=\"url(#p8211a7c547)\" d=\"M 128.857934 43.863375  L 134.540801 43.863375  L 134.540801 43.863375  L 128.857934 43.863375  z \" style=\"fill:#a1dab4;stroke:#444443;stroke-linejoin:miter;stroke-width:0.5;\" />\n   </g>\n   <g id=\"patch_33\">\n    <path clip-path=\"url(#p8211a7c547)\" d=\"M 134.540801 43.863375  L 140.223668 43.863375  L 140.223668 35.698575  L 134.540801 35.698575  z \" style=\"fill:#a1dab4;stroke:#444443;stroke-linejoin:miter;stroke-width:0.5;\" />\n   </g>\n   <g id=\"patch_34\">\n    <path clip-path=\"url(#p8211a7c547)\" d=\"M 140.223668 35.698575  L 145.906534 35.698575  L 145.906534 35.698575  L 140.223668 35.698575  z \" style=\"fill:#a1dab4;stroke:#444443;stroke-linejoin:miter;stroke-width:0.5;\" />\n   </g>\n   <g id=\"patch_35\">\n    <path clip-path=\"url(#p8211a7c547)\" d=\"M 145.906534 43.863375  L 151.589401 43.863375  L 151.589401 43.863375  L 145.906534 43.863375  z \" style=\"fill:#a1dab4;stroke:#444443;stroke-linejoin:miter;stroke-width:0.5;\" />\n   </g>\n   <g id=\"patch_36\">\n    <path clip-path=\"url(#p8211a7c547)\" d=\"M 151.589401 43.863375  L 157.272268 43.863375  L 157.272268 43.863375  L 151.589401 43.863375  z \" style=\"fill:#a1dab4;stroke:#444443;stroke-linejoin:miter;stroke-width:0.5;\" />\n   </g>\n   <g id=\"patch_37\">\n    <path clip-path=\"url(#p8211a7c547)\" d=\"M 157.272268 43.863375  L 162.955135 43.863375  L 162.955135 43.863375  L 157.272268 43.863375  z \" style=\"fill:#a1dab4;stroke:#444443;stroke-linejoin:miter;stroke-width:0.5;\" />\n   </g>\n   <g id=\"patch_38\">\n    <path clip-path=\"url(#p8211a7c547)\" d=\"M 162.955135 43.863375  L 168.638002 43.863375  L 168.638002 43.863375  L 162.955135 43.863375  z \" style=\"fill:#a1dab4;stroke:#444443;stroke-linejoin:miter;stroke-width:0.5;\" />\n   </g>\n   <g id=\"patch_39\">\n    <path clip-path=\"url(#p8211a7c547)\" d=\"M 168.638002 43.863375  L 174.320869 43.863375  L 174.320869 43.863375  L 168.638002 43.863375  z \" style=\"fill:#a1dab4;stroke:#444443;stroke-linejoin:miter;stroke-width:0.5;\" />\n   </g>\n   <g id=\"patch_40\">\n    <path clip-path=\"url(#p8211a7c547)\" d=\"M 174.320869 43.863375  L 180.003736 43.863375  L 180.003736 43.863375  L 174.320869 43.863375  z \" style=\"fill:#a1dab4;stroke:#444443;stroke-linejoin:miter;stroke-width:0.5;\" />\n   </g>\n   <g id=\"patch_41\">\n    <path d=\"M 132.321579 44.738175  L 128.600763 52.611375  L 136.042395 52.611375  z \" style=\"fill:#444443;stroke:#ffffff;stroke-linejoin:miter;\" />\n   </g>\n   <g id=\"patch_42\">\n    <path d=\"M 14.59 43.863375  L 14.59 3.039375  \" style=\"fill:none;stroke:#ffffff;stroke-linecap:square;stroke-linejoin:miter;stroke-width:0.3;\" />\n   </g>\n   <g id=\"patch_43\">\n    <path d=\"M 14.59 43.863375  L 221.302 43.863375  \" style=\"fill:none;stroke:#ffffff;stroke-linecap:square;stroke-linejoin:miter;stroke-width:0.3;\" />\n   </g>\n   <g id=\"text_6\">\n    \n    <defs>\n     <path d=\"M 8.203125 72.90625  L 55.078125 72.90625  L 55.078125 68.703125  L 28.609375 0  L 18.3125 0  L 43.21875 64.59375  L 8.203125 64.59375  z \" id=\"DejaVuSans-55\" />\n    </defs>\n    <g style=\"fill:#444443;\" transform=\"translate(120.870329 61.359375)scale(0.08 -0.08)\">\n     <use xlink:href=\"#DejaVuSans-57\" />\n     <use x=\"63.623047\" xlink:href=\"#DejaVuSans-56\" />\n     <use x=\"127.246094\" xlink:href=\"#DejaVuSans-46\" />\n     <use x=\"159.033203\" xlink:href=\"#DejaVuSans-55\" />\n     <use x=\"222.65625\" xlink:href=\"#DejaVuSans-53\" />\n    </g>\n   </g>\n  </g>\n </g>\n <defs>\n  <clipPath id=\"p8211a7c547\">\n   <rect height=\"40.824\" width=\"206.712\" x=\"14.59\" y=\"3.039375\" />\n  </clipPath>\n </defs>\n</svg></g>\n\n\n<g class=\"node\" id=\"node6\">\n<title>leaf5</title>\n<polygon fill=\"none\" points=\"71,-31 49,-31 49,-4 71,-4 71,-31\" stroke=\"#444443\" stroke-width=\"0\" />\n<svg height=\"19px\" preserveAspectRatio=\"xMinYMin meet\" version=\"1.1\" viewBox=\"0 0 18.971719 25.658543\" width=\"14px\" x=\"53\" y=\"-26.5\">\n <defs>\n  <style type=\"text/css\">\n*{stroke-linecap:butt;stroke-linejoin:round;}\n  </style>\n </defs>\n <g id=\"figure_1\">\n  <g id=\"patch_1\">\n   <path d=\"M 0 25.658543  L 18.971719 25.658543  L 18.971719 0  L 0 0  z \" style=\"fill:#f0f0f0;\" />\n  </g>\n  <g id=\"axes_1\">\n   <g id=\"patch_2\">\n    <path d=\"M 17.585859 8.20023  C 17.585859 6.922028 17.283304 5.661794 16.703012 4.522907  C 16.122721 3.384021 15.281007 2.398501 14.24692 1.647193  C 13.212832 0.895884 12.015443 0.39991 10.752978 0.199955  C 9.490513 -0 8.198463 0.101687 6.982821 0.496673  C 5.767179 0.891659 4.662119 1.568841 3.758294 2.472666  C 2.854469 3.376491 2.177287 4.481551 1.782301 5.697194  C 1.387315 6.912836 1.285629 8.204885 1.485584 9.467351  C 1.685539 10.729816 2.181514 11.927205 2.932822 12.961292  L 9.485859 8.20023  L 17.585859 8.20023  z \" style=\"fill:#fefebb;stroke:#444443;stroke-linejoin:miter;stroke-width:0.5;\" />\n   </g>\n   <g id=\"patch_3\">\n    <path d=\"M 2.932822 12.961292  C 3.938104 14.344942 5.356244 15.375281 6.982823 15.903789  C 8.609402 16.432296 10.36232 16.432296 11.988898 15.903788  C 13.615477 15.37528 15.033617 14.344941 16.038898 12.96129  C 17.044179 11.577639 17.58586 9.910515 17.585859 8.200229  L 9.485859 8.20023  L 2.932822 12.961292  z \" style=\"fill:#a1dab4;stroke:#444443;stroke-linejoin:miter;stroke-width:0.5;\" />\n   </g>\n   <g id=\"text_1\">\n    \n    <defs>\n     <path d=\"M 54.890625 33.015625  L 54.890625 0  L 45.90625 0  L 45.90625 32.71875  Q 45.90625 40.484375 42.875 44.328125  Q 39.84375 48.1875 33.796875 48.1875  Q 26.515625 48.1875 22.3125 43.546875  Q 18.109375 38.921875 18.109375 30.90625  L 18.109375 0  L 9.078125 0  L 9.078125 54.6875  L 18.109375 54.6875  L 18.109375 46.1875  Q 21.34375 51.125 25.703125 53.5625  Q 30.078125 56 35.796875 56  Q 45.21875 56 50.046875 50.171875  Q 54.890625 44.34375 54.890625 33.015625  z \" id=\"DejaVuSans-110\" />\n     <path d=\"M 10.59375 45.40625  L 73.1875 45.40625  L 73.1875 37.203125  L 10.59375 37.203125  z M 10.59375 25.484375  L 73.1875 25.484375  L 73.1875 17.1875  L 10.59375 17.1875  z \" id=\"DejaVuSans-61\" />\n     <path d=\"M 10.796875 72.90625  L 49.515625 72.90625  L 49.515625 64.59375  L 19.828125 64.59375  L 19.828125 46.734375  Q 21.96875 47.46875 24.109375 47.828125  Q 26.265625 48.1875 28.421875 48.1875  Q 40.625 48.1875 47.75 41.5  Q 54.890625 34.8125 54.890625 23.390625  Q 54.890625 11.625 47.5625 5.09375  Q 40.234375 -1.421875 26.90625 -1.421875  Q 22.3125 -1.421875 17.546875 -0.640625  Q 12.796875 0.140625 7.71875 1.703125  L 7.71875 11.625  Q 12.109375 9.234375 16.796875 8.0625  Q 21.484375 6.890625 26.703125 6.890625  Q 35.15625 6.890625 40.078125 11.328125  Q 45.015625 15.765625 45.015625 23.390625  Q 45.015625 31 40.078125 35.4375  Q 35.15625 39.890625 26.703125 39.890625  Q 22.75 39.890625 18.8125 39.015625  Q 14.890625 38.140625 10.796875 36.28125  z \" id=\"DejaVuSans-53\" />\n    </defs>\n    <g style=\"fill:#444443;\" transform=\"translate(0 23.786824)scale(0.09 -0.09)\">\n     <use xlink:href=\"#DejaVuSans-110\" />\n     <use x=\"63.378906\" xlink:href=\"#DejaVuSans-61\" />\n     <use x=\"147.167969\" xlink:href=\"#DejaVuSans-53\" />\n    </g>\n   </g>\n  </g>\n </g>\n</svg></g>\n\n<g class=\"edge\" id=\"edge1\">\n<title>node4-&gt;leaf5</title>\n<path d=\"M75.706,-56.4742C72.7861,-49.2284 69.7247,-41.6315 67.0882,-35.0892\" fill=\"none\" stroke=\"#444443\" stroke-width=\".3\" />\n<polygon fill=\"#444443\" points=\"68.3003,-34.3513 65.5066,-31.1645 65.7032,-35.3979 68.3003,-34.3513\" stroke=\"#444443\" stroke-width=\".3\" />\n</g>\n\n<g class=\"node\" id=\"node7\">\n<title>leaf6</title>\n<polygon fill=\"none\" points=\"107,-30.5 85,-30.5 85,-4.5 107,-4.5 107,-30.5\" stroke=\"#444443\" stroke-width=\"0\" />\n<svg height=\"18px\" preserveAspectRatio=\"xMinYMin meet\" version=\"1.1\" viewBox=\"0 0 18.971719 24.210472\" width=\"14px\" x=\"89\" y=\"-26.5\">\n <defs>\n  <style type=\"text/css\">\n*{stroke-linecap:butt;stroke-linejoin:round;}\n  </style>\n </defs>\n <g id=\"figure_1\">\n  <g id=\"patch_1\">\n   <path d=\"M 0 24.210472  L 18.971719 24.210472  L 18.971719 0  L 0 0  z \" style=\"fill:#f0f0f0;\" />\n  </g>\n  <g id=\"axes_1\">\n   <g id=\"patch_2\">\n    <path d=\"M 16.937859 7.452  C 16.937859 5.476365 16.152204 3.579625 14.755219 2.18264  C 13.358234 0.785655 11.461495 0 9.485859 0  L 9.485859 7.452  L 16.937859 7.452  z \" style=\"fill:#fefebb;stroke:#444443;stroke-linejoin:miter;stroke-width:0.5;\" />\n   </g>\n   <g id=\"patch_3\">\n    <path d=\"M 9.485859 0  C 8.012169 0 6.571078 0.43715 5.34575 1.255888  C 4.120422 2.074627 3.165066 3.238731 2.601109 4.600243  C 2.037152 5.961755 1.889545 7.46044 2.177047 8.905813  C 2.46455 10.351186 3.174443 11.679304 4.2165 12.72136  C 5.258556 13.763416 6.586673 14.473309 8.032046 14.760812  C 9.47742 15.048315 10.976104 14.900707 12.337616 14.33675  C 13.699128 13.772794 14.863233 12.817438 15.681971 11.592109  C 16.500709 10.366781 16.937859 8.92569 16.937859 7.452  L 9.485859 7.452  L 9.485859 0  z \" style=\"fill:#a1dab4;stroke:#444443;stroke-linejoin:miter;stroke-width:0.5;\" />\n   </g>\n   <g id=\"text_1\">\n    \n    <defs>\n     <path d=\"M 54.890625 33.015625  L 54.890625 0  L 45.90625 0  L 45.90625 32.71875  Q 45.90625 40.484375 42.875 44.328125  Q 39.84375 48.1875 33.796875 48.1875  Q 26.515625 48.1875 22.3125 43.546875  Q 18.109375 38.921875 18.109375 30.90625  L 18.109375 0  L 9.078125 0  L 9.078125 54.6875  L 18.109375 54.6875  L 18.109375 46.1875  Q 21.34375 51.125 25.703125 53.5625  Q 30.078125 56 35.796875 56  Q 45.21875 56 50.046875 50.171875  Q 54.890625 44.34375 54.890625 33.015625  z \" id=\"DejaVuSans-110\" />\n     <path d=\"M 10.59375 45.40625  L 73.1875 45.40625  L 73.1875 37.203125  L 10.59375 37.203125  z M 10.59375 25.484375  L 73.1875 25.484375  L 73.1875 17.1875  L 10.59375 17.1875  z \" id=\"DejaVuSans-61\" />\n     <path d=\"M 37.796875 64.3125  L 12.890625 25.390625  L 37.796875 25.390625  z M 35.203125 72.90625  L 47.609375 72.90625  L 47.609375 25.390625  L 58.015625 25.390625  L 58.015625 17.1875  L 47.609375 17.1875  L 47.609375 0  L 37.796875 0  L 37.796875 17.1875  L 4.890625 17.1875  L 4.890625 26.703125  z \" id=\"DejaVuSans-52\" />\n    </defs>\n    <g style=\"fill:#444443;\" transform=\"translate(0 22.338754)scale(0.09 -0.09)\">\n     <use xlink:href=\"#DejaVuSans-110\" />\n     <use x=\"63.378906\" xlink:href=\"#DejaVuSans-61\" />\n     <use x=\"147.167969\" xlink:href=\"#DejaVuSans-52\" />\n    </g>\n   </g>\n  </g>\n </g>\n</svg></g>\n\n<g class=\"edge\" id=\"edge2\">\n<title>node4-&gt;leaf6</title>\n<path d=\"M90.7647,-56.4742C91.7353,-49.2486 92.7528,-41.6738 93.6299,-35.1438\" fill=\"none\" stroke=\"#444443\" stroke-width=\".3\" />\n<polygon fill=\"#444443\" points=\"95.0674,-34.9579 94.2125,-30.8071 92.2923,-34.5851 95.0674,-34.9579\" stroke=\"#444443\" stroke-width=\".3\" />\n</g>\n\n<g class=\"node\" id=\"node8\">\n<title>leaf8</title>\n<polygon fill=\"none\" points=\"270,-35 242,-35 242,0 270,0 270,-35\" stroke=\"#444443\" stroke-width=\"0\" />\n<svg height=\"27px\" preserveAspectRatio=\"xMinYMin meet\" version=\"1.1\" viewBox=\"0 0 26.665148 36.43818\" width=\"20px\" x=\"246\" y=\"-30.5\">\n <defs>\n  <style type=\"text/css\">\n*{stroke-linecap:butt;stroke-linejoin:round;}\n  </style>\n </defs>\n <g id=\"figure_1\">\n  <g id=\"patch_1\">\n   <path d=\"M 0 36.43818  L 26.665148 36.43818  L 26.665148 0  L 0 0  z \" style=\"fill:#f0f0f0;\" />\n  </g>\n  <g id=\"axes_1\">\n   <g id=\"patch_2\">\n    <path d=\"M 26.665148 13.381148  C 26.665148 11.771654 26.372638 10.175479 25.801903 8.670576  C 25.231169 7.165674 24.391656 5.776949 23.324364 4.572226  C 22.257073 3.367503 20.979666 2.366719 19.55453 1.61875  C 18.129395 0.870781 16.580115 0.388006 14.982357 0.194003  C 13.384599 0 11.764803 0.09798 10.202078 0.483157  C 8.639354 0.868334 7.159563 1.534334 5.834975 2.44863  C 4.510388 3.362927 3.362926 4.510389 2.44863 5.834976  C 1.534333 7.159563 0.868333 8.639354 0.483157 10.202079  C 0.09798 11.764803 0 13.384599 0.194003 14.982357  C 0.388006 16.580115 0.870781 18.129395 1.61875 19.55453  C 2.366719 20.979666 3.367503 22.257073 4.572226 23.324365  C 5.77695 24.391656 7.165674 25.231169 8.670577 25.801904  C 10.175479 26.372638 11.771655 26.665148 13.381148 26.665148  C 14.990641 26.665148 16.586817 26.372638 18.091719 25.801903  C 19.596622 25.231169 20.985346 24.391656 22.190069 23.324364  C 23.394792 22.257073 24.395577 20.979666 25.143546 19.55453  L 13.381148 13.381148  L 26.665148 13.381148  z \" style=\"fill:#fefebb;stroke:#444443;stroke-linejoin:miter;stroke-width:0.5;\" />\n   </g>\n   <g id=\"patch_3\">\n    <path d=\"M 25.143546 19.55453  C 25.641438 18.605874 26.022742 17.600459 26.279139 16.560216  C 26.535536 15.519974 26.665148 14.452522 26.665148 13.381147  L 13.381148 13.381148  L 25.143546 19.55453  z \" style=\"fill:#a1dab4;stroke:#444443;stroke-linejoin:miter;stroke-width:0.5;\" />\n   </g>\n   <g id=\"text_1\">\n    \n    <defs>\n     <path d=\"M 54.890625 33.015625  L 54.890625 0  L 45.90625 0  L 45.90625 32.71875  Q 45.90625 40.484375 42.875 44.328125  Q 39.84375 48.1875 33.796875 48.1875  Q 26.515625 48.1875 22.3125 43.546875  Q 18.109375 38.921875 18.109375 30.90625  L 18.109375 0  L 9.078125 0  L 9.078125 54.6875  L 18.109375 54.6875  L 18.109375 46.1875  Q 21.34375 51.125 25.703125 53.5625  Q 30.078125 56 35.796875 56  Q 45.21875 56 50.046875 50.171875  Q 54.890625 44.34375 54.890625 33.015625  z \" id=\"DejaVuSans-110\" />\n     <path d=\"M 10.59375 45.40625  L 73.1875 45.40625  L 73.1875 37.203125  L 10.59375 37.203125  z M 10.59375 25.484375  L 73.1875 25.484375  L 73.1875 17.1875  L 10.59375 17.1875  z \" id=\"DejaVuSans-61\" />\n     <path d=\"M 12.40625 8.296875  L 28.515625 8.296875  L 28.515625 63.921875  L 10.984375 60.40625  L 10.984375 69.390625  L 28.421875 72.90625  L 38.28125 72.90625  L 38.28125 8.296875  L 54.390625 8.296875  L 54.390625 0  L 12.40625 0  z \" id=\"DejaVuSans-49\" />\n     <path d=\"M 40.578125 39.3125  Q 47.65625 37.796875 51.625 33  Q 55.609375 28.21875 55.609375 21.1875  Q 55.609375 10.40625 48.1875 4.484375  Q 40.765625 -1.421875 27.09375 -1.421875  Q 22.515625 -1.421875 17.65625 -0.515625  Q 12.796875 0.390625 7.625 2.203125  L 7.625 11.71875  Q 11.71875 9.328125 16.59375 8.109375  Q 21.484375 6.890625 26.8125 6.890625  Q 36.078125 6.890625 40.9375 10.546875  Q 45.796875 14.203125 45.796875 21.1875  Q 45.796875 27.640625 41.28125 31.265625  Q 36.765625 34.90625 28.71875 34.90625  L 20.21875 34.90625  L 20.21875 43.015625  L 29.109375 43.015625  Q 36.375 43.015625 40.234375 45.921875  Q 44.09375 48.828125 44.09375 54.296875  Q 44.09375 59.90625 40.109375 62.90625  Q 36.140625 65.921875 28.71875 65.921875  Q 24.65625 65.921875 20.015625 65.03125  Q 15.375 64.15625 9.8125 62.3125  L 9.8125 71.09375  Q 15.4375 72.65625 20.34375 73.4375  Q 25.25 74.21875 29.59375 74.21875  Q 40.828125 74.21875 47.359375 69.109375  Q 53.90625 64.015625 53.90625 55.328125  Q 53.90625 49.265625 50.4375 45.09375  Q 46.96875 40.921875 40.578125 39.3125  z \" id=\"DejaVuSans-51\" />\n    </defs>\n    <g style=\"fill:#444443;\" transform=\"translate(1.032163 34.566461)scale(0.09 -0.09)\">\n     <use xlink:href=\"#DejaVuSans-110\" />\n     <use x=\"63.378906\" xlink:href=\"#DejaVuSans-61\" />\n     <use x=\"147.167969\" xlink:href=\"#DejaVuSans-49\" />\n     <use x=\"210.791016\" xlink:href=\"#DejaVuSans-51\" />\n    </g>\n   </g>\n  </g>\n </g>\n</svg></g>\n\n<g class=\"edge\" id=\"edge4\">\n<title>node7-&gt;leaf8</title>\n<path d=\"M265.7226,-51.7851C264.5075,-47.5 263.2874,-43.1977 262.1421,-39.159\" fill=\"none\" stroke=\"#444443\" stroke-width=\".3\" />\n<polygon fill=\"#444443\" points=\"263.4629,-38.6848 261.0247,-35.2185 260.7691,-39.4488 263.4629,-38.6848\" stroke=\"#444443\" stroke-width=\".3\" />\n</g>\n\n<g class=\"node\" id=\"node9\">\n<title>leaf9</title>\n<polygon fill=\"none\" points=\"306,-29.5 284,-29.5 284,-5.5 306,-5.5 306,-29.5\" stroke=\"#444443\" stroke-width=\"0\" />\n<svg height=\"16px\" preserveAspectRatio=\"xMinYMin meet\" version=\"1.1\" viewBox=\"0 0 18.971719 21.514792\" width=\"14px\" x=\"288\" y=\"-25.5\">\n <defs>\n  <style type=\"text/css\">\n*{stroke-linecap:butt;stroke-linejoin:round;}\n  </style>\n </defs>\n <g id=\"figure_1\">\n  <g id=\"patch_1\">\n   <path d=\"M -0 21.514792  L 18.971719 21.514792  L 18.971719 0  L -0 0  z \" style=\"fill:#f0f0f0;\" />\n  </g>\n  <g id=\"axes_1\">\n   <g id=\"patch_2\">\n    <path d=\"M 15.641859 6.156  C 15.641859 4.523953 14.99284 2.957082 13.838809 1.803051  C 12.684778 0.649019 11.117906 0 9.485859 0  C 7.853813 0 6.286941 0.649019 5.13291 1.803051  C 3.978879 2.957082 3.329859 4.523953 3.329859 6.156  L 9.485859 6.156  L 15.641859 6.156  z \" style=\"fill:#fefebb;stroke:#444443;stroke-linejoin:miter;stroke-width:0.5;\" />\n   </g>\n   <g id=\"patch_3\">\n    <path d=\"M 3.329859 6.156  C 3.329859 7.788047 3.978879 9.354918 5.13291 10.508949  C 6.286941 11.662981 7.853813 12.312 9.485859 12.312  C 11.117906 12.312 12.684778 11.662981 13.838809 10.508949  C 14.99284 9.354918 15.641859 7.788047 15.641859 6.156  L 9.485859 6.156  L 3.329859 6.156  z \" style=\"fill:#a1dab4;stroke:#444443;stroke-linejoin:miter;stroke-width:0.5;\" />\n   </g>\n   <g id=\"text_1\">\n    \n    <defs>\n     <path d=\"M 54.890625 33.015625  L 54.890625 0  L 45.90625 0  L 45.90625 32.71875  Q 45.90625 40.484375 42.875 44.328125  Q 39.84375 48.1875 33.796875 48.1875  Q 26.515625 48.1875 22.3125 43.546875  Q 18.109375 38.921875 18.109375 30.90625  L 18.109375 0  L 9.078125 0  L 9.078125 54.6875  L 18.109375 54.6875  L 18.109375 46.1875  Q 21.34375 51.125 25.703125 53.5625  Q 30.078125 56 35.796875 56  Q 45.21875 56 50.046875 50.171875  Q 54.890625 44.34375 54.890625 33.015625  z \" id=\"DejaVuSans-110\" />\n     <path d=\"M 10.59375 45.40625  L 73.1875 45.40625  L 73.1875 37.203125  L 10.59375 37.203125  z M 10.59375 25.484375  L 73.1875 25.484375  L 73.1875 17.1875  L 10.59375 17.1875  z \" id=\"DejaVuSans-61\" />\n     <path d=\"M 19.1875 8.296875  L 53.609375 8.296875  L 53.609375 0  L 7.328125 0  L 7.328125 8.296875  Q 12.9375 14.109375 22.625 23.890625  Q 32.328125 33.6875 34.8125 36.53125  Q 39.546875 41.84375 41.421875 45.53125  Q 43.3125 49.21875 43.3125 52.78125  Q 43.3125 58.59375 39.234375 62.25  Q 35.15625 65.921875 28.609375 65.921875  Q 23.96875 65.921875 18.8125 64.3125  Q 13.671875 62.703125 7.8125 59.421875  L 7.8125 69.390625  Q 13.765625 71.78125 18.9375 73  Q 24.125 74.21875 28.421875 74.21875  Q 39.75 74.21875 46.484375 68.546875  Q 53.21875 62.890625 53.21875 53.421875  Q 53.21875 48.921875 51.53125 44.890625  Q 49.859375 40.875 45.40625 35.40625  Q 44.1875 33.984375 37.640625 27.21875  Q 31.109375 20.453125 19.1875 8.296875  z \" id=\"DejaVuSans-50\" />\n    </defs>\n    <g style=\"fill:#444443;\" transform=\"translate(0 19.643074)scale(0.09 -0.09)\">\n     <use xlink:href=\"#DejaVuSans-110\" />\n     <use x=\"63.378906\" xlink:href=\"#DejaVuSans-61\" />\n     <use x=\"147.167969\" xlink:href=\"#DejaVuSans-50\" />\n    </g>\n   </g>\n  </g>\n </g>\n</svg></g>\n\n<g class=\"edge\" id=\"edge5\">\n<title>node7-&gt;leaf9</title>\n<path d=\"M284.7656,-51.7851C286.6304,-45.5381 288.5061,-39.2546 290.133,-33.8043\" fill=\"none\" stroke=\"#444443\" stroke-width=\".3\" />\n<polygon fill=\"#444443\" points=\"291.5217,-34.0466 291.3244,-29.8132 288.8387,-33.2456 291.5217,-34.0466\" stroke=\"#444443\" stroke-width=\".3\" />\n</g>\n\n<g class=\"node\" id=\"node3\">\n<title>node3</title>\n<svg height=\"64px\" preserveAspectRatio=\"xMinYMin meet\" version=\"1.1\" viewBox=\"0 0 221.302 85.884196\" width=\"166px\" x=\"120\" y=\"-202\">\n <defs>\n  <style type=\"text/css\">\n*{stroke-linecap:butt;stroke-linejoin:round;}\n  </style>\n </defs>\n <g id=\"figure_1\">\n  <g id=\"patch_1\">\n   <path d=\"M 0 85.884196  L 221.302 85.884196  L 221.302 0  L 0 0  z \" style=\"fill:#f0f0f0;\" />\n  </g>\n  <g id=\"axes_1\">\n   <g id=\"patch_2\">\n    <path d=\"M 14.59 53.027946  L 221.302 53.027946  L 221.302 0.539946  L 14.59 0.539946  z \" style=\"fill:#eaeaf2;\" />\n   </g>\n   <g id=\"matplotlib.axis_1\">\n    <g id=\"xtick_1\">\n     <g id=\"line2d_1\">\n      <path clip-path=\"url(#pb4be0e9a85)\" d=\"M 98.948933 53.027946  L 98.948933 0.539946  \" style=\"fill:none;stroke:#ffffff;stroke-linecap:round;\" />\n     </g>\n     <g id=\"text_1\">\n      \n      <defs>\n       <path d=\"M 10.984375 1.515625  L 10.984375 10.5  Q 14.703125 8.734375 18.5 7.8125  Q 22.3125 6.890625 25.984375 6.890625  Q 35.75 6.890625 40.890625 13.453125  Q 46.046875 20.015625 46.78125 33.40625  Q 43.953125 29.203125 39.59375 26.953125  Q 35.25 24.703125 29.984375 24.703125  Q 19.046875 24.703125 12.671875 31.3125  Q 6.296875 37.9375 6.296875 49.421875  Q 6.296875 60.640625 12.9375 67.421875  Q 19.578125 74.21875 30.609375 74.21875  Q 43.265625 74.21875 49.921875 64.515625  Q 56.59375 54.828125 56.59375 36.375  Q 56.59375 19.140625 48.40625 8.859375  Q 40.234375 -1.421875 26.421875 -1.421875  Q 22.703125 -1.421875 18.890625 -0.6875  Q 15.09375 0.046875 10.984375 1.515625  z M 30.609375 32.421875  Q 37.25 32.421875 41.125 36.953125  Q 45.015625 41.5 45.015625 49.421875  Q 45.015625 57.28125 41.125 61.84375  Q 37.25 66.40625 30.609375 66.40625  Q 23.96875 66.40625 20.09375 61.84375  Q 16.21875 57.28125 16.21875 49.421875  Q 16.21875 41.5 20.09375 36.953125  Q 23.96875 32.421875 30.609375 32.421875  z \" id=\"DejaVuSans-57\" />\n       <path d=\"M 8.203125 72.90625  L 55.078125 72.90625  L 55.078125 68.703125  L 28.609375 0  L 18.3125 0  L 43.21875 64.59375  L 8.203125 64.59375  z \" id=\"DejaVuSans-55\" />\n       <path d=\"M 10.6875 12.40625  L 21 12.40625  L 21 0  L 10.6875 0  z \" id=\"DejaVuSans-46\" />\n       <path d=\"M 31.78125 66.40625  Q 24.171875 66.40625 20.328125 58.90625  Q 16.5 51.421875 16.5 36.375  Q 16.5 21.390625 20.328125 13.890625  Q 24.171875 6.390625 31.78125 6.390625  Q 39.453125 6.390625 43.28125 13.890625  Q 47.125 21.390625 47.125 36.375  Q 47.125 51.421875 43.28125 58.90625  Q 39.453125 66.40625 31.78125 66.40625  z M 31.78125 74.21875  Q 44.046875 74.21875 50.515625 64.515625  Q 56.984375 54.828125 56.984375 36.375  Q 56.984375 17.96875 50.515625 8.265625  Q 44.046875 -1.421875 31.78125 -1.421875  Q 19.53125 -1.421875 13.0625 8.265625  Q 6.59375 17.96875 6.59375 36.375  Q 6.59375 54.828125 13.0625 64.515625  Q 19.53125 74.21875 31.78125 74.21875  z \" id=\"DejaVuSans-48\" />\n      </defs>\n      <g style=\"fill:#444443;\" transform=\"translate(90.042683 68.606696)scale(0.08 -0.08)\">\n       <use xlink:href=\"#DejaVuSans-57\" />\n       <use x=\"63.623047\" xlink:href=\"#DejaVuSans-55\" />\n       <use x=\"127.246094\" xlink:href=\"#DejaVuSans-46\" />\n       <use x=\"159.033203\" xlink:href=\"#DejaVuSans-48\" />\n      </g>\n     </g>\n    </g>\n    <g id=\"xtick_2\">\n     <g id=\"line2d_2\">\n      <path clip-path=\"url(#pb4be0e9a85)\" d=\"M 165.262013 53.027946  L 165.262013 0.539946  \" style=\"fill:none;stroke:#ffffff;stroke-linecap:round;\" />\n     </g>\n     <g id=\"text_2\">\n      \n      <defs>\n       <path d=\"M 12.40625 8.296875  L 28.515625 8.296875  L 28.515625 63.921875  L 10.984375 60.40625  L 10.984375 69.390625  L 28.421875 72.90625  L 38.28125 72.90625  L 38.28125 8.296875  L 54.390625 8.296875  L 54.390625 0  L 12.40625 0  z \" id=\"DejaVuSans-49\" />\n       <path d=\"M 40.578125 39.3125  Q 47.65625 37.796875 51.625 33  Q 55.609375 28.21875 55.609375 21.1875  Q 55.609375 10.40625 48.1875 4.484375  Q 40.765625 -1.421875 27.09375 -1.421875  Q 22.515625 -1.421875 17.65625 -0.515625  Q 12.796875 0.390625 7.625 2.203125  L 7.625 11.71875  Q 11.71875 9.328125 16.59375 8.109375  Q 21.484375 6.890625 26.8125 6.890625  Q 36.078125 6.890625 40.9375 10.546875  Q 45.796875 14.203125 45.796875 21.1875  Q 45.796875 27.640625 41.28125 31.265625  Q 36.765625 34.90625 28.71875 34.90625  L 20.21875 34.90625  L 20.21875 43.015625  L 29.109375 43.015625  Q 36.375 43.015625 40.234375 45.921875  Q 44.09375 48.828125 44.09375 54.296875  Q 44.09375 59.90625 40.109375 62.90625  Q 36.140625 65.921875 28.71875 65.921875  Q 24.65625 65.921875 20.015625 65.03125  Q 15.375 64.15625 9.8125 62.3125  L 9.8125 71.09375  Q 15.4375 72.65625 20.34375 73.4375  Q 25.25 74.21875 29.59375 74.21875  Q 40.828125 74.21875 47.359375 69.109375  Q 53.90625 64.015625 53.90625 55.328125  Q 53.90625 49.265625 50.4375 45.09375  Q 46.96875 40.921875 40.578125 39.3125  z \" id=\"DejaVuSans-51\" />\n      </defs>\n      <g style=\"fill:#444443;\" transform=\"translate(153.810763 68.606696)scale(0.08 -0.08)\">\n       <use xlink:href=\"#DejaVuSans-49\" />\n       <use x=\"63.623047\" xlink:href=\"#DejaVuSans-48\" />\n       <use x=\"127.246094\" xlink:href=\"#DejaVuSans-51\" />\n       <use x=\"190.869141\" xlink:href=\"#DejaVuSans-46\" />\n       <use x=\"222.65625\" xlink:href=\"#DejaVuSans-49\" />\n      </g>\n     </g>\n    </g>\n    <g id=\"text_3\">\n     \n     <defs>\n      <path d=\"M 9.8125 72.90625  L 24.515625 72.90625  L 43.109375 23.296875  L 61.8125 72.90625  L 76.515625 72.90625  L 76.515625 0  L 66.890625 0  L 66.890625 64.015625  L 48.09375 14.015625  L 38.1875 14.015625  L 19.390625 64.015625  L 19.390625 0  L 9.8125 0  z \" id=\"DejaVuSans-77\" />\n      <path d=\"M 56.203125 29.59375  L 56.203125 25.203125  L 14.890625 25.203125  Q 15.484375 15.921875 20.484375 11.0625  Q 25.484375 6.203125 34.421875 6.203125  Q 39.59375 6.203125 44.453125 7.46875  Q 49.3125 8.734375 54.109375 11.28125  L 54.109375 2.78125  Q 49.265625 0.734375 44.1875 -0.34375  Q 39.109375 -1.421875 33.890625 -1.421875  Q 20.796875 -1.421875 13.15625 6.1875  Q 5.515625 13.8125 5.515625 26.8125  Q 5.515625 40.234375 12.765625 48.109375  Q 20.015625 56 32.328125 56  Q 43.359375 56 49.78125 48.890625  Q 56.203125 41.796875 56.203125 29.59375  z M 47.21875 32.234375  Q 47.125 39.59375 43.09375 43.984375  Q 39.0625 48.390625 32.421875 48.390625  Q 24.90625 48.390625 20.390625 44.140625  Q 15.875 39.890625 15.1875 32.171875  z \" id=\"DejaVuSans-101\" />\n      <path d=\"M 45.40625 46.390625  L 45.40625 75.984375  L 54.390625 75.984375  L 54.390625 0  L 45.40625 0  L 45.40625 8.203125  Q 42.578125 3.328125 38.25 0.953125  Q 33.9375 -1.421875 27.875 -1.421875  Q 17.96875 -1.421875 11.734375 6.484375  Q 5.515625 14.40625 5.515625 27.296875  Q 5.515625 40.1875 11.734375 48.09375  Q 17.96875 56 27.875 56  Q 33.9375 56 38.25 53.625  Q 42.578125 51.265625 45.40625 46.390625  z M 14.796875 27.296875  Q 14.796875 17.390625 18.875 11.75  Q 22.953125 6.109375 30.078125 6.109375  Q 37.203125 6.109375 41.296875 11.75  Q 45.40625 17.390625 45.40625 27.296875  Q 45.40625 37.203125 41.296875 42.84375  Q 37.203125 48.484375 30.078125 48.484375  Q 22.953125 48.484375 18.875 42.84375  Q 14.796875 37.203125 14.796875 27.296875  z \" id=\"DejaVuSans-100\" />\n      <path d=\"M 9.421875 54.6875  L 18.40625 54.6875  L 18.40625 0  L 9.421875 0  z M 9.421875 75.984375  L 18.40625 75.984375  L 18.40625 64.59375  L 9.421875 64.59375  z \" id=\"DejaVuSans-105\" />\n      <path d=\"M 48.78125 52.59375  L 48.78125 44.1875  Q 44.96875 46.296875 41.140625 47.34375  Q 37.3125 48.390625 33.40625 48.390625  Q 24.65625 48.390625 19.8125 42.84375  Q 14.984375 37.3125 14.984375 27.296875  Q 14.984375 17.28125 19.8125 11.734375  Q 24.65625 6.203125 33.40625 6.203125  Q 37.3125 6.203125 41.140625 7.25  Q 44.96875 8.296875 48.78125 10.40625  L 48.78125 2.09375  Q 45.015625 0.34375 40.984375 -0.53125  Q 36.96875 -1.421875 32.421875 -1.421875  Q 20.0625 -1.421875 12.78125 6.34375  Q 5.515625 14.109375 5.515625 27.296875  Q 5.515625 40.671875 12.859375 48.328125  Q 20.21875 56 33.015625 56  Q 37.15625 56 41.109375 55.140625  Q 45.0625 54.296875 48.78125 52.59375  z \" id=\"DejaVuSans-99\" />\n      <path d=\"M 34.28125 27.484375  Q 23.390625 27.484375 19.1875 25  Q 14.984375 22.515625 14.984375 16.5  Q 14.984375 11.71875 18.140625 8.90625  Q 21.296875 6.109375 26.703125 6.109375  Q 34.1875 6.109375 38.703125 11.40625  Q 43.21875 16.703125 43.21875 25.484375  L 43.21875 27.484375  z M 52.203125 31.203125  L 52.203125 0  L 43.21875 0  L 43.21875 8.296875  Q 40.140625 3.328125 35.546875 0.953125  Q 30.953125 -1.421875 24.3125 -1.421875  Q 15.921875 -1.421875 10.953125 3.296875  Q 6 8.015625 6 15.921875  Q 6 25.140625 12.171875 29.828125  Q 18.359375 34.515625 30.609375 34.515625  L 43.21875 34.515625  L 43.21875 35.40625  Q 43.21875 41.609375 39.140625 45  Q 35.0625 48.390625 27.6875 48.390625  Q 23 48.390625 18.546875 47.265625  Q 14.109375 46.140625 10.015625 43.890625  L 10.015625 52.203125  Q 14.9375 54.109375 19.578125 55.046875  Q 24.21875 56 28.609375 56  Q 40.484375 56 46.34375 49.84375  Q 52.203125 43.703125 52.203125 31.203125  z \" id=\"DejaVuSans-97\" />\n      <path d=\"M 9.421875 75.984375  L 18.40625 75.984375  L 18.40625 0  L 9.421875 0  z \" id=\"DejaVuSans-108\" />\n     </defs>\n     <g style=\"fill:#444443;\" transform=\"translate(94.9585 83.388571)scale(0.12 -0.12)\">\n      <use xlink:href=\"#DejaVuSans-77\" />\n      <use x=\"86.279297\" xlink:href=\"#DejaVuSans-101\" />\n      <use x=\"147.802734\" xlink:href=\"#DejaVuSans-100\" />\n      <use x=\"211.279297\" xlink:href=\"#DejaVuSans-105\" />\n      <use x=\"239.0625\" xlink:href=\"#DejaVuSans-99\" />\n      <use x=\"294.042969\" xlink:href=\"#DejaVuSans-97\" />\n      <use x=\"355.322266\" xlink:href=\"#DejaVuSans-108\" />\n     </g>\n    </g>\n   </g>\n   <g id=\"matplotlib.axis_2\">\n    <g id=\"ytick_1\">\n     <g id=\"line2d_3\">\n      <path clip-path=\"url(#pb4be0e9a85)\" d=\"M 14.59 53.027946  L 221.302 53.027946  \" style=\"fill:none;stroke:#ffffff;stroke-linecap:round;\" />\n     </g>\n     <g id=\"text_4\">\n      \n      <g style=\"fill:#444443;\" transform=\"translate(0 56.067321)scale(0.08 -0.08)\">\n       <use xlink:href=\"#DejaVuSans-48\" />\n      </g>\n     </g>\n    </g>\n    <g id=\"ytick_2\">\n     <g id=\"line2d_4\">\n      <path clip-path=\"url(#pb4be0e9a85)\" d=\"M 14.59 3.039375  L 221.302 3.039375  \" style=\"fill:none;stroke:#ffffff;stroke-linecap:round;\" />\n     </g>\n     <g id=\"text_5\">\n      \n      <g style=\"fill:#444443;\" transform=\"translate(0 6.07875)scale(0.08 -0.08)\">\n       <use xlink:href=\"#DejaVuSans-55\" />\n      </g>\n     </g>\n    </g>\n   </g>\n   <g id=\"patch_3\">\n    <path clip-path=\"url(#pb4be0e9a85)\" d=\"M 98.948933 53.027946  L 102.439096 53.027946  L 102.439096 53.027946  L 98.948933 53.027946  z \" style=\"fill:#fefebb;stroke:#444443;stroke-linejoin:miter;stroke-width:0.5;\" />\n   </g>\n   <g id=\"patch_4\">\n    <path clip-path=\"url(#pb4be0e9a85)\" d=\"M 102.439096 53.027946  L 105.929258 53.027946  L 105.929258 53.027946  L 102.439096 53.027946  z \" style=\"fill:#fefebb;stroke:#444443;stroke-linejoin:miter;stroke-width:0.5;\" />\n   </g>\n   <g id=\"patch_5\">\n    <path clip-path=\"url(#pb4be0e9a85)\" d=\"M 105.929258 53.027946  L 109.41942 53.027946  L 109.41942 53.027946  L 105.929258 53.027946  z \" style=\"fill:#fefebb;stroke:#444443;stroke-linejoin:miter;stroke-width:0.5;\" />\n   </g>\n   <g id=\"patch_6\">\n    <path clip-path=\"url(#pb4be0e9a85)\" d=\"M 109.41942 53.027946  L 112.909582 53.027946  L 112.909582 53.027946  L 109.41942 53.027946  z \" style=\"fill:#fefebb;stroke:#444443;stroke-linejoin:miter;stroke-width:0.5;\" />\n   </g>\n   <g id=\"patch_7\">\n    <path clip-path=\"url(#pb4be0e9a85)\" d=\"M 112.909582 53.027946  L 116.399744 53.027946  L 116.399744 53.027946  L 112.909582 53.027946  z \" style=\"fill:#fefebb;stroke:#444443;stroke-linejoin:miter;stroke-width:0.5;\" />\n   </g>\n   <g id=\"patch_8\">\n    <path clip-path=\"url(#pb4be0e9a85)\" d=\"M 116.399744 53.027946  L 119.889906 53.027946  L 119.889906 53.027946  L 116.399744 53.027946  z \" style=\"fill:#fefebb;stroke:#444443;stroke-linejoin:miter;stroke-width:0.5;\" />\n   </g>\n   <g id=\"patch_9\">\n    <path clip-path=\"url(#pb4be0e9a85)\" d=\"M 119.889906 53.027946  L 123.380068 53.027946  L 123.380068 53.027946  L 119.889906 53.027946  z \" style=\"fill:#fefebb;stroke:#444443;stroke-linejoin:miter;stroke-width:0.5;\" />\n   </g>\n   <g id=\"patch_10\">\n    <path clip-path=\"url(#pb4be0e9a85)\" d=\"M 123.380068 53.027946  L 126.87023 53.027946  L 126.87023 53.027946  L 123.380068 53.027946  z \" style=\"fill:#fefebb;stroke:#444443;stroke-linejoin:miter;stroke-width:0.5;\" />\n   </g>\n   <g id=\"patch_11\">\n    <path clip-path=\"url(#pb4be0e9a85)\" d=\"M 126.87023 53.027946  L 130.360392 53.027946  L 130.360392 45.886722  L 126.87023 45.886722  z \" style=\"fill:#fefebb;stroke:#444443;stroke-linejoin:miter;stroke-width:0.5;\" />\n   </g>\n   <g id=\"patch_12\">\n    <path clip-path=\"url(#pb4be0e9a85)\" d=\"M 130.360392 53.027946  L 133.850554 53.027946  L 133.850554 31.604273  L 130.360392 31.604273  z \" style=\"fill:#fefebb;stroke:#444443;stroke-linejoin:miter;stroke-width:0.5;\" />\n   </g>\n   <g id=\"patch_13\">\n    <path clip-path=\"url(#pb4be0e9a85)\" d=\"M 133.850554 53.027946  L 137.340716 53.027946  L 137.340716 24.463048  L 133.850554 24.463048  z \" style=\"fill:#fefebb;stroke:#444443;stroke-linejoin:miter;stroke-width:0.5;\" />\n   </g>\n   <g id=\"patch_14\">\n    <path clip-path=\"url(#pb4be0e9a85)\" d=\"M 137.340716 53.027946  L 140.830878 53.027946  L 140.830878 31.604273  L 137.340716 31.604273  z \" style=\"fill:#fefebb;stroke:#444443;stroke-linejoin:miter;stroke-width:0.5;\" />\n   </g>\n   <g id=\"patch_15\">\n    <path clip-path=\"url(#pb4be0e9a85)\" d=\"M 140.830878 53.027946  L 144.32104 53.027946  L 144.32104 45.886722  L 140.830878 45.886722  z \" style=\"fill:#fefebb;stroke:#444443;stroke-linejoin:miter;stroke-width:0.5;\" />\n   </g>\n   <g id=\"patch_16\">\n    <path clip-path=\"url(#pb4be0e9a85)\" d=\"M 144.32104 53.027946  L 147.811202 53.027946  L 147.811202 45.886722  L 144.32104 45.886722  z \" style=\"fill:#fefebb;stroke:#444443;stroke-linejoin:miter;stroke-width:0.5;\" />\n   </g>\n   <g id=\"patch_17\">\n    <path clip-path=\"url(#pb4be0e9a85)\" d=\"M 147.811202 53.027946  L 151.301364 53.027946  L 151.301364 45.886722  L 147.811202 45.886722  z \" style=\"fill:#fefebb;stroke:#444443;stroke-linejoin:miter;stroke-width:0.5;\" />\n   </g>\n   <g id=\"patch_18\">\n    <path clip-path=\"url(#pb4be0e9a85)\" d=\"M 151.301364 53.027946  L 154.791526 53.027946  L 154.791526 45.886722  L 151.301364 45.886722  z \" style=\"fill:#fefebb;stroke:#444443;stroke-linejoin:miter;stroke-width:0.5;\" />\n   </g>\n   <g id=\"patch_19\">\n    <path clip-path=\"url(#pb4be0e9a85)\" d=\"M 154.791526 53.027946  L 158.281689 53.027946  L 158.281689 45.886722  L 154.791526 45.886722  z \" style=\"fill:#fefebb;stroke:#444443;stroke-linejoin:miter;stroke-width:0.5;\" />\n   </g>\n   <g id=\"patch_20\">\n    <path clip-path=\"url(#pb4be0e9a85)\" d=\"M 158.281689 53.027946  L 161.771851 53.027946  L 161.771851 53.027946  L 158.281689 53.027946  z \" style=\"fill:#fefebb;stroke:#444443;stroke-linejoin:miter;stroke-width:0.5;\" />\n   </g>\n   <g id=\"patch_21\">\n    <path clip-path=\"url(#pb4be0e9a85)\" d=\"M 161.771851 53.027946  L 165.262013 53.027946  L 165.262013 45.886722  L 161.771851 45.886722  z \" style=\"fill:#fefebb;stroke:#444443;stroke-linejoin:miter;stroke-width:0.5;\" />\n   </g>\n   <g id=\"patch_22\">\n    <path clip-path=\"url(#pb4be0e9a85)\" d=\"M 98.948933 53.027946  L 102.439096 53.027946  L 102.439096 53.027946  L 98.948933 53.027946  z \" style=\"fill:#a1dab4;stroke:#444443;stroke-linejoin:miter;stroke-width:0.5;\" />\n   </g>\n   <g id=\"patch_23\">\n    <path clip-path=\"url(#pb4be0e9a85)\" d=\"M 102.439096 53.027946  L 105.929258 53.027946  L 105.929258 53.027946  L 102.439096 53.027946  z \" style=\"fill:#a1dab4;stroke:#444443;stroke-linejoin:miter;stroke-width:0.5;\" />\n   </g>\n   <g id=\"patch_24\">\n    <path clip-path=\"url(#pb4be0e9a85)\" d=\"M 105.929258 53.027946  L 109.41942 53.027946  L 109.41942 53.027946  L 105.929258 53.027946  z \" style=\"fill:#a1dab4;stroke:#444443;stroke-linejoin:miter;stroke-width:0.5;\" />\n   </g>\n   <g id=\"patch_25\">\n    <path clip-path=\"url(#pb4be0e9a85)\" d=\"M 109.41942 53.027946  L 112.909582 53.027946  L 112.909582 53.027946  L 109.41942 53.027946  z \" style=\"fill:#a1dab4;stroke:#444443;stroke-linejoin:miter;stroke-width:0.5;\" />\n   </g>\n   <g id=\"patch_26\">\n    <path clip-path=\"url(#pb4be0e9a85)\" d=\"M 112.909582 53.027946  L 116.399744 53.027946  L 116.399744 53.027946  L 112.909582 53.027946  z \" style=\"fill:#a1dab4;stroke:#444443;stroke-linejoin:miter;stroke-width:0.5;\" />\n   </g>\n   <g id=\"patch_27\">\n    <path clip-path=\"url(#pb4be0e9a85)\" d=\"M 116.399744 53.027946  L 119.889906 53.027946  L 119.889906 53.027946  L 116.399744 53.027946  z \" style=\"fill:#a1dab4;stroke:#444443;stroke-linejoin:miter;stroke-width:0.5;\" />\n   </g>\n   <g id=\"patch_28\">\n    <path clip-path=\"url(#pb4be0e9a85)\" d=\"M 119.889906 53.027946  L 123.380068 53.027946  L 123.380068 53.027946  L 119.889906 53.027946  z \" style=\"fill:#a1dab4;stroke:#444443;stroke-linejoin:miter;stroke-width:0.5;\" />\n   </g>\n   <g id=\"patch_29\">\n    <path clip-path=\"url(#pb4be0e9a85)\" d=\"M 123.380068 53.027946  L 126.87023 53.027946  L 126.87023 45.886722  L 123.380068 45.886722  z \" style=\"fill:#a1dab4;stroke:#444443;stroke-linejoin:miter;stroke-width:0.5;\" />\n   </g>\n   <g id=\"patch_30\">\n    <path clip-path=\"url(#pb4be0e9a85)\" d=\"M 126.87023 45.886722  L 130.360392 45.886722  L 130.360392 45.886722  L 126.87023 45.886722  z \" style=\"fill:#a1dab4;stroke:#444443;stroke-linejoin:miter;stroke-width:0.5;\" />\n   </g>\n   <g id=\"patch_31\">\n    <path clip-path=\"url(#pb4be0e9a85)\" d=\"M 130.360392 31.604273  L 133.850554 31.604273  L 133.850554 3.039375  L 130.360392 3.039375  z \" style=\"fill:#a1dab4;stroke:#444443;stroke-linejoin:miter;stroke-width:0.5;\" />\n   </g>\n   <g id=\"patch_32\">\n    <path clip-path=\"url(#pb4be0e9a85)\" d=\"M 133.850554 24.463048  L 137.340716 24.463048  L 137.340716 24.463048  L 133.850554 24.463048  z \" style=\"fill:#a1dab4;stroke:#444443;stroke-linejoin:miter;stroke-width:0.5;\" />\n   </g>\n   <g id=\"patch_33\">\n    <path clip-path=\"url(#pb4be0e9a85)\" d=\"M 137.340716 31.604273  L 140.830878 31.604273  L 140.830878 31.604273  L 137.340716 31.604273  z \" style=\"fill:#a1dab4;stroke:#444443;stroke-linejoin:miter;stroke-width:0.5;\" />\n   </g>\n   <g id=\"patch_34\">\n    <path clip-path=\"url(#pb4be0e9a85)\" d=\"M 140.830878 45.886722  L 144.32104 45.886722  L 144.32104 38.745497  L 140.830878 38.745497  z \" style=\"fill:#a1dab4;stroke:#444443;stroke-linejoin:miter;stroke-width:0.5;\" />\n   </g>\n   <g id=\"patch_35\">\n    <path clip-path=\"url(#pb4be0e9a85)\" d=\"M 144.32104 45.886722  L 147.811202 45.886722  L 147.811202 38.745497  L 144.32104 38.745497  z \" style=\"fill:#a1dab4;stroke:#444443;stroke-linejoin:miter;stroke-width:0.5;\" />\n   </g>\n   <g id=\"patch_36\">\n    <path clip-path=\"url(#pb4be0e9a85)\" d=\"M 147.811202 45.886722  L 151.301364 45.886722  L 151.301364 45.886722  L 147.811202 45.886722  z \" style=\"fill:#a1dab4;stroke:#444443;stroke-linejoin:miter;stroke-width:0.5;\" />\n   </g>\n   <g id=\"patch_37\">\n    <path clip-path=\"url(#pb4be0e9a85)\" d=\"M 151.301364 45.886722  L 154.791526 45.886722  L 154.791526 45.886722  L 151.301364 45.886722  z \" style=\"fill:#a1dab4;stroke:#444443;stroke-linejoin:miter;stroke-width:0.5;\" />\n   </g>\n   <g id=\"patch_38\">\n    <path clip-path=\"url(#pb4be0e9a85)\" d=\"M 154.791526 45.886722  L 158.281689 45.886722  L 158.281689 45.886722  L 154.791526 45.886722  z \" style=\"fill:#a1dab4;stroke:#444443;stroke-linejoin:miter;stroke-width:0.5;\" />\n   </g>\n   <g id=\"patch_39\">\n    <path clip-path=\"url(#pb4be0e9a85)\" d=\"M 158.281689 53.027946  L 161.771851 53.027946  L 161.771851 53.027946  L 158.281689 53.027946  z \" style=\"fill:#a1dab4;stroke:#444443;stroke-linejoin:miter;stroke-width:0.5;\" />\n   </g>\n   <g id=\"patch_40\">\n    <path clip-path=\"url(#pb4be0e9a85)\" d=\"M 161.771851 45.886722  L 165.262013 45.886722  L 165.262013 45.886722  L 161.771851 45.886722  z \" style=\"fill:#a1dab4;stroke:#444443;stroke-linejoin:miter;stroke-width:0.5;\" />\n   </g>\n   <g id=\"patch_41\">\n    <path d=\"M 134.279672 53.902746  L 130.558856 61.775946  L 138.000488 61.775946  z \" style=\"fill:#444443;stroke:#ffffff;stroke-linejoin:miter;\" />\n   </g>\n   <g id=\"patch_42\">\n    <path d=\"M 14.59 53.027946  L 14.59 0.539946  \" style=\"fill:none;stroke:#ffffff;stroke-linecap:square;stroke-linejoin:miter;stroke-width:0.3;\" />\n   </g>\n   <g id=\"patch_43\">\n    <path d=\"M 14.59 53.027946  L 221.302 53.027946  \" style=\"fill:none;stroke:#ffffff;stroke-linecap:square;stroke-linejoin:miter;stroke-width:0.3;\" />\n   </g>\n   <g id=\"text_6\">\n    \n    <defs>\n     <path d=\"M 19.1875 8.296875  L 53.609375 8.296875  L 53.609375 0  L 7.328125 0  L 7.328125 8.296875  Q 12.9375 14.109375 22.625 23.890625  Q 32.328125 33.6875 34.8125 36.53125  Q 39.546875 41.84375 41.421875 45.53125  Q 43.3125 49.21875 43.3125 52.78125  Q 43.3125 58.59375 39.234375 62.25  Q 35.15625 65.921875 28.609375 65.921875  Q 23.96875 65.921875 18.8125 64.3125  Q 13.671875 62.703125 7.8125 59.421875  L 7.8125 69.390625  Q 13.765625 71.78125 18.9375 73  Q 24.125 74.21875 28.421875 74.21875  Q 39.75 74.21875 46.484375 68.546875  Q 53.21875 62.890625 53.21875 53.421875  Q 53.21875 48.921875 51.53125 44.890625  Q 49.859375 40.875 45.40625 35.40625  Q 44.1875 33.984375 37.640625 27.21875  Q 31.109375 20.453125 19.1875 8.296875  z \" id=\"DejaVuSans-50\" />\n     <path d=\"M 10.796875 72.90625  L 49.515625 72.90625  L 49.515625 64.59375  L 19.828125 64.59375  L 19.828125 46.734375  Q 21.96875 47.46875 24.109375 47.828125  Q 26.265625 48.1875 28.421875 48.1875  Q 40.625 48.1875 47.75 41.5  Q 54.890625 34.8125 54.890625 23.390625  Q 54.890625 11.625 47.5625 5.09375  Q 40.234375 -1.421875 26.90625 -1.421875  Q 22.3125 -1.421875 17.546875 -0.640625  Q 12.796875 0.140625 7.71875 1.703125  L 7.71875 11.625  Q 12.109375 9.234375 16.796875 8.0625  Q 21.484375 6.890625 26.703125 6.890625  Q 35.15625 6.890625 40.078125 11.328125  Q 45.015625 15.765625 45.015625 23.390625  Q 45.015625 31 40.078125 35.4375  Q 35.15625 39.890625 26.703125 39.890625  Q 22.75 39.890625 18.8125 39.015625  Q 14.890625 38.140625 10.796875 36.28125  z \" id=\"DejaVuSans-53\" />\n    </defs>\n    <g style=\"fill:#444443;\" transform=\"translate(120.283422 70.523946)scale(0.08 -0.08)\">\n     <use xlink:href=\"#DejaVuSans-49\" />\n     <use x=\"63.623047\" xlink:href=\"#DejaVuSans-48\" />\n     <use x=\"127.246094\" xlink:href=\"#DejaVuSans-48\" />\n     <use x=\"190.869141\" xlink:href=\"#DejaVuSans-46\" />\n     <use x=\"222.65625\" xlink:href=\"#DejaVuSans-50\" />\n     <use x=\"286.279297\" xlink:href=\"#DejaVuSans-53\" />\n    </g>\n   </g>\n  </g>\n </g>\n <defs>\n  <clipPath id=\"pb4be0e9a85\">\n   <rect height=\"52.488\" width=\"206.712\" x=\"14.59\" y=\"0.539946\" />\n  </clipPath>\n </defs>\n</svg></g>\n\n<g class=\"edge\" id=\"edge7\">\n<title>node3-&gt;node4</title>\n<path d=\"M154.1418,-133.9881C145.69,-127.7585 136.9725,-121.3332 128.7317,-115.2592\" fill=\"none\" stroke=\"#444443\" stroke-width=\".3\" />\n<polygon fill=\"#444443\" points=\"129.2819,-113.9255 125.2313,-112.6791 127.6206,-116.1794 129.2819,-113.9255\" stroke=\"#444443\" stroke-width=\".3\" />\n</g>\n\n<g class=\"edge\" id=\"edge8\">\n<title>node3-&gt;node7</title>\n<path d=\"M233.5345,-133.7403C237.3337,-129.2288 241.216,-124.6185 245.0069,-120.1168\" fill=\"none\" stroke=\"#444443\" stroke-width=\".3\" />\n<polygon fill=\"#444443\" points=\"246.1089,-120.9816 247.6146,-117.0201 243.9672,-119.178 246.1089,-120.9816\" stroke=\"#444443\" stroke-width=\".3\" />\n</g>\n\n<g class=\"node\" id=\"node4\">\n<title>node1</title>\n<svg height=\"64px\" preserveAspectRatio=\"xMinYMin meet\" version=\"1.1\" viewBox=\"0 0 221.302 85.884196\" width=\"166px\" x=\"62\" y=\"-291\">\n <defs>\n  <style type=\"text/css\">\n*{stroke-linecap:butt;stroke-linejoin:round;}\n  </style>\n </defs>\n <g id=\"figure_1\">\n  <g id=\"patch_1\">\n   <path d=\"M 0 85.884196  L 221.302 85.884196  L 221.302 0  L 0 0  z \" style=\"fill:#f0f0f0;\" />\n  </g>\n  <g id=\"axes_1\">\n   <g id=\"patch_2\">\n    <path d=\"M 14.59 53.027946  L 221.302 53.027946  L 221.302 0.539946  L 14.59 0.539946  z \" style=\"fill:#eaeaf2;\" />\n   </g>\n   <g id=\"matplotlib.axis_1\">\n    <g id=\"xtick_1\">\n     <g id=\"line2d_1\">\n      <path clip-path=\"url(#pdb210a3956)\" d=\"M 98.948933 53.027946  L 98.948933 0.539946  \" style=\"fill:none;stroke:#ffffff;stroke-linecap:round;\" />\n     </g>\n     <g id=\"text_1\">\n      \n      <defs>\n       <path d=\"M 10.984375 1.515625  L 10.984375 10.5  Q 14.703125 8.734375 18.5 7.8125  Q 22.3125 6.890625 25.984375 6.890625  Q 35.75 6.890625 40.890625 13.453125  Q 46.046875 20.015625 46.78125 33.40625  Q 43.953125 29.203125 39.59375 26.953125  Q 35.25 24.703125 29.984375 24.703125  Q 19.046875 24.703125 12.671875 31.3125  Q 6.296875 37.9375 6.296875 49.421875  Q 6.296875 60.640625 12.9375 67.421875  Q 19.578125 74.21875 30.609375 74.21875  Q 43.265625 74.21875 49.921875 64.515625  Q 56.59375 54.828125 56.59375 36.375  Q 56.59375 19.140625 48.40625 8.859375  Q 40.234375 -1.421875 26.421875 -1.421875  Q 22.703125 -1.421875 18.890625 -0.6875  Q 15.09375 0.046875 10.984375 1.515625  z M 30.609375 32.421875  Q 37.25 32.421875 41.125 36.953125  Q 45.015625 41.5 45.015625 49.421875  Q 45.015625 57.28125 41.125 61.84375  Q 37.25 66.40625 30.609375 66.40625  Q 23.96875 66.40625 20.09375 61.84375  Q 16.21875 57.28125 16.21875 49.421875  Q 16.21875 41.5 20.09375 36.953125  Q 23.96875 32.421875 30.609375 32.421875  z \" id=\"DejaVuSans-57\" />\n       <path d=\"M 8.203125 72.90625  L 55.078125 72.90625  L 55.078125 68.703125  L 28.609375 0  L 18.3125 0  L 43.21875 64.59375  L 8.203125 64.59375  z \" id=\"DejaVuSans-55\" />\n       <path d=\"M 10.6875 12.40625  L 21 12.40625  L 21 0  L 10.6875 0  z \" id=\"DejaVuSans-46\" />\n       <path d=\"M 31.78125 66.40625  Q 24.171875 66.40625 20.328125 58.90625  Q 16.5 51.421875 16.5 36.375  Q 16.5 21.390625 20.328125 13.890625  Q 24.171875 6.390625 31.78125 6.390625  Q 39.453125 6.390625 43.28125 13.890625  Q 47.125 21.390625 47.125 36.375  Q 47.125 51.421875 43.28125 58.90625  Q 39.453125 66.40625 31.78125 66.40625  z M 31.78125 74.21875  Q 44.046875 74.21875 50.515625 64.515625  Q 56.984375 54.828125 56.984375 36.375  Q 56.984375 17.96875 50.515625 8.265625  Q 44.046875 -1.421875 31.78125 -1.421875  Q 19.53125 -1.421875 13.0625 8.265625  Q 6.59375 17.96875 6.59375 36.375  Q 6.59375 54.828125 13.0625 64.515625  Q 19.53125 74.21875 31.78125 74.21875  z \" id=\"DejaVuSans-48\" />\n      </defs>\n      <g style=\"fill:#444443;\" transform=\"translate(90.042683 68.606696)scale(0.08 -0.08)\">\n       <use xlink:href=\"#DejaVuSans-57\" />\n       <use x=\"63.623047\" xlink:href=\"#DejaVuSans-55\" />\n       <use x=\"127.246094\" xlink:href=\"#DejaVuSans-46\" />\n       <use x=\"159.033203\" xlink:href=\"#DejaVuSans-48\" />\n      </g>\n     </g>\n    </g>\n    <g id=\"xtick_2\">\n     <g id=\"line2d_2\">\n      <path clip-path=\"url(#pdb210a3956)\" d=\"M 165.262013 53.027946  L 165.262013 0.539946  \" style=\"fill:none;stroke:#ffffff;stroke-linecap:round;\" />\n     </g>\n     <g id=\"text_2\">\n      \n      <defs>\n       <path d=\"M 12.40625 8.296875  L 28.515625 8.296875  L 28.515625 63.921875  L 10.984375 60.40625  L 10.984375 69.390625  L 28.421875 72.90625  L 38.28125 72.90625  L 38.28125 8.296875  L 54.390625 8.296875  L 54.390625 0  L 12.40625 0  z \" id=\"DejaVuSans-49\" />\n       <path d=\"M 40.578125 39.3125  Q 47.65625 37.796875 51.625 33  Q 55.609375 28.21875 55.609375 21.1875  Q 55.609375 10.40625 48.1875 4.484375  Q 40.765625 -1.421875 27.09375 -1.421875  Q 22.515625 -1.421875 17.65625 -0.515625  Q 12.796875 0.390625 7.625 2.203125  L 7.625 11.71875  Q 11.71875 9.328125 16.59375 8.109375  Q 21.484375 6.890625 26.8125 6.890625  Q 36.078125 6.890625 40.9375 10.546875  Q 45.796875 14.203125 45.796875 21.1875  Q 45.796875 27.640625 41.28125 31.265625  Q 36.765625 34.90625 28.71875 34.90625  L 20.21875 34.90625  L 20.21875 43.015625  L 29.109375 43.015625  Q 36.375 43.015625 40.234375 45.921875  Q 44.09375 48.828125 44.09375 54.296875  Q 44.09375 59.90625 40.109375 62.90625  Q 36.140625 65.921875 28.71875 65.921875  Q 24.65625 65.921875 20.015625 65.03125  Q 15.375 64.15625 9.8125 62.3125  L 9.8125 71.09375  Q 15.4375 72.65625 20.34375 73.4375  Q 25.25 74.21875 29.59375 74.21875  Q 40.828125 74.21875 47.359375 69.109375  Q 53.90625 64.015625 53.90625 55.328125  Q 53.90625 49.265625 50.4375 45.09375  Q 46.96875 40.921875 40.578125 39.3125  z \" id=\"DejaVuSans-51\" />\n      </defs>\n      <g style=\"fill:#444443;\" transform=\"translate(153.810763 68.606696)scale(0.08 -0.08)\">\n       <use xlink:href=\"#DejaVuSans-49\" />\n       <use x=\"63.623047\" xlink:href=\"#DejaVuSans-48\" />\n       <use x=\"127.246094\" xlink:href=\"#DejaVuSans-51\" />\n       <use x=\"190.869141\" xlink:href=\"#DejaVuSans-46\" />\n       <use x=\"222.65625\" xlink:href=\"#DejaVuSans-49\" />\n      </g>\n     </g>\n    </g>\n    <g id=\"text_3\">\n     \n     <defs>\n      <path d=\"M 9.8125 72.90625  L 24.515625 72.90625  L 43.109375 23.296875  L 61.8125 72.90625  L 76.515625 72.90625  L 76.515625 0  L 66.890625 0  L 66.890625 64.015625  L 48.09375 14.015625  L 38.1875 14.015625  L 19.390625 64.015625  L 19.390625 0  L 9.8125 0  z \" id=\"DejaVuSans-77\" />\n      <path d=\"M 56.203125 29.59375  L 56.203125 25.203125  L 14.890625 25.203125  Q 15.484375 15.921875 20.484375 11.0625  Q 25.484375 6.203125 34.421875 6.203125  Q 39.59375 6.203125 44.453125 7.46875  Q 49.3125 8.734375 54.109375 11.28125  L 54.109375 2.78125  Q 49.265625 0.734375 44.1875 -0.34375  Q 39.109375 -1.421875 33.890625 -1.421875  Q 20.796875 -1.421875 13.15625 6.1875  Q 5.515625 13.8125 5.515625 26.8125  Q 5.515625 40.234375 12.765625 48.109375  Q 20.015625 56 32.328125 56  Q 43.359375 56 49.78125 48.890625  Q 56.203125 41.796875 56.203125 29.59375  z M 47.21875 32.234375  Q 47.125 39.59375 43.09375 43.984375  Q 39.0625 48.390625 32.421875 48.390625  Q 24.90625 48.390625 20.390625 44.140625  Q 15.875 39.890625 15.1875 32.171875  z \" id=\"DejaVuSans-101\" />\n      <path d=\"M 45.40625 46.390625  L 45.40625 75.984375  L 54.390625 75.984375  L 54.390625 0  L 45.40625 0  L 45.40625 8.203125  Q 42.578125 3.328125 38.25 0.953125  Q 33.9375 -1.421875 27.875 -1.421875  Q 17.96875 -1.421875 11.734375 6.484375  Q 5.515625 14.40625 5.515625 27.296875  Q 5.515625 40.1875 11.734375 48.09375  Q 17.96875 56 27.875 56  Q 33.9375 56 38.25 53.625  Q 42.578125 51.265625 45.40625 46.390625  z M 14.796875 27.296875  Q 14.796875 17.390625 18.875 11.75  Q 22.953125 6.109375 30.078125 6.109375  Q 37.203125 6.109375 41.296875 11.75  Q 45.40625 17.390625 45.40625 27.296875  Q 45.40625 37.203125 41.296875 42.84375  Q 37.203125 48.484375 30.078125 48.484375  Q 22.953125 48.484375 18.875 42.84375  Q 14.796875 37.203125 14.796875 27.296875  z \" id=\"DejaVuSans-100\" />\n      <path d=\"M 9.421875 54.6875  L 18.40625 54.6875  L 18.40625 0  L 9.421875 0  z M 9.421875 75.984375  L 18.40625 75.984375  L 18.40625 64.59375  L 9.421875 64.59375  z \" id=\"DejaVuSans-105\" />\n      <path d=\"M 48.78125 52.59375  L 48.78125 44.1875  Q 44.96875 46.296875 41.140625 47.34375  Q 37.3125 48.390625 33.40625 48.390625  Q 24.65625 48.390625 19.8125 42.84375  Q 14.984375 37.3125 14.984375 27.296875  Q 14.984375 17.28125 19.8125 11.734375  Q 24.65625 6.203125 33.40625 6.203125  Q 37.3125 6.203125 41.140625 7.25  Q 44.96875 8.296875 48.78125 10.40625  L 48.78125 2.09375  Q 45.015625 0.34375 40.984375 -0.53125  Q 36.96875 -1.421875 32.421875 -1.421875  Q 20.0625 -1.421875 12.78125 6.34375  Q 5.515625 14.109375 5.515625 27.296875  Q 5.515625 40.671875 12.859375 48.328125  Q 20.21875 56 33.015625 56  Q 37.15625 56 41.109375 55.140625  Q 45.0625 54.296875 48.78125 52.59375  z \" id=\"DejaVuSans-99\" />\n      <path d=\"M 34.28125 27.484375  Q 23.390625 27.484375 19.1875 25  Q 14.984375 22.515625 14.984375 16.5  Q 14.984375 11.71875 18.140625 8.90625  Q 21.296875 6.109375 26.703125 6.109375  Q 34.1875 6.109375 38.703125 11.40625  Q 43.21875 16.703125 43.21875 25.484375  L 43.21875 27.484375  z M 52.203125 31.203125  L 52.203125 0  L 43.21875 0  L 43.21875 8.296875  Q 40.140625 3.328125 35.546875 0.953125  Q 30.953125 -1.421875 24.3125 -1.421875  Q 15.921875 -1.421875 10.953125 3.296875  Q 6 8.015625 6 15.921875  Q 6 25.140625 12.171875 29.828125  Q 18.359375 34.515625 30.609375 34.515625  L 43.21875 34.515625  L 43.21875 35.40625  Q 43.21875 41.609375 39.140625 45  Q 35.0625 48.390625 27.6875 48.390625  Q 23 48.390625 18.546875 47.265625  Q 14.109375 46.140625 10.015625 43.890625  L 10.015625 52.203125  Q 14.9375 54.109375 19.578125 55.046875  Q 24.21875 56 28.609375 56  Q 40.484375 56 46.34375 49.84375  Q 52.203125 43.703125 52.203125 31.203125  z \" id=\"DejaVuSans-97\" />\n      <path d=\"M 9.421875 75.984375  L 18.40625 75.984375  L 18.40625 0  L 9.421875 0  z \" id=\"DejaVuSans-108\" />\n     </defs>\n     <g style=\"fill:#444443;\" transform=\"translate(94.9585 83.388571)scale(0.12 -0.12)\">\n      <use xlink:href=\"#DejaVuSans-77\" />\n      <use x=\"86.279297\" xlink:href=\"#DejaVuSans-101\" />\n      <use x=\"147.802734\" xlink:href=\"#DejaVuSans-100\" />\n      <use x=\"211.279297\" xlink:href=\"#DejaVuSans-105\" />\n      <use x=\"239.0625\" xlink:href=\"#DejaVuSans-99\" />\n      <use x=\"294.042969\" xlink:href=\"#DejaVuSans-97\" />\n      <use x=\"355.322266\" xlink:href=\"#DejaVuSans-108\" />\n     </g>\n    </g>\n   </g>\n   <g id=\"matplotlib.axis_2\">\n    <g id=\"ytick_1\">\n     <g id=\"line2d_3\">\n      <path clip-path=\"url(#pdb210a3956)\" d=\"M 14.59 53.027946  L 221.302 53.027946  \" style=\"fill:none;stroke:#ffffff;stroke-linecap:round;\" />\n     </g>\n     <g id=\"text_4\">\n      \n      <g style=\"fill:#444443;\" transform=\"translate(0 56.067321)scale(0.08 -0.08)\">\n       <use xlink:href=\"#DejaVuSans-48\" />\n      </g>\n     </g>\n    </g>\n    <g id=\"ytick_2\">\n     <g id=\"line2d_4\">\n      <path clip-path=\"url(#pdb210a3956)\" d=\"M 14.59 3.039375  L 221.302 3.039375  \" style=\"fill:none;stroke:#ffffff;stroke-linecap:round;\" />\n     </g>\n     <g id=\"text_5\">\n      \n      <g style=\"fill:#444443;\" transform=\"translate(0 6.07875)scale(0.08 -0.08)\">\n       <use xlink:href=\"#DejaVuSans-55\" />\n      </g>\n     </g>\n    </g>\n   </g>\n   <g id=\"patch_3\">\n    <path clip-path=\"url(#pdb210a3956)\" d=\"M 98.948933 53.027946  L 102.439096 53.027946  L 102.439096 38.745497  L 98.948933 38.745497  z \" style=\"fill:#fefebb;stroke:#444443;stroke-linejoin:miter;stroke-width:0.5;\" />\n   </g>\n   <g id=\"patch_4\">\n    <path clip-path=\"url(#pdb210a3956)\" d=\"M 102.439096 53.027946  L 105.929258 53.027946  L 105.929258 45.886722  L 102.439096 45.886722  z \" style=\"fill:#fefebb;stroke:#444443;stroke-linejoin:miter;stroke-width:0.5;\" />\n   </g>\n   <g id=\"patch_5\">\n    <path clip-path=\"url(#pdb210a3956)\" d=\"M 105.929258 53.027946  L 109.41942 53.027946  L 109.41942 53.027946  L 105.929258 53.027946  z \" style=\"fill:#fefebb;stroke:#444443;stroke-linejoin:miter;stroke-width:0.5;\" />\n   </g>\n   <g id=\"patch_6\">\n    <path clip-path=\"url(#pdb210a3956)\" d=\"M 109.41942 53.027946  L 112.909582 53.027946  L 112.909582 38.745497  L 109.41942 38.745497  z \" style=\"fill:#fefebb;stroke:#444443;stroke-linejoin:miter;stroke-width:0.5;\" />\n   </g>\n   <g id=\"patch_7\">\n    <path clip-path=\"url(#pdb210a3956)\" d=\"M 112.909582 53.027946  L 116.399744 53.027946  L 116.399744 38.745497  L 112.909582 38.745497  z \" style=\"fill:#fefebb;stroke:#444443;stroke-linejoin:miter;stroke-width:0.5;\" />\n   </g>\n   <g id=\"patch_8\">\n    <path clip-path=\"url(#pdb210a3956)\" d=\"M 116.399744 53.027946  L 119.889906 53.027946  L 119.889906 38.745497  L 116.399744 38.745497  z \" style=\"fill:#fefebb;stroke:#444443;stroke-linejoin:miter;stroke-width:0.5;\" />\n   </g>\n   <g id=\"patch_9\">\n    <path clip-path=\"url(#pdb210a3956)\" d=\"M 119.889906 53.027946  L 123.380068 53.027946  L 123.380068 31.604273  L 119.889906 31.604273  z \" style=\"fill:#fefebb;stroke:#444443;stroke-linejoin:miter;stroke-width:0.5;\" />\n   </g>\n   <g id=\"patch_10\">\n    <path clip-path=\"url(#pdb210a3956)\" d=\"M 123.380068 53.027946  L 126.87023 53.027946  L 126.87023 38.745497  L 123.380068 38.745497  z \" style=\"fill:#fefebb;stroke:#444443;stroke-linejoin:miter;stroke-width:0.5;\" />\n   </g>\n   <g id=\"patch_11\">\n    <path clip-path=\"url(#pdb210a3956)\" d=\"M 126.87023 53.027946  L 130.360392 53.027946  L 130.360392 45.886722  L 126.87023 45.886722  z \" style=\"fill:#fefebb;stroke:#444443;stroke-linejoin:miter;stroke-width:0.5;\" />\n   </g>\n   <g id=\"patch_12\">\n    <path clip-path=\"url(#pdb210a3956)\" d=\"M 130.360392 53.027946  L 133.850554 53.027946  L 133.850554 31.604273  L 130.360392 31.604273  z \" style=\"fill:#fefebb;stroke:#444443;stroke-linejoin:miter;stroke-width:0.5;\" />\n   </g>\n   <g id=\"patch_13\">\n    <path clip-path=\"url(#pdb210a3956)\" d=\"M 133.850554 53.027946  L 137.340716 53.027946  L 137.340716 24.463048  L 133.850554 24.463048  z \" style=\"fill:#fefebb;stroke:#444443;stroke-linejoin:miter;stroke-width:0.5;\" />\n   </g>\n   <g id=\"patch_14\">\n    <path clip-path=\"url(#pdb210a3956)\" d=\"M 137.340716 53.027946  L 140.830878 53.027946  L 140.830878 31.604273  L 137.340716 31.604273  z \" style=\"fill:#fefebb;stroke:#444443;stroke-linejoin:miter;stroke-width:0.5;\" />\n   </g>\n   <g id=\"patch_15\">\n    <path clip-path=\"url(#pdb210a3956)\" d=\"M 140.830878 53.027946  L 144.32104 53.027946  L 144.32104 45.886722  L 140.830878 45.886722  z \" style=\"fill:#fefebb;stroke:#444443;stroke-linejoin:miter;stroke-width:0.5;\" />\n   </g>\n   <g id=\"patch_16\">\n    <path clip-path=\"url(#pdb210a3956)\" d=\"M 144.32104 53.027946  L 147.811202 53.027946  L 147.811202 45.886722  L 144.32104 45.886722  z \" style=\"fill:#fefebb;stroke:#444443;stroke-linejoin:miter;stroke-width:0.5;\" />\n   </g>\n   <g id=\"patch_17\">\n    <path clip-path=\"url(#pdb210a3956)\" d=\"M 147.811202 53.027946  L 151.301364 53.027946  L 151.301364 45.886722  L 147.811202 45.886722  z \" style=\"fill:#fefebb;stroke:#444443;stroke-linejoin:miter;stroke-width:0.5;\" />\n   </g>\n   <g id=\"patch_18\">\n    <path clip-path=\"url(#pdb210a3956)\" d=\"M 151.301364 53.027946  L 154.791526 53.027946  L 154.791526 45.886722  L 151.301364 45.886722  z \" style=\"fill:#fefebb;stroke:#444443;stroke-linejoin:miter;stroke-width:0.5;\" />\n   </g>\n   <g id=\"patch_19\">\n    <path clip-path=\"url(#pdb210a3956)\" d=\"M 154.791526 53.027946  L 158.281689 53.027946  L 158.281689 45.886722  L 154.791526 45.886722  z \" style=\"fill:#fefebb;stroke:#444443;stroke-linejoin:miter;stroke-width:0.5;\" />\n   </g>\n   <g id=\"patch_20\">\n    <path clip-path=\"url(#pdb210a3956)\" d=\"M 158.281689 53.027946  L 161.771851 53.027946  L 161.771851 53.027946  L 158.281689 53.027946  z \" style=\"fill:#fefebb;stroke:#444443;stroke-linejoin:miter;stroke-width:0.5;\" />\n   </g>\n   <g id=\"patch_21\">\n    <path clip-path=\"url(#pdb210a3956)\" d=\"M 161.771851 53.027946  L 165.262013 53.027946  L 165.262013 45.886722  L 161.771851 45.886722  z \" style=\"fill:#fefebb;stroke:#444443;stroke-linejoin:miter;stroke-width:0.5;\" />\n   </g>\n   <g id=\"patch_22\">\n    <path clip-path=\"url(#pdb210a3956)\" d=\"M 98.948933 38.745497  L 102.439096 38.745497  L 102.439096 38.745497  L 98.948933 38.745497  z \" style=\"fill:#a1dab4;stroke:#444443;stroke-linejoin:miter;stroke-width:0.5;\" />\n   </g>\n   <g id=\"patch_23\">\n    <path clip-path=\"url(#pdb210a3956)\" d=\"M 102.439096 45.886722  L 105.929258 45.886722  L 105.929258 45.886722  L 102.439096 45.886722  z \" style=\"fill:#a1dab4;stroke:#444443;stroke-linejoin:miter;stroke-width:0.5;\" />\n   </g>\n   <g id=\"patch_24\">\n    <path clip-path=\"url(#pdb210a3956)\" d=\"M 105.929258 53.027946  L 109.41942 53.027946  L 109.41942 53.027946  L 105.929258 53.027946  z \" style=\"fill:#a1dab4;stroke:#444443;stroke-linejoin:miter;stroke-width:0.5;\" />\n   </g>\n   <g id=\"patch_25\">\n    <path clip-path=\"url(#pdb210a3956)\" d=\"M 109.41942 38.745497  L 112.909582 38.745497  L 112.909582 38.745497  L 109.41942 38.745497  z \" style=\"fill:#a1dab4;stroke:#444443;stroke-linejoin:miter;stroke-width:0.5;\" />\n   </g>\n   <g id=\"patch_26\">\n    <path clip-path=\"url(#pdb210a3956)\" d=\"M 112.909582 38.745497  L 116.399744 38.745497  L 116.399744 38.745497  L 112.909582 38.745497  z \" style=\"fill:#a1dab4;stroke:#444443;stroke-linejoin:miter;stroke-width:0.5;\" />\n   </g>\n   <g id=\"patch_27\">\n    <path clip-path=\"url(#pdb210a3956)\" d=\"M 116.399744 38.745497  L 119.889906 38.745497  L 119.889906 38.745497  L 116.399744 38.745497  z \" style=\"fill:#a1dab4;stroke:#444443;stroke-linejoin:miter;stroke-width:0.5;\" />\n   </g>\n   <g id=\"patch_28\">\n    <path clip-path=\"url(#pdb210a3956)\" d=\"M 119.889906 31.604273  L 123.380068 31.604273  L 123.380068 31.604273  L 119.889906 31.604273  z \" style=\"fill:#a1dab4;stroke:#444443;stroke-linejoin:miter;stroke-width:0.5;\" />\n   </g>\n   <g id=\"patch_29\">\n    <path clip-path=\"url(#pdb210a3956)\" d=\"M 123.380068 38.745497  L 126.87023 38.745497  L 126.87023 31.604273  L 123.380068 31.604273  z \" style=\"fill:#a1dab4;stroke:#444443;stroke-linejoin:miter;stroke-width:0.5;\" />\n   </g>\n   <g id=\"patch_30\">\n    <path clip-path=\"url(#pdb210a3956)\" d=\"M 126.87023 45.886722  L 130.360392 45.886722  L 130.360392 45.886722  L 126.87023 45.886722  z \" style=\"fill:#a1dab4;stroke:#444443;stroke-linejoin:miter;stroke-width:0.5;\" />\n   </g>\n   <g id=\"patch_31\">\n    <path clip-path=\"url(#pdb210a3956)\" d=\"M 130.360392 31.604273  L 133.850554 31.604273  L 133.850554 3.039375  L 130.360392 3.039375  z \" style=\"fill:#a1dab4;stroke:#444443;stroke-linejoin:miter;stroke-width:0.5;\" />\n   </g>\n   <g id=\"patch_32\">\n    <path clip-path=\"url(#pdb210a3956)\" d=\"M 133.850554 24.463048  L 137.340716 24.463048  L 137.340716 24.463048  L 133.850554 24.463048  z \" style=\"fill:#a1dab4;stroke:#444443;stroke-linejoin:miter;stroke-width:0.5;\" />\n   </g>\n   <g id=\"patch_33\">\n    <path clip-path=\"url(#pdb210a3956)\" d=\"M 137.340716 31.604273  L 140.830878 31.604273  L 140.830878 31.604273  L 137.340716 31.604273  z \" style=\"fill:#a1dab4;stroke:#444443;stroke-linejoin:miter;stroke-width:0.5;\" />\n   </g>\n   <g id=\"patch_34\">\n    <path clip-path=\"url(#pdb210a3956)\" d=\"M 140.830878 45.886722  L 144.32104 45.886722  L 144.32104 38.745497  L 140.830878 38.745497  z \" style=\"fill:#a1dab4;stroke:#444443;stroke-linejoin:miter;stroke-width:0.5;\" />\n   </g>\n   <g id=\"patch_35\">\n    <path clip-path=\"url(#pdb210a3956)\" d=\"M 144.32104 45.886722  L 147.811202 45.886722  L 147.811202 38.745497  L 144.32104 38.745497  z \" style=\"fill:#a1dab4;stroke:#444443;stroke-linejoin:miter;stroke-width:0.5;\" />\n   </g>\n   <g id=\"patch_36\">\n    <path clip-path=\"url(#pdb210a3956)\" d=\"M 147.811202 45.886722  L 151.301364 45.886722  L 151.301364 45.886722  L 147.811202 45.886722  z \" style=\"fill:#a1dab4;stroke:#444443;stroke-linejoin:miter;stroke-width:0.5;\" />\n   </g>\n   <g id=\"patch_37\">\n    <path clip-path=\"url(#pdb210a3956)\" d=\"M 151.301364 45.886722  L 154.791526 45.886722  L 154.791526 45.886722  L 151.301364 45.886722  z \" style=\"fill:#a1dab4;stroke:#444443;stroke-linejoin:miter;stroke-width:0.5;\" />\n   </g>\n   <g id=\"patch_38\">\n    <path clip-path=\"url(#pdb210a3956)\" d=\"M 154.791526 45.886722  L 158.281689 45.886722  L 158.281689 45.886722  L 154.791526 45.886722  z \" style=\"fill:#a1dab4;stroke:#444443;stroke-linejoin:miter;stroke-width:0.5;\" />\n   </g>\n   <g id=\"patch_39\">\n    <path clip-path=\"url(#pdb210a3956)\" d=\"M 158.281689 53.027946  L 161.771851 53.027946  L 161.771851 53.027946  L 158.281689 53.027946  z \" style=\"fill:#a1dab4;stroke:#444443;stroke-linejoin:miter;stroke-width:0.5;\" />\n   </g>\n   <g id=\"patch_40\">\n    <path clip-path=\"url(#pdb210a3956)\" d=\"M 161.771851 45.886722  L 165.262013 45.886722  L 165.262013 45.886722  L 161.771851 45.886722  z \" style=\"fill:#a1dab4;stroke:#444443;stroke-linejoin:miter;stroke-width:0.5;\" />\n   </g>\n   <g id=\"patch_41\">\n    <path d=\"M 124.4958 53.902746  L 120.774984 61.775946  L 128.216616 61.775946  z \" style=\"fill:#444443;stroke:#ffffff;stroke-linejoin:miter;\" />\n   </g>\n   <g id=\"patch_42\">\n    <path d=\"M 14.59 53.027946  L 14.59 0.539946  \" style=\"fill:none;stroke:#ffffff;stroke-linecap:square;stroke-linejoin:miter;stroke-width:0.3;\" />\n   </g>\n   <g id=\"patch_43\">\n    <path d=\"M 14.59 53.027946  L 221.302 53.027946  \" style=\"fill:none;stroke:#ffffff;stroke-linecap:square;stroke-linejoin:miter;stroke-width:0.3;\" />\n   </g>\n   <g id=\"text_6\">\n    \n    <defs>\n     <path d=\"M 10.796875 72.90625  L 49.515625 72.90625  L 49.515625 64.59375  L 19.828125 64.59375  L 19.828125 46.734375  Q 21.96875 47.46875 24.109375 47.828125  Q 26.265625 48.1875 28.421875 48.1875  Q 40.625 48.1875 47.75 41.5  Q 54.890625 34.8125 54.890625 23.390625  Q 54.890625 11.625 47.5625 5.09375  Q 40.234375 -1.421875 26.90625 -1.421875  Q 22.3125 -1.421875 17.546875 -0.640625  Q 12.796875 0.140625 7.71875 1.703125  L 7.71875 11.625  Q 12.109375 9.234375 16.796875 8.0625  Q 21.484375 6.890625 26.703125 6.890625  Q 35.15625 6.890625 40.078125 11.328125  Q 45.015625 15.765625 45.015625 23.390625  Q 45.015625 31 40.078125 35.4375  Q 35.15625 39.890625 26.703125 39.890625  Q 22.75 39.890625 18.8125 39.015625  Q 14.890625 38.140625 10.796875 36.28125  z \" id=\"DejaVuSans-53\" />\n    </defs>\n    <g style=\"fill:#444443;\" transform=\"translate(113.04455 70.523946)scale(0.08 -0.08)\">\n     <use xlink:href=\"#DejaVuSans-57\" />\n     <use x=\"63.623047\" xlink:href=\"#DejaVuSans-57\" />\n     <use x=\"127.246094\" xlink:href=\"#DejaVuSans-46\" />\n     <use x=\"159.033203\" xlink:href=\"#DejaVuSans-51\" />\n     <use x=\"222.65625\" xlink:href=\"#DejaVuSans-53\" />\n    </g>\n   </g>\n  </g>\n </g>\n <defs>\n  <clipPath id=\"pdb210a3956\">\n   <rect height=\"52.488\" width=\"206.712\" x=\"14.59\" y=\"0.539946\" />\n  </clipPath>\n </defs>\n</svg></g>\n\n<g class=\"edge\" id=\"edge11\">\n<title>node1-&gt;node3</title>\n<path d=\"M168.5908,-222.8003C171.4399,-218.4284 174.3612,-213.9457 177.2394,-209.5292\" fill=\"none\" stroke=\"#444443\" stroke-width=\".3\" />\n<polygon fill=\"#444443\" points=\"178.419,-210.2832 179.4301,-206.1676 176.0732,-208.7544 178.419,-210.2832\" stroke=\"#444443\" stroke-width=\".3\" />\n</g>\n\n<g class=\"node\" id=\"node10\">\n<title>leaf2</title>\n<polygon fill=\"none\" points=\"102.5,-188 73.5,-188 73.5,-152 102.5,-152 102.5,-188\" stroke=\"#444443\" stroke-width=\"0\" />\n<svg height=\"28px\" preserveAspectRatio=\"xMinYMin meet\" version=\"1.1\" viewBox=\"0 0 27.864 37.688873\" width=\"21px\" x=\"78\" y=\"-184\">\n <defs>\n  <style type=\"text/css\">\n*{stroke-linecap:butt;stroke-linejoin:round;}\n  </style>\n </defs>\n <g id=\"figure_1\">\n  <g id=\"patch_1\">\n   <path d=\"M 0 37.688873  L 27.864 37.688873  L 27.864 -0  L 0 -0  z \" style=\"fill:#f0f0f0;\" />\n  </g>\n  <g id=\"axes_1\">\n   <g id=\"patch_2\">\n    <path d=\"M 27.864 13.932  C 27.864 12.102467 27.503622 10.290723 26.80349 8.600454  C 26.103357 6.910186 25.077087 5.374264 23.783412 4.080588  C 22.489736 2.786913 20.953814 1.760643 19.263546 1.06051  C 17.573277 0.360378 15.761533 -0 13.932 -0  C 12.102467 -0 10.290723 0.360378 8.600454 1.06051  C 6.910186 1.760643 5.374264 2.786913 4.080588 4.080588  C 2.786913 5.374264 1.760643 6.910186 1.06051 8.600454  C 0.360378 10.290723 0 12.102467 0 13.932  C 0 15.761533 0.360378 17.573277 1.06051 19.263546  C 1.760643 20.953814 2.786913 22.489736 4.080588 23.783412  C 5.374264 25.077087 6.910186 26.103357 8.600454 26.80349  C 10.290723 27.503622 12.102467 27.864 13.932 27.864  C 15.761533 27.864 17.573277 27.503622 19.263546 26.80349  C 20.953814 26.103357 22.489736 25.077087 23.783412 23.783412  C 25.077087 22.489736 26.103357 20.953814 26.80349 19.263546  C 27.503622 17.573277 27.864 15.761533 27.864 13.932  M 13.932 13.932  M 27.864 13.932  z \" style=\"fill:#fefebb;stroke:#444443;stroke-linejoin:miter;stroke-width:0.5;\" />\n   </g>\n   <g id=\"text_1\">\n    \n    <defs>\n     <path d=\"M 54.890625 33.015625  L 54.890625 0  L 45.90625 0  L 45.90625 32.71875  Q 45.90625 40.484375 42.875 44.328125  Q 39.84375 48.1875 33.796875 48.1875  Q 26.515625 48.1875 22.3125 43.546875  Q 18.109375 38.921875 18.109375 30.90625  L 18.109375 0  L 9.078125 0  L 9.078125 54.6875  L 18.109375 54.6875  L 18.109375 46.1875  Q 21.34375 51.125 25.703125 53.5625  Q 30.078125 56 35.796875 56  Q 45.21875 56 50.046875 50.171875  Q 54.890625 44.34375 54.890625 33.015625  z \" id=\"DejaVuSans-110\" />\n     <path d=\"M 10.59375 45.40625  L 73.1875 45.40625  L 73.1875 37.203125  L 10.59375 37.203125  z M 10.59375 25.484375  L 73.1875 25.484375  L 73.1875 17.1875  L 10.59375 17.1875  z \" id=\"DejaVuSans-61\" />\n     <path d=\"M 12.40625 8.296875  L 28.515625 8.296875  L 28.515625 63.921875  L 10.984375 60.40625  L 10.984375 69.390625  L 28.421875 72.90625  L 38.28125 72.90625  L 38.28125 8.296875  L 54.390625 8.296875  L 54.390625 0  L 12.40625 0  z \" id=\"DejaVuSans-49\" />\n     <path d=\"M 37.796875 64.3125  L 12.890625 25.390625  L 37.796875 25.390625  z M 35.203125 72.90625  L 47.609375 72.90625  L 47.609375 25.390625  L 58.015625 25.390625  L 58.015625 17.1875  L 47.609375 17.1875  L 47.609375 0  L 37.796875 0  L 37.796875 17.1875  L 4.890625 17.1875  L 4.890625 26.703125  z \" id=\"DejaVuSans-52\" />\n    </defs>\n    <g style=\"fill:#444443;\" transform=\"translate(1.583016 35.817154)scale(0.09 -0.09)\">\n     <use xlink:href=\"#DejaVuSans-110\" />\n     <use x=\"63.378906\" xlink:href=\"#DejaVuSans-61\" />\n     <use x=\"147.167969\" xlink:href=\"#DejaVuSans-49\" />\n     <use x=\"210.791016\" xlink:href=\"#DejaVuSans-52\" />\n    </g>\n   </g>\n  </g>\n </g>\n</svg></g>\n\n<g class=\"edge\" id=\"edge10\">\n<title>node1-&gt;leaf2</title>\n<path d=\"M121.8159,-222.8003C115.0082,-212.1706 107.7808,-200.8859 101.7629,-191.4894\" fill=\"none\" stroke=\"#444443\" stroke-width=\".3\" />\n<polygon fill=\"#444443\" points=\"102.9398,-190.7311 99.6035,-188.1178 100.5819,-192.2412 102.9398,-190.7311\" stroke=\"#444443\" stroke-width=\".3\" />\n</g>\n\n<g class=\"node\" id=\"node11\">\n<title>leaf10</title>\n<polygon fill=\"none\" points=\"270,-274.5 246,-274.5 246,-243.5 270,-243.5 270,-274.5\" stroke=\"#444443\" stroke-width=\"0\" />\n<svg height=\"23px\" preserveAspectRatio=\"xMinYMin meet\" version=\"1.1\" viewBox=\"0 0 21.384 30.949672\" width=\"16px\" x=\"250\" y=\"-270\">\n <defs>\n  <style type=\"text/css\">\n*{stroke-linecap:butt;stroke-linejoin:round;}\n  </style>\n </defs>\n <g id=\"figure_1\">\n  <g id=\"patch_1\">\n   <path d=\"M 0 30.949672  L 21.384 30.949672  L 21.384 0  L 0 0  z \" style=\"fill:#f0f0f0;\" />\n  </g>\n  <g id=\"axes_1\">\n   <g id=\"patch_2\">\n    <path d=\"M 21.384 10.692  C 21.384 9.287939 21.107431 7.897532 20.57012 6.600349  C 20.032809 5.303166 19.245206 4.124435 18.252386 3.131614  C 17.259565 2.138794 16.080834 1.351191 14.783651 0.81388  C 13.486468 0.276569 12.096061 -0 10.692 -0  C 9.287939 -0 7.897532 0.276569 6.600349 0.81388  C 5.303166 1.351191 4.124435 2.138794 3.131614 3.131614  C 2.138794 4.124435 1.351191 5.303166 0.81388 6.600349  C 0.276569 7.897532 0 9.287939 0 10.692  C 0 12.096061 0.276569 13.486468 0.81388 14.783651  C 1.351191 16.080834 2.138794 17.259565 3.131614 18.252386  C 4.124435 19.245206 5.303166 20.032809 6.600349 20.57012  C 7.897532 21.107431 9.287939 21.384 10.692 21.384  C 12.096061 21.384 13.486468 21.107431 14.783651 20.57012  C 16.080834 20.032809 17.259565 19.245206 18.252386 18.252386  C 19.245206 17.259565 20.032809 16.080834 20.57012 14.783651  C 21.107431 13.486468 21.384 12.096061 21.384 10.692  M 10.692 10.692  M 21.384 10.692  z \" style=\"fill:#a1dab4;stroke:#444443;stroke-linejoin:miter;stroke-width:0.5;\" />\n   </g>\n   <g id=\"text_1\">\n    \n    <defs>\n     <path d=\"M 54.890625 33.015625  L 54.890625 0  L 45.90625 0  L 45.90625 32.71875  Q 45.90625 40.484375 42.875 44.328125  Q 39.84375 48.1875 33.796875 48.1875  Q 26.515625 48.1875 22.3125 43.546875  Q 18.109375 38.921875 18.109375 30.90625  L 18.109375 0  L 9.078125 0  L 9.078125 54.6875  L 18.109375 54.6875  L 18.109375 46.1875  Q 21.34375 51.125 25.703125 53.5625  Q 30.078125 56 35.796875 56  Q 45.21875 56 50.046875 50.171875  Q 54.890625 44.34375 54.890625 33.015625  z \" id=\"DejaVuSans-110\" />\n     <path d=\"M 10.59375 45.40625  L 73.1875 45.40625  L 73.1875 37.203125  L 10.59375 37.203125  z M 10.59375 25.484375  L 73.1875 25.484375  L 73.1875 17.1875  L 10.59375 17.1875  z \" id=\"DejaVuSans-61\" />\n     <path d=\"M 10.984375 1.515625  L 10.984375 10.5  Q 14.703125 8.734375 18.5 7.8125  Q 22.3125 6.890625 25.984375 6.890625  Q 35.75 6.890625 40.890625 13.453125  Q 46.046875 20.015625 46.78125 33.40625  Q 43.953125 29.203125 39.59375 26.953125  Q 35.25 24.703125 29.984375 24.703125  Q 19.046875 24.703125 12.671875 31.3125  Q 6.296875 37.9375 6.296875 49.421875  Q 6.296875 60.640625 12.9375 67.421875  Q 19.578125 74.21875 30.609375 74.21875  Q 43.265625 74.21875 49.921875 64.515625  Q 56.59375 54.828125 56.59375 36.375  Q 56.59375 19.140625 48.40625 8.859375  Q 40.234375 -1.421875 26.421875 -1.421875  Q 22.703125 -1.421875 18.890625 -0.6875  Q 15.09375 0.046875 10.984375 1.515625  z M 30.609375 32.421875  Q 37.25 32.421875 41.125 36.953125  Q 45.015625 41.5 45.015625 49.421875  Q 45.015625 57.28125 41.125 61.84375  Q 37.25 66.40625 30.609375 66.40625  Q 23.96875 66.40625 20.09375 61.84375  Q 16.21875 57.28125 16.21875 49.421875  Q 16.21875 41.5 20.09375 36.953125  Q 23.96875 32.421875 30.609375 32.421875  z \" id=\"DejaVuSans-57\" />\n    </defs>\n    <g style=\"fill:#444443;\" transform=\"translate(1.206141 29.077954)scale(0.09 -0.09)\">\n     <use xlink:href=\"#DejaVuSans-110\" />\n     <use x=\"63.378906\" xlink:href=\"#DejaVuSans-61\" />\n     <use x=\"147.167969\" xlink:href=\"#DejaVuSans-57\" />\n    </g>\n   </g>\n  </g>\n </g>\n</svg></g>\n\n\n<g class=\"node\" id=\"node5\">\n<title>node0</title>\n<svg height=\"90px\" preserveAspectRatio=\"xMinYMin meet\" version=\"1.1\" viewBox=\"0 0 221.302 120.33625\" width=\"166px\" x=\"118\" y=\"-420\">\n <defs>\n  <style type=\"text/css\">\n*{stroke-linecap:butt;stroke-linejoin:round;}\n  </style>\n </defs>\n <g id=\"figure_1\">\n  <g id=\"patch_1\">\n   <path d=\"M 0 120.33625  L 221.302 120.33625  L 221.302 0  L 0 0  z \" style=\"fill:#f0f0f0;\" />\n  </g>\n  <g id=\"axes_1\">\n   <g id=\"patch_2\">\n    <path d=\"M 14.59 87.48  L 221.302 87.48  L 221.302 0  L 14.59 0  z \" style=\"fill:#eaeaf2;\" />\n   </g>\n   <g id=\"matplotlib.axis_1\">\n    <g id=\"xtick_1\">\n     <g id=\"line2d_1\">\n      <path clip-path=\"url(#pe81230bc59)\" d=\"M 72.029266 87.48  L 72.029266 0  \" style=\"fill:none;stroke:#ffffff;stroke-linecap:round;\" />\n     </g>\n     <g id=\"text_1\">\n      \n      <defs>\n       <path d=\"M 10.984375 1.515625  L 10.984375 10.5  Q 14.703125 8.734375 18.5 7.8125  Q 22.3125 6.890625 25.984375 6.890625  Q 35.75 6.890625 40.890625 13.453125  Q 46.046875 20.015625 46.78125 33.40625  Q 43.953125 29.203125 39.59375 26.953125  Q 35.25 24.703125 29.984375 24.703125  Q 19.046875 24.703125 12.671875 31.3125  Q 6.296875 37.9375 6.296875 49.421875  Q 6.296875 60.640625 12.9375 67.421875  Q 19.578125 74.21875 30.609375 74.21875  Q 43.265625 74.21875 49.921875 64.515625  Q 56.59375 54.828125 56.59375 36.375  Q 56.59375 19.140625 48.40625 8.859375  Q 40.234375 -1.421875 26.421875 -1.421875  Q 22.703125 -1.421875 18.890625 -0.6875  Q 15.09375 0.046875 10.984375 1.515625  z M 30.609375 32.421875  Q 37.25 32.421875 41.125 36.953125  Q 45.015625 41.5 45.015625 49.421875  Q 45.015625 57.28125 41.125 61.84375  Q 37.25 66.40625 30.609375 66.40625  Q 23.96875 66.40625 20.09375 61.84375  Q 16.21875 57.28125 16.21875 49.421875  Q 16.21875 41.5 20.09375 36.953125  Q 23.96875 32.421875 30.609375 32.421875  z \" id=\"DejaVuSans-57\" />\n       <path d=\"M 12.40625 8.296875  L 28.515625 8.296875  L 28.515625 63.921875  L 10.984375 60.40625  L 10.984375 69.390625  L 28.421875 72.90625  L 38.28125 72.90625  L 38.28125 8.296875  L 54.390625 8.296875  L 54.390625 0  L 12.40625 0  z \" id=\"DejaVuSans-49\" />\n       <path d=\"M 10.6875 12.40625  L 21 12.40625  L 21 0  L 10.6875 0  z \" id=\"DejaVuSans-46\" />\n      </defs>\n      <g style=\"fill:#444443;\" transform=\"translate(63.123016 103.05875)scale(0.08 -0.08)\">\n       <use xlink:href=\"#DejaVuSans-57\" />\n       <use x=\"63.623047\" xlink:href=\"#DejaVuSans-49\" />\n       <use x=\"127.246094\" xlink:href=\"#DejaVuSans-46\" />\n       <use x=\"159.033203\" xlink:href=\"#DejaVuSans-49\" />\n      </g>\n     </g>\n    </g>\n    <g id=\"xtick_2\">\n     <g id=\"line2d_2\">\n      <path clip-path=\"url(#pe81230bc59)\" d=\"M 180.003736 87.48  L 180.003736 0  \" style=\"fill:none;stroke:#ffffff;stroke-linecap:round;\" />\n     </g>\n     <g id=\"text_2\">\n      \n      <defs>\n       <path d=\"M 31.78125 66.40625  Q 24.171875 66.40625 20.328125 58.90625  Q 16.5 51.421875 16.5 36.375  Q 16.5 21.390625 20.328125 13.890625  Q 24.171875 6.390625 31.78125 6.390625  Q 39.453125 6.390625 43.28125 13.890625  Q 47.125 21.390625 47.125 36.375  Q 47.125 51.421875 43.28125 58.90625  Q 39.453125 66.40625 31.78125 66.40625  z M 31.78125 74.21875  Q 44.046875 74.21875 50.515625 64.515625  Q 56.984375 54.828125 56.984375 36.375  Q 56.984375 17.96875 50.515625 8.265625  Q 44.046875 -1.421875 31.78125 -1.421875  Q 19.53125 -1.421875 13.0625 8.265625  Q 6.59375 17.96875 6.59375 36.375  Q 6.59375 54.828125 13.0625 64.515625  Q 19.53125 74.21875 31.78125 74.21875  z \" id=\"DejaVuSans-48\" />\n       <path d=\"M 37.796875 64.3125  L 12.890625 25.390625  L 37.796875 25.390625  z M 35.203125 72.90625  L 47.609375 72.90625  L 47.609375 25.390625  L 58.015625 25.390625  L 58.015625 17.1875  L 47.609375 17.1875  L 47.609375 0  L 37.796875 0  L 37.796875 17.1875  L 4.890625 17.1875  L 4.890625 26.703125  z \" id=\"DejaVuSans-52\" />\n       <path d=\"M 31.78125 34.625  Q 24.75 34.625 20.71875 30.859375  Q 16.703125 27.09375 16.703125 20.515625  Q 16.703125 13.921875 20.71875 10.15625  Q 24.75 6.390625 31.78125 6.390625  Q 38.8125 6.390625 42.859375 10.171875  Q 46.921875 13.96875 46.921875 20.515625  Q 46.921875 27.09375 42.890625 30.859375  Q 38.875 34.625 31.78125 34.625  z M 21.921875 38.8125  Q 15.578125 40.375 12.03125 44.71875  Q 8.5 49.078125 8.5 55.328125  Q 8.5 64.0625 14.71875 69.140625  Q 20.953125 74.21875 31.78125 74.21875  Q 42.671875 74.21875 48.875 69.140625  Q 55.078125 64.0625 55.078125 55.328125  Q 55.078125 49.078125 51.53125 44.71875  Q 48 40.375 41.703125 38.8125  Q 48.828125 37.15625 52.796875 32.3125  Q 56.78125 27.484375 56.78125 20.515625  Q 56.78125 9.90625 50.3125 4.234375  Q 43.84375 -1.421875 31.78125 -1.421875  Q 19.734375 -1.421875 13.25 4.234375  Q 6.78125 9.90625 6.78125 20.515625  Q 6.78125 27.484375 10.78125 32.3125  Q 14.796875 37.15625 21.921875 38.8125  z M 18.3125 54.390625  Q 18.3125 48.734375 21.84375 45.5625  Q 25.390625 42.390625 31.78125 42.390625  Q 38.140625 42.390625 41.71875 45.5625  Q 45.3125 48.734375 45.3125 54.390625  Q 45.3125 60.0625 41.71875 63.234375  Q 38.140625 66.40625 31.78125 66.40625  Q 25.390625 66.40625 21.84375 63.234375  Q 18.3125 60.0625 18.3125 54.390625  z \" id=\"DejaVuSans-56\" />\n      </defs>\n      <g style=\"fill:#444443;\" transform=\"translate(168.552486 103.05875)scale(0.08 -0.08)\">\n       <use xlink:href=\"#DejaVuSans-49\" />\n       <use x=\"63.623047\" xlink:href=\"#DejaVuSans-48\" />\n       <use x=\"127.246094\" xlink:href=\"#DejaVuSans-52\" />\n       <use x=\"190.869141\" xlink:href=\"#DejaVuSans-46\" />\n       <use x=\"222.65625\" xlink:href=\"#DejaVuSans-56\" />\n      </g>\n     </g>\n    </g>\n    <g id=\"text_3\">\n     \n     <defs>\n      <path d=\"M 64.40625 67.28125  L 64.40625 56.890625  Q 59.421875 61.53125 53.78125 63.8125  Q 48.140625 66.109375 41.796875 66.109375  Q 29.296875 66.109375 22.65625 58.46875  Q 16.015625 50.828125 16.015625 36.375  Q 16.015625 21.96875 22.65625 14.328125  Q 29.296875 6.6875 41.796875 6.6875  Q 48.140625 6.6875 53.78125 8.984375  Q 59.421875 11.28125 64.40625 15.921875  L 64.40625 5.609375  Q 59.234375 2.09375 53.4375 0.328125  Q 47.65625 -1.421875 41.21875 -1.421875  Q 24.65625 -1.421875 15.125 8.703125  Q 5.609375 18.84375 5.609375 36.375  Q 5.609375 53.953125 15.125 64.078125  Q 24.65625 74.21875 41.21875 74.21875  Q 47.75 74.21875 53.53125 72.484375  Q 59.328125 70.75 64.40625 67.28125  z \" id=\"DejaVuSans-67\" />\n      <path d=\"M 8.5 21.578125  L 8.5 54.6875  L 17.484375 54.6875  L 17.484375 21.921875  Q 17.484375 14.15625 20.5 10.265625  Q 23.53125 6.390625 29.59375 6.390625  Q 36.859375 6.390625 41.078125 11.03125  Q 45.3125 15.671875 45.3125 23.6875  L 45.3125 54.6875  L 54.296875 54.6875  L 54.296875 0  L 45.3125 0  L 45.3125 8.40625  Q 42.046875 3.421875 37.71875 1  Q 33.40625 -1.421875 27.6875 -1.421875  Q 18.265625 -1.421875 13.375 4.4375  Q 8.5 10.296875 8.5 21.578125  z M 31.109375 56  z \" id=\"DejaVuSans-117\" />\n      <path d=\"M 9.421875 75.984375  L 18.40625 75.984375  L 18.40625 0  L 9.421875 0  z \" id=\"DejaVuSans-108\" />\n      <path d=\"M 18.3125 70.21875  L 18.3125 54.6875  L 36.8125 54.6875  L 36.8125 47.703125  L 18.3125 47.703125  L 18.3125 18.015625  Q 18.3125 11.328125 20.140625 9.421875  Q 21.96875 7.515625 27.59375 7.515625  L 36.8125 7.515625  L 36.8125 0  L 27.59375 0  Q 17.1875 0 13.234375 3.875  Q 9.28125 7.765625 9.28125 18.015625  L 9.28125 47.703125  L 2.6875 47.703125  L 2.6875 54.6875  L 9.28125 54.6875  L 9.28125 70.21875  z \" id=\"DejaVuSans-116\" />\n      <path d=\"M 41.109375 46.296875  Q 39.59375 47.171875 37.8125 47.578125  Q 36.03125 48 33.890625 48  Q 26.265625 48 22.1875 43.046875  Q 18.109375 38.09375 18.109375 28.8125  L 18.109375 0  L 9.078125 0  L 9.078125 54.6875  L 18.109375 54.6875  L 18.109375 46.1875  Q 20.953125 51.171875 25.484375 53.578125  Q 30.03125 56 36.53125 56  Q 37.453125 56 38.578125 55.875  Q 39.703125 55.765625 41.0625 55.515625  z \" id=\"DejaVuSans-114\" />\n      <path d=\"M 56.203125 29.59375  L 56.203125 25.203125  L 14.890625 25.203125  Q 15.484375 15.921875 20.484375 11.0625  Q 25.484375 6.203125 34.421875 6.203125  Q 39.59375 6.203125 44.453125 7.46875  Q 49.3125 8.734375 54.109375 11.28125  L 54.109375 2.78125  Q 49.265625 0.734375 44.1875 -0.34375  Q 39.109375 -1.421875 33.890625 -1.421875  Q 20.796875 -1.421875 13.15625 6.1875  Q 5.515625 13.8125 5.515625 26.8125  Q 5.515625 40.234375 12.765625 48.109375  Q 20.015625 56 32.328125 56  Q 43.359375 56 49.78125 48.890625  Q 56.203125 41.796875 56.203125 29.59375  z M 47.21875 32.234375  Q 47.125 39.59375 43.09375 43.984375  Q 39.0625 48.390625 32.421875 48.390625  Q 24.90625 48.390625 20.390625 44.140625  Q 15.875 39.890625 15.1875 32.171875  z \" id=\"DejaVuSans-101\" />\n     </defs>\n     <g style=\"fill:#444443;\" transform=\"translate(95.975687 117.840625)scale(0.12 -0.12)\">\n      <use xlink:href=\"#DejaVuSans-67\" />\n      <use x=\"69.824219\" xlink:href=\"#DejaVuSans-117\" />\n      <use x=\"133.203125\" xlink:href=\"#DejaVuSans-108\" />\n      <use x=\"160.986328\" xlink:href=\"#DejaVuSans-116\" />\n      <use x=\"200.195312\" xlink:href=\"#DejaVuSans-117\" />\n      <use x=\"263.574219\" xlink:href=\"#DejaVuSans-114\" />\n      <use x=\"304.65625\" xlink:href=\"#DejaVuSans-101\" />\n     </g>\n    </g>\n   </g>\n   <g id=\"matplotlib.axis_2\">\n    <g id=\"ytick_1\">\n     <g id=\"line2d_3\">\n      <path clip-path=\"url(#pe81230bc59)\" d=\"M 14.59 87.48  L 221.302 87.48  \" style=\"fill:none;stroke:#ffffff;stroke-linecap:round;\" />\n     </g>\n     <g id=\"text_4\">\n      \n      <g style=\"fill:#444443;\" transform=\"translate(0 90.519375)scale(0.08 -0.08)\">\n       <use xlink:href=\"#DejaVuSans-48\" />\n      </g>\n     </g>\n    </g>\n    <g id=\"ytick_2\">\n     <g id=\"line2d_4\">\n      <path clip-path=\"url(#pe81230bc59)\" d=\"M 14.59 4.165714  L 221.302 4.165714  \" style=\"fill:none;stroke:#ffffff;stroke-linecap:round;\" />\n     </g>\n     <g id=\"text_5\">\n      \n      <g style=\"fill:#444443;\" transform=\"translate(0 7.205089)scale(0.08 -0.08)\">\n       <use xlink:href=\"#DejaVuSans-56\" />\n      </g>\n     </g>\n    </g>\n   </g>\n   <g id=\"patch_3\">\n    <path clip-path=\"url(#pe81230bc59)\" d=\"M 72.029266 87.48  L 77.712132 87.48  L 77.712132 77.065714  L 72.029266 77.065714  z \" style=\"fill:#fefebb;stroke:#444443;stroke-linejoin:miter;stroke-width:0.5;\" />\n   </g>\n   <g id=\"patch_4\">\n    <path clip-path=\"url(#pe81230bc59)\" d=\"M 77.712132 87.48  L 83.394999 87.48  L 83.394999 66.651429  L 77.712132 66.651429  z \" style=\"fill:#fefebb;stroke:#444443;stroke-linejoin:miter;stroke-width:0.5;\" />\n   </g>\n   <g id=\"patch_5\">\n    <path clip-path=\"url(#pe81230bc59)\" d=\"M 83.394999 87.48  L 89.077866 87.48  L 89.077866 77.065714  L 83.394999 77.065714  z \" style=\"fill:#fefebb;stroke:#444443;stroke-linejoin:miter;stroke-width:0.5;\" />\n   </g>\n   <g id=\"patch_6\">\n    <path clip-path=\"url(#pe81230bc59)\" d=\"M 89.077866 87.48  L 94.760733 87.48  L 94.760733 87.48  L 89.077866 87.48  z \" style=\"fill:#fefebb;stroke:#444443;stroke-linejoin:miter;stroke-width:0.5;\" />\n   </g>\n   <g id=\"patch_7\">\n    <path clip-path=\"url(#pe81230bc59)\" d=\"M 94.760733 87.48  L 100.4436 87.48  L 100.4436 77.065714  L 94.760733 77.065714  z \" style=\"fill:#fefebb;stroke:#444443;stroke-linejoin:miter;stroke-width:0.5;\" />\n   </g>\n   <g id=\"patch_8\">\n    <path clip-path=\"url(#pe81230bc59)\" d=\"M 100.4436 87.48  L 106.126467 87.48  L 106.126467 56.237143  L 100.4436 56.237143  z \" style=\"fill:#fefebb;stroke:#444443;stroke-linejoin:miter;stroke-width:0.5;\" />\n   </g>\n   <g id=\"patch_9\">\n    <path clip-path=\"url(#pe81230bc59)\" d=\"M 106.126467 87.48  L 111.809333 87.48  L 111.809333 45.822857  L 106.126467 45.822857  z \" style=\"fill:#fefebb;stroke:#444443;stroke-linejoin:miter;stroke-width:0.5;\" />\n   </g>\n   <g id=\"patch_10\">\n    <path clip-path=\"url(#pe81230bc59)\" d=\"M 111.809333 87.48  L 117.4922 87.48  L 117.4922 14.58  L 111.809333 14.58  z \" style=\"fill:#fefebb;stroke:#444443;stroke-linejoin:miter;stroke-width:0.5;\" />\n   </g>\n   <g id=\"patch_11\">\n    <path clip-path=\"url(#pe81230bc59)\" d=\"M 117.4922 87.48  L 123.175067 87.48  L 123.175067 56.237143  L 117.4922 56.237143  z \" style=\"fill:#fefebb;stroke:#444443;stroke-linejoin:miter;stroke-width:0.5;\" />\n   </g>\n   <g id=\"patch_12\">\n    <path clip-path=\"url(#pe81230bc59)\" d=\"M 123.175067 87.48  L 128.857934 87.48  L 128.857934 35.408571  L 123.175067 35.408571  z \" style=\"fill:#fefebb;stroke:#444443;stroke-linejoin:miter;stroke-width:0.5;\" />\n   </g>\n   <g id=\"patch_13\">\n    <path clip-path=\"url(#pe81230bc59)\" d=\"M 128.857934 87.48  L 134.540801 87.48  L 134.540801 77.065714  L 128.857934 77.065714  z \" style=\"fill:#fefebb;stroke:#444443;stroke-linejoin:miter;stroke-width:0.5;\" />\n   </g>\n   <g id=\"patch_14\">\n    <path clip-path=\"url(#pe81230bc59)\" d=\"M 134.540801 87.48  L 140.223668 87.48  L 140.223668 66.651429  L 134.540801 66.651429  z \" style=\"fill:#fefebb;stroke:#444443;stroke-linejoin:miter;stroke-width:0.5;\" />\n   </g>\n   <g id=\"patch_15\">\n    <path clip-path=\"url(#pe81230bc59)\" d=\"M 140.223668 87.48  L 145.906534 87.48  L 145.906534 77.065714  L 140.223668 77.065714  z \" style=\"fill:#fefebb;stroke:#444443;stroke-linejoin:miter;stroke-width:0.5;\" />\n   </g>\n   <g id=\"patch_16\">\n    <path clip-path=\"url(#pe81230bc59)\" d=\"M 145.906534 87.48  L 151.589401 87.48  L 151.589401 87.48  L 145.906534 87.48  z \" style=\"fill:#fefebb;stroke:#444443;stroke-linejoin:miter;stroke-width:0.5;\" />\n   </g>\n   <g id=\"patch_17\">\n    <path clip-path=\"url(#pe81230bc59)\" d=\"M 151.589401 87.48  L 157.272268 87.48  L 157.272268 87.48  L 151.589401 87.48  z \" style=\"fill:#fefebb;stroke:#444443;stroke-linejoin:miter;stroke-width:0.5;\" />\n   </g>\n   <g id=\"patch_18\">\n    <path clip-path=\"url(#pe81230bc59)\" d=\"M 157.272268 87.48  L 162.955135 87.48  L 162.955135 87.48  L 157.272268 87.48  z \" style=\"fill:#fefebb;stroke:#444443;stroke-linejoin:miter;stroke-width:0.5;\" />\n   </g>\n   <g id=\"patch_19\">\n    <path clip-path=\"url(#pe81230bc59)\" d=\"M 162.955135 87.48  L 168.638002 87.48  L 168.638002 87.48  L 162.955135 87.48  z \" style=\"fill:#fefebb;stroke:#444443;stroke-linejoin:miter;stroke-width:0.5;\" />\n   </g>\n   <g id=\"patch_20\">\n    <path clip-path=\"url(#pe81230bc59)\" d=\"M 168.638002 87.48  L 174.320869 87.48  L 174.320869 87.48  L 168.638002 87.48  z \" style=\"fill:#fefebb;stroke:#444443;stroke-linejoin:miter;stroke-width:0.5;\" />\n   </g>\n   <g id=\"patch_21\">\n    <path clip-path=\"url(#pe81230bc59)\" d=\"M 174.320869 87.48  L 180.003736 87.48  L 180.003736 87.48  L 174.320869 87.48  z \" style=\"fill:#fefebb;stroke:#444443;stroke-linejoin:miter;stroke-width:0.5;\" />\n   </g>\n   <g id=\"patch_22\">\n    <path clip-path=\"url(#pe81230bc59)\" d=\"M 72.029266 77.065714  L 77.712132 77.065714  L 77.712132 77.065714  L 72.029266 77.065714  z \" style=\"fill:#a1dab4;stroke:#444443;stroke-linejoin:miter;stroke-width:0.5;\" />\n   </g>\n   <g id=\"patch_23\">\n    <path clip-path=\"url(#pe81230bc59)\" d=\"M 77.712132 66.651429  L 83.394999 66.651429  L 83.394999 66.651429  L 77.712132 66.651429  z \" style=\"fill:#a1dab4;stroke:#444443;stroke-linejoin:miter;stroke-width:0.5;\" />\n   </g>\n   <g id=\"patch_24\">\n    <path clip-path=\"url(#pe81230bc59)\" d=\"M 83.394999 77.065714  L 89.077866 77.065714  L 89.077866 77.065714  L 83.394999 77.065714  z \" style=\"fill:#a1dab4;stroke:#444443;stroke-linejoin:miter;stroke-width:0.5;\" />\n   </g>\n   <g id=\"patch_25\">\n    <path clip-path=\"url(#pe81230bc59)\" d=\"M 89.077866 87.48  L 94.760733 87.48  L 94.760733 87.48  L 89.077866 87.48  z \" style=\"fill:#a1dab4;stroke:#444443;stroke-linejoin:miter;stroke-width:0.5;\" />\n   </g>\n   <g id=\"patch_26\">\n    <path clip-path=\"url(#pe81230bc59)\" d=\"M 94.760733 77.065714  L 100.4436 77.065714  L 100.4436 77.065714  L 94.760733 77.065714  z \" style=\"fill:#a1dab4;stroke:#444443;stroke-linejoin:miter;stroke-width:0.5;\" />\n   </g>\n   <g id=\"patch_27\">\n    <path clip-path=\"url(#pe81230bc59)\" d=\"M 100.4436 56.237143  L 106.126467 56.237143  L 106.126467 45.822857  L 100.4436 45.822857  z \" style=\"fill:#a1dab4;stroke:#444443;stroke-linejoin:miter;stroke-width:0.5;\" />\n   </g>\n   <g id=\"patch_28\">\n    <path clip-path=\"url(#pe81230bc59)\" d=\"M 106.126467 45.822857  L 111.809333 45.822857  L 111.809333 35.408571  L 106.126467 35.408571  z \" style=\"fill:#a1dab4;stroke:#444443;stroke-linejoin:miter;stroke-width:0.5;\" />\n   </g>\n   <g id=\"patch_29\">\n    <path clip-path=\"url(#pe81230bc59)\" d=\"M 111.809333 14.58  L 117.4922 14.58  L 117.4922 4.165714  L 111.809333 4.165714  z \" style=\"fill:#a1dab4;stroke:#444443;stroke-linejoin:miter;stroke-width:0.5;\" />\n   </g>\n   <g id=\"patch_30\">\n    <path clip-path=\"url(#pe81230bc59)\" d=\"M 117.4922 56.237143  L 123.175067 56.237143  L 123.175067 35.408571  L 117.4922 35.408571  z \" style=\"fill:#a1dab4;stroke:#444443;stroke-linejoin:miter;stroke-width:0.5;\" />\n   </g>\n   <g id=\"patch_31\">\n    <path clip-path=\"url(#pe81230bc59)\" d=\"M 123.175067 35.408571  L 128.857934 35.408571  L 128.857934 35.408571  L 123.175067 35.408571  z \" style=\"fill:#a1dab4;stroke:#444443;stroke-linejoin:miter;stroke-width:0.5;\" />\n   </g>\n   <g id=\"patch_32\">\n    <path clip-path=\"url(#pe81230bc59)\" d=\"M 128.857934 77.065714  L 134.540801 77.065714  L 134.540801 77.065714  L 128.857934 77.065714  z \" style=\"fill:#a1dab4;stroke:#444443;stroke-linejoin:miter;stroke-width:0.5;\" />\n   </g>\n   <g id=\"patch_33\">\n    <path clip-path=\"url(#pe81230bc59)\" d=\"M 134.540801 66.651429  L 140.223668 66.651429  L 140.223668 45.822857  L 134.540801 45.822857  z \" style=\"fill:#a1dab4;stroke:#444443;stroke-linejoin:miter;stroke-width:0.5;\" />\n   </g>\n   <g id=\"patch_34\">\n    <path clip-path=\"url(#pe81230bc59)\" d=\"M 140.223668 77.065714  L 145.906534 77.065714  L 145.906534 66.651429  L 140.223668 66.651429  z \" style=\"fill:#a1dab4;stroke:#444443;stroke-linejoin:miter;stroke-width:0.5;\" />\n   </g>\n   <g id=\"patch_35\">\n    <path clip-path=\"url(#pe81230bc59)\" d=\"M 145.906534 87.48  L 151.589401 87.48  L 151.589401 77.065714  L 145.906534 77.065714  z \" style=\"fill:#a1dab4;stroke:#444443;stroke-linejoin:miter;stroke-width:0.5;\" />\n   </g>\n   <g id=\"patch_36\">\n    <path clip-path=\"url(#pe81230bc59)\" d=\"M 151.589401 87.48  L 157.272268 87.48  L 157.272268 66.651429  L 151.589401 66.651429  z \" style=\"fill:#a1dab4;stroke:#444443;stroke-linejoin:miter;stroke-width:0.5;\" />\n   </g>\n   <g id=\"patch_37\">\n    <path clip-path=\"url(#pe81230bc59)\" d=\"M 157.272268 87.48  L 162.955135 87.48  L 162.955135 66.651429  L 157.272268 66.651429  z \" style=\"fill:#a1dab4;stroke:#444443;stroke-linejoin:miter;stroke-width:0.5;\" />\n   </g>\n   <g id=\"patch_38\">\n    <path clip-path=\"url(#pe81230bc59)\" d=\"M 162.955135 87.48  L 168.638002 87.48  L 168.638002 87.48  L 162.955135 87.48  z \" style=\"fill:#a1dab4;stroke:#444443;stroke-linejoin:miter;stroke-width:0.5;\" />\n   </g>\n   <g id=\"patch_39\">\n    <path clip-path=\"url(#pe81230bc59)\" d=\"M 168.638002 87.48  L 174.320869 87.48  L 174.320869 77.065714  L 168.638002 77.065714  z \" style=\"fill:#a1dab4;stroke:#444443;stroke-linejoin:miter;stroke-width:0.5;\" />\n   </g>\n   <g id=\"patch_40\">\n    <path clip-path=\"url(#pe81230bc59)\" d=\"M 174.320869 87.48  L 180.003736 87.48  L 180.003736 66.651429  L 174.320869 66.651429  z \" style=\"fill:#a1dab4;stroke:#444443;stroke-linejoin:miter;stroke-width:0.5;\" />\n   </g>\n   <g id=\"patch_41\">\n    <path d=\"M 140.99108 88.3548  L 137.270264 96.228  L 144.711896 96.228  z \" style=\"fill:#444443;stroke:#ffffff;stroke-linejoin:miter;\" />\n   </g>\n   <g id=\"patch_42\">\n    <path d=\"M 14.59 87.48  L 14.59 0  \" style=\"fill:none;stroke:#ffffff;stroke-linecap:square;stroke-linejoin:miter;stroke-width:0.3;\" />\n   </g>\n   <g id=\"patch_43\">\n    <path d=\"M 14.59 87.48  L 221.302 87.48  \" style=\"fill:none;stroke:#ffffff;stroke-linecap:square;stroke-linejoin:miter;stroke-width:0.3;\" />\n   </g>\n   <g id=\"text_6\">\n    \n    <defs>\n     <path d=\"M 10.796875 72.90625  L 49.515625 72.90625  L 49.515625 64.59375  L 19.828125 64.59375  L 19.828125 46.734375  Q 21.96875 47.46875 24.109375 47.828125  Q 26.265625 48.1875 28.421875 48.1875  Q 40.625 48.1875 47.75 41.5  Q 54.890625 34.8125 54.890625 23.390625  Q 54.890625 11.625 47.5625 5.09375  Q 40.234375 -1.421875 26.90625 -1.421875  Q 22.3125 -1.421875 17.546875 -0.640625  Q 12.796875 0.140625 7.71875 1.703125  L 7.71875 11.625  Q 12.109375 9.234375 16.796875 8.0625  Q 21.484375 6.890625 26.703125 6.890625  Q 35.15625 6.890625 40.078125 11.328125  Q 45.015625 15.765625 45.015625 23.390625  Q 45.015625 31 40.078125 35.4375  Q 35.15625 39.890625 26.703125 39.890625  Q 22.75 39.890625 18.8125 39.015625  Q 14.890625 38.140625 10.796875 36.28125  z \" id=\"DejaVuSans-53\" />\n    </defs>\n    <g style=\"fill:#444443;\" transform=\"translate(129.53983 104.976)scale(0.08 -0.08)\">\n     <use xlink:href=\"#DejaVuSans-57\" />\n     <use x=\"63.623047\" xlink:href=\"#DejaVuSans-57\" />\n     <use x=\"127.246094\" xlink:href=\"#DejaVuSans-46\" />\n     <use x=\"159.033203\" xlink:href=\"#DejaVuSans-56\" />\n     <use x=\"222.65625\" xlink:href=\"#DejaVuSans-53\" />\n    </g>\n   </g>\n  </g>\n </g>\n <defs>\n  <clipPath id=\"pe81230bc59\">\n   <rect height=\"87.48\" width=\"206.712\" x=\"14.59\" y=\"0\" />\n  </clipPath>\n </defs>\n</svg></g>\n\n<g class=\"edge\" id=\"edge13\">\n<title>node0-&gt;node1</title>\n<path d=\"M177.251,-325.8056C172.921,-316.8364 168.4523,-307.5797 164.2719,-298.9203\" fill=\"none\" stroke=\"#444443\" stroke-width=\".3\" />\n<polygon fill=\"#444443\" points=\"165.499,-298.2419 162.4992,-295.2483 162.9775,-299.4592 165.499,-298.2419\" stroke=\"#444443\" stroke-width=\".3\" />\n<text fill=\"#000000\" font-family=\"Times,serif\" font-size=\"14.00\" text-anchor=\"start\" x=\"173\" y=\"-306.8\">&lt;</text>\n</g>\n\n<g class=\"edge\" id=\"edge14\">\n<title>node0-&gt;leaf10</title>\n<path d=\"M225.1731,-325.8056C233.3675,-309.1293 242.0505,-291.4587 248.4268,-278.4824\" fill=\"none\" stroke=\"#444443\" stroke-width=\".3\" />\n<polygon fill=\"#444443\" points=\"249.8209,-278.8197 250.3285,-274.6123 247.3078,-277.5848 249.8209,-278.8197\" stroke=\"#444443\" stroke-width=\".3\" />\n<text fill=\"#000000\" font-family=\"Times,serif\" font-size=\"14.00\" text-anchor=\"start\" x=\"237\" y=\"-306.8\">&#8805;</text>\n</g>\n\n\n\n\n<g class=\"node\" id=\"node12\">\n<title>legend</title>\n<polygon fill=\"none\" points=\"360.5,-399 295.5,-399 295.5,-351 360.5,-351 360.5,-399\" stroke=\"#000000\" stroke-width=\"0\" />\n<svg height=\"44px\" preserveAspectRatio=\"xMinYMin meet\" version=\"1.1\" viewBox=\"0 0 81.7625 58.32\" width=\"61px\" x=\"298\" y=\"-397\">\n <defs>\n  <style type=\"text/css\">\n*{stroke-linecap:butt;stroke-linejoin:round;}\n  </style>\n </defs>\n <g id=\"figure_1\">\n  <g id=\"patch_1\">\n   <path d=\"M 0 58.32  L 81.7625 58.32  L 81.7625 0  L 0 0  z \" style=\"fill:#f0f0f0;\" />\n  </g>\n  <g id=\"axes_1\">\n   <g id=\"legend_1\">\n    <g id=\"patch_2\">\n     <path d=\"M 2.2 58.117812  L 79.5625 58.117812  Q 81.7625 58.117812 81.7625 55.917812  L 81.7625 2.402187  Q 81.7625 0.202187 79.5625 0.202187  L 2.2 0.202187  Q -0 0.202187 -0 2.402187  L -0 55.917812  Q -0 58.117812 2.2 58.117812  z \" style=\"fill:#eaeaf2;opacity:0.8;stroke:#444443;stroke-linejoin:miter;stroke-width:0.5;\" />\n    </g>\n    <g id=\"text_1\">\n     \n     <defs>\n      <path d=\"M 38.375 44.671875  Q 42.828125 44.671875 45.109375 46.625  Q 47.40625 48.578125 47.40625 52.390625  Q 47.40625 56.15625 45.109375 58.125  Q 42.828125 60.109375 38.375 60.109375  L 27.984375 60.109375  L 27.984375 44.671875  z M 39.015625 12.796875  Q 44.671875 12.796875 47.53125 15.1875  Q 50.390625 17.578125 50.390625 22.40625  Q 50.390625 27.15625 47.5625 29.515625  Q 44.734375 31.890625 39.015625 31.890625  L 27.984375 31.890625  L 27.984375 12.796875  z M 56.5 39.015625  Q 62.546875 37.25 65.859375 32.515625  Q 69.1875 27.78125 69.1875 20.90625  Q 69.1875 10.359375 62.0625 5.171875  Q 54.9375 0 40.375 0  L 9.1875 0  L 9.1875 72.90625  L 37.40625 72.90625  Q 52.59375 72.90625 59.40625 68.3125  Q 66.21875 63.71875 66.21875 53.609375  Q 66.21875 48.296875 63.71875 44.5625  Q 61.234375 40.828125 56.5 39.015625  z \" id=\"DejaVuSans-Bold-66\" />\n      <path d=\"M 8.40625 54.6875  L 25.875 54.6875  L 25.875 0  L 8.40625 0  z M 8.40625 75.984375  L 25.875 75.984375  L 25.875 61.71875  L 8.40625 61.71875  z \" id=\"DejaVuSans-Bold-105\" />\n      <path d=\"M 45.609375 9.28125  Q 42 4.5 37.640625 2.25  Q 33.296875 0 27.59375 0  Q 17.578125 0 11.03125 7.875  Q 4.5 15.765625 4.5 27.984375  Q 4.5 40.234375 11.03125 48.0625  Q 17.578125 55.90625 27.59375 55.90625  Q 33.296875 55.90625 37.640625 53.65625  Q 42 51.421875 45.609375 46.578125  L 45.609375 54.6875  L 63.1875 54.6875  L 63.1875 5.515625  Q 63.1875 -7.671875 54.859375 -14.625  Q 46.53125 -21.578125 30.71875 -21.578125  Q 25.59375 -21.578125 20.796875 -20.796875  Q 16.015625 -20.015625 11.1875 -18.40625  L 11.1875 -4.78125  Q 15.765625 -7.421875 20.15625 -8.71875  Q 24.5625 -10.015625 29 -10.015625  Q 37.59375 -10.015625 41.59375 -6.25  Q 45.609375 -2.484375 45.609375 5.515625  z M 34.078125 43.3125  Q 28.65625 43.3125 25.625 39.296875  Q 22.609375 35.296875 22.609375 27.984375  Q 22.609375 20.453125 25.53125 16.578125  Q 28.46875 12.703125 34.078125 12.703125  Q 39.546875 12.703125 42.578125 16.703125  Q 45.609375 20.703125 45.609375 27.984375  Q 45.609375 35.296875 42.578125 39.296875  Q 39.546875 43.3125 34.078125 43.3125  z \" id=\"DejaVuSans-Bold-103\" />\n      <path d=\"M 67 4  Q 61.8125 1.3125 56.203125 -0.046875  Q 50.59375 -1.421875 44.484375 -1.421875  Q 26.265625 -1.421875 15.625 8.765625  Q 4.984375 18.953125 4.984375 36.375  Q 4.984375 53.859375 15.625 64.03125  Q 26.265625 74.21875 44.484375 74.21875  Q 50.59375 74.21875 56.203125 72.84375  Q 61.8125 71.484375 67 68.796875  L 67 53.71875  Q 61.765625 57.28125 56.6875 58.9375  Q 51.609375 60.59375 46 60.59375  Q 35.9375 60.59375 30.171875 54.140625  Q 24.421875 47.703125 24.421875 36.375  Q 24.421875 25.09375 30.171875 18.640625  Q 35.9375 12.203125 46 12.203125  Q 51.609375 12.203125 56.6875 13.859375  Q 61.765625 15.53125 67 19.09375  z \" id=\"DejaVuSans-Bold-67\" />\n      <path d=\"M 27.484375 70.21875  L 27.484375 54.6875  L 45.515625 54.6875  L 45.515625 42.1875  L 27.484375 42.1875  L 27.484375 19  Q 27.484375 15.1875 29 13.84375  Q 30.515625 12.5 35.015625 12.5  L 44 12.5  L 44 0  L 29 0  Q 18.65625 0 14.328125 4.3125  Q 10.015625 8.640625 10.015625 19  L 10.015625 42.1875  L 1.3125 42.1875  L 1.3125 54.6875  L 10.015625 54.6875  L 10.015625 70.21875  z \" id=\"DejaVuSans-Bold-116\" />\n      <path d=\"M 1.21875 54.6875  L 18.703125 54.6875  L 33.40625 17.578125  L 45.90625 54.6875  L 63.375 54.6875  L 40.375 -5.171875  Q 36.921875 -14.3125 32.296875 -17.9375  Q 27.6875 -21.578125 20.125 -21.578125  L 10.015625 -21.578125  L 10.015625 -10.109375  L 15.484375 -10.109375  Q 19.921875 -10.109375 21.9375 -8.6875  Q 23.96875 -7.28125 25.09375 -3.609375  L 25.59375 -2.09375  z \" id=\"DejaVuSans-Bold-121\" />\n     </defs>\n     <g style=\"fill:#444443;\" transform=\"translate(20.744531 16.600625)scale(0.1 -0.1)\">\n      <use xlink:href=\"#DejaVuSans-Bold-66\" />\n      <use x=\"76.220703\" xlink:href=\"#DejaVuSans-Bold-105\" />\n      <use x=\"110.498047\" xlink:href=\"#DejaVuSans-Bold-103\" />\n      <use x=\"182.080078\" xlink:href=\"#DejaVuSans-Bold-67\" />\n      <use x=\"255.46875\" xlink:href=\"#DejaVuSans-Bold-105\" />\n      <use x=\"289.746094\" xlink:href=\"#DejaVuSans-Bold-116\" />\n      <use x=\"337.548828\" xlink:href=\"#DejaVuSans-Bold-121\" />\n     </g>\n    </g>\n    <g id=\"patch_3\">\n     <path d=\"M 8.8 31.958437  L 30.8 31.958437  L 30.8 24.258437  L 8.8 24.258437  z \" style=\"fill:#fefebb;stroke:#444443;stroke-linejoin:miter;stroke-width:0.4;\" />\n    </g>\n    <g id=\"text_2\">\n     \n     <defs>\n      <path d=\"M 9.8125 72.90625  L 24.515625 72.90625  L 43.109375 23.296875  L 61.8125 72.90625  L 76.515625 72.90625  L 76.515625 0  L 66.890625 0  L 66.890625 64.015625  L 48.09375 14.015625  L 38.1875 14.015625  L 19.390625 64.015625  L 19.390625 0  L 9.8125 0  z \" id=\"DejaVuSans-77\" />\n      <path d=\"M 56.203125 29.59375  L 56.203125 25.203125  L 14.890625 25.203125  Q 15.484375 15.921875 20.484375 11.0625  Q 25.484375 6.203125 34.421875 6.203125  Q 39.59375 6.203125 44.453125 7.46875  Q 49.3125 8.734375 54.109375 11.28125  L 54.109375 2.78125  Q 49.265625 0.734375 44.1875 -0.34375  Q 39.109375 -1.421875 33.890625 -1.421875  Q 20.796875 -1.421875 13.15625 6.1875  Q 5.515625 13.8125 5.515625 26.8125  Q 5.515625 40.234375 12.765625 48.109375  Q 20.015625 56 32.328125 56  Q 43.359375 56 49.78125 48.890625  Q 56.203125 41.796875 56.203125 29.59375  z M 47.21875 32.234375  Q 47.125 39.59375 43.09375 43.984375  Q 39.0625 48.390625 32.421875 48.390625  Q 24.90625 48.390625 20.390625 44.140625  Q 15.875 39.890625 15.1875 32.171875  z \" id=\"DejaVuSans-101\" />\n      <path d=\"M 45.40625 46.390625  L 45.40625 75.984375  L 54.390625 75.984375  L 54.390625 0  L 45.40625 0  L 45.40625 8.203125  Q 42.578125 3.328125 38.25 0.953125  Q 33.9375 -1.421875 27.875 -1.421875  Q 17.96875 -1.421875 11.734375 6.484375  Q 5.515625 14.40625 5.515625 27.296875  Q 5.515625 40.1875 11.734375 48.09375  Q 17.96875 56 27.875 56  Q 33.9375 56 38.25 53.625  Q 42.578125 51.265625 45.40625 46.390625  z M 14.796875 27.296875  Q 14.796875 17.390625 18.875 11.75  Q 22.953125 6.109375 30.078125 6.109375  Q 37.203125 6.109375 41.296875 11.75  Q 45.40625 17.390625 45.40625 27.296875  Q 45.40625 37.203125 41.296875 42.84375  Q 37.203125 48.484375 30.078125 48.484375  Q 22.953125 48.484375 18.875 42.84375  Q 14.796875 37.203125 14.796875 27.296875  z \" id=\"DejaVuSans-100\" />\n      <path d=\"M 9.421875 54.6875  L 18.40625 54.6875  L 18.40625 0  L 9.421875 0  z M 9.421875 75.984375  L 18.40625 75.984375  L 18.40625 64.59375  L 9.421875 64.59375  z \" id=\"DejaVuSans-105\" />\n      <path d=\"M 48.78125 52.59375  L 48.78125 44.1875  Q 44.96875 46.296875 41.140625 47.34375  Q 37.3125 48.390625 33.40625 48.390625  Q 24.65625 48.390625 19.8125 42.84375  Q 14.984375 37.3125 14.984375 27.296875  Q 14.984375 17.28125 19.8125 11.734375  Q 24.65625 6.203125 33.40625 6.203125  Q 37.3125 6.203125 41.140625 7.25  Q 44.96875 8.296875 48.78125 10.40625  L 48.78125 2.09375  Q 45.015625 0.34375 40.984375 -0.53125  Q 36.96875 -1.421875 32.421875 -1.421875  Q 20.0625 -1.421875 12.78125 6.34375  Q 5.515625 14.109375 5.515625 27.296875  Q 5.515625 40.671875 12.859375 48.328125  Q 20.21875 56 33.015625 56  Q 37.15625 56 41.109375 55.140625  Q 45.0625 54.296875 48.78125 52.59375  z \" id=\"DejaVuSans-99\" />\n      <path d=\"M 34.28125 27.484375  Q 23.390625 27.484375 19.1875 25  Q 14.984375 22.515625 14.984375 16.5  Q 14.984375 11.71875 18.140625 8.90625  Q 21.296875 6.109375 26.703125 6.109375  Q 34.1875 6.109375 38.703125 11.40625  Q 43.21875 16.703125 43.21875 25.484375  L 43.21875 27.484375  z M 52.203125 31.203125  L 52.203125 0  L 43.21875 0  L 43.21875 8.296875  Q 40.140625 3.328125 35.546875 0.953125  Q 30.953125 -1.421875 24.3125 -1.421875  Q 15.921875 -1.421875 10.953125 3.296875  Q 6 8.015625 6 15.921875  Q 6 25.140625 12.171875 29.828125  Q 18.359375 34.515625 30.609375 34.515625  L 43.21875 34.515625  L 43.21875 35.40625  Q 43.21875 41.609375 39.140625 45  Q 35.0625 48.390625 27.6875 48.390625  Q 23 48.390625 18.546875 47.265625  Q 14.109375 46.140625 10.015625 43.890625  L 10.015625 52.203125  Q 14.9375 54.109375 19.578125 55.046875  Q 24.21875 56 28.609375 56  Q 40.484375 56 46.34375 49.84375  Q 52.203125 43.703125 52.203125 31.203125  z \" id=\"DejaVuSans-97\" />\n      <path d=\"M 9.421875 75.984375  L 18.40625 75.984375  L 18.40625 0  L 9.421875 0  z \" id=\"DejaVuSans-108\" />\n     </defs>\n     <g style=\"fill:#444443;\" transform=\"translate(34.65 31.958437)scale(0.1 -0.1)\">\n      <use xlink:href=\"#DejaVuSans-77\" />\n      <use x=\"86.279297\" xlink:href=\"#DejaVuSans-101\" />\n      <use x=\"147.802734\" xlink:href=\"#DejaVuSans-100\" />\n      <use x=\"211.279297\" xlink:href=\"#DejaVuSans-105\" />\n      <use x=\"239.0625\" xlink:href=\"#DejaVuSans-99\" />\n      <use x=\"294.042969\" xlink:href=\"#DejaVuSans-97\" />\n      <use x=\"355.322266\" xlink:href=\"#DejaVuSans-108\" />\n     </g>\n    </g>\n    <g id=\"patch_4\">\n     <path d=\"M 8.8 47.238125  L 30.8 47.238125  L 30.8 39.538125  L 8.8 39.538125  z \" style=\"fill:#a1dab4;stroke:#444443;stroke-linejoin:miter;stroke-width:0.4;\" />\n    </g>\n    <g id=\"text_3\">\n     \n     <defs>\n      <path d=\"M 64.40625 67.28125  L 64.40625 56.890625  Q 59.421875 61.53125 53.78125 63.8125  Q 48.140625 66.109375 41.796875 66.109375  Q 29.296875 66.109375 22.65625 58.46875  Q 16.015625 50.828125 16.015625 36.375  Q 16.015625 21.96875 22.65625 14.328125  Q 29.296875 6.6875 41.796875 6.6875  Q 48.140625 6.6875 53.78125 8.984375  Q 59.421875 11.28125 64.40625 15.921875  L 64.40625 5.609375  Q 59.234375 2.09375 53.4375 0.328125  Q 47.65625 -1.421875 41.21875 -1.421875  Q 24.65625 -1.421875 15.125 8.703125  Q 5.609375 18.84375 5.609375 36.375  Q 5.609375 53.953125 15.125 64.078125  Q 24.65625 74.21875 41.21875 74.21875  Q 47.75 74.21875 53.53125 72.484375  Q 59.328125 70.75 64.40625 67.28125  z \" id=\"DejaVuSans-67\" />\n      <path d=\"M 8.5 21.578125  L 8.5 54.6875  L 17.484375 54.6875  L 17.484375 21.921875  Q 17.484375 14.15625 20.5 10.265625  Q 23.53125 6.390625 29.59375 6.390625  Q 36.859375 6.390625 41.078125 11.03125  Q 45.3125 15.671875 45.3125 23.6875  L 45.3125 54.6875  L 54.296875 54.6875  L 54.296875 0  L 45.3125 0  L 45.3125 8.40625  Q 42.046875 3.421875 37.71875 1  Q 33.40625 -1.421875 27.6875 -1.421875  Q 18.265625 -1.421875 13.375 4.4375  Q 8.5 10.296875 8.5 21.578125  z M 31.109375 56  z \" id=\"DejaVuSans-117\" />\n      <path d=\"M 18.3125 70.21875  L 18.3125 54.6875  L 36.8125 54.6875  L 36.8125 47.703125  L 18.3125 47.703125  L 18.3125 18.015625  Q 18.3125 11.328125 20.140625 9.421875  Q 21.96875 7.515625 27.59375 7.515625  L 36.8125 7.515625  L 36.8125 0  L 27.59375 0  Q 17.1875 0 13.234375 3.875  Q 9.28125 7.765625 9.28125 18.015625  L 9.28125 47.703125  L 2.6875 47.703125  L 2.6875 54.6875  L 9.28125 54.6875  L 9.28125 70.21875  z \" id=\"DejaVuSans-116\" />\n      <path d=\"M 41.109375 46.296875  Q 39.59375 47.171875 37.8125 47.578125  Q 36.03125 48 33.890625 48  Q 26.265625 48 22.1875 43.046875  Q 18.109375 38.09375 18.109375 28.8125  L 18.109375 0  L 9.078125 0  L 9.078125 54.6875  L 18.109375 54.6875  L 18.109375 46.1875  Q 20.953125 51.171875 25.484375 53.578125  Q 30.03125 56 36.53125 56  Q 37.453125 56 38.578125 55.875  Q 39.703125 55.765625 41.0625 55.515625  z \" id=\"DejaVuSans-114\" />\n     </defs>\n     <g style=\"fill:#444443;\" transform=\"translate(34.65 47.238125)scale(0.1 -0.1)\">\n      <use xlink:href=\"#DejaVuSans-67\" />\n      <use x=\"69.824219\" xlink:href=\"#DejaVuSans-117\" />\n      <use x=\"133.203125\" xlink:href=\"#DejaVuSans-108\" />\n      <use x=\"160.986328\" xlink:href=\"#DejaVuSans-116\" />\n      <use x=\"200.195312\" xlink:href=\"#DejaVuSans-117\" />\n      <use x=\"263.574219\" xlink:href=\"#DejaVuSans-114\" />\n      <use x=\"304.65625\" xlink:href=\"#DejaVuSans-101\" />\n     </g>\n    </g>\n   </g>\n  </g>\n </g>\n</svg></g>\n</g>\n</svg>"
          },
          "metadata": {
            "tags": []
          }
        },
        {
          "output_type": "display_data",
          "data": {
            "image/png": "[encoded data removed]",
            "text/plain": [
              "<Figure size 432x288 with 1 Axes>"
            ]
          },
          "metadata": {
            "tags": []
          }
        }
      ]
    },
    {
      "cell_type": "markdown",
      "metadata": {
        "id": "YSa1NnpPJ-J9",
        "colab_type": "text"
      },
      "source": [
        "##### 解答"
      ]
    },
    {
      "cell_type": "code",
      "metadata": {
        "id": "l02wXYR5J_yX",
        "colab_type": "code",
        "colab": {}
      },
      "source": [
        "max_depth = 2\n",
        "\n",
        "tree_model = DecisionTreeClassifier(random_state=0, max_depth=max_depth)\n",
        "tree_model.fit(X, y)\n",
        "\n",
        "plot_decision_regions(tree_model)\n",
        "plot_tree_graph2(tree_model)"
      ],
      "execution_count": 0,
      "outputs": []
    },
    {
      "cell_type": "markdown",
      "metadata": {
        "id": "uRm_RE5q2tWp",
        "colab_type": "text"
      },
      "source": [
        "##### 演習4\n",
        "\n",
        "どんなときに過学習が起こると思いますか？"
      ]
    },
    {
      "cell_type": "markdown",
      "metadata": {
        "id": "tNzvkC6325e_",
        "colab_type": "text"
      },
      "source": [
        "##### 解答"
      ]
    },
    {
      "cell_type": "code",
      "metadata": {
        "id": "f5nl6Ymg2ngf",
        "colab_type": "code",
        "colab": {}
      },
      "source": [
        "# 解く問題に対して、学習器が複雑すぎるとき"
      ],
      "execution_count": 0,
      "outputs": []
    },
    {
      "cell_type": "markdown",
      "metadata": {
        "id": "9V5GjQQKCLEX",
        "colab_type": "text"
      },
      "source": [
        "### 2.3 過学習を確認する"
      ]
    },
    {
      "cell_type": "code",
      "metadata": {
        "id": "POw20QLmCJ4X",
        "colab_type": "code",
        "colab": {}
      },
      "source": [
        "train, test = train_test_split(city_data, test_size=0.4, random_state=0)\n",
        "x_train = train[[\"Medical\", \"Culture\"]]\n",
        "x_test = test[[\"Medical\", \"Culture\"]]\n",
        "y_train = train[\"BigCity\"]\n",
        "y_test = test[\"BigCity\"]"
      ],
      "execution_count": 0,
      "outputs": []
    },
    {
      "cell_type": "code",
      "metadata": {
        "id": "YXnyz7sq3-TL",
        "colab_type": "code",
        "outputId": "79a8c0d8-69c0-4345-93db-4587272fd8a7",
        "colab": {
          "base_uri": "https://localhost:8080/",
          "height": 102
        }
      },
      "source": [
        "for max_depth in range(1, 6):\n",
        "  tree_model = DecisionTreeClassifier(random_state=0, max_depth=max_depth)\n",
        "  tree_model.fit(x_train, y_train)\n",
        "  pred_train = tree_model.predict(x_train)\n",
        "  pred_test = tree_model.predict(x_test)\n",
        "  acc_train = accuracy_score(y_train, pred_train)\n",
        "  acc_test = accuracy_score(y_test, pred_test)\n",
        "  print(f\"max_depth: {max_depth}, train: {acc_train}, test: {acc_test}\")"
      ],
      "execution_count": 0,
      "outputs": [
        {
          "output_type": "stream",
          "text": [
            "max_depth: 1, train: 0.9285714285714286, test: 0.7368421052631579\n",
            "max_depth: 2, train: 0.9285714285714286, test: 0.7368421052631579\n",
            "max_depth: 3, train: 1.0, test: 0.631578947368421\n",
            "max_depth: 4, train: 1.0, test: 0.631578947368421\n",
            "max_depth: 5, train: 1.0, test: 0.631578947368421\n"
          ],
          "name": "stdout"
        }
      ]
    },
    {
      "cell_type": "markdown",
      "metadata": {
        "id": "bq_hB4Qf5rUZ",
        "colab_type": "text"
      },
      "source": [
        "testのスコアが落ちたmax_depth=3の決定境界を見てみる"
      ]
    },
    {
      "cell_type": "code",
      "metadata": {
        "id": "yNpPmLSl5UN6",
        "colab_type": "code",
        "outputId": "4c2f0fab-16f2-4eae-81ee-06d1cb7295a5",
        "colab": {
          "base_uri": "https://localhost:8080/",
          "height": 318
        }
      },
      "source": [
        "tree_model = DecisionTreeClassifier(random_state=0, max_depth=3)\n",
        "tree_model.fit(x_train, y_train)\n",
        "plot_decision_regions(tree_model)"
      ],
      "execution_count": 0,
      "outputs": [
        {
          "output_type": "stream",
          "text": [
            "/usr/local/lib/python3.6/dist-packages/ipykernel_launcher.py:14: UserWarning: linewidths is ignored by contourf\n",
            "  \n"
          ],
          "name": "stderr"
        },
        {
          "output_type": "display_data",
          "data": {
            "image/png": "[encoded data removed]",
            "text/plain": [
              "<Figure size 432x288 with 1 Axes>"
            ]
          },
          "metadata": {
            "tags": []
          }
        }
      ]
    },
    {
      "cell_type": "markdown",
      "metadata": {
        "id": "r7Dsq6F_51EB",
        "colab_type": "text"
      },
      "source": [
        "不自然な境界面ができてしまっている\n",
        "\n",
        "直前のmax_depth=2を見てみる"
      ]
    },
    {
      "cell_type": "code",
      "metadata": {
        "id": "ZwhyXP6t5m6i",
        "colab_type": "code",
        "outputId": "b76808ef-5dcb-4a3e-b063-99cebe04d803",
        "colab": {
          "base_uri": "https://localhost:8080/",
          "height": 318
        }
      },
      "source": [
        "tree_model = DecisionTreeClassifier(random_state=0, max_depth=2)\n",
        "tree_model.fit(x_train, y_train)\n",
        "plot_decision_regions(tree_model)"
      ],
      "execution_count": 0,
      "outputs": [
        {
          "output_type": "stream",
          "text": [
            "/usr/local/lib/python3.6/dist-packages/ipykernel_launcher.py:14: UserWarning: linewidths is ignored by contourf\n",
            "  \n"
          ],
          "name": "stderr"
        },
        {
          "output_type": "display_data",
          "data": {
            "image/png": "[encoded data removed]",
            "text/plain": [
              "<Figure size 432x288 with 1 Axes>"
            ]
          },
          "metadata": {
            "tags": []
          }
        }
      ]
    },
    {
      "cell_type": "markdown",
      "metadata": {
        "id": "9EDoiqzP8bMf",
        "colab_type": "text"
      },
      "source": [
        "#### (参考)\n",
        "\n",
        "SVMの過学習をみてみる"
      ]
    },
    {
      "cell_type": "code",
      "metadata": {
        "id": "Q0JYMKCJ6xf_",
        "colab_type": "code",
        "outputId": "8667eaf3-0602-4698-8e41-d1335e16250f",
        "colab": {
          "base_uri": "https://localhost:8080/",
          "height": 318
        }
      },
      "source": [
        "svm_model = svm.SVC(kernel=\"rbf\", C=10, gamma=0.5, random_state=0)\n",
        "svm_model.fit(X, y)\n",
        "plot_decision_regions(svm_model)"
      ],
      "execution_count": 0,
      "outputs": [
        {
          "output_type": "stream",
          "text": [
            "/usr/local/lib/python3.6/dist-packages/ipykernel_launcher.py:14: UserWarning: linewidths is ignored by contourf\n",
            "  \n"
          ],
          "name": "stderr"
        },
        {
          "output_type": "display_data",
          "data": {
            "image/png": "[encoded data removed]",
            "text/plain": [
              "<Figure size 432x288 with 1 Axes>"
            ]
          },
          "metadata": {
            "tags": []
          }
        }
      ]
    },
    {
      "cell_type": "code",
      "metadata": {
        "id": "eSz1fqvy8KBz",
        "colab_type": "code",
        "outputId": "2a587991-b6fe-47d1-da62-7ade54bc4e0b",
        "colab": {
          "base_uri": "https://localhost:8080/",
          "height": 318
        }
      },
      "source": [
        "svm_model = svm.SVC(kernel=\"rbf\", C=10, gamma=10, random_state=0)\n",
        "svm_model.fit(X, y)\n",
        "plot_decision_regions(svm_model)"
      ],
      "execution_count": 0,
      "outputs": [
        {
          "output_type": "stream",
          "text": [
            "/usr/local/lib/python3.6/dist-packages/ipykernel_launcher.py:14: UserWarning: linewidths is ignored by contourf\n",
            "  \n"
          ],
          "name": "stderr"
        },
        {
          "output_type": "display_data",
          "data": {
            "image/png": "[encoded data removed]",
            "text/plain": [
              "<Figure size 432x288 with 1 Axes>"
            ]
          },
          "metadata": {
            "tags": []
          }
        }
      ]
    },
    {
      "cell_type": "markdown",
      "metadata": {
        "id": "eNxzJmWN_tjw",
        "colab_type": "text"
      },
      "source": [
        "### 2.4 学習データを増やしていき、過学習を確認する\n",
        "\n",
        "確認するにはデータの数が少ないので再びtitanicのデータを使う\n"
      ]
    },
    {
      "cell_type": "code",
      "metadata": {
        "id": "By3BXQBBBFGD",
        "colab_type": "code",
        "colab": {}
      },
      "source": [
        "train, test = train_test_split(titanic_data, test_size=0.3, random_state=0)\n",
        "\n",
        "use_feature = [\"Pclass\", \"Age\", \"Siblings/Spouses Aboard\", \"Parents/Children Aboard\", \"Fare\", \"SexCate\"]  # 使用する特徴量\n",
        "\n",
        "x_train = train[use_feature]\n",
        "x_test = test[use_feature]\n",
        "y_train = train[\"Survived\"]\n",
        "y_test = test[\"Survived\"]"
      ],
      "execution_count": 0,
      "outputs": []
    },
    {
      "cell_type": "markdown",
      "metadata": {
        "id": "gNzr2UO2zyiF",
        "colab_type": "text"
      },
      "source": [
        "学習データを増やしていき、精度を確認する\n",
        "\n",
        "横軸に学習データ数、縦軸に精度をとったグラフを描画する関数"
      ]
    },
    {
      "cell_type": "code",
      "metadata": {
        "id": "gdInsOS1ABop",
        "colab_type": "code",
        "colab": {}
      },
      "source": [
        "def plot_tree_accuracy_graph(max_depth):\n",
        "  results = []\n",
        "  for n_data in range(10, 600, 5):\n",
        "    model = DecisionTreeClassifier(random_state=0, max_depth=max_depth)\n",
        "    model.fit(x_train.head(n_data), y_train.head(n_data))\n",
        "    pred_train = model.predict(x_train)\n",
        "    pred_test = model.predict(x_test)\n",
        "    acc_train = accuracy_score(y_train, pred_train)\n",
        "    acc_test = accuracy_score(y_test, pred_test)\n",
        "    results.append((n_data, acc_train, acc_test))\n",
        "\n",
        "  result_df = pd.DataFrame(results, columns=[\"n_data\", \"train\", \"test\"])\n",
        "  result_df.index = result_df.n_data\n",
        "\n",
        "  result_df[[\"train\", \"test\"]].plot(ylim=(0.65, 1.))"
      ],
      "execution_count": 0,
      "outputs": []
    },
    {
      "cell_type": "markdown",
      "metadata": {
        "id": "n7XwN6_sz_oj",
        "colab_type": "text"
      },
      "source": [
        "max_depth=1"
      ]
    },
    {
      "cell_type": "code",
      "metadata": {
        "id": "mBUxDiepBqbN",
        "colab_type": "code",
        "outputId": "ea6fcc56-b72c-42d4-b285-fa371f9d961b",
        "colab": {
          "base_uri": "https://localhost:8080/",
          "height": 305
        }
      },
      "source": [
        "plot_tree_accuracy_graph(1)"
      ],
      "execution_count": 0,
      "outputs": [
        {
          "output_type": "display_data",
          "data": {
            "image/png": "[encoded data removed]",
            "text/plain": [
              "<Figure size 432x288 with 1 Axes>"
            ]
          },
          "metadata": {
            "tags": []
          }
        }
      ]
    },
    {
      "cell_type": "markdown",
      "metadata": {
        "id": "dSnk6DGU0HwJ",
        "colab_type": "text"
      },
      "source": [
        "testどころかtrainも増えていない  \n",
        "こういったものを未学習(問題に対して学習器がシンプル過ぎる)という\n",
        "\n",
        "\n",
        "max_depth=4"
      ]
    },
    {
      "cell_type": "code",
      "metadata": {
        "id": "cHPgXVWYzTMB",
        "colab_type": "code",
        "outputId": "1a88c173-2461-4a20-ceb0-fbfdfaa595e4",
        "colab": {
          "base_uri": "https://localhost:8080/",
          "height": 305
        }
      },
      "source": [
        "plot_tree_accuracy_graph(4)"
      ],
      "execution_count": 0,
      "outputs": [
        {
          "output_type": "display_data",
          "data": {
            "image/png": "[encoded data removed]",
            "text/plain": [
              "<Figure size 432x288 with 1 Axes>"
            ]
          },
          "metadata": {
            "tags": []
          }
        }
      ]
    },
    {
      "cell_type": "markdown",
      "metadata": {
        "id": "xnZ8xspt0hWg",
        "colab_type": "text"
      },
      "source": [
        "max_depth=100  \n",
        "過学習を起こす"
      ]
    },
    {
      "cell_type": "code",
      "metadata": {
        "id": "93LuZu4XzWfx",
        "colab_type": "code",
        "outputId": "dc0257ae-1a21-4e9b-8499-2e0416787291",
        "colab": {
          "base_uri": "https://localhost:8080/",
          "height": 305
        }
      },
      "source": [
        "plot_tree_accuracy_graph(100)"
      ],
      "execution_count": 0,
      "outputs": [
        {
          "output_type": "display_data",
          "data": {
            "image/png": "[encoded data removed]",
            "text/plain": [
              "<Figure size 432x288 with 1 Axes>"
            ]
          },
          "metadata": {
            "tags": []
          }
        }
      ]
    },
    {
      "cell_type": "markdown",
      "metadata": {
        "id": "Cr0JluBy7L2o",
        "colab_type": "text"
      },
      "source": [
        "#### K-FOLD Cross Validation"
      ]
    },
    {
      "cell_type": "markdown",
      "metadata": {
        "id": "fCX6gwfCMu22",
        "colab_type": "text"
      },
      "source": [
        "# 3. 精度を上げるために\n",
        "\n",
        "##### 演習4\n",
        "\n",
        "学習データ、テストデータを引数に取るとロジスティック回帰の学習を行い精度を表示する関数\n",
        " `train_and_test` を作って下さい"
      ]
    },
    {
      "cell_type": "code",
      "metadata": {
        "id": "4ZDNiSk0ifA4",
        "colab_type": "code",
        "colab": {}
      },
      "source": [
        "def train_and_test(x_train, y_train, x_test, y_test):\n",
        "    model = LogisticRegression(random_state=0)\n",
        "    model.fit(x_train, y_train)\n",
        "    pred_train = model.predict(x_train)\n",
        "    pred_test = model.predict(x_test)\n",
        "    acc_train = accuracy_score(y_train, pred_train)\n",
        "    acc_test = accuracy_score(y_test, pred_test)\n",
        "    print(f\"train: {acc_train} / test: {acc_test}\")"
      ],
      "execution_count": 0,
      "outputs": []
    },
    {
      "cell_type": "markdown",
      "metadata": {
        "id": "oUDKJwySjh4T",
        "colab_type": "text"
      },
      "source": [
        "##### 解答"
      ]
    },
    {
      "cell_type": "code",
      "metadata": {
        "id": "lAeQpkKZMs2a",
        "colab_type": "code",
        "colab": {}
      },
      "source": [
        "def train_and_test(x_train, y_train, x_test, y_test):\n",
        "    model = LogisticRegression(random_state=0)\n",
        "    model.fit(x_train, y_train)\n",
        "    pred_train = model.predict(x_train)\n",
        "    pred_test = model.predict(x_test)\n",
        "    acc_train = accuracy_score(y_train, pred_train)\n",
        "    acc_test = accuracy_score(y_test, pred_test)\n",
        "    print(f\"train: {acc_train} / test: {acc_test}\")"
      ],
      "execution_count": 0,
      "outputs": []
    },
    {
      "cell_type": "markdown",
      "metadata": {
        "id": "3BjbR1cYjlPP",
        "colab_type": "text"
      },
      "source": [
        "##### 予測を試してみる"
      ]
    },
    {
      "cell_type": "code",
      "metadata": {
        "id": "G4IheTKiNX6x",
        "colab_type": "code",
        "outputId": "d20016be-588f-4129-9954-b7da2b126be3",
        "colab": {
          "base_uri": "https://localhost:8080/",
          "height": 68
        }
      },
      "source": [
        "train_and_test(x_train, y_train, x_test, y_test)"
      ],
      "execution_count": 0,
      "outputs": [
        {
          "output_type": "stream",
          "text": [
            "train: 0.8032258064516129 / test: 0.797752808988764\n"
          ],
          "name": "stdout"
        },
        {
          "output_type": "stream",
          "text": [
            "/usr/local/lib/python3.6/dist-packages/sklearn/linear_model/logistic.py:432: FutureWarning: Default solver will be changed to 'lbfgs' in 0.22. Specify a solver to silence this warning.\n",
            "  FutureWarning)\n"
          ],
          "name": "stderr"
        }
      ]
    },
    {
      "cell_type": "markdown",
      "metadata": {
        "id": "_uKGy5xTjqI7",
        "colab_type": "text"
      },
      "source": [
        "## 3.1 新しい特徴を作ってみる\n",
        "\n",
        "年齢に着目"
      ]
    },
    {
      "cell_type": "code",
      "metadata": {
        "id": "aLA9dy16j-G4",
        "colab_type": "code",
        "outputId": "ecbd68e6-df4d-422d-c0ee-4651c7aa93f7",
        "colab": {
          "base_uri": "https://localhost:8080/",
          "height": 204
        }
      },
      "source": [
        "titanic_data[\"CategoricalAge\"] = pd.cut(titanic_data['Age'], 10)  # 10区間に分割\n",
        "titanic_data.head()"
      ],
      "execution_count": 0,
      "outputs": [
        {
          "output_type": "execute_result",
          "data": {
            "text/html": [
              "<div>\n",
              "<style scoped>\n",
              "    .dataframe tbody tr th:only-of-type {\n",
              "        vertical-align: middle;\n",
              "    }\n",
              "\n",
              "    .dataframe tbody tr th {\n",
              "        vertical-align: top;\n",
              "    }\n",
              "\n",
              "    .dataframe thead th {\n",
              "        text-align: right;\n",
              "    }\n",
              "</style>\n",
              "<table border=\"1\" class=\"dataframe\">\n",
              "  <thead>\n",
              "    <tr style=\"text-align: right;\">\n",
              "      <th></th>\n",
              "      <th>Survived</th>\n",
              "      <th>Pclass</th>\n",
              "      <th>Name</th>\n",
              "      <th>Sex</th>\n",
              "      <th>Age</th>\n",
              "      <th>Siblings/Spouses Aboard</th>\n",
              "      <th>Parents/Children Aboard</th>\n",
              "      <th>Fare</th>\n",
              "      <th>SexCate</th>\n",
              "      <th>CategoricalAge</th>\n",
              "    </tr>\n",
              "  </thead>\n",
              "  <tbody>\n",
              "    <tr>\n",
              "      <th>0</th>\n",
              "      <td>0</td>\n",
              "      <td>3</td>\n",
              "      <td>Mr. Owen Harris Braund</td>\n",
              "      <td>male</td>\n",
              "      <td>22.0</td>\n",
              "      <td>1</td>\n",
              "      <td>0</td>\n",
              "      <td>7.2500</td>\n",
              "      <td>0</td>\n",
              "      <td>(16.336, 24.294]</td>\n",
              "    </tr>\n",
              "    <tr>\n",
              "      <th>1</th>\n",
              "      <td>1</td>\n",
              "      <td>1</td>\n",
              "      <td>Mrs. John Bradley (Florence Briggs Thayer) Cum...</td>\n",
              "      <td>female</td>\n",
              "      <td>38.0</td>\n",
              "      <td>1</td>\n",
              "      <td>0</td>\n",
              "      <td>71.2833</td>\n",
              "      <td>1</td>\n",
              "      <td>(32.252, 40.21]</td>\n",
              "    </tr>\n",
              "    <tr>\n",
              "      <th>2</th>\n",
              "      <td>1</td>\n",
              "      <td>3</td>\n",
              "      <td>Miss. Laina Heikkinen</td>\n",
              "      <td>female</td>\n",
              "      <td>26.0</td>\n",
              "      <td>0</td>\n",
              "      <td>0</td>\n",
              "      <td>7.9250</td>\n",
              "      <td>1</td>\n",
              "      <td>(24.294, 32.252]</td>\n",
              "    </tr>\n",
              "    <tr>\n",
              "      <th>3</th>\n",
              "      <td>1</td>\n",
              "      <td>1</td>\n",
              "      <td>Mrs. Jacques Heath (Lily May Peel) Futrelle</td>\n",
              "      <td>female</td>\n",
              "      <td>35.0</td>\n",
              "      <td>1</td>\n",
              "      <td>0</td>\n",
              "      <td>53.1000</td>\n",
              "      <td>1</td>\n",
              "      <td>(32.252, 40.21]</td>\n",
              "    </tr>\n",
              "    <tr>\n",
              "      <th>4</th>\n",
              "      <td>0</td>\n",
              "      <td>3</td>\n",
              "      <td>Mr. William Henry Allen</td>\n",
              "      <td>male</td>\n",
              "      <td>35.0</td>\n",
              "      <td>0</td>\n",
              "      <td>0</td>\n",
              "      <td>8.0500</td>\n",
              "      <td>0</td>\n",
              "      <td>(32.252, 40.21]</td>\n",
              "    </tr>\n",
              "  </tbody>\n",
              "</table>\n",
              "</div>"
            ],
            "text/plain": [
              "   Survived  Pclass  ... SexCate    CategoricalAge\n",
              "0         0       3  ...       0  (16.336, 24.294]\n",
              "1         1       1  ...       1   (32.252, 40.21]\n",
              "2         1       3  ...       1  (24.294, 32.252]\n",
              "3         1       1  ...       1   (32.252, 40.21]\n",
              "4         0       3  ...       0   (32.252, 40.21]\n",
              "\n",
              "[5 rows x 10 columns]"
            ]
          },
          "metadata": {
            "tags": []
          },
          "execution_count": 93
        }
      ]
    },
    {
      "cell_type": "code",
      "metadata": {
        "id": "gTwJN2nAkftI",
        "colab_type": "code",
        "outputId": "1e29d674-53f1-41d4-c270-40a403a0b135",
        "colab": {
          "base_uri": "https://localhost:8080/",
          "height": 400
        }
      },
      "source": [
        "pd.crosstab(titanic_data['CategoricalAge'], titanic_data['Survived'], normalize='index').plot.bar(stacked=True)"
      ],
      "execution_count": 0,
      "outputs": [
        {
          "output_type": "execute_result",
          "data": {
            "text/plain": [
              "<matplotlib.axes._subplots.AxesSubplot at 0x7fcdbc9aaf60>"
            ]
          },
          "metadata": {
            "tags": []
          },
          "execution_count": 94
        },
        {
          "output_type": "display_data",
          "data": {
            "image/png": "[encoded data removed]",
            "text/plain": [
              "<Figure size 432x288 with 1 Axes>"
            ]
          },
          "metadata": {
            "tags": []
          }
        }
      ]
    },
    {
      "cell_type": "markdown",
      "metadata": {
        "id": "ucYdBhAK8fYA",
        "colab_type": "text"
      },
      "source": [
        "子供か否かの `isChild` 特徴量を追加する"
      ]
    },
    {
      "cell_type": "code",
      "metadata": {
        "id": "C7NLCDpIklkY",
        "colab_type": "code",
        "colab": {}
      },
      "source": [
        "x_train_2 = copy.deepcopy(x_train)\n",
        "x_test_2 = copy.deepcopy(x_test)"
      ],
      "execution_count": 0,
      "outputs": []
    },
    {
      "cell_type": "code",
      "metadata": {
        "id": "yhVXuOCtk5Ql",
        "colab_type": "code",
        "outputId": "f47f0b30-5397-4872-e68a-f1b10081e5a2",
        "colab": {
          "base_uri": "https://localhost:8080/",
          "height": 204
        }
      },
      "source": [
        "x_train_2[\"isChild\"] = (x_train['Age'] < 10).astype(int)\n",
        "x_train_2.head()"
      ],
      "execution_count": 0,
      "outputs": [
        {
          "output_type": "execute_result",
          "data": {
            "text/html": [
              "<div>\n",
              "<style scoped>\n",
              "    .dataframe tbody tr th:only-of-type {\n",
              "        vertical-align: middle;\n",
              "    }\n",
              "\n",
              "    .dataframe tbody tr th {\n",
              "        vertical-align: top;\n",
              "    }\n",
              "\n",
              "    .dataframe thead th {\n",
              "        text-align: right;\n",
              "    }\n",
              "</style>\n",
              "<table border=\"1\" class=\"dataframe\">\n",
              "  <thead>\n",
              "    <tr style=\"text-align: right;\">\n",
              "      <th></th>\n",
              "      <th>Pclass</th>\n",
              "      <th>Age</th>\n",
              "      <th>Siblings/Spouses Aboard</th>\n",
              "      <th>Parents/Children Aboard</th>\n",
              "      <th>Fare</th>\n",
              "      <th>SexCate</th>\n",
              "      <th>isChild</th>\n",
              "    </tr>\n",
              "  </thead>\n",
              "  <tbody>\n",
              "    <tr>\n",
              "      <th>350</th>\n",
              "      <td>3</td>\n",
              "      <td>15.0</td>\n",
              "      <td>1</td>\n",
              "      <td>1</td>\n",
              "      <td>7.2292</td>\n",
              "      <td>0</td>\n",
              "      <td>0</td>\n",
              "    </tr>\n",
              "    <tr>\n",
              "      <th>124</th>\n",
              "      <td>3</td>\n",
              "      <td>12.0</td>\n",
              "      <td>1</td>\n",
              "      <td>0</td>\n",
              "      <td>11.2417</td>\n",
              "      <td>0</td>\n",
              "      <td>0</td>\n",
              "    </tr>\n",
              "    <tr>\n",
              "      <th>577</th>\n",
              "      <td>2</td>\n",
              "      <td>25.0</td>\n",
              "      <td>1</td>\n",
              "      <td>1</td>\n",
              "      <td>30.0000</td>\n",
              "      <td>1</td>\n",
              "      <td>0</td>\n",
              "    </tr>\n",
              "    <tr>\n",
              "      <th>422</th>\n",
              "      <td>3</td>\n",
              "      <td>54.0</td>\n",
              "      <td>0</td>\n",
              "      <td>0</td>\n",
              "      <td>7.2500</td>\n",
              "      <td>0</td>\n",
              "      <td>0</td>\n",
              "    </tr>\n",
              "    <tr>\n",
              "      <th>118</th>\n",
              "      <td>3</td>\n",
              "      <td>2.0</td>\n",
              "      <td>4</td>\n",
              "      <td>2</td>\n",
              "      <td>31.2750</td>\n",
              "      <td>1</td>\n",
              "      <td>1</td>\n",
              "    </tr>\n",
              "  </tbody>\n",
              "</table>\n",
              "</div>"
            ],
            "text/plain": [
              "     Pclass   Age  Siblings/Spouses Aboard  ...     Fare  SexCate  isChild\n",
              "350       3  15.0                        1  ...   7.2292        0        0\n",
              "124       3  12.0                        1  ...  11.2417        0        0\n",
              "577       2  25.0                        1  ...  30.0000        1        0\n",
              "422       3  54.0                        0  ...   7.2500        0        0\n",
              "118       3   2.0                        4  ...  31.2750        1        1\n",
              "\n",
              "[5 rows x 7 columns]"
            ]
          },
          "metadata": {
            "tags": []
          },
          "execution_count": 98
        }
      ]
    },
    {
      "cell_type": "code",
      "metadata": {
        "id": "HNqCzB5TlXd6",
        "colab_type": "code",
        "outputId": "7924bce5-51e7-453f-95c3-52f4c0690908",
        "colab": {
          "base_uri": "https://localhost:8080/",
          "height": 204
        }
      },
      "source": [
        "x_test_2[\"isChild\"] = (x_test['Age'] < 10).astype(int)\n",
        "x_test_2.head()"
      ],
      "execution_count": 0,
      "outputs": [
        {
          "output_type": "execute_result",
          "data": {
            "text/html": [
              "<div>\n",
              "<style scoped>\n",
              "    .dataframe tbody tr th:only-of-type {\n",
              "        vertical-align: middle;\n",
              "    }\n",
              "\n",
              "    .dataframe tbody tr th {\n",
              "        vertical-align: top;\n",
              "    }\n",
              "\n",
              "    .dataframe thead th {\n",
              "        text-align: right;\n",
              "    }\n",
              "</style>\n",
              "<table border=\"1\" class=\"dataframe\">\n",
              "  <thead>\n",
              "    <tr style=\"text-align: right;\">\n",
              "      <th></th>\n",
              "      <th>Pclass</th>\n",
              "      <th>Age</th>\n",
              "      <th>Siblings/Spouses Aboard</th>\n",
              "      <th>Parents/Children Aboard</th>\n",
              "      <th>Fare</th>\n",
              "      <th>SexCate</th>\n",
              "      <th>isChild</th>\n",
              "    </tr>\n",
              "  </thead>\n",
              "  <tbody>\n",
              "    <tr>\n",
              "      <th>14</th>\n",
              "      <td>3</td>\n",
              "      <td>14.0</td>\n",
              "      <td>0</td>\n",
              "      <td>0</td>\n",
              "      <td>7.8542</td>\n",
              "      <td>1</td>\n",
              "      <td>0</td>\n",
              "    </tr>\n",
              "    <tr>\n",
              "      <th>158</th>\n",
              "      <td>3</td>\n",
              "      <td>5.0</td>\n",
              "      <td>8</td>\n",
              "      <td>2</td>\n",
              "      <td>69.5500</td>\n",
              "      <td>0</td>\n",
              "      <td>1</td>\n",
              "    </tr>\n",
              "    <tr>\n",
              "      <th>762</th>\n",
              "      <td>1</td>\n",
              "      <td>46.0</td>\n",
              "      <td>0</td>\n",
              "      <td>0</td>\n",
              "      <td>39.6000</td>\n",
              "      <td>0</td>\n",
              "      <td>0</td>\n",
              "    </tr>\n",
              "    <tr>\n",
              "      <th>740</th>\n",
              "      <td>3</td>\n",
              "      <td>31.0</td>\n",
              "      <td>0</td>\n",
              "      <td>0</td>\n",
              "      <td>7.9250</td>\n",
              "      <td>0</td>\n",
              "      <td>0</td>\n",
              "    </tr>\n",
              "    <tr>\n",
              "      <th>482</th>\n",
              "      <td>3</td>\n",
              "      <td>8.0</td>\n",
              "      <td>3</td>\n",
              "      <td>1</td>\n",
              "      <td>25.4667</td>\n",
              "      <td>1</td>\n",
              "      <td>1</td>\n",
              "    </tr>\n",
              "  </tbody>\n",
              "</table>\n",
              "</div>"
            ],
            "text/plain": [
              "     Pclass   Age  Siblings/Spouses Aboard  ...     Fare  SexCate  isChild\n",
              "14        3  14.0                        0  ...   7.8542        1        0\n",
              "158       3   5.0                        8  ...  69.5500        0        1\n",
              "762       1  46.0                        0  ...  39.6000        0        0\n",
              "740       3  31.0                        0  ...   7.9250        0        0\n",
              "482       3   8.0                        3  ...  25.4667        1        1\n",
              "\n",
              "[5 rows x 7 columns]"
            ]
          },
          "metadata": {
            "tags": []
          },
          "execution_count": 99
        }
      ]
    },
    {
      "cell_type": "code",
      "metadata": {
        "id": "1SaImUStlf2e",
        "colab_type": "code",
        "outputId": "bb9392c6-6e08-4fb6-f056-49241e9d5a76",
        "colab": {
          "base_uri": "https://localhost:8080/",
          "height": 68
        }
      },
      "source": [
        "train_and_test(x_train_2, y_train, x_test_2, y_test)"
      ],
      "execution_count": 0,
      "outputs": [
        {
          "output_type": "stream",
          "text": [
            "train: 0.8145161290322581 / test: 0.8127340823970037\n"
          ],
          "name": "stdout"
        },
        {
          "output_type": "stream",
          "text": [
            "/usr/local/lib/python3.6/dist-packages/sklearn/linear_model/logistic.py:432: FutureWarning: Default solver will be changed to 'lbfgs' in 0.22. Specify a solver to silence this warning.\n",
            "  FutureWarning)\n"
          ],
          "name": "stderr"
        }
      ]
    },
    {
      "cell_type": "markdown",
      "metadata": {
        "id": "vU6GNtZ18ug2",
        "colab_type": "text"
      },
      "source": [
        "元の精度が `test: 0.797752808988764`  だったので精度が上がっている\n",
        "\n",
        "##### 同行者に着目する\n",
        "\n"
      ]
    },
    {
      "cell_type": "code",
      "metadata": {
        "id": "VBpVF0PBljR-",
        "colab_type": "code",
        "colab": {}
      },
      "source": [
        "x_train_3 = copy.deepcopy(x_train)\n",
        "x_test_3 = copy.deepcopy(x_test)"
      ],
      "execution_count": 0,
      "outputs": []
    },
    {
      "cell_type": "markdown",
      "metadata": {
        "id": "p8lHul7D9BHG",
        "colab_type": "text"
      },
      "source": [
        "##### 演習5\n",
        "\n",
        "同行者がいるかいないかの特徴 `isAlone` を追加してみて下さい\n",
        "(pandasの書き方になれてないと難しいです)"
      ]
    },
    {
      "cell_type": "code",
      "metadata": {
        "id": "iIgYmFiC9RHj",
        "colab_type": "code",
        "outputId": "6a08a536-69ff-48bf-996e-f73253be31a7",
        "colab": {
          "base_uri": "https://localhost:8080/",
          "height": 204
        }
      },
      "source": [
        "x_train_3[\"isAlone\"] = (x_train.apply(lambda x: x[\"Siblings/Spouses Aboard\"]+x[\"Parents/Children Aboard\"], axis=1) == 0).astype(int)\n",
        "x_train_3.head()\n",
        "\n",
        "x_test_3[\"isAlone\"] = (x_test.apply(lambda x: x[\"Siblings/Spouses Aboard\"]+x[\"Parents/Children Aboard\"], axis=1) ==0).astype(int)\n",
        "x_test_3.head()"
      ],
      "execution_count": 0,
      "outputs": [
        {
          "output_type": "execute_result",
          "data": {
            "text/html": [
              "<div>\n",
              "<style scoped>\n",
              "    .dataframe tbody tr th:only-of-type {\n",
              "        vertical-align: middle;\n",
              "    }\n",
              "\n",
              "    .dataframe tbody tr th {\n",
              "        vertical-align: top;\n",
              "    }\n",
              "\n",
              "    .dataframe thead th {\n",
              "        text-align: right;\n",
              "    }\n",
              "</style>\n",
              "<table border=\"1\" class=\"dataframe\">\n",
              "  <thead>\n",
              "    <tr style=\"text-align: right;\">\n",
              "      <th></th>\n",
              "      <th>Pclass</th>\n",
              "      <th>Age</th>\n",
              "      <th>Siblings/Spouses Aboard</th>\n",
              "      <th>Parents/Children Aboard</th>\n",
              "      <th>Fare</th>\n",
              "      <th>SexCate</th>\n",
              "      <th>isAlone</th>\n",
              "    </tr>\n",
              "  </thead>\n",
              "  <tbody>\n",
              "    <tr>\n",
              "      <th>14</th>\n",
              "      <td>3</td>\n",
              "      <td>14.0</td>\n",
              "      <td>0</td>\n",
              "      <td>0</td>\n",
              "      <td>7.8542</td>\n",
              "      <td>1</td>\n",
              "      <td>1</td>\n",
              "    </tr>\n",
              "    <tr>\n",
              "      <th>158</th>\n",
              "      <td>3</td>\n",
              "      <td>5.0</td>\n",
              "      <td>8</td>\n",
              "      <td>2</td>\n",
              "      <td>69.5500</td>\n",
              "      <td>0</td>\n",
              "      <td>0</td>\n",
              "    </tr>\n",
              "    <tr>\n",
              "      <th>762</th>\n",
              "      <td>1</td>\n",
              "      <td>46.0</td>\n",
              "      <td>0</td>\n",
              "      <td>0</td>\n",
              "      <td>39.6000</td>\n",
              "      <td>0</td>\n",
              "      <td>1</td>\n",
              "    </tr>\n",
              "    <tr>\n",
              "      <th>740</th>\n",
              "      <td>3</td>\n",
              "      <td>31.0</td>\n",
              "      <td>0</td>\n",
              "      <td>0</td>\n",
              "      <td>7.9250</td>\n",
              "      <td>0</td>\n",
              "      <td>1</td>\n",
              "    </tr>\n",
              "    <tr>\n",
              "      <th>482</th>\n",
              "      <td>3</td>\n",
              "      <td>8.0</td>\n",
              "      <td>3</td>\n",
              "      <td>1</td>\n",
              "      <td>25.4667</td>\n",
              "      <td>1</td>\n",
              "      <td>0</td>\n",
              "    </tr>\n",
              "  </tbody>\n",
              "</table>\n",
              "</div>"
            ],
            "text/plain": [
              "     Pclass   Age  Siblings/Spouses Aboard  ...     Fare  SexCate  isAlone\n",
              "14        3  14.0                        0  ...   7.8542        1        1\n",
              "158       3   5.0                        8  ...  69.5500        0        0\n",
              "762       1  46.0                        0  ...  39.6000        0        1\n",
              "740       3  31.0                        0  ...   7.9250        0        1\n",
              "482       3   8.0                        3  ...  25.4667        1        0\n",
              "\n",
              "[5 rows x 7 columns]"
            ]
          },
          "metadata": {
            "tags": []
          },
          "execution_count": 102
        }
      ]
    },
    {
      "cell_type": "markdown",
      "metadata": {
        "id": "xzm4w8NE9OO3",
        "colab_type": "text"
      },
      "source": [
        "##### 解答"
      ]
    },
    {
      "cell_type": "code",
      "metadata": {
        "id": "eYODAKfqmL4y",
        "colab_type": "code",
        "colab": {}
      },
      "source": [
        "x_train_3[\"isAlone\"] = (x_train.apply(lambda x: x[\"Siblings/Spouses Aboard\"]+x[\"Parents/Children Aboard\"], axis=1) == 0).astype(int)\n",
        "x_train_3.head()"
      ],
      "execution_count": 0,
      "outputs": []
    },
    {
      "cell_type": "code",
      "metadata": {
        "id": "eeMlTEvSmMgK",
        "colab_type": "code",
        "colab": {}
      },
      "source": [
        "x_test_3[\"isAlone\"] = (x_test.apply(lambda x: x[\"Siblings/Spouses Aboard\"]+x[\"Parents/Children Aboard\"], axis=1) ==0).astype(int)\n",
        "x_test_3.head()"
      ],
      "execution_count": 0,
      "outputs": []
    },
    {
      "cell_type": "markdown",
      "metadata": {
        "id": "hfSQzk_z9agg",
        "colab_type": "text"
      },
      "source": [
        "##### isAloneを追加したデータで学習"
      ]
    },
    {
      "cell_type": "code",
      "metadata": {
        "id": "BvOupRcamhhM",
        "colab_type": "code",
        "outputId": "64cdbcc3-9661-490e-c7df-e96e08c9a6bb",
        "colab": {
          "base_uri": "https://localhost:8080/",
          "height": 68
        }
      },
      "source": [
        "train_and_test(x_train_3, y_train, x_test_3, y_test)"
      ],
      "execution_count": 0,
      "outputs": [
        {
          "output_type": "stream",
          "text": [
            "train: 0.8048387096774193 / test: 0.7902621722846442\n"
          ],
          "name": "stdout"
        },
        {
          "output_type": "stream",
          "text": [
            "/usr/local/lib/python3.6/dist-packages/sklearn/linear_model/logistic.py:432: FutureWarning: Default solver will be changed to 'lbfgs' in 0.22. Specify a solver to silence this warning.\n",
            "  FutureWarning)\n"
          ],
          "name": "stderr"
        }
      ]
    },
    {
      "cell_type": "markdown",
      "metadata": {
        "id": "K7PQmWEm96Sn",
        "colab_type": "text"
      },
      "source": [
        "元の精度が test: `0.797752808988764` だったので精度が下がってがっている\n",
        "\n",
        "## 3.2 モデルがどの特徴から学習したのかを可視化する"
      ]
    },
    {
      "cell_type": "code",
      "metadata": {
        "id": "SjMTuZf6sSoe",
        "colab_type": "code",
        "outputId": "b5756e1a-f22e-41dc-abf9-125aa7ac6695",
        "colab": {
          "base_uri": "https://localhost:8080/",
          "height": 136
        }
      },
      "source": [
        "lr_model = LogisticRegression(random_state=0)\n",
        "lr_model.fit(x_train, y_train)"
      ],
      "execution_count": 0,
      "outputs": [
        {
          "output_type": "stream",
          "text": [
            "/usr/local/lib/python3.6/dist-packages/sklearn/linear_model/logistic.py:432: FutureWarning: Default solver will be changed to 'lbfgs' in 0.22. Specify a solver to silence this warning.\n",
            "  FutureWarning)\n"
          ],
          "name": "stderr"
        },
        {
          "output_type": "execute_result",
          "data": {
            "text/plain": [
              "LogisticRegression(C=1.0, class_weight=None, dual=False, fit_intercept=True,\n",
              "                   intercept_scaling=1, l1_ratio=None, max_iter=100,\n",
              "                   multi_class='warn', n_jobs=None, penalty='l2',\n",
              "                   random_state=0, solver='warn', tol=0.0001, verbose=0,\n",
              "                   warm_start=False)"
            ]
          },
          "metadata": {
            "tags": []
          },
          "execution_count": 104
        }
      ]
    },
    {
      "cell_type": "code",
      "metadata": {
        "id": "3nsGgpxEsVVN",
        "colab_type": "code",
        "outputId": "3b4aa9a3-bd84-4ff3-ca44-98b15525f2ed",
        "colab": {
          "base_uri": "https://localhost:8080/",
          "height": 136
        }
      },
      "source": [
        "perm = PermutationImportance(lr_model).fit(x_test, y_test)\n",
        "eli5.show_weights(perm, feature_names=use_feature)"
      ],
      "execution_count": 0,
      "outputs": [
        {
          "output_type": "execute_result",
          "data": {
            "text/html": [
              "\n",
              "    <style>\n",
              "    table.eli5-weights tr:hover {\n",
              "        filter: brightness(85%);\n",
              "    }\n",
              "</style>\n",
              "\n",
              "\n",
              "\n",
              "    \n",
              "\n",
              "    \n",
              "\n",
              "    \n",
              "\n",
              "    \n",
              "\n",
              "    \n",
              "\n",
              "    \n",
              "\n",
              "\n",
              "    \n",
              "\n",
              "    \n",
              "\n",
              "    \n",
              "\n",
              "    \n",
              "\n",
              "    \n",
              "\n",
              "    \n",
              "\n",
              "\n",
              "    \n",
              "\n",
              "    \n",
              "\n",
              "    \n",
              "\n",
              "    \n",
              "\n",
              "    \n",
              "        <table class=\"eli5-weights eli5-feature-importances\" style=\"border-collapse: collapse; border: none; margin-top: 0em; table-layout: auto;\">\n",
              "    <thead>\n",
              "    <tr style=\"border: none;\">\n",
              "        <th style=\"padding: 0 1em 0 0.5em; text-align: right; border: none;\">Weight</th>\n",
              "        <th style=\"padding: 0 0.5em 0 0.5em; text-align: left; border: none;\">Feature</th>\n",
              "    </tr>\n",
              "    </thead>\n",
              "    <tbody>\n",
              "    \n",
              "        <tr style=\"background-color: hsl(120, 100.00%, 80.00%); border: none;\">\n",
              "            <td style=\"padding: 0 1em 0 0.5em; text-align: right; border: none;\">\n",
              "                0.2180\n",
              "                \n",
              "                    &plusmn; 0.0343\n",
              "                \n",
              "            </td>\n",
              "            <td style=\"padding: 0 0.5em 0 0.5em; text-align: left; border: none;\">\n",
              "                SexCate\n",
              "            </td>\n",
              "        </tr>\n",
              "    \n",
              "        <tr style=\"background-color: hsl(120, 100.00%, 91.83%); border: none;\">\n",
              "            <td style=\"padding: 0 1em 0 0.5em; text-align: right; border: none;\">\n",
              "                0.0607\n",
              "                \n",
              "                    &plusmn; 0.0257\n",
              "                \n",
              "            </td>\n",
              "            <td style=\"padding: 0 0.5em 0 0.5em; text-align: left; border: none;\">\n",
              "                Pclass\n",
              "            </td>\n",
              "        </tr>\n",
              "    \n",
              "        <tr style=\"background-color: hsl(120, 100.00%, 95.37%); border: none;\">\n",
              "            <td style=\"padding: 0 1em 0 0.5em; text-align: right; border: none;\">\n",
              "                0.0270\n",
              "                \n",
              "                    &plusmn; 0.0308\n",
              "                \n",
              "            </td>\n",
              "            <td style=\"padding: 0 0.5em 0 0.5em; text-align: left; border: none;\">\n",
              "                Age\n",
              "            </td>\n",
              "        </tr>\n",
              "    \n",
              "        <tr style=\"background-color: hsl(120, 100.00%, 96.93%); border: none;\">\n",
              "            <td style=\"padding: 0 1em 0 0.5em; text-align: right; border: none;\">\n",
              "                0.0150\n",
              "                \n",
              "                    &plusmn; 0.0067\n",
              "                \n",
              "            </td>\n",
              "            <td style=\"padding: 0 0.5em 0 0.5em; text-align: left; border: none;\">\n",
              "                Siblings/Spouses Aboard\n",
              "            </td>\n",
              "        </tr>\n",
              "    \n",
              "        <tr style=\"background-color: hsl(120, 100.00%, 97.98%); border: none;\">\n",
              "            <td style=\"padding: 0 1em 0 0.5em; text-align: right; border: none;\">\n",
              "                0.0082\n",
              "                \n",
              "                    &plusmn; 0.0030\n",
              "                \n",
              "            </td>\n",
              "            <td style=\"padding: 0 0.5em 0 0.5em; text-align: left; border: none;\">\n",
              "                Parents/Children Aboard\n",
              "            </td>\n",
              "        </tr>\n",
              "    \n",
              "        <tr style=\"background-color: hsl(120, 100.00%, 98.68%); border: none;\">\n",
              "            <td style=\"padding: 0 1em 0 0.5em; text-align: right; border: none;\">\n",
              "                0.0045\n",
              "                \n",
              "                    &plusmn; 0.0056\n",
              "                \n",
              "            </td>\n",
              "            <td style=\"padding: 0 0.5em 0 0.5em; text-align: left; border: none;\">\n",
              "                Fare\n",
              "            </td>\n",
              "        </tr>\n",
              "    \n",
              "    \n",
              "    </tbody>\n",
              "</table>\n",
              "    \n",
              "\n",
              "    \n",
              "\n",
              "\n",
              "    \n",
              "\n",
              "    \n",
              "\n",
              "    \n",
              "\n",
              "    \n",
              "\n",
              "    \n",
              "\n",
              "    \n",
              "\n",
              "\n",
              "\n"
            ],
            "text/plain": [
              "<IPython.core.display.HTML object>"
            ]
          },
          "metadata": {
            "tags": []
          },
          "execution_count": 105
        }
      ]
    },
    {
      "cell_type": "markdown",
      "metadata": {
        "id": "iaPTatlzsPKM",
        "colab_type": "text"
      },
      "source": [
        "`isChild`を追加"
      ]
    },
    {
      "cell_type": "code",
      "metadata": {
        "id": "O9SXJQjjFzz5",
        "colab_type": "code",
        "outputId": "903f1d65-1092-41b8-df23-dac14a0a33da",
        "colab": {
          "base_uri": "https://localhost:8080/",
          "height": 136
        }
      },
      "source": [
        "lr_model = LogisticRegression(random_state=0)\n",
        "lr_model.fit(x_train_2, y_train)"
      ],
      "execution_count": 0,
      "outputs": [
        {
          "output_type": "stream",
          "text": [
            "/usr/local/lib/python3.6/dist-packages/sklearn/linear_model/logistic.py:432: FutureWarning: Default solver will be changed to 'lbfgs' in 0.22. Specify a solver to silence this warning.\n",
            "  FutureWarning)\n"
          ],
          "name": "stderr"
        },
        {
          "output_type": "execute_result",
          "data": {
            "text/plain": [
              "LogisticRegression(C=1.0, class_weight=None, dual=False, fit_intercept=True,\n",
              "                   intercept_scaling=1, l1_ratio=None, max_iter=100,\n",
              "                   multi_class='warn', n_jobs=None, penalty='l2',\n",
              "                   random_state=0, solver='warn', tol=0.0001, verbose=0,\n",
              "                   warm_start=False)"
            ]
          },
          "metadata": {
            "tags": []
          },
          "execution_count": 106
        }
      ]
    },
    {
      "cell_type": "code",
      "metadata": {
        "id": "q7kpXqk_F9qW",
        "colab_type": "code",
        "outputId": "e846e5dd-c873-49b8-c642-fdf5cc81371d",
        "colab": {
          "base_uri": "https://localhost:8080/",
          "height": 153
        }
      },
      "source": [
        "perm = PermutationImportance(lr_model).fit(x_test_2, y_test)\n",
        "eli5.show_weights(perm, feature_names=use_feature + [\"isChild\"])"
      ],
      "execution_count": 0,
      "outputs": [
        {
          "output_type": "execute_result",
          "data": {
            "text/html": [
              "\n",
              "    <style>\n",
              "    table.eli5-weights tr:hover {\n",
              "        filter: brightness(85%);\n",
              "    }\n",
              "</style>\n",
              "\n",
              "\n",
              "\n",
              "    \n",
              "\n",
              "    \n",
              "\n",
              "    \n",
              "\n",
              "    \n",
              "\n",
              "    \n",
              "\n",
              "    \n",
              "\n",
              "\n",
              "    \n",
              "\n",
              "    \n",
              "\n",
              "    \n",
              "\n",
              "    \n",
              "\n",
              "    \n",
              "\n",
              "    \n",
              "\n",
              "\n",
              "    \n",
              "\n",
              "    \n",
              "\n",
              "    \n",
              "\n",
              "    \n",
              "\n",
              "    \n",
              "        <table class=\"eli5-weights eli5-feature-importances\" style=\"border-collapse: collapse; border: none; margin-top: 0em; table-layout: auto;\">\n",
              "    <thead>\n",
              "    <tr style=\"border: none;\">\n",
              "        <th style=\"padding: 0 1em 0 0.5em; text-align: right; border: none;\">Weight</th>\n",
              "        <th style=\"padding: 0 0.5em 0 0.5em; text-align: left; border: none;\">Feature</th>\n",
              "    </tr>\n",
              "    </thead>\n",
              "    <tbody>\n",
              "    \n",
              "        <tr style=\"background-color: hsl(120, 100.00%, 80.00%); border: none;\">\n",
              "            <td style=\"padding: 0 1em 0 0.5em; text-align: right; border: none;\">\n",
              "                0.2240\n",
              "                \n",
              "                    &plusmn; 0.0587\n",
              "                \n",
              "            </td>\n",
              "            <td style=\"padding: 0 0.5em 0 0.5em; text-align: left; border: none;\">\n",
              "                SexCate\n",
              "            </td>\n",
              "        </tr>\n",
              "    \n",
              "        <tr style=\"background-color: hsl(120, 100.00%, 92.83%); border: none;\">\n",
              "            <td style=\"padding: 0 1em 0 0.5em; text-align: right; border: none;\">\n",
              "                0.0517\n",
              "                \n",
              "                    &plusmn; 0.0145\n",
              "                \n",
              "            </td>\n",
              "            <td style=\"padding: 0 0.5em 0 0.5em; text-align: left; border: none;\">\n",
              "                Pclass\n",
              "            </td>\n",
              "        </tr>\n",
              "    \n",
              "        <tr style=\"background-color: hsl(120, 100.00%, 94.94%); border: none;\">\n",
              "            <td style=\"padding: 0 1em 0 0.5em; text-align: right; border: none;\">\n",
              "                0.0315\n",
              "                \n",
              "                    &plusmn; 0.0154\n",
              "                \n",
              "            </td>\n",
              "            <td style=\"padding: 0 0.5em 0 0.5em; text-align: left; border: none;\">\n",
              "                Age\n",
              "            </td>\n",
              "        </tr>\n",
              "    \n",
              "        <tr style=\"background-color: hsl(120, 100.00%, 96.38%); border: none;\">\n",
              "            <td style=\"padding: 0 1em 0 0.5em; text-align: right; border: none;\">\n",
              "                0.0195\n",
              "                \n",
              "                    &plusmn; 0.0129\n",
              "                \n",
              "            </td>\n",
              "            <td style=\"padding: 0 0.5em 0 0.5em; text-align: left; border: none;\">\n",
              "                Siblings/Spouses Aboard\n",
              "            </td>\n",
              "        </tr>\n",
              "    \n",
              "        <tr style=\"background-color: hsl(120, 100.00%, 97.65%); border: none;\">\n",
              "            <td style=\"padding: 0 1em 0 0.5em; text-align: right; border: none;\">\n",
              "                0.0105\n",
              "                \n",
              "                    &plusmn; 0.0099\n",
              "                \n",
              "            </td>\n",
              "            <td style=\"padding: 0 0.5em 0 0.5em; text-align: left; border: none;\">\n",
              "                Fare\n",
              "            </td>\n",
              "        </tr>\n",
              "    \n",
              "        <tr style=\"background-color: hsl(120, 100.00%, 98.15%); border: none;\">\n",
              "            <td style=\"padding: 0 1em 0 0.5em; text-align: right; border: none;\">\n",
              "                0.0075\n",
              "                \n",
              "                    &plusmn; 0.0106\n",
              "                \n",
              "            </td>\n",
              "            <td style=\"padding: 0 0.5em 0 0.5em; text-align: left; border: none;\">\n",
              "                Parents/Children Aboard\n",
              "            </td>\n",
              "        </tr>\n",
              "    \n",
              "        <tr style=\"background-color: hsl(120, 100.00%, 98.86%); border: none;\">\n",
              "            <td style=\"padding: 0 1em 0 0.5em; text-align: right; border: none;\">\n",
              "                0.0037\n",
              "                \n",
              "                    &plusmn; 0.0150\n",
              "                \n",
              "            </td>\n",
              "            <td style=\"padding: 0 0.5em 0 0.5em; text-align: left; border: none;\">\n",
              "                isChild\n",
              "            </td>\n",
              "        </tr>\n",
              "    \n",
              "    \n",
              "    </tbody>\n",
              "</table>\n",
              "    \n",
              "\n",
              "    \n",
              "\n",
              "\n",
              "    \n",
              "\n",
              "    \n",
              "\n",
              "    \n",
              "\n",
              "    \n",
              "\n",
              "    \n",
              "\n",
              "    \n",
              "\n",
              "\n",
              "\n"
            ],
            "text/plain": [
              "<IPython.core.display.HTML object>"
            ]
          },
          "metadata": {
            "tags": []
          },
          "execution_count": 107
        }
      ]
    },
    {
      "cell_type": "markdown",
      "metadata": {
        "id": "X4aMksqEGBOb",
        "colab_type": "text"
      },
      "source": [
        "##### 演習5\n",
        "isChildと同様にisAloneも`PermutationImportance`を使った可視化をしてみる"
      ]
    },
    {
      "cell_type": "code",
      "metadata": {
        "id": "UJr6Rl60GMj8",
        "colab_type": "code",
        "outputId": "b5403225-b55c-40a5-a03a-49d5e739c23a",
        "colab": {
          "base_uri": "https://localhost:8080/",
          "height": 187
        }
      },
      "source": [
        "lr_model = LogisticRegression(random_state=0)\n",
        "lr_model.fit(x_train_3, y_train)\n",
        "\n",
        "perm = PermutationImportance(lr_model).fit(x_test_3, y_test)\n",
        "eli5.show_weights(perm, feature_names=use_feature + [\"isAlone\"])"
      ],
      "execution_count": 0,
      "outputs": [
        {
          "output_type": "stream",
          "text": [
            "/usr/local/lib/python3.6/dist-packages/sklearn/linear_model/logistic.py:432: FutureWarning: Default solver will be changed to 'lbfgs' in 0.22. Specify a solver to silence this warning.\n",
            "  FutureWarning)\n"
          ],
          "name": "stderr"
        },
        {
          "output_type": "execute_result",
          "data": {
            "text/html": [
              "\n",
              "    <style>\n",
              "    table.eli5-weights tr:hover {\n",
              "        filter: brightness(85%);\n",
              "    }\n",
              "</style>\n",
              "\n",
              "\n",
              "\n",
              "    \n",
              "\n",
              "    \n",
              "\n",
              "    \n",
              "\n",
              "    \n",
              "\n",
              "    \n",
              "\n",
              "    \n",
              "\n",
              "\n",
              "    \n",
              "\n",
              "    \n",
              "\n",
              "    \n",
              "\n",
              "    \n",
              "\n",
              "    \n",
              "\n",
              "    \n",
              "\n",
              "\n",
              "    \n",
              "\n",
              "    \n",
              "\n",
              "    \n",
              "\n",
              "    \n",
              "\n",
              "    \n",
              "        <table class=\"eli5-weights eli5-feature-importances\" style=\"border-collapse: collapse; border: none; margin-top: 0em; table-layout: auto;\">\n",
              "    <thead>\n",
              "    <tr style=\"border: none;\">\n",
              "        <th style=\"padding: 0 1em 0 0.5em; text-align: right; border: none;\">Weight</th>\n",
              "        <th style=\"padding: 0 0.5em 0 0.5em; text-align: left; border: none;\">Feature</th>\n",
              "    </tr>\n",
              "    </thead>\n",
              "    <tbody>\n",
              "    \n",
              "        <tr style=\"background-color: hsl(120, 100.00%, 80.00%); border: none;\">\n",
              "            <td style=\"padding: 0 1em 0 0.5em; text-align: right; border: none;\">\n",
              "                0.2165\n",
              "                \n",
              "                    &plusmn; 0.0539\n",
              "                \n",
              "            </td>\n",
              "            <td style=\"padding: 0 0.5em 0 0.5em; text-align: left; border: none;\">\n",
              "                SexCate\n",
              "            </td>\n",
              "        </tr>\n",
              "    \n",
              "        <tr style=\"background-color: hsl(120, 100.00%, 95.44%); border: none;\">\n",
              "            <td style=\"padding: 0 1em 0 0.5em; text-align: right; border: none;\">\n",
              "                0.0262\n",
              "                \n",
              "                    &plusmn; 0.0177\n",
              "                \n",
              "            </td>\n",
              "            <td style=\"padding: 0 0.5em 0 0.5em; text-align: left; border: none;\">\n",
              "                Pclass\n",
              "            </td>\n",
              "        </tr>\n",
              "    \n",
              "        <tr style=\"background-color: hsl(120, 100.00%, 96.81%); border: none;\">\n",
              "            <td style=\"padding: 0 1em 0 0.5em; text-align: right; border: none;\">\n",
              "                0.0157\n",
              "                \n",
              "                    &plusmn; 0.0173\n",
              "                \n",
              "            </td>\n",
              "            <td style=\"padding: 0 0.5em 0 0.5em; text-align: left; border: none;\">\n",
              "                Siblings/Spouses Aboard\n",
              "            </td>\n",
              "        </tr>\n",
              "    \n",
              "        <tr style=\"background-color: hsl(120, 100.00%, 98.10%); border: none;\">\n",
              "            <td style=\"padding: 0 1em 0 0.5em; text-align: right; border: none;\">\n",
              "                0.0075\n",
              "                \n",
              "                    &plusmn; 0.0047\n",
              "                \n",
              "            </td>\n",
              "            <td style=\"padding: 0 0.5em 0 0.5em; text-align: left; border: none;\">\n",
              "                Fare\n",
              "            </td>\n",
              "        </tr>\n",
              "    \n",
              "        <tr style=\"background-color: hsl(120, 100.00%, 98.24%); border: none;\">\n",
              "            <td style=\"padding: 0 1em 0 0.5em; text-align: right; border: none;\">\n",
              "                0.0067\n",
              "                \n",
              "                    &plusmn; 0.0229\n",
              "                \n",
              "            </td>\n",
              "            <td style=\"padding: 0 0.5em 0 0.5em; text-align: left; border: none;\">\n",
              "                Age\n",
              "            </td>\n",
              "        </tr>\n",
              "    \n",
              "        <tr style=\"background-color: hsl(0, 100.00%, 98.67%); border: none;\">\n",
              "            <td style=\"padding: 0 1em 0 0.5em; text-align: right; border: none;\">\n",
              "                -0.0045\n",
              "                \n",
              "                    &plusmn; 0.0056\n",
              "                \n",
              "            </td>\n",
              "            <td style=\"padding: 0 0.5em 0 0.5em; text-align: left; border: none;\">\n",
              "                Parents/Children Aboard\n",
              "            </td>\n",
              "        </tr>\n",
              "    \n",
              "        <tr style=\"background-color: hsl(0, 100.00%, 97.02%); border: none;\">\n",
              "            <td style=\"padding: 0 1em 0 0.5em; text-align: right; border: none;\">\n",
              "                -0.0142\n",
              "                \n",
              "                    &plusmn; 0.0087\n",
              "                \n",
              "            </td>\n",
              "            <td style=\"padding: 0 0.5em 0 0.5em; text-align: left; border: none;\">\n",
              "                isAlone\n",
              "            </td>\n",
              "        </tr>\n",
              "    \n",
              "    \n",
              "    </tbody>\n",
              "</table>\n",
              "    \n",
              "\n",
              "    \n",
              "\n",
              "\n",
              "    \n",
              "\n",
              "    \n",
              "\n",
              "    \n",
              "\n",
              "    \n",
              "\n",
              "    \n",
              "\n",
              "    \n",
              "\n",
              "\n",
              "\n"
            ],
            "text/plain": [
              "<IPython.core.display.HTML object>"
            ]
          },
          "metadata": {
            "tags": []
          },
          "execution_count": 108
        }
      ]
    },
    {
      "cell_type": "markdown",
      "metadata": {
        "id": "Klhifi54GNIq",
        "colab_type": "text"
      },
      "source": [
        "##### 解答"
      ]
    },
    {
      "cell_type": "code",
      "metadata": {
        "id": "_YZa31X0mqyO",
        "colab_type": "code",
        "colab": {}
      },
      "source": [
        "lr_model = LogisticRegression(random_state=0)\n",
        "lr_model.fit(x_train_3, y_train)\n",
        "\n",
        "perm = PermutationImportance(lr_model).fit(x_test_3, y_test)\n",
        "eli5.show_weights(perm, feature_names=use_feature + [\"isAlone\"])"
      ],
      "execution_count": 0,
      "outputs": []
    },
    {
      "cell_type": "markdown",
      "metadata": {
        "id": "0cTuUTzNH3Wp",
        "colab_type": "text"
      },
      "source": [
        "# 4 複数の評価指標を使ってみる"
      ]
    },
    {
      "cell_type": "code",
      "metadata": {
        "id": "loSLqZtXijSw",
        "colab_type": "code",
        "outputId": "5e2a23f6-03a1-4f58-e642-3c216fd5451c",
        "colab": {
          "base_uri": "https://localhost:8080/",
          "height": 51
        }
      },
      "source": [
        "lr_model = LogisticRegression(random_state=0)\n",
        "lr_model.fit(x_train, y_train)\n",
        "\n",
        "pred_test = lr_model.predict(x_test)"
      ],
      "execution_count": 0,
      "outputs": [
        {
          "output_type": "stream",
          "text": [
            "/usr/local/lib/python3.6/dist-packages/sklearn/linear_model/logistic.py:432: FutureWarning: Default solver will be changed to 'lbfgs' in 0.22. Specify a solver to silence this warning.\n",
            "  FutureWarning)\n"
          ],
          "name": "stderr"
        }
      ]
    },
    {
      "cell_type": "markdown",
      "metadata": {
        "id": "c7KzwzoQkjEF",
        "colab_type": "text"
      },
      "source": [
        "　混同行列を作成する"
      ]
    },
    {
      "cell_type": "code",
      "metadata": {
        "id": "l01gaJH0km6c",
        "colab_type": "code",
        "outputId": "aa69afc4-6444-44b9-c6be-31ec9a81f3c9",
        "colab": {
          "base_uri": "https://localhost:8080/",
          "height": 51
        }
      },
      "source": [
        "cm = confusion_matrix(y_test, pred_test)\n",
        "cm"
      ],
      "execution_count": 0,
      "outputs": [
        {
          "output_type": "execute_result",
          "data": {
            "text/plain": [
              "array([[141,  21],\n",
              "       [ 33,  72]])"
            ]
          },
          "metadata": {
            "tags": []
          },
          "execution_count": 110
        }
      ]
    },
    {
      "cell_type": "code",
      "metadata": {
        "id": "xve18qM4mQu8",
        "colab_type": "code",
        "outputId": "6507a4e7-0293-41d1-cea9-e788de5b26fb",
        "colab": {
          "base_uri": "https://localhost:8080/",
          "height": 34
        }
      },
      "source": [
        "tn, fp, fn, tp = cm.ravel()\n",
        "tn, fp, fn, tp"
      ],
      "execution_count": 0,
      "outputs": [
        {
          "output_type": "execute_result",
          "data": {
            "text/plain": [
              "(141, 21, 33, 72)"
            ]
          },
          "metadata": {
            "tags": []
          },
          "execution_count": 111
        }
      ]
    },
    {
      "cell_type": "markdown",
      "metadata": {
        "id": "zCKzL1Tom2T4",
        "colab_type": "text"
      },
      "source": [
        "AI Shiftの資料と異なり\n",
        "\n",
        "||Negative(予測)|Positive(予測)|\n",
        "|:--|:--:|:--:|\n",
        "|Negative(正解)|TN|FP|\n",
        "|Positive(正解)|FN|TP|\n",
        "\n",
        "となっていることに注意"
      ]
    },
    {
      "cell_type": "markdown",
      "metadata": {
        "id": "ki2o0Ei8kgVe",
        "colab_type": "text"
      },
      "source": [
        "Precision, Recallを計算する"
      ]
    },
    {
      "cell_type": "code",
      "metadata": {
        "id": "ZK0FR9Ktkes4",
        "colab_type": "code",
        "colab": {}
      },
      "source": [
        "precision, recall, fbeta_score, support = precision_recall_fscore_support(y_test, pred_test)"
      ],
      "execution_count": 0,
      "outputs": []
    },
    {
      "cell_type": "markdown",
      "metadata": {
        "id": "nB2X1U1JjuyM",
        "colab_type": "text"
      },
      "source": [
        "precision  \n",
        "[Negativeのprecision, Positiveのprecision]"
      ]
    },
    {
      "cell_type": "code",
      "metadata": {
        "id": "ej4tvzxLiyyb",
        "colab_type": "code",
        "outputId": "1396cec1-7e07-483c-b36e-2cadbd85e702",
        "colab": {
          "base_uri": "https://localhost:8080/",
          "height": 34
        }
      },
      "source": [
        "precision"
      ],
      "execution_count": 0,
      "outputs": [
        {
          "output_type": "execute_result",
          "data": {
            "text/plain": [
              "array([0.81034483, 0.77419355])"
            ]
          },
          "metadata": {
            "tags": []
          },
          "execution_count": 113
        }
      ]
    },
    {
      "cell_type": "markdown",
      "metadata": {
        "id": "zRoIl20hnzvj",
        "colab_type": "text"
      },
      "source": [
        "##### 演習6\n",
        "\n",
        "PositiveのPrecisionを混同行列を見て計算してみましょう"
      ]
    },
    {
      "cell_type": "code",
      "metadata": {
        "id": "jc2tQFWLn_Da",
        "colab_type": "code",
        "outputId": "7de72119-0619-4fa2-c138-e4155eeaeb0c",
        "colab": {
          "base_uri": "https://localhost:8080/",
          "height": 34
        }
      },
      "source": [
        "72/(72+21)"
      ],
      "execution_count": 0,
      "outputs": [
        {
          "output_type": "execute_result",
          "data": {
            "text/plain": [
              "0.7741935483870968"
            ]
          },
          "metadata": {
            "tags": []
          },
          "execution_count": 115
        }
      ]
    },
    {
      "cell_type": "markdown",
      "metadata": {
        "id": "xVqVDwgooApH",
        "colab_type": "text"
      },
      "source": [
        "##### ヒント"
      ]
    },
    {
      "cell_type": "code",
      "metadata": {
        "id": "7PXMt7IuoHqu",
        "colab_type": "code",
        "colab": {}
      },
      "source": [
        "# PositiveのPrecisionは TP / (TP + FP) で計算されます"
      ],
      "execution_count": 0,
      "outputs": []
    },
    {
      "cell_type": "markdown",
      "metadata": {
        "id": "jXFAVdkQoR8x",
        "colab_type": "text"
      },
      "source": [
        "##### 正解"
      ]
    },
    {
      "cell_type": "code",
      "metadata": {
        "id": "fcSuRUrYmkC9",
        "colab_type": "code",
        "colab": {}
      },
      "source": [
        "72/(72+21)"
      ],
      "execution_count": 0,
      "outputs": []
    },
    {
      "cell_type": "markdown",
      "metadata": {
        "id": "QvBzPHkgj5yu",
        "colab_type": "text"
      },
      "source": [
        "##### recall  \n",
        "[Negativeのrecall, Positiveのrecall]"
      ]
    },
    {
      "cell_type": "code",
      "metadata": {
        "id": "BH7G8qT0jDvK",
        "colab_type": "code",
        "colab": {}
      },
      "source": [
        "recall"
      ],
      "execution_count": 0,
      "outputs": []
    },
    {
      "cell_type": "markdown",
      "metadata": {
        "id": "iQCNeO3JoZql",
        "colab_type": "text"
      },
      "source": [
        "##### 演習6\n",
        "PositiveのRecallを混同行列を見て計算してみましょう"
      ]
    },
    {
      "cell_type": "code",
      "metadata": {
        "id": "qKOBlCAJogCn",
        "colab_type": "code",
        "outputId": "78dfb888-b41f-4c6e-df6c-eb3d65bbab49",
        "colab": {
          "base_uri": "https://localhost:8080/",
          "height": 34
        }
      },
      "source": [
        "72/(72+33)"
      ],
      "execution_count": 0,
      "outputs": [
        {
          "output_type": "execute_result",
          "data": {
            "text/plain": [
              "0.6857142857142857"
            ]
          },
          "metadata": {
            "tags": []
          },
          "execution_count": 117
        }
      ]
    },
    {
      "cell_type": "markdown",
      "metadata": {
        "id": "3Rrm1Qjdoe7d",
        "colab_type": "text"
      },
      "source": [
        "##### ヒント"
      ]
    },
    {
      "cell_type": "code",
      "metadata": {
        "id": "irieEL-poizi",
        "colab_type": "code",
        "colab": {}
      },
      "source": [
        "# PositiveのRecallは TP / (TP + FN) で計算されます"
      ],
      "execution_count": 0,
      "outputs": []
    },
    {
      "cell_type": "markdown",
      "metadata": {
        "id": "RwxhlFePoykR",
        "colab_type": "text"
      },
      "source": [
        "##### 正解"
      ]
    },
    {
      "cell_type": "code",
      "metadata": {
        "id": "37Hu2Ckdl8ys",
        "colab_type": "code",
        "colab": {}
      },
      "source": [
        "72/(72 + 33)"
      ],
      "execution_count": 0,
      "outputs": []
    },
    {
      "cell_type": "markdown",
      "metadata": {
        "id": "WpAth6Lcj6nM",
        "colab_type": "text"
      },
      "source": [
        "##### F値\n",
        "[NegativeのF値, PositiveのF値]"
      ]
    },
    {
      "cell_type": "code",
      "metadata": {
        "id": "WPd_vlZdkGKl",
        "colab_type": "code",
        "outputId": "bfc66138-2645-4a94-9c4e-216f8ef70593",
        "colab": {
          "base_uri": "https://localhost:8080/",
          "height": 34
        }
      },
      "source": [
        "fbeta_score"
      ],
      "execution_count": 0,
      "outputs": [
        {
          "output_type": "execute_result",
          "data": {
            "text/plain": [
              "array([0.83928571, 0.72727273])"
            ]
          },
          "metadata": {
            "tags": []
          },
          "execution_count": 118
        }
      ]
    },
    {
      "cell_type": "markdown",
      "metadata": {
        "id": "QQnlcV9Jj7PX",
        "colab_type": "text"
      },
      "source": [
        "データ数  \n",
        "[Negativeの個数, Positiveの個数]"
      ]
    },
    {
      "cell_type": "code",
      "metadata": {
        "id": "JzmvoJ6ykTTO",
        "colab_type": "code",
        "outputId": "df84b747-cac4-414e-ea29-4aefb7bf4864",
        "colab": {
          "base_uri": "https://localhost:8080/",
          "height": 34
        }
      },
      "source": [
        "support\n",
        "# the number of negative and positive"
      ],
      "execution_count": 0,
      "outputs": [
        {
          "output_type": "execute_result",
          "data": {
            "text/plain": [
              "array([162, 105])"
            ]
          },
          "metadata": {
            "tags": []
          },
          "execution_count": 120
        }
      ]
    },
    {
      "cell_type": "markdown",
      "metadata": {
        "id": "7IrEjgXVpJdZ",
        "colab_type": "text"
      },
      "source": [
        "# 5. 応用問題\n",
        "\n",
        "不倫危険度フラグ予測問題を説く\n",
        "モデルを自分なりに構築してみましょう\n",
        "\n",
        "\n",
        "##### データ読み込み"
      ]
    },
    {
      "cell_type": "code",
      "metadata": {
        "id": "DnZQOF7xpTrP",
        "colab_type": "code",
        "outputId": "841df417-370b-41dd-c811-64cf54d4ff81",
        "colab": {
          "base_uri": "https://localhost:8080/",
          "height": 221
        }
      },
      "source": [
        "furin_data = sm.datasets.fair.load_pandas().data # 不倫データのロード\n",
        "furin_data.affairs  = (furin_data.affairs > 0).astype(int)  # 不倫フラグを0/1に変換\n",
        "print(furin_data.shape)\n",
        "furin_data.head()"
      ],
      "execution_count": 0,
      "outputs": [
        {
          "output_type": "stream",
          "text": [
            "(6366, 9)\n"
          ],
          "name": "stdout"
        },
        {
          "output_type": "execute_result",
          "data": {
            "text/html": [
              "<div>\n",
              "<style scoped>\n",
              "    .dataframe tbody tr th:only-of-type {\n",
              "        vertical-align: middle;\n",
              "    }\n",
              "\n",
              "    .dataframe tbody tr th {\n",
              "        vertical-align: top;\n",
              "    }\n",
              "\n",
              "    .dataframe thead th {\n",
              "        text-align: right;\n",
              "    }\n",
              "</style>\n",
              "<table border=\"1\" class=\"dataframe\">\n",
              "  <thead>\n",
              "    <tr style=\"text-align: right;\">\n",
              "      <th></th>\n",
              "      <th>rate_marriage</th>\n",
              "      <th>age</th>\n",
              "      <th>yrs_married</th>\n",
              "      <th>children</th>\n",
              "      <th>religious</th>\n",
              "      <th>educ</th>\n",
              "      <th>occupation</th>\n",
              "      <th>occupation_husb</th>\n",
              "      <th>affairs</th>\n",
              "    </tr>\n",
              "  </thead>\n",
              "  <tbody>\n",
              "    <tr>\n",
              "      <th>0</th>\n",
              "      <td>3.0</td>\n",
              "      <td>32.0</td>\n",
              "      <td>9.0</td>\n",
              "      <td>3.0</td>\n",
              "      <td>3.0</td>\n",
              "      <td>17.0</td>\n",
              "      <td>2.0</td>\n",
              "      <td>5.0</td>\n",
              "      <td>1</td>\n",
              "    </tr>\n",
              "    <tr>\n",
              "      <th>1</th>\n",
              "      <td>3.0</td>\n",
              "      <td>27.0</td>\n",
              "      <td>13.0</td>\n",
              "      <td>3.0</td>\n",
              "      <td>1.0</td>\n",
              "      <td>14.0</td>\n",
              "      <td>3.0</td>\n",
              "      <td>4.0</td>\n",
              "      <td>1</td>\n",
              "    </tr>\n",
              "    <tr>\n",
              "      <th>2</th>\n",
              "      <td>4.0</td>\n",
              "      <td>22.0</td>\n",
              "      <td>2.5</td>\n",
              "      <td>0.0</td>\n",
              "      <td>1.0</td>\n",
              "      <td>16.0</td>\n",
              "      <td>3.0</td>\n",
              "      <td>5.0</td>\n",
              "      <td>1</td>\n",
              "    </tr>\n",
              "    <tr>\n",
              "      <th>3</th>\n",
              "      <td>4.0</td>\n",
              "      <td>37.0</td>\n",
              "      <td>16.5</td>\n",
              "      <td>4.0</td>\n",
              "      <td>3.0</td>\n",
              "      <td>16.0</td>\n",
              "      <td>5.0</td>\n",
              "      <td>5.0</td>\n",
              "      <td>1</td>\n",
              "    </tr>\n",
              "    <tr>\n",
              "      <th>4</th>\n",
              "      <td>5.0</td>\n",
              "      <td>27.0</td>\n",
              "      <td>9.0</td>\n",
              "      <td>1.0</td>\n",
              "      <td>1.0</td>\n",
              "      <td>14.0</td>\n",
              "      <td>3.0</td>\n",
              "      <td>4.0</td>\n",
              "      <td>1</td>\n",
              "    </tr>\n",
              "  </tbody>\n",
              "</table>\n",
              "</div>"
            ],
            "text/plain": [
              "   rate_marriage   age  yrs_married  ...  occupation  occupation_husb  affairs\n",
              "0            3.0  32.0          9.0  ...         2.0              5.0        1\n",
              "1            3.0  27.0         13.0  ...         3.0              4.0        1\n",
              "2            4.0  22.0          2.5  ...         3.0              5.0        1\n",
              "3            4.0  37.0         16.5  ...         5.0              5.0        1\n",
              "4            5.0  27.0          9.0  ...         3.0              4.0        1\n",
              "\n",
              "[5 rows x 9 columns]"
            ]
          },
          "metadata": {
            "tags": []
          },
          "execution_count": 121
        }
      ]
    },
    {
      "cell_type": "code",
      "metadata": {
        "id": "zAmrWd4SpVQx",
        "colab_type": "code",
        "outputId": "6c98d5f5-33f0-4bdf-e11b-6a491af0525b",
        "colab": {
          "base_uri": "https://localhost:8080/",
          "height": 281
        }
      },
      "source": [
        "  furin_data.affairs.value_counts().plot.pie()"
      ],
      "execution_count": 0,
      "outputs": [
        {
          "output_type": "execute_result",
          "data": {
            "text/plain": [
              "<matplotlib.axes._subplots.AxesSubplot at 0x7fcdbd63f128>"
            ]
          },
          "metadata": {
            "tags": []
          },
          "execution_count": 125
        },
        {
          "output_type": "display_data",
          "data": {
            "image/png": "[encoded data removed]",
            "text/plain": [
              "<Figure size 432x288 with 1 Axes>"
            ]
          },
          "metadata": {
            "tags": []
          }
        }
      ]
    },
    {
      "cell_type": "code",
      "metadata": {
        "id": "EAN19azYsp8W",
        "colab_type": "code",
        "outputId": "0a1a1afc-4316-497a-c3bb-3f9be35b31c1",
        "colab": {
          "base_uri": "https://localhost:8080/",
          "height": 301
        }
      },
      "source": [
        "furin_data.affairs.hist()"
      ],
      "execution_count": 0,
      "outputs": [
        {
          "output_type": "execute_result",
          "data": {
            "text/plain": [
              "<matplotlib.axes._subplots.AxesSubplot at 0x7fcdbd4ff0f0>"
            ]
          },
          "metadata": {
            "tags": []
          },
          "execution_count": 126
        },
        {
          "output_type": "display_data",
          "data": {
            "image/png": "[encoded data removed]",
            "text/plain": [
              "<Figure size 432x288 with 1 Axes>"
            ]
          },
          "metadata": {
            "tags": []
          }
        }
      ]
    },
    {
      "cell_type": "code",
      "metadata": {
        "id": "MvM99bdc7Ns2",
        "colab_type": "code",
        "outputId": "0b8d54c6-7c0c-4de6-cdfe-812a556d3f25",
        "colab": {
          "base_uri": "https://localhost:8080/",
          "height": 136
        }
      },
      "source": [
        "train, test = train_test_split(furin_data, test_size=0.3, random_state=0)\n",
        "\n",
        "use_feature = [\"rate_marriage\", \"age\", \"yrs_married\", \"children\", \"religious\", \"educ\", \"occupation\", \"occupation_husb\"]  # 使用する特徴量\n",
        "\n",
        "x_train_f = train[use_feature]\n",
        "x_test_f = test[use_feature]\n",
        "y_train_f = train[\"affairs\"]\n",
        "y_test_f = test[\"affairs\"]\n",
        "\n",
        "model = LogisticRegression(random_state=0)\n",
        "model.fit(x_train, y_train)"
      ],
      "execution_count": 0,
      "outputs": [
        {
          "output_type": "stream",
          "text": [
            "/usr/local/lib/python3.6/dist-packages/sklearn/linear_model/logistic.py:432: FutureWarning: Default solver will be changed to 'lbfgs' in 0.22. Specify a solver to silence this warning.\n",
            "  FutureWarning)\n"
          ],
          "name": "stderr"
        },
        {
          "output_type": "execute_result",
          "data": {
            "text/plain": [
              "LogisticRegression(C=1.0, class_weight=None, dual=False, fit_intercept=True,\n",
              "                   intercept_scaling=1, l1_ratio=None, max_iter=100,\n",
              "                   multi_class='warn', n_jobs=None, penalty='l2',\n",
              "                   random_state=0, solver='warn', tol=0.0001, verbose=0,\n",
              "                   warm_start=False)"
            ]
          },
          "metadata": {
            "tags": []
          },
          "execution_count": 127
        }
      ]
    },
    {
      "cell_type": "code",
      "metadata": {
        "id": "s_KHrmaf738K",
        "colab_type": "code",
        "colab": {}
      },
      "source": [
        "pred = model.predict(x_test_f, y_test_f)"
      ],
      "execution_count": 0,
      "outputs": []
    }
  ]
}